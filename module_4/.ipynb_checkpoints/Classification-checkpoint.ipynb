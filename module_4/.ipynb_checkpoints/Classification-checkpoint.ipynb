{
 "cells": [
  {
   "cell_type": "code",
   "execution_count": 123,
   "metadata": {
    "ExecuteTime": {
     "end_time": "2019-07-08T04:46:33.983518Z",
     "start_time": "2019-07-08T04:46:33.973084Z"
    }
   },
   "outputs": [],
   "source": [
    "import warnings\n",
    "warnings.filterwarnings(\"ignore\")\n",
    "import numpy as np\n",
    "import pandas as pd\n",
    "import matplotlib.pyplot as plt\n",
    "import seaborn as sns"
   ]
  },
  {
   "cell_type": "code",
   "execution_count": 58,
   "metadata": {
    "ExecuteTime": {
     "end_time": "2019-07-08T04:16:03.584600Z",
     "start_time": "2019-07-08T04:16:03.516053Z"
    }
   },
   "outputs": [],
   "source": [
    "data=pd.read_csv('week2.csv')"
   ]
  },
  {
   "cell_type": "code",
   "execution_count": 59,
   "metadata": {
    "ExecuteTime": {
     "end_time": "2019-07-08T04:16:03.668095Z",
     "start_time": "2019-07-08T04:16:03.587008Z"
    }
   },
   "outputs": [
    {
     "data": {
      "text/html": [
       "<div>\n",
       "<style scoped>\n",
       "    .dataframe tbody tr th:only-of-type {\n",
       "        vertical-align: middle;\n",
       "    }\n",
       "\n",
       "    .dataframe tbody tr th {\n",
       "        vertical-align: top;\n",
       "    }\n",
       "\n",
       "    .dataframe thead th {\n",
       "        text-align: right;\n",
       "    }\n",
       "</style>\n",
       "<table border=\"1\" class=\"dataframe\">\n",
       "  <thead>\n",
       "    <tr style=\"text-align: right;\">\n",
       "      <th></th>\n",
       "      <th>Unnamed: 0</th>\n",
       "      <th>Symbol</th>\n",
       "      <th>Series</th>\n",
       "      <th>Date</th>\n",
       "      <th>Prev Close</th>\n",
       "      <th>Open Price</th>\n",
       "      <th>High Price</th>\n",
       "      <th>Low Price</th>\n",
       "      <th>Last Price</th>\n",
       "      <th>Close Price</th>\n",
       "      <th>Average Price</th>\n",
       "      <th>Total Traded Quantity</th>\n",
       "      <th>Turnover</th>\n",
       "      <th>No. of Trades</th>\n",
       "      <th>Deliverable Qty</th>\n",
       "      <th>% Dly Qt to Traded Qty</th>\n",
       "      <th>month_year</th>\n",
       "      <th>Day_Perc_Change</th>\n",
       "      <th>Trend</th>\n",
       "    </tr>\n",
       "  </thead>\n",
       "  <tbody>\n",
       "    <tr>\n",
       "      <th>0</th>\n",
       "      <td>0</td>\n",
       "      <td>INFRATEL</td>\n",
       "      <td>EQ</td>\n",
       "      <td>2017-05-15</td>\n",
       "      <td>374.70</td>\n",
       "      <td>375.80</td>\n",
       "      <td>375.80</td>\n",
       "      <td>368.65</td>\n",
       "      <td>372.00</td>\n",
       "      <td>371.05</td>\n",
       "      <td>371.08</td>\n",
       "      <td>761032</td>\n",
       "      <td>2.824044e+08</td>\n",
       "      <td>27740</td>\n",
       "      <td>357531</td>\n",
       "      <td>46.98</td>\n",
       "      <td>2017-05</td>\n",
       "      <td>0.000000</td>\n",
       "      <td>Slight or No change</td>\n",
       "    </tr>\n",
       "    <tr>\n",
       "      <th>1</th>\n",
       "      <td>1</td>\n",
       "      <td>INFRATEL</td>\n",
       "      <td>EQ</td>\n",
       "      <td>2017-05-16</td>\n",
       "      <td>371.05</td>\n",
       "      <td>371.15</td>\n",
       "      <td>380.85</td>\n",
       "      <td>370.05</td>\n",
       "      <td>375.75</td>\n",
       "      <td>376.55</td>\n",
       "      <td>377.05</td>\n",
       "      <td>1346372</td>\n",
       "      <td>5.076459e+08</td>\n",
       "      <td>42924</td>\n",
       "      <td>677288</td>\n",
       "      <td>50.30</td>\n",
       "      <td>2017-05</td>\n",
       "      <td>1.482280</td>\n",
       "      <td>Positive</td>\n",
       "    </tr>\n",
       "    <tr>\n",
       "      <th>2</th>\n",
       "      <td>2</td>\n",
       "      <td>INFRATEL</td>\n",
       "      <td>EQ</td>\n",
       "      <td>2017-05-17</td>\n",
       "      <td>376.55</td>\n",
       "      <td>377.60</td>\n",
       "      <td>396.50</td>\n",
       "      <td>375.10</td>\n",
       "      <td>388.95</td>\n",
       "      <td>389.90</td>\n",
       "      <td>383.22</td>\n",
       "      <td>2268036</td>\n",
       "      <td>8.691629e+08</td>\n",
       "      <td>83975</td>\n",
       "      <td>1371275</td>\n",
       "      <td>60.46</td>\n",
       "      <td>2017-05</td>\n",
       "      <td>3.545346</td>\n",
       "      <td>Among top gainers</td>\n",
       "    </tr>\n",
       "    <tr>\n",
       "      <th>3</th>\n",
       "      <td>3</td>\n",
       "      <td>INFRATEL</td>\n",
       "      <td>EQ</td>\n",
       "      <td>2017-05-18</td>\n",
       "      <td>389.90</td>\n",
       "      <td>388.40</td>\n",
       "      <td>388.85</td>\n",
       "      <td>377.00</td>\n",
       "      <td>378.55</td>\n",
       "      <td>378.90</td>\n",
       "      <td>382.60</td>\n",
       "      <td>2014628</td>\n",
       "      <td>7.707910e+08</td>\n",
       "      <td>50270</td>\n",
       "      <td>1025637</td>\n",
       "      <td>50.91</td>\n",
       "      <td>2017-05</td>\n",
       "      <td>-2.821236</td>\n",
       "      <td>Negative</td>\n",
       "    </tr>\n",
       "    <tr>\n",
       "      <th>4</th>\n",
       "      <td>4</td>\n",
       "      <td>INFRATEL</td>\n",
       "      <td>EQ</td>\n",
       "      <td>2017-05-19</td>\n",
       "      <td>378.90</td>\n",
       "      <td>381.10</td>\n",
       "      <td>387.50</td>\n",
       "      <td>374.85</td>\n",
       "      <td>379.40</td>\n",
       "      <td>378.95</td>\n",
       "      <td>379.43</td>\n",
       "      <td>2031322</td>\n",
       "      <td>7.707525e+08</td>\n",
       "      <td>63099</td>\n",
       "      <td>1020560</td>\n",
       "      <td>50.24</td>\n",
       "      <td>2017-05</td>\n",
       "      <td>0.013196</td>\n",
       "      <td>Slight or No change</td>\n",
       "    </tr>\n",
       "  </tbody>\n",
       "</table>\n",
       "</div>"
      ],
      "text/plain": [
       "   Unnamed: 0    Symbol Series        Date  Prev Close  Open Price  \\\n",
       "0           0  INFRATEL     EQ  2017-05-15      374.70      375.80   \n",
       "1           1  INFRATEL     EQ  2017-05-16      371.05      371.15   \n",
       "2           2  INFRATEL     EQ  2017-05-17      376.55      377.60   \n",
       "3           3  INFRATEL     EQ  2017-05-18      389.90      388.40   \n",
       "4           4  INFRATEL     EQ  2017-05-19      378.90      381.10   \n",
       "\n",
       "   High Price  Low Price  Last Price  Close Price  Average Price  \\\n",
       "0      375.80     368.65      372.00       371.05         371.08   \n",
       "1      380.85     370.05      375.75       376.55         377.05   \n",
       "2      396.50     375.10      388.95       389.90         383.22   \n",
       "3      388.85     377.00      378.55       378.90         382.60   \n",
       "4      387.50     374.85      379.40       378.95         379.43   \n",
       "\n",
       "   Total Traded Quantity      Turnover  No. of Trades  Deliverable Qty  \\\n",
       "0                 761032  2.824044e+08          27740           357531   \n",
       "1                1346372  5.076459e+08          42924           677288   \n",
       "2                2268036  8.691629e+08          83975          1371275   \n",
       "3                2014628  7.707910e+08          50270          1025637   \n",
       "4                2031322  7.707525e+08          63099          1020560   \n",
       "\n",
       "   % Dly Qt to Traded Qty month_year  Day_Perc_Change                Trend  \n",
       "0                   46.98    2017-05         0.000000  Slight or No change  \n",
       "1                   50.30    2017-05         1.482280             Positive  \n",
       "2                   60.46    2017-05         3.545346    Among top gainers  \n",
       "3                   50.91    2017-05        -2.821236             Negative  \n",
       "4                   50.24    2017-05         0.013196  Slight or No change  "
      ]
     },
     "execution_count": 59,
     "metadata": {},
     "output_type": "execute_result"
    }
   ],
   "source": [
    "data.head()"
   ]
  },
  {
   "cell_type": "code",
   "execution_count": 60,
   "metadata": {
    "ExecuteTime": {
     "end_time": "2019-07-08T04:16:03.740445Z",
     "start_time": "2019-07-08T04:16:03.670027Z"
    }
   },
   "outputs": [],
   "source": [
    "data=data.drop('Unnamed: 0',axis=1)"
   ]
  },
  {
   "cell_type": "code",
   "execution_count": 61,
   "metadata": {
    "ExecuteTime": {
     "end_time": "2019-07-08T04:16:03.810436Z",
     "start_time": "2019-07-08T04:16:03.743905Z"
    }
   },
   "outputs": [],
   "source": [
    "data['Date'] =  pd.to_datetime(data['Date'])"
   ]
  },
  {
   "cell_type": "code",
   "execution_count": 62,
   "metadata": {
    "ExecuteTime": {
     "end_time": "2019-07-08T04:16:03.905377Z",
     "start_time": "2019-07-08T04:16:03.814225Z"
    }
   },
   "outputs": [],
   "source": [
    "data.set_index('Date',inplace=True)"
   ]
  },
  {
   "cell_type": "code",
   "execution_count": 63,
   "metadata": {
    "ExecuteTime": {
     "end_time": "2019-07-08T04:16:03.978284Z",
     "start_time": "2019-07-08T04:16:03.911223Z"
    }
   },
   "outputs": [],
   "source": [
    "start_date = data.index[0]\n",
    "end_date = data.index[-1]"
   ]
  },
  {
   "cell_type": "code",
   "execution_count": 64,
   "metadata": {
    "ExecuteTime": {
     "end_time": "2019-07-08T04:16:04.048759Z",
     "start_time": "2019-07-08T04:16:03.981420Z"
    }
   },
   "outputs": [],
   "source": [
    "rolling_mean = data['Close Price'].rolling(window=14).mean()"
   ]
  },
  {
   "cell_type": "code",
   "execution_count": 65,
   "metadata": {
    "ExecuteTime": {
     "end_time": "2019-07-08T04:16:04.114185Z",
     "start_time": "2019-07-08T04:16:04.052701Z"
    }
   },
   "outputs": [
    {
     "data": {
      "text/plain": [
       "51.02569636634669"
      ]
     },
     "execution_count": 65,
     "metadata": {},
     "output_type": "execute_result"
    }
   ],
   "source": [
    "rolling_mean.loc[start_date:end_date].std()"
   ]
  },
  {
   "cell_type": "code",
   "execution_count": 66,
   "metadata": {
    "ExecuteTime": {
     "end_time": "2019-07-08T04:16:04.190289Z",
     "start_time": "2019-07-08T04:16:04.117589Z"
    }
   },
   "outputs": [],
   "source": [
    "lower=rolling_mean-2*rolling_mean.loc[start_date:end_date].std()\n",
    "upper=rolling_mean+2*rolling_mean.loc[start_date:end_date].std()"
   ]
  },
  {
   "cell_type": "code",
   "execution_count": 67,
   "metadata": {
    "ExecuteTime": {
     "end_time": "2019-07-08T04:16:04.251135Z",
     "start_time": "2019-07-08T04:16:04.194851Z"
    }
   },
   "outputs": [],
   "source": [
    "lower=lower.fillna(0)\n",
    "upper=upper.fillna(0)"
   ]
  },
  {
   "cell_type": "code",
   "execution_count": 68,
   "metadata": {
    "ExecuteTime": {
     "end_time": "2019-07-08T04:16:04.316196Z",
     "start_time": "2019-07-08T04:16:04.254962Z"
    }
   },
   "outputs": [],
   "source": [
    "rolling_mean=rolling_mean.fillna(0)"
   ]
  },
  {
   "cell_type": "code",
   "execution_count": 69,
   "metadata": {
    "ExecuteTime": {
     "end_time": "2019-07-08T04:16:04.392093Z",
     "start_time": "2019-07-08T04:16:04.318311Z"
    }
   },
   "outputs": [],
   "source": [
    "data['avg']=rolling_mean"
   ]
  },
  {
   "cell_type": "code",
   "execution_count": 70,
   "metadata": {
    "ExecuteTime": {
     "end_time": "2019-07-08T04:16:04.476417Z",
     "start_time": "2019-07-08T04:16:04.398647Z"
    }
   },
   "outputs": [],
   "source": [
    "data['upper']=upper"
   ]
  },
  {
   "cell_type": "code",
   "execution_count": 71,
   "metadata": {
    "ExecuteTime": {
     "end_time": "2019-07-08T04:16:04.542571Z",
     "start_time": "2019-07-08T04:16:04.481242Z"
    }
   },
   "outputs": [],
   "source": [
    "data['lower']=lower"
   ]
  },
  {
   "cell_type": "code",
   "execution_count": 72,
   "metadata": {
    "ExecuteTime": {
     "end_time": "2019-07-08T04:16:04.661111Z",
     "start_time": "2019-07-08T04:16:04.546753Z"
    }
   },
   "outputs": [
    {
     "data": {
      "text/html": [
       "<div>\n",
       "<style scoped>\n",
       "    .dataframe tbody tr th:only-of-type {\n",
       "        vertical-align: middle;\n",
       "    }\n",
       "\n",
       "    .dataframe tbody tr th {\n",
       "        vertical-align: top;\n",
       "    }\n",
       "\n",
       "    .dataframe thead th {\n",
       "        text-align: right;\n",
       "    }\n",
       "</style>\n",
       "<table border=\"1\" class=\"dataframe\">\n",
       "  <thead>\n",
       "    <tr style=\"text-align: right;\">\n",
       "      <th></th>\n",
       "      <th>Symbol</th>\n",
       "      <th>Series</th>\n",
       "      <th>Prev Close</th>\n",
       "      <th>Open Price</th>\n",
       "      <th>High Price</th>\n",
       "      <th>Low Price</th>\n",
       "      <th>Last Price</th>\n",
       "      <th>Close Price</th>\n",
       "      <th>Average Price</th>\n",
       "      <th>Total Traded Quantity</th>\n",
       "      <th>Turnover</th>\n",
       "      <th>No. of Trades</th>\n",
       "      <th>Deliverable Qty</th>\n",
       "      <th>% Dly Qt to Traded Qty</th>\n",
       "      <th>month_year</th>\n",
       "      <th>Day_Perc_Change</th>\n",
       "      <th>Trend</th>\n",
       "      <th>avg</th>\n",
       "      <th>upper</th>\n",
       "      <th>lower</th>\n",
       "    </tr>\n",
       "    <tr>\n",
       "      <th>Date</th>\n",
       "      <th></th>\n",
       "      <th></th>\n",
       "      <th></th>\n",
       "      <th></th>\n",
       "      <th></th>\n",
       "      <th></th>\n",
       "      <th></th>\n",
       "      <th></th>\n",
       "      <th></th>\n",
       "      <th></th>\n",
       "      <th></th>\n",
       "      <th></th>\n",
       "      <th></th>\n",
       "      <th></th>\n",
       "      <th></th>\n",
       "      <th></th>\n",
       "      <th></th>\n",
       "      <th></th>\n",
       "      <th></th>\n",
       "      <th></th>\n",
       "    </tr>\n",
       "  </thead>\n",
       "  <tbody>\n",
       "    <tr>\n",
       "      <th>2017-05-15</th>\n",
       "      <td>INFRATEL</td>\n",
       "      <td>EQ</td>\n",
       "      <td>374.70</td>\n",
       "      <td>375.80</td>\n",
       "      <td>375.80</td>\n",
       "      <td>368.65</td>\n",
       "      <td>372.00</td>\n",
       "      <td>371.05</td>\n",
       "      <td>371.08</td>\n",
       "      <td>761032</td>\n",
       "      <td>2.824044e+08</td>\n",
       "      <td>27740</td>\n",
       "      <td>357531</td>\n",
       "      <td>46.98</td>\n",
       "      <td>2017-05</td>\n",
       "      <td>0.000000</td>\n",
       "      <td>Slight or No change</td>\n",
       "      <td>0.000000</td>\n",
       "      <td>0.000000</td>\n",
       "      <td>0.000000</td>\n",
       "    </tr>\n",
       "    <tr>\n",
       "      <th>2017-05-16</th>\n",
       "      <td>INFRATEL</td>\n",
       "      <td>EQ</td>\n",
       "      <td>371.05</td>\n",
       "      <td>371.15</td>\n",
       "      <td>380.85</td>\n",
       "      <td>370.05</td>\n",
       "      <td>375.75</td>\n",
       "      <td>376.55</td>\n",
       "      <td>377.05</td>\n",
       "      <td>1346372</td>\n",
       "      <td>5.076459e+08</td>\n",
       "      <td>42924</td>\n",
       "      <td>677288</td>\n",
       "      <td>50.30</td>\n",
       "      <td>2017-05</td>\n",
       "      <td>1.482280</td>\n",
       "      <td>Positive</td>\n",
       "      <td>0.000000</td>\n",
       "      <td>0.000000</td>\n",
       "      <td>0.000000</td>\n",
       "    </tr>\n",
       "    <tr>\n",
       "      <th>2017-05-17</th>\n",
       "      <td>INFRATEL</td>\n",
       "      <td>EQ</td>\n",
       "      <td>376.55</td>\n",
       "      <td>377.60</td>\n",
       "      <td>396.50</td>\n",
       "      <td>375.10</td>\n",
       "      <td>388.95</td>\n",
       "      <td>389.90</td>\n",
       "      <td>383.22</td>\n",
       "      <td>2268036</td>\n",
       "      <td>8.691629e+08</td>\n",
       "      <td>83975</td>\n",
       "      <td>1371275</td>\n",
       "      <td>60.46</td>\n",
       "      <td>2017-05</td>\n",
       "      <td>3.545346</td>\n",
       "      <td>Among top gainers</td>\n",
       "      <td>0.000000</td>\n",
       "      <td>0.000000</td>\n",
       "      <td>0.000000</td>\n",
       "    </tr>\n",
       "    <tr>\n",
       "      <th>2017-05-18</th>\n",
       "      <td>INFRATEL</td>\n",
       "      <td>EQ</td>\n",
       "      <td>389.90</td>\n",
       "      <td>388.40</td>\n",
       "      <td>388.85</td>\n",
       "      <td>377.00</td>\n",
       "      <td>378.55</td>\n",
       "      <td>378.90</td>\n",
       "      <td>382.60</td>\n",
       "      <td>2014628</td>\n",
       "      <td>7.707910e+08</td>\n",
       "      <td>50270</td>\n",
       "      <td>1025637</td>\n",
       "      <td>50.91</td>\n",
       "      <td>2017-05</td>\n",
       "      <td>-2.821236</td>\n",
       "      <td>Negative</td>\n",
       "      <td>0.000000</td>\n",
       "      <td>0.000000</td>\n",
       "      <td>0.000000</td>\n",
       "    </tr>\n",
       "    <tr>\n",
       "      <th>2017-05-19</th>\n",
       "      <td>INFRATEL</td>\n",
       "      <td>EQ</td>\n",
       "      <td>378.90</td>\n",
       "      <td>381.10</td>\n",
       "      <td>387.50</td>\n",
       "      <td>374.85</td>\n",
       "      <td>379.40</td>\n",
       "      <td>378.95</td>\n",
       "      <td>379.43</td>\n",
       "      <td>2031322</td>\n",
       "      <td>7.707525e+08</td>\n",
       "      <td>63099</td>\n",
       "      <td>1020560</td>\n",
       "      <td>50.24</td>\n",
       "      <td>2017-05</td>\n",
       "      <td>0.013196</td>\n",
       "      <td>Slight or No change</td>\n",
       "      <td>0.000000</td>\n",
       "      <td>0.000000</td>\n",
       "      <td>0.000000</td>\n",
       "    </tr>\n",
       "    <tr>\n",
       "      <th>2017-05-22</th>\n",
       "      <td>INFRATEL</td>\n",
       "      <td>EQ</td>\n",
       "      <td>378.95</td>\n",
       "      <td>383.70</td>\n",
       "      <td>389.30</td>\n",
       "      <td>376.15</td>\n",
       "      <td>388.20</td>\n",
       "      <td>387.95</td>\n",
       "      <td>385.56</td>\n",
       "      <td>2772691</td>\n",
       "      <td>1.069052e+09</td>\n",
       "      <td>73071</td>\n",
       "      <td>1228540</td>\n",
       "      <td>44.31</td>\n",
       "      <td>2017-05</td>\n",
       "      <td>2.374984</td>\n",
       "      <td>Positive</td>\n",
       "      <td>0.000000</td>\n",
       "      <td>0.000000</td>\n",
       "      <td>0.000000</td>\n",
       "    </tr>\n",
       "    <tr>\n",
       "      <th>2017-05-23</th>\n",
       "      <td>INFRATEL</td>\n",
       "      <td>EQ</td>\n",
       "      <td>387.95</td>\n",
       "      <td>385.00</td>\n",
       "      <td>390.00</td>\n",
       "      <td>378.40</td>\n",
       "      <td>379.90</td>\n",
       "      <td>379.85</td>\n",
       "      <td>382.84</td>\n",
       "      <td>3811223</td>\n",
       "      <td>1.459071e+09</td>\n",
       "      <td>60957</td>\n",
       "      <td>2039492</td>\n",
       "      <td>53.51</td>\n",
       "      <td>2017-05</td>\n",
       "      <td>-2.087898</td>\n",
       "      <td>Negative</td>\n",
       "      <td>0.000000</td>\n",
       "      <td>0.000000</td>\n",
       "      <td>0.000000</td>\n",
       "    </tr>\n",
       "    <tr>\n",
       "      <th>2017-05-24</th>\n",
       "      <td>INFRATEL</td>\n",
       "      <td>EQ</td>\n",
       "      <td>379.85</td>\n",
       "      <td>379.85</td>\n",
       "      <td>382.00</td>\n",
       "      <td>367.20</td>\n",
       "      <td>368.45</td>\n",
       "      <td>369.00</td>\n",
       "      <td>372.49</td>\n",
       "      <td>3134390</td>\n",
       "      <td>1.167521e+09</td>\n",
       "      <td>83856</td>\n",
       "      <td>1860115</td>\n",
       "      <td>59.35</td>\n",
       "      <td>2017-05</td>\n",
       "      <td>-2.856391</td>\n",
       "      <td>Negative</td>\n",
       "      <td>0.000000</td>\n",
       "      <td>0.000000</td>\n",
       "      <td>0.000000</td>\n",
       "    </tr>\n",
       "    <tr>\n",
       "      <th>2017-05-25</th>\n",
       "      <td>INFRATEL</td>\n",
       "      <td>EQ</td>\n",
       "      <td>369.00</td>\n",
       "      <td>369.10</td>\n",
       "      <td>376.35</td>\n",
       "      <td>365.85</td>\n",
       "      <td>368.70</td>\n",
       "      <td>373.50</td>\n",
       "      <td>371.80</td>\n",
       "      <td>7287977</td>\n",
       "      <td>2.709680e+09</td>\n",
       "      <td>89929</td>\n",
       "      <td>6053646</td>\n",
       "      <td>83.06</td>\n",
       "      <td>2017-05</td>\n",
       "      <td>1.219512</td>\n",
       "      <td>Positive</td>\n",
       "      <td>0.000000</td>\n",
       "      <td>0.000000</td>\n",
       "      <td>0.000000</td>\n",
       "    </tr>\n",
       "    <tr>\n",
       "      <th>2017-05-26</th>\n",
       "      <td>INFRATEL</td>\n",
       "      <td>EQ</td>\n",
       "      <td>373.50</td>\n",
       "      <td>370.00</td>\n",
       "      <td>377.20</td>\n",
       "      <td>366.30</td>\n",
       "      <td>369.50</td>\n",
       "      <td>369.95</td>\n",
       "      <td>371.45</td>\n",
       "      <td>1918463</td>\n",
       "      <td>7.126107e+08</td>\n",
       "      <td>43541</td>\n",
       "      <td>788763</td>\n",
       "      <td>41.11</td>\n",
       "      <td>2017-05</td>\n",
       "      <td>-0.950469</td>\n",
       "      <td>Slight Negative</td>\n",
       "      <td>0.000000</td>\n",
       "      <td>0.000000</td>\n",
       "      <td>0.000000</td>\n",
       "    </tr>\n",
       "    <tr>\n",
       "      <th>2017-05-29</th>\n",
       "      <td>INFRATEL</td>\n",
       "      <td>EQ</td>\n",
       "      <td>369.95</td>\n",
       "      <td>370.00</td>\n",
       "      <td>381.40</td>\n",
       "      <td>367.70</td>\n",
       "      <td>377.10</td>\n",
       "      <td>379.35</td>\n",
       "      <td>376.57</td>\n",
       "      <td>3887542</td>\n",
       "      <td>1.463948e+09</td>\n",
       "      <td>54997</td>\n",
       "      <td>2827505</td>\n",
       "      <td>72.73</td>\n",
       "      <td>2017-05</td>\n",
       "      <td>2.540884</td>\n",
       "      <td>Positive</td>\n",
       "      <td>0.000000</td>\n",
       "      <td>0.000000</td>\n",
       "      <td>0.000000</td>\n",
       "    </tr>\n",
       "    <tr>\n",
       "      <th>2017-05-30</th>\n",
       "      <td>INFRATEL</td>\n",
       "      <td>EQ</td>\n",
       "      <td>379.35</td>\n",
       "      <td>379.35</td>\n",
       "      <td>379.85</td>\n",
       "      <td>365.65</td>\n",
       "      <td>373.00</td>\n",
       "      <td>372.25</td>\n",
       "      <td>371.46</td>\n",
       "      <td>1273594</td>\n",
       "      <td>4.730920e+08</td>\n",
       "      <td>28694</td>\n",
       "      <td>420437</td>\n",
       "      <td>33.01</td>\n",
       "      <td>2017-05</td>\n",
       "      <td>-1.871623</td>\n",
       "      <td>Negative</td>\n",
       "      <td>0.000000</td>\n",
       "      <td>0.000000</td>\n",
       "      <td>0.000000</td>\n",
       "    </tr>\n",
       "    <tr>\n",
       "      <th>2017-05-31</th>\n",
       "      <td>INFRATEL</td>\n",
       "      <td>EQ</td>\n",
       "      <td>372.25</td>\n",
       "      <td>374.25</td>\n",
       "      <td>374.35</td>\n",
       "      <td>360.65</td>\n",
       "      <td>368.20</td>\n",
       "      <td>366.60</td>\n",
       "      <td>365.34</td>\n",
       "      <td>3613527</td>\n",
       "      <td>1.320156e+09</td>\n",
       "      <td>132010</td>\n",
       "      <td>2260332</td>\n",
       "      <td>62.55</td>\n",
       "      <td>2017-05</td>\n",
       "      <td>-1.517797</td>\n",
       "      <td>Negative</td>\n",
       "      <td>0.000000</td>\n",
       "      <td>0.000000</td>\n",
       "      <td>0.000000</td>\n",
       "    </tr>\n",
       "    <tr>\n",
       "      <th>2017-06-01</th>\n",
       "      <td>INFRATEL</td>\n",
       "      <td>EQ</td>\n",
       "      <td>366.60</td>\n",
       "      <td>370.10</td>\n",
       "      <td>379.45</td>\n",
       "      <td>369.80</td>\n",
       "      <td>377.00</td>\n",
       "      <td>376.25</td>\n",
       "      <td>375.07</td>\n",
       "      <td>2505966</td>\n",
       "      <td>9.399122e+08</td>\n",
       "      <td>50681</td>\n",
       "      <td>1369539</td>\n",
       "      <td>54.65</td>\n",
       "      <td>2017-06</td>\n",
       "      <td>2.632297</td>\n",
       "      <td>Positive</td>\n",
       "      <td>376.432143</td>\n",
       "      <td>478.483536</td>\n",
       "      <td>274.380750</td>\n",
       "    </tr>\n",
       "    <tr>\n",
       "      <th>2017-06-02</th>\n",
       "      <td>INFRATEL</td>\n",
       "      <td>EQ</td>\n",
       "      <td>376.25</td>\n",
       "      <td>376.45</td>\n",
       "      <td>382.90</td>\n",
       "      <td>371.00</td>\n",
       "      <td>373.30</td>\n",
       "      <td>374.65</td>\n",
       "      <td>376.87</td>\n",
       "      <td>1334349</td>\n",
       "      <td>5.028735e+08</td>\n",
       "      <td>37710</td>\n",
       "      <td>496717</td>\n",
       "      <td>37.23</td>\n",
       "      <td>2017-06</td>\n",
       "      <td>-0.425249</td>\n",
       "      <td>Slight or No change</td>\n",
       "      <td>376.689286</td>\n",
       "      <td>478.740678</td>\n",
       "      <td>274.637893</td>\n",
       "    </tr>\n",
       "    <tr>\n",
       "      <th>2017-06-05</th>\n",
       "      <td>INFRATEL</td>\n",
       "      <td>EQ</td>\n",
       "      <td>374.65</td>\n",
       "      <td>381.30</td>\n",
       "      <td>384.90</td>\n",
       "      <td>375.60</td>\n",
       "      <td>380.55</td>\n",
       "      <td>382.45</td>\n",
       "      <td>381.61</td>\n",
       "      <td>3563721</td>\n",
       "      <td>1.359942e+09</td>\n",
       "      <td>74109</td>\n",
       "      <td>1871029</td>\n",
       "      <td>52.50</td>\n",
       "      <td>2017-06</td>\n",
       "      <td>2.081943</td>\n",
       "      <td>Positive</td>\n",
       "      <td>377.110714</td>\n",
       "      <td>479.162107</td>\n",
       "      <td>275.059322</td>\n",
       "    </tr>\n",
       "    <tr>\n",
       "      <th>2017-06-06</th>\n",
       "      <td>INFRATEL</td>\n",
       "      <td>EQ</td>\n",
       "      <td>382.45</td>\n",
       "      <td>383.00</td>\n",
       "      <td>388.90</td>\n",
       "      <td>379.80</td>\n",
       "      <td>384.70</td>\n",
       "      <td>383.15</td>\n",
       "      <td>384.02</td>\n",
       "      <td>2537956</td>\n",
       "      <td>9.746330e+08</td>\n",
       "      <td>53194</td>\n",
       "      <td>1811141</td>\n",
       "      <td>71.36</td>\n",
       "      <td>2017-06</td>\n",
       "      <td>0.183030</td>\n",
       "      <td>Slight or No change</td>\n",
       "      <td>376.628571</td>\n",
       "      <td>478.679964</td>\n",
       "      <td>274.577179</td>\n",
       "    </tr>\n",
       "    <tr>\n",
       "      <th>2017-06-07</th>\n",
       "      <td>INFRATEL</td>\n",
       "      <td>EQ</td>\n",
       "      <td>383.15</td>\n",
       "      <td>385.75</td>\n",
       "      <td>388.60</td>\n",
       "      <td>379.70</td>\n",
       "      <td>380.40</td>\n",
       "      <td>383.20</td>\n",
       "      <td>383.79</td>\n",
       "      <td>1610112</td>\n",
       "      <td>6.179385e+08</td>\n",
       "      <td>45025</td>\n",
       "      <td>812548</td>\n",
       "      <td>50.47</td>\n",
       "      <td>2017-06</td>\n",
       "      <td>0.013050</td>\n",
       "      <td>Slight or No change</td>\n",
       "      <td>376.935714</td>\n",
       "      <td>478.987107</td>\n",
       "      <td>274.884322</td>\n",
       "    </tr>\n",
       "    <tr>\n",
       "      <th>2017-06-08</th>\n",
       "      <td>INFRATEL</td>\n",
       "      <td>EQ</td>\n",
       "      <td>383.20</td>\n",
       "      <td>383.00</td>\n",
       "      <td>383.10</td>\n",
       "      <td>374.80</td>\n",
       "      <td>379.50</td>\n",
       "      <td>379.85</td>\n",
       "      <td>378.44</td>\n",
       "      <td>1107704</td>\n",
       "      <td>4.191941e+08</td>\n",
       "      <td>20214</td>\n",
       "      <td>342689</td>\n",
       "      <td>30.94</td>\n",
       "      <td>2017-06</td>\n",
       "      <td>-0.874217</td>\n",
       "      <td>Slight Negative</td>\n",
       "      <td>377.000000</td>\n",
       "      <td>479.051393</td>\n",
       "      <td>274.948607</td>\n",
       "    </tr>\n",
       "    <tr>\n",
       "      <th>2017-06-09</th>\n",
       "      <td>INFRATEL</td>\n",
       "      <td>EQ</td>\n",
       "      <td>379.85</td>\n",
       "      <td>379.85</td>\n",
       "      <td>384.75</td>\n",
       "      <td>377.10</td>\n",
       "      <td>383.00</td>\n",
       "      <td>382.65</td>\n",
       "      <td>381.29</td>\n",
       "      <td>1545424</td>\n",
       "      <td>5.892548e+08</td>\n",
       "      <td>34955</td>\n",
       "      <td>494657</td>\n",
       "      <td>32.01</td>\n",
       "      <td>2017-06</td>\n",
       "      <td>0.737133</td>\n",
       "      <td>Slight positive</td>\n",
       "      <td>376.621429</td>\n",
       "      <td>478.672821</td>\n",
       "      <td>274.570036</td>\n",
       "    </tr>\n",
       "  </tbody>\n",
       "</table>\n",
       "</div>"
      ],
      "text/plain": [
       "              Symbol Series  Prev Close  Open Price  High Price  Low Price  \\\n",
       "Date                                                                         \n",
       "2017-05-15  INFRATEL     EQ      374.70      375.80      375.80     368.65   \n",
       "2017-05-16  INFRATEL     EQ      371.05      371.15      380.85     370.05   \n",
       "2017-05-17  INFRATEL     EQ      376.55      377.60      396.50     375.10   \n",
       "2017-05-18  INFRATEL     EQ      389.90      388.40      388.85     377.00   \n",
       "2017-05-19  INFRATEL     EQ      378.90      381.10      387.50     374.85   \n",
       "2017-05-22  INFRATEL     EQ      378.95      383.70      389.30     376.15   \n",
       "2017-05-23  INFRATEL     EQ      387.95      385.00      390.00     378.40   \n",
       "2017-05-24  INFRATEL     EQ      379.85      379.85      382.00     367.20   \n",
       "2017-05-25  INFRATEL     EQ      369.00      369.10      376.35     365.85   \n",
       "2017-05-26  INFRATEL     EQ      373.50      370.00      377.20     366.30   \n",
       "2017-05-29  INFRATEL     EQ      369.95      370.00      381.40     367.70   \n",
       "2017-05-30  INFRATEL     EQ      379.35      379.35      379.85     365.65   \n",
       "2017-05-31  INFRATEL     EQ      372.25      374.25      374.35     360.65   \n",
       "2017-06-01  INFRATEL     EQ      366.60      370.10      379.45     369.80   \n",
       "2017-06-02  INFRATEL     EQ      376.25      376.45      382.90     371.00   \n",
       "2017-06-05  INFRATEL     EQ      374.65      381.30      384.90     375.60   \n",
       "2017-06-06  INFRATEL     EQ      382.45      383.00      388.90     379.80   \n",
       "2017-06-07  INFRATEL     EQ      383.15      385.75      388.60     379.70   \n",
       "2017-06-08  INFRATEL     EQ      383.20      383.00      383.10     374.80   \n",
       "2017-06-09  INFRATEL     EQ      379.85      379.85      384.75     377.10   \n",
       "\n",
       "            Last Price  Close Price  Average Price  Total Traded Quantity  \\\n",
       "Date                                                                        \n",
       "2017-05-15      372.00       371.05         371.08                 761032   \n",
       "2017-05-16      375.75       376.55         377.05                1346372   \n",
       "2017-05-17      388.95       389.90         383.22                2268036   \n",
       "2017-05-18      378.55       378.90         382.60                2014628   \n",
       "2017-05-19      379.40       378.95         379.43                2031322   \n",
       "2017-05-22      388.20       387.95         385.56                2772691   \n",
       "2017-05-23      379.90       379.85         382.84                3811223   \n",
       "2017-05-24      368.45       369.00         372.49                3134390   \n",
       "2017-05-25      368.70       373.50         371.80                7287977   \n",
       "2017-05-26      369.50       369.95         371.45                1918463   \n",
       "2017-05-29      377.10       379.35         376.57                3887542   \n",
       "2017-05-30      373.00       372.25         371.46                1273594   \n",
       "2017-05-31      368.20       366.60         365.34                3613527   \n",
       "2017-06-01      377.00       376.25         375.07                2505966   \n",
       "2017-06-02      373.30       374.65         376.87                1334349   \n",
       "2017-06-05      380.55       382.45         381.61                3563721   \n",
       "2017-06-06      384.70       383.15         384.02                2537956   \n",
       "2017-06-07      380.40       383.20         383.79                1610112   \n",
       "2017-06-08      379.50       379.85         378.44                1107704   \n",
       "2017-06-09      383.00       382.65         381.29                1545424   \n",
       "\n",
       "                Turnover  No. of Trades  Deliverable Qty  \\\n",
       "Date                                                       \n",
       "2017-05-15  2.824044e+08          27740           357531   \n",
       "2017-05-16  5.076459e+08          42924           677288   \n",
       "2017-05-17  8.691629e+08          83975          1371275   \n",
       "2017-05-18  7.707910e+08          50270          1025637   \n",
       "2017-05-19  7.707525e+08          63099          1020560   \n",
       "2017-05-22  1.069052e+09          73071          1228540   \n",
       "2017-05-23  1.459071e+09          60957          2039492   \n",
       "2017-05-24  1.167521e+09          83856          1860115   \n",
       "2017-05-25  2.709680e+09          89929          6053646   \n",
       "2017-05-26  7.126107e+08          43541           788763   \n",
       "2017-05-29  1.463948e+09          54997          2827505   \n",
       "2017-05-30  4.730920e+08          28694           420437   \n",
       "2017-05-31  1.320156e+09         132010          2260332   \n",
       "2017-06-01  9.399122e+08          50681          1369539   \n",
       "2017-06-02  5.028735e+08          37710           496717   \n",
       "2017-06-05  1.359942e+09          74109          1871029   \n",
       "2017-06-06  9.746330e+08          53194          1811141   \n",
       "2017-06-07  6.179385e+08          45025           812548   \n",
       "2017-06-08  4.191941e+08          20214           342689   \n",
       "2017-06-09  5.892548e+08          34955           494657   \n",
       "\n",
       "            % Dly Qt to Traded Qty month_year  Day_Perc_Change  \\\n",
       "Date                                                             \n",
       "2017-05-15                   46.98    2017-05         0.000000   \n",
       "2017-05-16                   50.30    2017-05         1.482280   \n",
       "2017-05-17                   60.46    2017-05         3.545346   \n",
       "2017-05-18                   50.91    2017-05        -2.821236   \n",
       "2017-05-19                   50.24    2017-05         0.013196   \n",
       "2017-05-22                   44.31    2017-05         2.374984   \n",
       "2017-05-23                   53.51    2017-05        -2.087898   \n",
       "2017-05-24                   59.35    2017-05        -2.856391   \n",
       "2017-05-25                   83.06    2017-05         1.219512   \n",
       "2017-05-26                   41.11    2017-05        -0.950469   \n",
       "2017-05-29                   72.73    2017-05         2.540884   \n",
       "2017-05-30                   33.01    2017-05        -1.871623   \n",
       "2017-05-31                   62.55    2017-05        -1.517797   \n",
       "2017-06-01                   54.65    2017-06         2.632297   \n",
       "2017-06-02                   37.23    2017-06        -0.425249   \n",
       "2017-06-05                   52.50    2017-06         2.081943   \n",
       "2017-06-06                   71.36    2017-06         0.183030   \n",
       "2017-06-07                   50.47    2017-06         0.013050   \n",
       "2017-06-08                   30.94    2017-06        -0.874217   \n",
       "2017-06-09                   32.01    2017-06         0.737133   \n",
       "\n",
       "                          Trend         avg       upper       lower  \n",
       "Date                                                                 \n",
       "2017-05-15  Slight or No change    0.000000    0.000000    0.000000  \n",
       "2017-05-16             Positive    0.000000    0.000000    0.000000  \n",
       "2017-05-17    Among top gainers    0.000000    0.000000    0.000000  \n",
       "2017-05-18             Negative    0.000000    0.000000    0.000000  \n",
       "2017-05-19  Slight or No change    0.000000    0.000000    0.000000  \n",
       "2017-05-22             Positive    0.000000    0.000000    0.000000  \n",
       "2017-05-23             Negative    0.000000    0.000000    0.000000  \n",
       "2017-05-24             Negative    0.000000    0.000000    0.000000  \n",
       "2017-05-25             Positive    0.000000    0.000000    0.000000  \n",
       "2017-05-26      Slight Negative    0.000000    0.000000    0.000000  \n",
       "2017-05-29             Positive    0.000000    0.000000    0.000000  \n",
       "2017-05-30             Negative    0.000000    0.000000    0.000000  \n",
       "2017-05-31             Negative    0.000000    0.000000    0.000000  \n",
       "2017-06-01             Positive  376.432143  478.483536  274.380750  \n",
       "2017-06-02  Slight or No change  376.689286  478.740678  274.637893  \n",
       "2017-06-05             Positive  377.110714  479.162107  275.059322  \n",
       "2017-06-06  Slight or No change  376.628571  478.679964  274.577179  \n",
       "2017-06-07  Slight or No change  376.935714  478.987107  274.884322  \n",
       "2017-06-08      Slight Negative  377.000000  479.051393  274.948607  \n",
       "2017-06-09      Slight positive  376.621429  478.672821  274.570036  "
      ]
     },
     "execution_count": 72,
     "metadata": {},
     "output_type": "execute_result"
    }
   ],
   "source": [
    "data.head(20)"
   ]
  },
  {
   "cell_type": "code",
   "execution_count": 73,
   "metadata": {
    "ExecuteTime": {
     "end_time": "2019-07-08T04:16:04.703658Z",
     "start_time": "2019-07-08T04:16:04.665266Z"
    }
   },
   "outputs": [],
   "source": [
    "data=data[data['avg']!=0]"
   ]
  },
  {
   "cell_type": "code",
   "execution_count": 74,
   "metadata": {
    "ExecuteTime": {
     "end_time": "2019-07-08T04:16:04.775369Z",
     "start_time": "2019-07-08T04:16:04.705575Z"
    }
   },
   "outputs": [],
   "source": [
    "def call(close,lower,avg,upper):\n",
    "    if close<=lower:\n",
    "        return 'Buy'\n",
    "    if close>lower and close<=avg:\n",
    "        return 'Hold Buy/Liquidate Short'\n",
    "    elif close>avg and close<=upper:\n",
    "        return 'Hold Short/Liquidate Buy'\n",
    "    elif close>upper:\n",
    "        return 'Short'"
   ]
  },
  {
   "cell_type": "code",
   "execution_count": 75,
   "metadata": {
    "ExecuteTime": {
     "end_time": "2019-07-08T04:16:05.183262Z",
     "start_time": "2019-07-08T04:16:04.776685Z"
    }
   },
   "outputs": [],
   "source": [
    "data['Call'] = data.apply(lambda row : call(row['Close Price'],row['lower'], row['avg'],row['upper']), axis = 1) "
   ]
  },
  {
   "cell_type": "code",
   "execution_count": 76,
   "metadata": {
    "ExecuteTime": {
     "end_time": "2019-07-08T04:16:05.195810Z",
     "start_time": "2019-07-08T04:16:05.186129Z"
    }
   },
   "outputs": [
    {
     "data": {
      "text/plain": [
       "Hold Buy/Liquidate Short    294\n",
       "Hold Short/Liquidate Buy    187\n",
       "Name: Call, dtype: int64"
      ]
     },
     "execution_count": 76,
     "metadata": {},
     "output_type": "execute_result"
    }
   ],
   "source": [
    "data['Call'].value_counts()"
   ]
  },
  {
   "cell_type": "code",
   "execution_count": 77,
   "metadata": {
    "ExecuteTime": {
     "end_time": "2019-07-08T04:16:05.284312Z",
     "start_time": "2019-07-08T04:16:05.198906Z"
    }
   },
   "outputs": [],
   "source": [
    "X=data[['lower','avg','upper','Close Price']]"
   ]
  },
  {
   "cell_type": "code",
   "execution_count": 78,
   "metadata": {
    "ExecuteTime": {
     "end_time": "2019-07-08T04:16:05.372935Z",
     "start_time": "2019-07-08T04:16:05.289565Z"
    }
   },
   "outputs": [
    {
     "data": {
      "text/html": [
       "<div>\n",
       "<style scoped>\n",
       "    .dataframe tbody tr th:only-of-type {\n",
       "        vertical-align: middle;\n",
       "    }\n",
       "\n",
       "    .dataframe tbody tr th {\n",
       "        vertical-align: top;\n",
       "    }\n",
       "\n",
       "    .dataframe thead th {\n",
       "        text-align: right;\n",
       "    }\n",
       "</style>\n",
       "<table border=\"1\" class=\"dataframe\">\n",
       "  <thead>\n",
       "    <tr style=\"text-align: right;\">\n",
       "      <th></th>\n",
       "      <th>lower</th>\n",
       "      <th>avg</th>\n",
       "      <th>upper</th>\n",
       "      <th>Close Price</th>\n",
       "    </tr>\n",
       "    <tr>\n",
       "      <th>Date</th>\n",
       "      <th></th>\n",
       "      <th></th>\n",
       "      <th></th>\n",
       "      <th></th>\n",
       "    </tr>\n",
       "  </thead>\n",
       "  <tbody>\n",
       "    <tr>\n",
       "      <th>2017-06-01</th>\n",
       "      <td>274.380750</td>\n",
       "      <td>376.432143</td>\n",
       "      <td>478.483536</td>\n",
       "      <td>376.25</td>\n",
       "    </tr>\n",
       "    <tr>\n",
       "      <th>2017-06-02</th>\n",
       "      <td>274.637893</td>\n",
       "      <td>376.689286</td>\n",
       "      <td>478.740678</td>\n",
       "      <td>374.65</td>\n",
       "    </tr>\n",
       "    <tr>\n",
       "      <th>2017-06-05</th>\n",
       "      <td>275.059322</td>\n",
       "      <td>377.110714</td>\n",
       "      <td>479.162107</td>\n",
       "      <td>382.45</td>\n",
       "    </tr>\n",
       "    <tr>\n",
       "      <th>2017-06-06</th>\n",
       "      <td>274.577179</td>\n",
       "      <td>376.628571</td>\n",
       "      <td>478.679964</td>\n",
       "      <td>383.15</td>\n",
       "    </tr>\n",
       "    <tr>\n",
       "      <th>2017-06-07</th>\n",
       "      <td>274.884322</td>\n",
       "      <td>376.935714</td>\n",
       "      <td>478.987107</td>\n",
       "      <td>383.20</td>\n",
       "    </tr>\n",
       "  </tbody>\n",
       "</table>\n",
       "</div>"
      ],
      "text/plain": [
       "                 lower         avg       upper  Close Price\n",
       "Date                                                       \n",
       "2017-06-01  274.380750  376.432143  478.483536       376.25\n",
       "2017-06-02  274.637893  376.689286  478.740678       374.65\n",
       "2017-06-05  275.059322  377.110714  479.162107       382.45\n",
       "2017-06-06  274.577179  376.628571  478.679964       383.15\n",
       "2017-06-07  274.884322  376.935714  478.987107       383.20"
      ]
     },
     "execution_count": 78,
     "metadata": {},
     "output_type": "execute_result"
    }
   ],
   "source": [
    "X.head()"
   ]
  },
  {
   "cell_type": "code",
   "execution_count": 79,
   "metadata": {
    "ExecuteTime": {
     "end_time": "2019-07-08T04:16:09.629041Z",
     "start_time": "2019-07-08T04:16:09.602340Z"
    }
   },
   "outputs": [],
   "source": [
    "data.loc[data['Call'] =='Hold Buy/Liquidate Short', 'Call'] = 0\n",
    "data.loc[data['Call'] =='Hold Short/Liquidate Buy', 'Call'] = 1"
   ]
  },
  {
   "cell_type": "code",
   "execution_count": 80,
   "metadata": {
    "ExecuteTime": {
     "end_time": "2019-07-08T04:16:11.500230Z",
     "start_time": "2019-07-08T04:16:11.487467Z"
    }
   },
   "outputs": [],
   "source": [
    "Y=data[['Call']]"
   ]
  },
  {
   "cell_type": "code",
   "execution_count": 81,
   "metadata": {
    "ExecuteTime": {
     "end_time": "2019-07-08T04:16:13.969390Z",
     "start_time": "2019-07-08T04:16:13.947045Z"
    }
   },
   "outputs": [
    {
     "data": {
      "text/html": [
       "<div>\n",
       "<style scoped>\n",
       "    .dataframe tbody tr th:only-of-type {\n",
       "        vertical-align: middle;\n",
       "    }\n",
       "\n",
       "    .dataframe tbody tr th {\n",
       "        vertical-align: top;\n",
       "    }\n",
       "\n",
       "    .dataframe thead th {\n",
       "        text-align: right;\n",
       "    }\n",
       "</style>\n",
       "<table border=\"1\" class=\"dataframe\">\n",
       "  <thead>\n",
       "    <tr style=\"text-align: right;\">\n",
       "      <th></th>\n",
       "      <th>Call</th>\n",
       "    </tr>\n",
       "    <tr>\n",
       "      <th>Date</th>\n",
       "      <th></th>\n",
       "    </tr>\n",
       "  </thead>\n",
       "  <tbody>\n",
       "    <tr>\n",
       "      <th>2017-06-01</th>\n",
       "      <td>0</td>\n",
       "    </tr>\n",
       "    <tr>\n",
       "      <th>2017-06-02</th>\n",
       "      <td>0</td>\n",
       "    </tr>\n",
       "    <tr>\n",
       "      <th>2017-06-05</th>\n",
       "      <td>1</td>\n",
       "    </tr>\n",
       "    <tr>\n",
       "      <th>2017-06-06</th>\n",
       "      <td>1</td>\n",
       "    </tr>\n",
       "    <tr>\n",
       "      <th>2017-06-07</th>\n",
       "      <td>1</td>\n",
       "    </tr>\n",
       "  </tbody>\n",
       "</table>\n",
       "</div>"
      ],
      "text/plain": [
       "            Call\n",
       "Date            \n",
       "2017-06-01     0\n",
       "2017-06-02     0\n",
       "2017-06-05     1\n",
       "2017-06-06     1\n",
       "2017-06-07     1"
      ]
     },
     "execution_count": 81,
     "metadata": {},
     "output_type": "execute_result"
    }
   ],
   "source": [
    "Y.head()"
   ]
  },
  {
   "cell_type": "code",
   "execution_count": 82,
   "metadata": {
    "ExecuteTime": {
     "end_time": "2019-07-08T04:16:21.330043Z",
     "start_time": "2019-07-08T04:16:21.319867Z"
    }
   },
   "outputs": [],
   "source": [
    "from sklearn.neighbors import KNeighborsClassifier"
   ]
  },
  {
   "cell_type": "code",
   "execution_count": 83,
   "metadata": {
    "ExecuteTime": {
     "end_time": "2019-07-08T04:16:22.330371Z",
     "start_time": "2019-07-08T04:16:22.324585Z"
    }
   },
   "outputs": [],
   "source": [
    "X_train=X[:400]"
   ]
  },
  {
   "cell_type": "code",
   "execution_count": 84,
   "metadata": {
    "ExecuteTime": {
     "end_time": "2019-07-08T04:16:22.679616Z",
     "start_time": "2019-07-08T04:16:22.672876Z"
    }
   },
   "outputs": [],
   "source": [
    "X_test=X[400:]"
   ]
  },
  {
   "cell_type": "code",
   "execution_count": 85,
   "metadata": {
    "ExecuteTime": {
     "end_time": "2019-07-08T04:16:23.086075Z",
     "start_time": "2019-07-08T04:16:23.079064Z"
    }
   },
   "outputs": [],
   "source": [
    "y_train=Y[:400].values"
   ]
  },
  {
   "cell_type": "code",
   "execution_count": 86,
   "metadata": {
    "ExecuteTime": {
     "end_time": "2019-07-08T04:16:24.778600Z",
     "start_time": "2019-07-08T04:16:24.770138Z"
    }
   },
   "outputs": [],
   "source": [
    "y_train=y_train.ravel()"
   ]
  },
  {
   "cell_type": "code",
   "execution_count": 87,
   "metadata": {
    "ExecuteTime": {
     "end_time": "2019-07-08T04:16:25.415087Z",
     "start_time": "2019-07-08T04:16:25.406960Z"
    }
   },
   "outputs": [],
   "source": [
    "y_test=Y[400:].values"
   ]
  },
  {
   "cell_type": "code",
   "execution_count": 88,
   "metadata": {
    "ExecuteTime": {
     "end_time": "2019-07-08T04:16:25.795577Z",
     "start_time": "2019-07-08T04:16:25.789792Z"
    }
   },
   "outputs": [],
   "source": [
    "y_test=y_test.ravel()"
   ]
  },
  {
   "cell_type": "markdown",
   "metadata": {},
   "source": [
    "# KNN"
   ]
  },
  {
   "cell_type": "code",
   "execution_count": 124,
   "metadata": {
    "ExecuteTime": {
     "end_time": "2019-07-08T04:46:39.428352Z",
     "start_time": "2019-07-08T04:46:39.193522Z"
    }
   },
   "outputs": [],
   "source": [
    "from sklearn.model_selection import GridSearchCV\n",
    "tree = KNeighborsClassifier()\n",
    "parameters = {'n_neighbors': [1,3,5,7,9,11,13,15,17,19,21]}\n",
    "classifier = GridSearchCV(tree, parameters, cv=3, scoring='roc_auc')\n",
    "select = classifier.fit(X_train, y_train)"
   ]
  },
  {
   "cell_type": "code",
   "execution_count": 115,
   "metadata": {
    "ExecuteTime": {
     "end_time": "2019-07-08T04:40:31.011749Z",
     "start_time": "2019-07-08T04:40:30.800118Z"
    }
   },
   "outputs": [
    {
     "data": {
      "image/png": "[encoded data removed]",
      "text/plain": [
       "<Figure size 432x288 with 1 Axes>"
      ]
     },
     "metadata": {},
     "output_type": "display_data"
    }
   ],
   "source": [
    "import seaborn as sns; sns.set()\n",
    "max_scores1 = pd.DataFrame(classifier.cv_results_).groupby(['param_n_neighbors']).max().unstack()[['mean_test_score', 'mean_train_score']]\n",
    "plt.plot(max_scores1.mean_train_score,label='Train AUC')\n",
    "plt.plot(max_scores1.mean_test_score,label='CV AUC')\n",
    "plt.legend()\n",
    "plt.xlabel(\"K: hyperparameter\")\n",
    "plt.ylabel(\"AUC\")\n",
    "plt.title(\"ERROR PLOTS\")\n",
    "plt.grid()\n",
    "plt.show()"
   ]
  },
  {
   "cell_type": "markdown",
   "metadata": {},
   "source": [
    "###### best k is 11 because till k=11, the auc score of cv increases rapidly and after that slowly while auc score of train decreases slowly till 15 and then decreases rapidly. So best k=11."
   ]
  },
  {
   "cell_type": "code",
   "execution_count": 116,
   "metadata": {
    "ExecuteTime": {
     "end_time": "2019-07-08T04:42:52.672589Z",
     "start_time": "2019-07-08T04:42:52.669679Z"
    }
   },
   "outputs": [],
   "source": [
    "best_k=11"
   ]
  },
  {
   "cell_type": "code",
   "execution_count": 118,
   "metadata": {
    "ExecuteTime": {
     "end_time": "2019-07-08T04:43:00.026191Z",
     "start_time": "2019-07-08T04:43:00.011541Z"
    }
   },
   "outputs": [
    {
     "data": {
      "text/plain": [
       "KNeighborsClassifier(algorithm='auto', leaf_size=30, metric='minkowski',\n",
       "           metric_params=None, n_jobs=None, n_neighbors=11, p=2,\n",
       "           weights='uniform')"
      ]
     },
     "execution_count": 118,
     "metadata": {},
     "output_type": "execute_result"
    }
   ],
   "source": [
    "neigh = KNeighborsClassifier(n_neighbors=best_k)\n",
    "neigh.fit(X_train, y_train) "
   ]
  },
  {
   "cell_type": "code",
   "execution_count": 119,
   "metadata": {
    "ExecuteTime": {
     "end_time": "2019-07-08T04:43:04.651342Z",
     "start_time": "2019-07-08T04:43:04.638048Z"
    }
   },
   "outputs": [],
   "source": [
    "y_train_pred=neigh.predict_proba(X_train)"
   ]
  },
  {
   "cell_type": "code",
   "execution_count": 120,
   "metadata": {
    "ExecuteTime": {
     "end_time": "2019-07-08T04:43:04.955359Z",
     "start_time": "2019-07-08T04:43:04.947407Z"
    }
   },
   "outputs": [],
   "source": [
    "y_test_pred=neigh.predict_proba(X_test)"
   ]
  },
  {
   "cell_type": "code",
   "execution_count": 122,
   "metadata": {
    "ExecuteTime": {
     "end_time": "2019-07-08T04:43:16.371699Z",
     "start_time": "2019-07-08T04:43:16.193020Z"
    },
    "scrolled": true
   },
   "outputs": [
    {
     "data": {
      "image/png": "[encoded data removed]",
      "text/plain": [
       "<Figure size 432x288 with 1 Axes>"
      ]
     },
     "metadata": {},
     "output_type": "display_data"
    }
   ],
   "source": [
    "from sklearn.metrics import roc_curve, auc\n",
    "train_fpr, train_tpr, tr_thresholds = roc_curve(y_train, y_train_pred[:,1])\n",
    "test_fpr, test_tpr, te_thresholds = roc_curve(y_test, y_test_pred[:,1])\n",
    "plt.plot(train_fpr, train_tpr, label=\"train AUC =\"+str(auc(train_fpr, train_tpr)))\n",
    "plt.plot(test_fpr, test_tpr, label=\"test AUC =\"+str(auc(test_fpr, test_tpr)))\n",
    "plt.legend()\n",
    "plt.xlabel(\"False Positive Rate\")\n",
    "plt.ylabel(\"True Positive Rate\")\n",
    "plt.title(\"ERROR PLOTS\")\n",
    "plt.grid(True)\n",
    "plt.show()"
   ]
  },
  {
   "cell_type": "markdown",
   "metadata": {},
   "source": [
    "# Logistic Regression"
   ]
  },
  {
   "cell_type": "code",
   "execution_count": 131,
   "metadata": {
    "ExecuteTime": {
     "end_time": "2019-07-08T04:51:34.514951Z",
     "start_time": "2019-07-08T04:51:34.509253Z"
    }
   },
   "outputs": [],
   "source": [
    "from sklearn.linear_model import LogisticRegression"
   ]
  },
  {
   "cell_type": "code",
   "execution_count": 148,
   "metadata": {
    "ExecuteTime": {
     "end_time": "2019-07-08T04:52:45.486782Z",
     "start_time": "2019-07-08T04:52:45.400110Z"
    }
   },
   "outputs": [
    {
     "data": {
      "text/plain": [
       "LogisticRegression(C=1, class_weight=None, dual=False, fit_intercept=True,\n",
       "          intercept_scaling=1, max_iter=100, multi_class='warn',\n",
       "          n_jobs=None, penalty='l1', random_state=None, solver='warn',\n",
       "          tol=0.0001, verbose=0, warm_start=False)"
      ]
     },
     "execution_count": 148,
     "metadata": {},
     "output_type": "execute_result"
    }
   ],
   "source": [
    "lr = LogisticRegression(penalty='l1',C=1)\n",
    "lr.fit(X_train, y_train) "
   ]
  },
  {
   "cell_type": "code",
   "execution_count": 149,
   "metadata": {
    "ExecuteTime": {
     "end_time": "2019-07-08T04:52:45.621566Z",
     "start_time": "2019-07-08T04:52:45.618445Z"
    }
   },
   "outputs": [],
   "source": [
    "y_train_pred=lr.predict_proba(X_train)"
   ]
  },
  {
   "cell_type": "code",
   "execution_count": 150,
   "metadata": {
    "ExecuteTime": {
     "end_time": "2019-07-08T04:52:45.901536Z",
     "start_time": "2019-07-08T04:52:45.896155Z"
    }
   },
   "outputs": [],
   "source": [
    "y_test_pred=lr.predict_proba(X_test)"
   ]
  },
  {
   "cell_type": "code",
   "execution_count": 151,
   "metadata": {
    "ExecuteTime": {
     "end_time": "2019-07-08T04:52:46.345298Z",
     "start_time": "2019-07-08T04:52:46.178838Z"
    }
   },
   "outputs": [
    {
     "data": {
      "image/png": "[encoded data removed]",
      "text/plain": [
       "<Figure size 432x288 with 1 Axes>"
      ]
     },
     "metadata": {},
     "output_type": "display_data"
    }
   ],
   "source": [
    "from sklearn.metrics import roc_curve, auc\n",
    "train_fpr, train_tpr, tr_thresholds = roc_curve(y_train, y_train_pred[:,1])\n",
    "test_fpr, test_tpr, te_thresholds = roc_curve(y_test, y_test_pred[:,1])\n",
    "plt.plot(train_fpr, train_tpr, label=\"train AUC =\"+str(auc(train_fpr, train_tpr)))\n",
    "plt.plot(test_fpr, test_tpr, label=\"test AUC =\"+str(auc(test_fpr, test_tpr)))\n",
    "plt.legend()\n",
    "plt.xlabel(\"False Positive Rate\")\n",
    "plt.ylabel(\"True Positive Rate\")\n",
    "plt.title(\"ERROR PLOTS\")\n",
    "plt.grid(True)\n",
    "plt.show()"
   ]
  },
  {
   "cell_type": "markdown",
   "metadata": {},
   "source": [
    "##### Logistic Regression gives better performance than KNN."
   ]
  },
  {
   "cell_type": "code",
   "execution_count": null,
   "metadata": {},
   "outputs": [],
   "source": []
  }
 ],
 "metadata": {
  "kernelspec": {
   "display_name": "Python 3",
   "language": "python",
   "name": "python3"
  },
  "language_info": {
   "codemirror_mode": {
    "name": "ipython",
    "version": 3
   },
   "file_extension": ".py",
   "mimetype": "text/x-python",
   "name": "python",
   "nbconvert_exporter": "python",
   "pygments_lexer": "ipython3",
   "version": "3.7.3"
  },
  "toc": {
   "base_numbering": 1,
   "nav_menu": {},
   "number_sections": true,
   "sideBar": true,
   "skip_h1_title": false,
   "title_cell": "Table of Contents",
   "title_sidebar": "Contents",
   "toc_cell": false,
   "toc_position": {},
   "toc_section_display": true,
   "toc_window_display": false
  },
  "varInspector": {
   "cols": {
    "lenName": 16,
    "lenType": 16,
    "lenVar": 40
   },
   "kernels_config": {
    "python": {
     "delete_cmd_postfix": "",
     "delete_cmd_prefix": "del ",
     "library": "var_list.py",
     "varRefreshCmd": "print(var_dic_list())"
    },
    "r": {
     "delete_cmd_postfix": ") ",
     "delete_cmd_prefix": "rm(",
     "library": "var_list.r",
     "varRefreshCmd": "cat(var_dic_list()) "
    }
   },
   "types_to_exclude": [
    "module",
    "function",
    "builtin_function_or_method",
    "instance",
    "_Feature"
   ],
   "window_display": false
  }
 },
 "nbformat": 4,
 "nbformat_minor": 2
}
