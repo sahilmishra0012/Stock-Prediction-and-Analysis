{
 "cells": [
  {
   "cell_type": "markdown",
   "metadata": {},
   "source": [
    "# Classification"
   ]
  },
  {
   "cell_type": "code",
   "execution_count": 1,
   "metadata": {
    "ExecuteTime": {
     "end_time": "2019-07-18T03:58:29.049527Z",
     "start_time": "2019-07-18T03:58:28.296572Z"
    }
   },
   "outputs": [],
   "source": [
    "import warnings\n",
    "warnings.filterwarnings(\"ignore\")\n",
    "import numpy as np\n",
    "import pandas as pd\n",
    "import matplotlib.pyplot as plt\n",
    "import seaborn as sns"
   ]
  },
  {
   "cell_type": "markdown",
   "metadata": {},
   "source": [
    "## Read data from CSV file"
   ]
  },
  {
   "cell_type": "code",
   "execution_count": 2,
   "metadata": {
    "ExecuteTime": {
     "end_time": "2019-07-18T03:58:29.063577Z",
     "start_time": "2019-07-18T03:58:29.051553Z"
    }
   },
   "outputs": [],
   "source": [
    "data=pd.read_csv('week2.csv')"
   ]
  },
  {
   "cell_type": "code",
   "execution_count": 3,
   "metadata": {
    "ExecuteTime": {
     "end_time": "2019-07-18T03:58:29.224393Z",
     "start_time": "2019-07-18T03:58:29.065447Z"
    }
   },
   "outputs": [
    {
     "data": {
      "text/html": [
       "<div>\n",
       "<style scoped>\n",
       "    .dataframe tbody tr th:only-of-type {\n",
       "        vertical-align: middle;\n",
       "    }\n",
       "\n",
       "    .dataframe tbody tr th {\n",
       "        vertical-align: top;\n",
       "    }\n",
       "\n",
       "    .dataframe thead th {\n",
       "        text-align: right;\n",
       "    }\n",
       "</style>\n",
       "<table border=\"1\" class=\"dataframe\">\n",
       "  <thead>\n",
       "    <tr style=\"text-align: right;\">\n",
       "      <th></th>\n",
       "      <th>Unnamed: 0</th>\n",
       "      <th>Symbol</th>\n",
       "      <th>Series</th>\n",
       "      <th>Date</th>\n",
       "      <th>Prev Close</th>\n",
       "      <th>Open Price</th>\n",
       "      <th>High Price</th>\n",
       "      <th>Low Price</th>\n",
       "      <th>Last Price</th>\n",
       "      <th>Close Price</th>\n",
       "      <th>Average Price</th>\n",
       "      <th>Total Traded Quantity</th>\n",
       "      <th>Turnover</th>\n",
       "      <th>No. of Trades</th>\n",
       "      <th>Deliverable Qty</th>\n",
       "      <th>% Dly Qt to Traded Qty</th>\n",
       "      <th>month_year</th>\n",
       "      <th>Day_Perc_Change</th>\n",
       "      <th>Trend</th>\n",
       "    </tr>\n",
       "  </thead>\n",
       "  <tbody>\n",
       "    <tr>\n",
       "      <th>0</th>\n",
       "      <td>0</td>\n",
       "      <td>INFRATEL</td>\n",
       "      <td>EQ</td>\n",
       "      <td>2017-05-15</td>\n",
       "      <td>374.70</td>\n",
       "      <td>375.80</td>\n",
       "      <td>375.80</td>\n",
       "      <td>368.65</td>\n",
       "      <td>372.00</td>\n",
       "      <td>371.05</td>\n",
       "      <td>371.08</td>\n",
       "      <td>761032</td>\n",
       "      <td>2.824044e+08</td>\n",
       "      <td>27740</td>\n",
       "      <td>357531</td>\n",
       "      <td>46.98</td>\n",
       "      <td>2017-05</td>\n",
       "      <td>0.000000</td>\n",
       "      <td>Slight or No change</td>\n",
       "    </tr>\n",
       "    <tr>\n",
       "      <th>1</th>\n",
       "      <td>1</td>\n",
       "      <td>INFRATEL</td>\n",
       "      <td>EQ</td>\n",
       "      <td>2017-05-16</td>\n",
       "      <td>371.05</td>\n",
       "      <td>371.15</td>\n",
       "      <td>380.85</td>\n",
       "      <td>370.05</td>\n",
       "      <td>375.75</td>\n",
       "      <td>376.55</td>\n",
       "      <td>377.05</td>\n",
       "      <td>1346372</td>\n",
       "      <td>5.076459e+08</td>\n",
       "      <td>42924</td>\n",
       "      <td>677288</td>\n",
       "      <td>50.30</td>\n",
       "      <td>2017-05</td>\n",
       "      <td>1.482280</td>\n",
       "      <td>Positive</td>\n",
       "    </tr>\n",
       "    <tr>\n",
       "      <th>2</th>\n",
       "      <td>2</td>\n",
       "      <td>INFRATEL</td>\n",
       "      <td>EQ</td>\n",
       "      <td>2017-05-17</td>\n",
       "      <td>376.55</td>\n",
       "      <td>377.60</td>\n",
       "      <td>396.50</td>\n",
       "      <td>375.10</td>\n",
       "      <td>388.95</td>\n",
       "      <td>389.90</td>\n",
       "      <td>383.22</td>\n",
       "      <td>2268036</td>\n",
       "      <td>8.691629e+08</td>\n",
       "      <td>83975</td>\n",
       "      <td>1371275</td>\n",
       "      <td>60.46</td>\n",
       "      <td>2017-05</td>\n",
       "      <td>3.545346</td>\n",
       "      <td>Among top gainers</td>\n",
       "    </tr>\n",
       "    <tr>\n",
       "      <th>3</th>\n",
       "      <td>3</td>\n",
       "      <td>INFRATEL</td>\n",
       "      <td>EQ</td>\n",
       "      <td>2017-05-18</td>\n",
       "      <td>389.90</td>\n",
       "      <td>388.40</td>\n",
       "      <td>388.85</td>\n",
       "      <td>377.00</td>\n",
       "      <td>378.55</td>\n",
       "      <td>378.90</td>\n",
       "      <td>382.60</td>\n",
       "      <td>2014628</td>\n",
       "      <td>7.707910e+08</td>\n",
       "      <td>50270</td>\n",
       "      <td>1025637</td>\n",
       "      <td>50.91</td>\n",
       "      <td>2017-05</td>\n",
       "      <td>-2.821236</td>\n",
       "      <td>Negative</td>\n",
       "    </tr>\n",
       "    <tr>\n",
       "      <th>4</th>\n",
       "      <td>4</td>\n",
       "      <td>INFRATEL</td>\n",
       "      <td>EQ</td>\n",
       "      <td>2017-05-19</td>\n",
       "      <td>378.90</td>\n",
       "      <td>381.10</td>\n",
       "      <td>387.50</td>\n",
       "      <td>374.85</td>\n",
       "      <td>379.40</td>\n",
       "      <td>378.95</td>\n",
       "      <td>379.43</td>\n",
       "      <td>2031322</td>\n",
       "      <td>7.707525e+08</td>\n",
       "      <td>63099</td>\n",
       "      <td>1020560</td>\n",
       "      <td>50.24</td>\n",
       "      <td>2017-05</td>\n",
       "      <td>0.013196</td>\n",
       "      <td>Slight or No change</td>\n",
       "    </tr>\n",
       "  </tbody>\n",
       "</table>\n",
       "</div>"
      ],
      "text/plain": [
       "   Unnamed: 0    Symbol Series        Date  Prev Close  Open Price  \\\n",
       "0           0  INFRATEL     EQ  2017-05-15      374.70      375.80   \n",
       "1           1  INFRATEL     EQ  2017-05-16      371.05      371.15   \n",
       "2           2  INFRATEL     EQ  2017-05-17      376.55      377.60   \n",
       "3           3  INFRATEL     EQ  2017-05-18      389.90      388.40   \n",
       "4           4  INFRATEL     EQ  2017-05-19      378.90      381.10   \n",
       "\n",
       "   High Price  Low Price  Last Price  Close Price  Average Price  \\\n",
       "0      375.80     368.65      372.00       371.05         371.08   \n",
       "1      380.85     370.05      375.75       376.55         377.05   \n",
       "2      396.50     375.10      388.95       389.90         383.22   \n",
       "3      388.85     377.00      378.55       378.90         382.60   \n",
       "4      387.50     374.85      379.40       378.95         379.43   \n",
       "\n",
       "   Total Traded Quantity      Turnover  No. of Trades  Deliverable Qty  \\\n",
       "0                 761032  2.824044e+08          27740           357531   \n",
       "1                1346372  5.076459e+08          42924           677288   \n",
       "2                2268036  8.691629e+08          83975          1371275   \n",
       "3                2014628  7.707910e+08          50270          1025637   \n",
       "4                2031322  7.707525e+08          63099          1020560   \n",
       "\n",
       "   % Dly Qt to Traded Qty month_year  Day_Perc_Change                Trend  \n",
       "0                   46.98    2017-05         0.000000  Slight or No change  \n",
       "1                   50.30    2017-05         1.482280             Positive  \n",
       "2                   60.46    2017-05         3.545346    Among top gainers  \n",
       "3                   50.91    2017-05        -2.821236             Negative  \n",
       "4                   50.24    2017-05         0.013196  Slight or No change  "
      ]
     },
     "execution_count": 3,
     "metadata": {},
     "output_type": "execute_result"
    }
   ],
   "source": [
    "data.head()"
   ]
  },
  {
   "cell_type": "code",
   "execution_count": 4,
   "metadata": {
    "ExecuteTime": {
     "end_time": "2019-07-18T03:58:29.312814Z",
     "start_time": "2019-07-18T03:58:29.226929Z"
    }
   },
   "outputs": [],
   "source": [
    "data=data.drop('Unnamed: 0',axis=1)"
   ]
  },
  {
   "cell_type": "code",
   "execution_count": 5,
   "metadata": {
    "ExecuteTime": {
     "end_time": "2019-07-18T03:58:29.421263Z",
     "start_time": "2019-07-18T03:58:29.315033Z"
    }
   },
   "outputs": [],
   "source": [
    "data['Date'] =  pd.to_datetime(data['Date'])"
   ]
  },
  {
   "cell_type": "code",
   "execution_count": 6,
   "metadata": {
    "ExecuteTime": {
     "end_time": "2019-07-18T03:58:29.515799Z",
     "start_time": "2019-07-18T03:58:29.425114Z"
    }
   },
   "outputs": [],
   "source": [
    "data.set_index('Date',inplace=True)"
   ]
  },
  {
   "cell_type": "code",
   "execution_count": 7,
   "metadata": {
    "ExecuteTime": {
     "end_time": "2019-07-18T03:58:29.606514Z",
     "start_time": "2019-07-18T03:58:29.517656Z"
    }
   },
   "outputs": [],
   "source": [
    "start_date = data.index[0]\n",
    "end_date = data.index[-1]"
   ]
  },
  {
   "cell_type": "markdown",
   "metadata": {},
   "source": [
    "## Creating Bollinger Bands"
   ]
  },
  {
   "cell_type": "code",
   "execution_count": 8,
   "metadata": {
    "ExecuteTime": {
     "end_time": "2019-07-18T03:58:29.703601Z",
     "start_time": "2019-07-18T03:58:29.609641Z"
    }
   },
   "outputs": [],
   "source": [
    "rolling_mean = data['Close Price'].rolling(window=14).mean()"
   ]
  },
  {
   "cell_type": "code",
   "execution_count": 9,
   "metadata": {
    "ExecuteTime": {
     "end_time": "2019-07-18T03:58:29.810485Z",
     "start_time": "2019-07-18T03:58:29.705918Z"
    }
   },
   "outputs": [],
   "source": [
    "lower=rolling_mean-2*data['Close Price'].rolling(window=14).std()\n",
    "upper=rolling_mean+2*data['Close Price'].rolling(window=14).std()"
   ]
  },
  {
   "cell_type": "code",
   "execution_count": 10,
   "metadata": {
    "ExecuteTime": {
     "end_time": "2019-07-18T03:58:29.928991Z",
     "start_time": "2019-07-18T03:58:29.811912Z"
    }
   },
   "outputs": [],
   "source": [
    "data['avg']=rolling_mean"
   ]
  },
  {
   "cell_type": "code",
   "execution_count": 11,
   "metadata": {
    "ExecuteTime": {
     "end_time": "2019-07-18T03:58:30.034318Z",
     "start_time": "2019-07-18T03:58:29.934129Z"
    }
   },
   "outputs": [],
   "source": [
    "data['upper']=upper"
   ]
  },
  {
   "cell_type": "code",
   "execution_count": 12,
   "metadata": {
    "ExecuteTime": {
     "end_time": "2019-07-18T03:58:30.140980Z",
     "start_time": "2019-07-18T03:58:30.036373Z"
    }
   },
   "outputs": [],
   "source": [
    "data['lower']=lower"
   ]
  },
  {
   "cell_type": "code",
   "execution_count": 13,
   "metadata": {
    "ExecuteTime": {
     "end_time": "2019-07-18T03:58:30.570597Z",
     "start_time": "2019-07-18T03:58:30.146393Z"
    }
   },
   "outputs": [],
   "source": [
    "data=data.dropna()"
   ]
  },
  {
   "cell_type": "code",
   "execution_count": 14,
   "metadata": {
    "ExecuteTime": {
     "end_time": "2019-07-18T03:58:30.727776Z",
     "start_time": "2019-07-18T03:58:30.572454Z"
    }
   },
   "outputs": [
    {
     "data": {
      "text/html": [
       "<div>\n",
       "<style scoped>\n",
       "    .dataframe tbody tr th:only-of-type {\n",
       "        vertical-align: middle;\n",
       "    }\n",
       "\n",
       "    .dataframe tbody tr th {\n",
       "        vertical-align: top;\n",
       "    }\n",
       "\n",
       "    .dataframe thead th {\n",
       "        text-align: right;\n",
       "    }\n",
       "</style>\n",
       "<table border=\"1\" class=\"dataframe\">\n",
       "  <thead>\n",
       "    <tr style=\"text-align: right;\">\n",
       "      <th></th>\n",
       "      <th>Symbol</th>\n",
       "      <th>Series</th>\n",
       "      <th>Prev Close</th>\n",
       "      <th>Open Price</th>\n",
       "      <th>High Price</th>\n",
       "      <th>Low Price</th>\n",
       "      <th>Last Price</th>\n",
       "      <th>Close Price</th>\n",
       "      <th>Average Price</th>\n",
       "      <th>Total Traded Quantity</th>\n",
       "      <th>Turnover</th>\n",
       "      <th>No. of Trades</th>\n",
       "      <th>Deliverable Qty</th>\n",
       "      <th>% Dly Qt to Traded Qty</th>\n",
       "      <th>month_year</th>\n",
       "      <th>Day_Perc_Change</th>\n",
       "      <th>Trend</th>\n",
       "      <th>avg</th>\n",
       "      <th>upper</th>\n",
       "      <th>lower</th>\n",
       "    </tr>\n",
       "    <tr>\n",
       "      <th>Date</th>\n",
       "      <th></th>\n",
       "      <th></th>\n",
       "      <th></th>\n",
       "      <th></th>\n",
       "      <th></th>\n",
       "      <th></th>\n",
       "      <th></th>\n",
       "      <th></th>\n",
       "      <th></th>\n",
       "      <th></th>\n",
       "      <th></th>\n",
       "      <th></th>\n",
       "      <th></th>\n",
       "      <th></th>\n",
       "      <th></th>\n",
       "      <th></th>\n",
       "      <th></th>\n",
       "      <th></th>\n",
       "      <th></th>\n",
       "      <th></th>\n",
       "    </tr>\n",
       "  </thead>\n",
       "  <tbody>\n",
       "    <tr>\n",
       "      <th>2017-06-01</th>\n",
       "      <td>INFRATEL</td>\n",
       "      <td>EQ</td>\n",
       "      <td>366.60</td>\n",
       "      <td>370.10</td>\n",
       "      <td>379.45</td>\n",
       "      <td>369.8</td>\n",
       "      <td>377.00</td>\n",
       "      <td>376.25</td>\n",
       "      <td>375.07</td>\n",
       "      <td>2505966</td>\n",
       "      <td>9.399122e+08</td>\n",
       "      <td>50681</td>\n",
       "      <td>1369539</td>\n",
       "      <td>54.65</td>\n",
       "      <td>2017-06</td>\n",
       "      <td>2.632297</td>\n",
       "      <td>Positive</td>\n",
       "      <td>376.432143</td>\n",
       "      <td>389.970669</td>\n",
       "      <td>362.893616</td>\n",
       "    </tr>\n",
       "    <tr>\n",
       "      <th>2017-06-02</th>\n",
       "      <td>INFRATEL</td>\n",
       "      <td>EQ</td>\n",
       "      <td>376.25</td>\n",
       "      <td>376.45</td>\n",
       "      <td>382.90</td>\n",
       "      <td>371.0</td>\n",
       "      <td>373.30</td>\n",
       "      <td>374.65</td>\n",
       "      <td>376.87</td>\n",
       "      <td>1334349</td>\n",
       "      <td>5.028735e+08</td>\n",
       "      <td>37710</td>\n",
       "      <td>496717</td>\n",
       "      <td>37.23</td>\n",
       "      <td>2017-06</td>\n",
       "      <td>-0.425249</td>\n",
       "      <td>Slight or No change</td>\n",
       "      <td>376.689286</td>\n",
       "      <td>389.920727</td>\n",
       "      <td>363.457844</td>\n",
       "    </tr>\n",
       "    <tr>\n",
       "      <th>2017-06-05</th>\n",
       "      <td>INFRATEL</td>\n",
       "      <td>EQ</td>\n",
       "      <td>374.65</td>\n",
       "      <td>381.30</td>\n",
       "      <td>384.90</td>\n",
       "      <td>375.6</td>\n",
       "      <td>380.55</td>\n",
       "      <td>382.45</td>\n",
       "      <td>381.61</td>\n",
       "      <td>3563721</td>\n",
       "      <td>1.359942e+09</td>\n",
       "      <td>74109</td>\n",
       "      <td>1871029</td>\n",
       "      <td>52.50</td>\n",
       "      <td>2017-06</td>\n",
       "      <td>2.081943</td>\n",
       "      <td>Positive</td>\n",
       "      <td>377.110714</td>\n",
       "      <td>390.694199</td>\n",
       "      <td>363.527230</td>\n",
       "    </tr>\n",
       "    <tr>\n",
       "      <th>2017-06-06</th>\n",
       "      <td>INFRATEL</td>\n",
       "      <td>EQ</td>\n",
       "      <td>382.45</td>\n",
       "      <td>383.00</td>\n",
       "      <td>388.90</td>\n",
       "      <td>379.8</td>\n",
       "      <td>384.70</td>\n",
       "      <td>383.15</td>\n",
       "      <td>384.02</td>\n",
       "      <td>2537956</td>\n",
       "      <td>9.746330e+08</td>\n",
       "      <td>53194</td>\n",
       "      <td>1811141</td>\n",
       "      <td>71.36</td>\n",
       "      <td>2017-06</td>\n",
       "      <td>0.183030</td>\n",
       "      <td>Slight or No change</td>\n",
       "      <td>376.628571</td>\n",
       "      <td>388.645400</td>\n",
       "      <td>364.611743</td>\n",
       "    </tr>\n",
       "    <tr>\n",
       "      <th>2017-06-07</th>\n",
       "      <td>INFRATEL</td>\n",
       "      <td>EQ</td>\n",
       "      <td>383.15</td>\n",
       "      <td>385.75</td>\n",
       "      <td>388.60</td>\n",
       "      <td>379.7</td>\n",
       "      <td>380.40</td>\n",
       "      <td>383.20</td>\n",
       "      <td>383.79</td>\n",
       "      <td>1610112</td>\n",
       "      <td>6.179385e+08</td>\n",
       "      <td>45025</td>\n",
       "      <td>812548</td>\n",
       "      <td>50.47</td>\n",
       "      <td>2017-06</td>\n",
       "      <td>0.013050</td>\n",
       "      <td>Slight or No change</td>\n",
       "      <td>376.935714</td>\n",
       "      <td>389.413598</td>\n",
       "      <td>364.457831</td>\n",
       "    </tr>\n",
       "  </tbody>\n",
       "</table>\n",
       "</div>"
      ],
      "text/plain": [
       "              Symbol Series  Prev Close  Open Price  High Price  Low Price  \\\n",
       "Date                                                                         \n",
       "2017-06-01  INFRATEL     EQ      366.60      370.10      379.45      369.8   \n",
       "2017-06-02  INFRATEL     EQ      376.25      376.45      382.90      371.0   \n",
       "2017-06-05  INFRATEL     EQ      374.65      381.30      384.90      375.6   \n",
       "2017-06-06  INFRATEL     EQ      382.45      383.00      388.90      379.8   \n",
       "2017-06-07  INFRATEL     EQ      383.15      385.75      388.60      379.7   \n",
       "\n",
       "            Last Price  Close Price  Average Price  Total Traded Quantity  \\\n",
       "Date                                                                        \n",
       "2017-06-01      377.00       376.25         375.07                2505966   \n",
       "2017-06-02      373.30       374.65         376.87                1334349   \n",
       "2017-06-05      380.55       382.45         381.61                3563721   \n",
       "2017-06-06      384.70       383.15         384.02                2537956   \n",
       "2017-06-07      380.40       383.20         383.79                1610112   \n",
       "\n",
       "                Turnover  No. of Trades  Deliverable Qty  \\\n",
       "Date                                                       \n",
       "2017-06-01  9.399122e+08          50681          1369539   \n",
       "2017-06-02  5.028735e+08          37710           496717   \n",
       "2017-06-05  1.359942e+09          74109          1871029   \n",
       "2017-06-06  9.746330e+08          53194          1811141   \n",
       "2017-06-07  6.179385e+08          45025           812548   \n",
       "\n",
       "            % Dly Qt to Traded Qty month_year  Day_Perc_Change  \\\n",
       "Date                                                             \n",
       "2017-06-01                   54.65    2017-06         2.632297   \n",
       "2017-06-02                   37.23    2017-06        -0.425249   \n",
       "2017-06-05                   52.50    2017-06         2.081943   \n",
       "2017-06-06                   71.36    2017-06         0.183030   \n",
       "2017-06-07                   50.47    2017-06         0.013050   \n",
       "\n",
       "                          Trend         avg       upper       lower  \n",
       "Date                                                                 \n",
       "2017-06-01             Positive  376.432143  389.970669  362.893616  \n",
       "2017-06-02  Slight or No change  376.689286  389.920727  363.457844  \n",
       "2017-06-05             Positive  377.110714  390.694199  363.527230  \n",
       "2017-06-06  Slight or No change  376.628571  388.645400  364.611743  \n",
       "2017-06-07  Slight or No change  376.935714  389.413598  364.457831  "
      ]
     },
     "execution_count": 14,
     "metadata": {},
     "output_type": "execute_result"
    }
   ],
   "source": [
    "data.head()"
   ]
  },
  {
   "cell_type": "markdown",
   "metadata": {},
   "source": [
    "## Making Calls from the Bollinger Bands"
   ]
  },
  {
   "cell_type": "code",
   "execution_count": 15,
   "metadata": {
    "ExecuteTime": {
     "end_time": "2019-07-18T03:58:30.842290Z",
     "start_time": "2019-07-18T03:58:30.729502Z"
    }
   },
   "outputs": [],
   "source": [
    "def call(close,lower,avg,upper):\n",
    "    if close<=lower:\n",
    "        return 'Buy'\n",
    "    if close>lower and close<=avg:\n",
    "        return 'Hold Buy/Liquidate Short'\n",
    "    elif close>avg and close<=upper:\n",
    "        return 'Hold Short/Liquidate Buy'\n",
    "    elif close>upper:\n",
    "        return 'Short'"
   ]
  },
  {
   "cell_type": "code",
   "execution_count": 16,
   "metadata": {
    "ExecuteTime": {
     "end_time": "2019-07-18T03:58:31.012441Z",
     "start_time": "2019-07-18T03:58:30.845502Z"
    }
   },
   "outputs": [],
   "source": [
    "data['Call'] = data.apply(lambda row : call(row['Close Price'],row['lower'], row['avg'],row['upper']), axis = 1) "
   ]
  },
  {
   "cell_type": "code",
   "execution_count": 17,
   "metadata": {
    "ExecuteTime": {
     "end_time": "2019-07-18T03:58:31.065598Z",
     "start_time": "2019-07-18T03:58:31.014259Z"
    }
   },
   "outputs": [
    {
     "data": {
      "text/plain": [
       "Hold Buy/Liquidate Short    262\n",
       "Hold Short/Liquidate Buy    167\n",
       "Buy                          32\n",
       "Short                        20\n",
       "Name: Call, dtype: int64"
      ]
     },
     "execution_count": 17,
     "metadata": {},
     "output_type": "execute_result"
    }
   ],
   "source": [
    "data['Call'].value_counts()"
   ]
  },
  {
   "cell_type": "markdown",
   "metadata": {
    "ExecuteTime": {
     "end_time": "2019-07-10T17:34:33.253473Z",
     "start_time": "2019-07-10T17:34:33.249109Z"
    }
   },
   "source": [
    "## Train-Test Split "
   ]
  },
  {
   "cell_type": "code",
   "execution_count": 18,
   "metadata": {
    "ExecuteTime": {
     "end_time": "2019-07-18T03:58:31.171088Z",
     "start_time": "2019-07-18T03:58:31.068404Z"
    }
   },
   "outputs": [],
   "source": [
    "X=data[['lower','avg','upper','Close Price']]"
   ]
  },
  {
   "cell_type": "code",
   "execution_count": 19,
   "metadata": {
    "ExecuteTime": {
     "end_time": "2019-07-18T03:58:31.279838Z",
     "start_time": "2019-07-18T03:58:31.175921Z"
    }
   },
   "outputs": [
    {
     "data": {
      "text/html": [
       "<div>\n",
       "<style scoped>\n",
       "    .dataframe tbody tr th:only-of-type {\n",
       "        vertical-align: middle;\n",
       "    }\n",
       "\n",
       "    .dataframe tbody tr th {\n",
       "        vertical-align: top;\n",
       "    }\n",
       "\n",
       "    .dataframe thead th {\n",
       "        text-align: right;\n",
       "    }\n",
       "</style>\n",
       "<table border=\"1\" class=\"dataframe\">\n",
       "  <thead>\n",
       "    <tr style=\"text-align: right;\">\n",
       "      <th></th>\n",
       "      <th>lower</th>\n",
       "      <th>avg</th>\n",
       "      <th>upper</th>\n",
       "      <th>Close Price</th>\n",
       "    </tr>\n",
       "    <tr>\n",
       "      <th>Date</th>\n",
       "      <th></th>\n",
       "      <th></th>\n",
       "      <th></th>\n",
       "      <th></th>\n",
       "    </tr>\n",
       "  </thead>\n",
       "  <tbody>\n",
       "    <tr>\n",
       "      <th>2017-06-01</th>\n",
       "      <td>362.893616</td>\n",
       "      <td>376.432143</td>\n",
       "      <td>389.970669</td>\n",
       "      <td>376.25</td>\n",
       "    </tr>\n",
       "    <tr>\n",
       "      <th>2017-06-02</th>\n",
       "      <td>363.457844</td>\n",
       "      <td>376.689286</td>\n",
       "      <td>389.920727</td>\n",
       "      <td>374.65</td>\n",
       "    </tr>\n",
       "    <tr>\n",
       "      <th>2017-06-05</th>\n",
       "      <td>363.527230</td>\n",
       "      <td>377.110714</td>\n",
       "      <td>390.694199</td>\n",
       "      <td>382.45</td>\n",
       "    </tr>\n",
       "    <tr>\n",
       "      <th>2017-06-06</th>\n",
       "      <td>364.611743</td>\n",
       "      <td>376.628571</td>\n",
       "      <td>388.645400</td>\n",
       "      <td>383.15</td>\n",
       "    </tr>\n",
       "    <tr>\n",
       "      <th>2017-06-07</th>\n",
       "      <td>364.457831</td>\n",
       "      <td>376.935714</td>\n",
       "      <td>389.413598</td>\n",
       "      <td>383.20</td>\n",
       "    </tr>\n",
       "  </tbody>\n",
       "</table>\n",
       "</div>"
      ],
      "text/plain": [
       "                 lower         avg       upper  Close Price\n",
       "Date                                                       \n",
       "2017-06-01  362.893616  376.432143  389.970669       376.25\n",
       "2017-06-02  363.457844  376.689286  389.920727       374.65\n",
       "2017-06-05  363.527230  377.110714  390.694199       382.45\n",
       "2017-06-06  364.611743  376.628571  388.645400       383.15\n",
       "2017-06-07  364.457831  376.935714  389.413598       383.20"
      ]
     },
     "execution_count": 19,
     "metadata": {},
     "output_type": "execute_result"
    }
   ],
   "source": [
    "X.head()"
   ]
  },
  {
   "cell_type": "code",
   "execution_count": 20,
   "metadata": {
    "ExecuteTime": {
     "end_time": "2019-07-18T03:58:31.640686Z",
     "start_time": "2019-07-18T03:58:31.281516Z"
    }
   },
   "outputs": [],
   "source": [
    "from sklearn import preprocessing\n",
    "le = preprocessing.LabelEncoder()\n",
    "transformed_label = le.fit_transform(data[['Call']])\n",
    "Y = transformed_label.reshape(-1,1)\n",
    "Y=pd.DataFrame(Y)"
   ]
  },
  {
   "cell_type": "code",
   "execution_count": 21,
   "metadata": {
    "ExecuteTime": {
     "end_time": "2019-07-18T03:58:31.646063Z",
     "start_time": "2019-07-18T03:58:31.642340Z"
    }
   },
   "outputs": [],
   "source": [
    "X_train=X[:300]"
   ]
  },
  {
   "cell_type": "code",
   "execution_count": 22,
   "metadata": {
    "ExecuteTime": {
     "end_time": "2019-07-18T03:58:31.766090Z",
     "start_time": "2019-07-18T03:58:31.648295Z"
    }
   },
   "outputs": [],
   "source": [
    "X_test=X[300:]"
   ]
  },
  {
   "cell_type": "code",
   "execution_count": 23,
   "metadata": {
    "ExecuteTime": {
     "end_time": "2019-07-18T03:58:31.864875Z",
     "start_time": "2019-07-18T03:58:31.779968Z"
    }
   },
   "outputs": [],
   "source": [
    "y_train=Y[:300]"
   ]
  },
  {
   "cell_type": "code",
   "execution_count": 24,
   "metadata": {
    "ExecuteTime": {
     "end_time": "2019-07-18T03:58:31.971509Z",
     "start_time": "2019-07-18T03:58:31.868074Z"
    }
   },
   "outputs": [],
   "source": [
    "y_test=Y[300:]"
   ]
  },
  {
   "cell_type": "markdown",
   "metadata": {},
   "source": [
    "## Classification using various models"
   ]
  },
  {
   "cell_type": "markdown",
   "metadata": {},
   "source": [
    "### Logistic Regression"
   ]
  },
  {
   "cell_type": "code",
   "execution_count": 25,
   "metadata": {
    "ExecuteTime": {
     "end_time": "2019-07-18T03:58:32.108571Z",
     "start_time": "2019-07-18T03:58:31.979379Z"
    }
   },
   "outputs": [],
   "source": [
    "from sklearn.linear_model import LogisticRegression"
   ]
  },
  {
   "cell_type": "code",
   "execution_count": 26,
   "metadata": {
    "ExecuteTime": {
     "end_time": "2019-07-18T03:58:32.206457Z",
     "start_time": "2019-07-18T03:58:32.110343Z"
    }
   },
   "outputs": [
    {
     "data": {
      "text/plain": [
       "LogisticRegression(C=1, class_weight='balanced', dual=False, fit_intercept=True,\n",
       "                   intercept_scaling=1, l1_ratio=None, max_iter=10000,\n",
       "                   multi_class='warn', n_jobs=None, penalty='l2',\n",
       "                   random_state=None, solver='warn', tol=0.0001, verbose=0,\n",
       "                   warm_start=False)"
      ]
     },
     "execution_count": 26,
     "metadata": {},
     "output_type": "execute_result"
    }
   ],
   "source": [
    "lr = LogisticRegression(C=1,max_iter=10000,class_weight='balanced')\n",
    "lr.fit(X_train, y_train)"
   ]
  },
  {
   "cell_type": "code",
   "execution_count": 27,
   "metadata": {
    "ExecuteTime": {
     "end_time": "2019-07-18T03:58:32.298028Z",
     "start_time": "2019-07-18T03:58:32.209206Z"
    }
   },
   "outputs": [
    {
     "data": {
      "text/plain": [
       "0.97"
      ]
     },
     "execution_count": 27,
     "metadata": {},
     "output_type": "execute_result"
    }
   ],
   "source": [
    "round(lr.score(X_train,y_train), 4)"
   ]
  },
  {
   "cell_type": "code",
   "execution_count": 28,
   "metadata": {
    "ExecuteTime": {
     "end_time": "2019-07-18T03:58:32.423521Z",
     "start_time": "2019-07-18T03:58:32.301040Z"
    }
   },
   "outputs": [
    {
     "data": {
      "text/plain": [
       "0.9448"
      ]
     },
     "execution_count": 28,
     "metadata": {},
     "output_type": "execute_result"
    }
   ],
   "source": [
    "round(lr.score(X_test,y_test), 4)"
   ]
  },
  {
   "cell_type": "markdown",
   "metadata": {},
   "source": [
    "### SVM(RBF Kernel)"
   ]
  },
  {
   "cell_type": "code",
   "execution_count": 29,
   "metadata": {
    "ExecuteTime": {
     "end_time": "2019-07-18T03:58:32.544671Z",
     "start_time": "2019-07-18T03:58:32.428136Z"
    }
   },
   "outputs": [
    {
     "name": "stdout",
     "output_type": "stream",
     "text": [
      "[LibSVM]"
     ]
    },
    {
     "data": {
      "text/plain": [
       "SVC(C=0.1, cache_size=200, class_weight='balanced', coef0=0.0,\n",
       "    decision_function_shape='ovr', degree=3, gamma='auto_deprecated',\n",
       "    kernel='rbf', max_iter=-1, probability=False, random_state=None,\n",
       "    shrinking=True, tol=0.001, verbose=True)"
      ]
     },
     "execution_count": 29,
     "metadata": {},
     "output_type": "execute_result"
    }
   ],
   "source": [
    "from sklearn.svm import SVC\n",
    "from sklearn.model_selection import GridSearchCV\n",
    "classif = SVC(verbose=True,C=0.1,class_weight='balanced')\n",
    "classif.fit(X_train, y_train)"
   ]
  },
  {
   "cell_type": "code",
   "execution_count": 30,
   "metadata": {
    "ExecuteTime": {
     "end_time": "2019-07-18T03:58:32.648754Z",
     "start_time": "2019-07-18T03:58:32.546769Z"
    }
   },
   "outputs": [
    {
     "data": {
      "text/plain": [
       "0.57"
      ]
     },
     "execution_count": 30,
     "metadata": {},
     "output_type": "execute_result"
    }
   ],
   "source": [
    "round(classif.score(X_train,y_train), 4)"
   ]
  },
  {
   "cell_type": "code",
   "execution_count": 31,
   "metadata": {
    "ExecuteTime": {
     "end_time": "2019-07-18T03:58:32.790366Z",
     "start_time": "2019-07-18T03:58:32.651854Z"
    }
   },
   "outputs": [
    {
     "data": {
      "text/plain": [
       "0.5028"
      ]
     },
     "execution_count": 31,
     "metadata": {},
     "output_type": "execute_result"
    }
   ],
   "source": [
    "round(classif.score(X_test,y_test), 4)"
   ]
  },
  {
   "cell_type": "markdown",
   "metadata": {},
   "source": [
    "### Random Forest Classifier"
   ]
  },
  {
   "cell_type": "code",
   "execution_count": 32,
   "metadata": {
    "ExecuteTime": {
     "end_time": "2019-07-18T03:58:33.274947Z",
     "start_time": "2019-07-18T03:58:32.792233Z"
    }
   },
   "outputs": [
    {
     "data": {
      "text/plain": [
       "RandomForestClassifier(bootstrap=True, class_weight='balanced',\n",
       "                       criterion='gini', max_depth=3, max_features='auto',\n",
       "                       max_leaf_nodes=None, min_impurity_decrease=0.0,\n",
       "                       min_impurity_split=None, min_samples_leaf=1,\n",
       "                       min_samples_split=2, min_weight_fraction_leaf=0.0,\n",
       "                       n_estimators=10, n_jobs=None, oob_score=False,\n",
       "                       random_state=None, verbose=0, warm_start=False)"
      ]
     },
     "execution_count": 32,
     "metadata": {},
     "output_type": "execute_result"
    }
   ],
   "source": [
    "from sklearn.ensemble import RandomForestClassifier\n",
    "from sklearn.metrics import roc_curve, auc\n",
    "classifier = RandomForestClassifier(max_depth =3, n_estimators = 10,class_weight='balanced')\n",
    "classifier.fit(X_train, y_train)"
   ]
  },
  {
   "cell_type": "code",
   "execution_count": 33,
   "metadata": {
    "ExecuteTime": {
     "end_time": "2019-07-18T03:58:33.364342Z",
     "start_time": "2019-07-18T03:58:33.276632Z"
    }
   },
   "outputs": [
    {
     "data": {
      "text/plain": [
       "0.6633"
      ]
     },
     "execution_count": 33,
     "metadata": {},
     "output_type": "execute_result"
    }
   ],
   "source": [
    "round(classifier.score(X_train,y_train), 4)"
   ]
  },
  {
   "cell_type": "code",
   "execution_count": 34,
   "metadata": {
    "ExecuteTime": {
     "end_time": "2019-07-18T03:58:33.443183Z",
     "start_time": "2019-07-18T03:58:33.370481Z"
    }
   },
   "outputs": [
    {
     "data": {
      "text/plain": [
       "0.4807"
      ]
     },
     "execution_count": 34,
     "metadata": {},
     "output_type": "execute_result"
    }
   ],
   "source": [
    "round(classifier.score(X_test,y_test), 4)"
   ]
  },
  {
   "cell_type": "code",
   "execution_count": 88,
   "metadata": {
    "ExecuteTime": {
     "end_time": "2019-07-18T04:00:35.550486Z",
     "start_time": "2019-07-18T04:00:35.546193Z"
    }
   },
   "outputs": [
    {
     "name": "stdout",
     "output_type": "stream",
     "text": [
      "+---------------------------+----------+-----------+\n",
      "|         Classifier        | Test AUC | Train AUC |\n",
      "+---------------------------+----------+-----------+\n",
      "|    Logistic Regression    |   0.97   |    0.94   |\n",
      "| Support Vector Classifier |   0.57   |    0.5    |\n",
      "|       Random Forest       |   0.66   |    0.48   |\n",
      "+---------------------------+----------+-----------+\n"
     ]
    }
   ],
   "source": [
    "from prettytable import PrettyTable\n",
    "x=PrettyTable()\n",
    "x.field_names=[\"Classifier\",\"Test AUC\",\"Train AUC\"]\n",
    "x.add_row([\"Logistic Regression\",0.97,0.94])\n",
    "x.add_row([\"Support Vector Classifier\",0.57,0.50])\n",
    "x.add_row([\"Random Forest\",0.66,0.48])\n",
    "print(x)"
   ]
  },
  {
   "cell_type": "markdown",
   "metadata": {},
   "source": [
    "##### Logistic Regression gives the best performance among all three models.\n",
    "##### Random Forest Classifier gives worst performance."
   ]
  },
  {
   "cell_type": "markdown",
   "metadata": {},
   "source": [
    "## Another Dataset to predict its Calls and thus Checking Accuracy(Using Best Classifier"
   ]
  },
  {
   "cell_type": "code",
   "execution_count": 36,
   "metadata": {
    "ExecuteTime": {
     "end_time": "2019-07-18T03:58:33.687020Z",
     "start_time": "2019-07-18T03:58:33.551787Z"
    }
   },
   "outputs": [],
   "source": [
    "new_data=pd.read_csv('PVR.csv')"
   ]
  },
  {
   "cell_type": "code",
   "execution_count": 37,
   "metadata": {
    "ExecuteTime": {
     "end_time": "2019-07-18T03:58:33.788313Z",
     "start_time": "2019-07-18T03:58:33.689353Z"
    }
   },
   "outputs": [
    {
     "data": {
      "text/html": [
       "<div>\n",
       "<style scoped>\n",
       "    .dataframe tbody tr th:only-of-type {\n",
       "        vertical-align: middle;\n",
       "    }\n",
       "\n",
       "    .dataframe tbody tr th {\n",
       "        vertical-align: top;\n",
       "    }\n",
       "\n",
       "    .dataframe thead th {\n",
       "        text-align: right;\n",
       "    }\n",
       "</style>\n",
       "<table border=\"1\" class=\"dataframe\">\n",
       "  <thead>\n",
       "    <tr style=\"text-align: right;\">\n",
       "      <th></th>\n",
       "      <th>Symbol</th>\n",
       "      <th>Series</th>\n",
       "      <th>Date</th>\n",
       "      <th>Prev Close</th>\n",
       "      <th>Open Price</th>\n",
       "      <th>High Price</th>\n",
       "      <th>Low Price</th>\n",
       "      <th>Last Price</th>\n",
       "      <th>Close Price</th>\n",
       "      <th>Average Price</th>\n",
       "      <th>Total Traded Quantity</th>\n",
       "      <th>Turnover</th>\n",
       "      <th>No. of Trades</th>\n",
       "      <th>Deliverable Qty</th>\n",
       "      <th>% Dly Qt to Traded Qty</th>\n",
       "    </tr>\n",
       "  </thead>\n",
       "  <tbody>\n",
       "    <tr>\n",
       "      <th>0</th>\n",
       "      <td>PVR</td>\n",
       "      <td>EQ</td>\n",
       "      <td>15-May-2017</td>\n",
       "      <td>1526.20</td>\n",
       "      <td>1532.35</td>\n",
       "      <td>1538.15</td>\n",
       "      <td>1515.45</td>\n",
       "      <td>1520.00</td>\n",
       "      <td>1524.95</td>\n",
       "      <td>1526.51</td>\n",
       "      <td>103693</td>\n",
       "      <td>1.582883e+08</td>\n",
       "      <td>7359</td>\n",
       "      <td>54518</td>\n",
       "      <td>52.58</td>\n",
       "    </tr>\n",
       "    <tr>\n",
       "      <th>1</th>\n",
       "      <td>PVR</td>\n",
       "      <td>EQ</td>\n",
       "      <td>16-May-2017</td>\n",
       "      <td>1524.95</td>\n",
       "      <td>1526.70</td>\n",
       "      <td>1545.00</td>\n",
       "      <td>1526.65</td>\n",
       "      <td>1533.25</td>\n",
       "      <td>1539.00</td>\n",
       "      <td>1538.04</td>\n",
       "      <td>86547</td>\n",
       "      <td>1.331129e+08</td>\n",
       "      <td>6332</td>\n",
       "      <td>39020</td>\n",
       "      <td>45.09</td>\n",
       "    </tr>\n",
       "    <tr>\n",
       "      <th>2</th>\n",
       "      <td>PVR</td>\n",
       "      <td>EQ</td>\n",
       "      <td>17-May-2017</td>\n",
       "      <td>1539.00</td>\n",
       "      <td>1539.70</td>\n",
       "      <td>1552.85</td>\n",
       "      <td>1526.05</td>\n",
       "      <td>1527.00</td>\n",
       "      <td>1530.30</td>\n",
       "      <td>1538.01</td>\n",
       "      <td>73902</td>\n",
       "      <td>1.136622e+08</td>\n",
       "      <td>4665</td>\n",
       "      <td>21303</td>\n",
       "      <td>28.83</td>\n",
       "    </tr>\n",
       "    <tr>\n",
       "      <th>3</th>\n",
       "      <td>PVR</td>\n",
       "      <td>EQ</td>\n",
       "      <td>18-May-2017</td>\n",
       "      <td>1530.30</td>\n",
       "      <td>1525.00</td>\n",
       "      <td>1539.35</td>\n",
       "      <td>1502.20</td>\n",
       "      <td>1514.90</td>\n",
       "      <td>1515.05</td>\n",
       "      <td>1519.68</td>\n",
       "      <td>82125</td>\n",
       "      <td>1.248035e+08</td>\n",
       "      <td>2903</td>\n",
       "      <td>38796</td>\n",
       "      <td>47.24</td>\n",
       "    </tr>\n",
       "    <tr>\n",
       "      <th>4</th>\n",
       "      <td>PVR</td>\n",
       "      <td>EQ</td>\n",
       "      <td>19-May-2017</td>\n",
       "      <td>1515.05</td>\n",
       "      <td>1515.00</td>\n",
       "      <td>1534.50</td>\n",
       "      <td>1502.20</td>\n",
       "      <td>1517.65</td>\n",
       "      <td>1513.55</td>\n",
       "      <td>1513.25</td>\n",
       "      <td>114890</td>\n",
       "      <td>1.738567e+08</td>\n",
       "      <td>9495</td>\n",
       "      <td>54764</td>\n",
       "      <td>47.67</td>\n",
       "    </tr>\n",
       "  </tbody>\n",
       "</table>\n",
       "</div>"
      ],
      "text/plain": [
       "  Symbol Series         Date  Prev Close  Open Price  High Price  Low Price  \\\n",
       "0    PVR     EQ  15-May-2017     1526.20     1532.35     1538.15    1515.45   \n",
       "1    PVR     EQ  16-May-2017     1524.95     1526.70     1545.00    1526.65   \n",
       "2    PVR     EQ  17-May-2017     1539.00     1539.70     1552.85    1526.05   \n",
       "3    PVR     EQ  18-May-2017     1530.30     1525.00     1539.35    1502.20   \n",
       "4    PVR     EQ  19-May-2017     1515.05     1515.00     1534.50    1502.20   \n",
       "\n",
       "   Last Price  Close Price  Average Price  Total Traded Quantity  \\\n",
       "0     1520.00      1524.95        1526.51                 103693   \n",
       "1     1533.25      1539.00        1538.04                  86547   \n",
       "2     1527.00      1530.30        1538.01                  73902   \n",
       "3     1514.90      1515.05        1519.68                  82125   \n",
       "4     1517.65      1513.55        1513.25                 114890   \n",
       "\n",
       "       Turnover  No. of Trades  Deliverable Qty  % Dly Qt to Traded Qty  \n",
       "0  1.582883e+08           7359            54518                   52.58  \n",
       "1  1.331129e+08           6332            39020                   45.09  \n",
       "2  1.136622e+08           4665            21303                   28.83  \n",
       "3  1.248035e+08           2903            38796                   47.24  \n",
       "4  1.738567e+08           9495            54764                   47.67  "
      ]
     },
     "execution_count": 37,
     "metadata": {},
     "output_type": "execute_result"
    }
   ],
   "source": [
    "new_data.head()"
   ]
  },
  {
   "cell_type": "code",
   "execution_count": 38,
   "metadata": {
    "ExecuteTime": {
     "end_time": "2019-07-18T03:58:33.902361Z",
     "start_time": "2019-07-18T03:58:33.790300Z"
    }
   },
   "outputs": [],
   "source": [
    "new_data.set_index('Date',inplace=True)"
   ]
  },
  {
   "cell_type": "code",
   "execution_count": 39,
   "metadata": {
    "ExecuteTime": {
     "end_time": "2019-07-18T03:58:33.992981Z",
     "start_time": "2019-07-18T03:58:33.903958Z"
    }
   },
   "outputs": [],
   "source": [
    "start_date = new_data.index[0]\n",
    "end_date = new_data.index[-1]"
   ]
  },
  {
   "cell_type": "markdown",
   "metadata": {},
   "source": [
    "## Creating Bollinger Bands"
   ]
  },
  {
   "cell_type": "markdown",
   "metadata": {},
   "source": [
    "## Making Call from Bollinger Bands to check the accuracy of the Predicted Calls from the best model(Logistic Regression)"
   ]
  },
  {
   "cell_type": "code",
   "execution_count": 40,
   "metadata": {
    "ExecuteTime": {
     "end_time": "2019-07-18T03:58:34.084882Z",
     "start_time": "2019-07-18T03:58:33.994709Z"
    }
   },
   "outputs": [],
   "source": [
    "rolling_mean = new_data['Close Price'].rolling(window=14).mean()"
   ]
  },
  {
   "cell_type": "code",
   "execution_count": 41,
   "metadata": {
    "ExecuteTime": {
     "end_time": "2019-07-18T03:58:34.201752Z",
     "start_time": "2019-07-18T03:58:34.086871Z"
    }
   },
   "outputs": [],
   "source": [
    "lower=rolling_mean-2*new_data['Close Price'].rolling(window=14).std()\n",
    "upper=rolling_mean+2*new_data['Close Price'].rolling(window=14).std()"
   ]
  },
  {
   "cell_type": "code",
   "execution_count": 42,
   "metadata": {
    "ExecuteTime": {
     "end_time": "2019-07-18T03:58:34.300012Z",
     "start_time": "2019-07-18T03:58:34.204636Z"
    }
   },
   "outputs": [],
   "source": [
    "new_data['avg']=rolling_mean"
   ]
  },
  {
   "cell_type": "code",
   "execution_count": 43,
   "metadata": {
    "ExecuteTime": {
     "end_time": "2019-07-18T03:58:34.402314Z",
     "start_time": "2019-07-18T03:58:34.305706Z"
    }
   },
   "outputs": [],
   "source": [
    "new_data['upper']=upper"
   ]
  },
  {
   "cell_type": "code",
   "execution_count": 44,
   "metadata": {
    "ExecuteTime": {
     "end_time": "2019-07-18T03:58:34.509391Z",
     "start_time": "2019-07-18T03:58:34.403677Z"
    }
   },
   "outputs": [],
   "source": [
    "new_data['lower']=lower"
   ]
  },
  {
   "cell_type": "code",
   "execution_count": 45,
   "metadata": {
    "ExecuteTime": {
     "end_time": "2019-07-18T03:58:34.610057Z",
     "start_time": "2019-07-18T03:58:34.517580Z"
    }
   },
   "outputs": [],
   "source": [
    "new_data=new_data.dropna()"
   ]
  },
  {
   "cell_type": "code",
   "execution_count": 46,
   "metadata": {
    "ExecuteTime": {
     "end_time": "2019-07-18T03:58:34.733542Z",
     "start_time": "2019-07-18T03:58:34.611465Z"
    }
   },
   "outputs": [
    {
     "data": {
      "text/html": [
       "<div>\n",
       "<style scoped>\n",
       "    .dataframe tbody tr th:only-of-type {\n",
       "        vertical-align: middle;\n",
       "    }\n",
       "\n",
       "    .dataframe tbody tr th {\n",
       "        vertical-align: top;\n",
       "    }\n",
       "\n",
       "    .dataframe thead th {\n",
       "        text-align: right;\n",
       "    }\n",
       "</style>\n",
       "<table border=\"1\" class=\"dataframe\">\n",
       "  <thead>\n",
       "    <tr style=\"text-align: right;\">\n",
       "      <th></th>\n",
       "      <th>Symbol</th>\n",
       "      <th>Series</th>\n",
       "      <th>Prev Close</th>\n",
       "      <th>Open Price</th>\n",
       "      <th>High Price</th>\n",
       "      <th>Low Price</th>\n",
       "      <th>Last Price</th>\n",
       "      <th>Close Price</th>\n",
       "      <th>Average Price</th>\n",
       "      <th>Total Traded Quantity</th>\n",
       "      <th>Turnover</th>\n",
       "      <th>No. of Trades</th>\n",
       "      <th>Deliverable Qty</th>\n",
       "      <th>% Dly Qt to Traded Qty</th>\n",
       "      <th>avg</th>\n",
       "      <th>upper</th>\n",
       "      <th>lower</th>\n",
       "    </tr>\n",
       "    <tr>\n",
       "      <th>Date</th>\n",
       "      <th></th>\n",
       "      <th></th>\n",
       "      <th></th>\n",
       "      <th></th>\n",
       "      <th></th>\n",
       "      <th></th>\n",
       "      <th></th>\n",
       "      <th></th>\n",
       "      <th></th>\n",
       "      <th></th>\n",
       "      <th></th>\n",
       "      <th></th>\n",
       "      <th></th>\n",
       "      <th></th>\n",
       "      <th></th>\n",
       "      <th></th>\n",
       "      <th></th>\n",
       "    </tr>\n",
       "  </thead>\n",
       "  <tbody>\n",
       "    <tr>\n",
       "      <th>01-Jun-2017</th>\n",
       "      <td>PVR</td>\n",
       "      <td>EQ</td>\n",
       "      <td>1454.95</td>\n",
       "      <td>1452.0</td>\n",
       "      <td>1469.70</td>\n",
       "      <td>1452.00</td>\n",
       "      <td>1455.0</td>\n",
       "      <td>1455.70</td>\n",
       "      <td>1459.95</td>\n",
       "      <td>59522</td>\n",
       "      <td>8.689907e+07</td>\n",
       "      <td>3090</td>\n",
       "      <td>23335</td>\n",
       "      <td>39.20</td>\n",
       "      <td>1486.739286</td>\n",
       "      <td>1551.543241</td>\n",
       "      <td>1421.935331</td>\n",
       "    </tr>\n",
       "    <tr>\n",
       "      <th>02-Jun-2017</th>\n",
       "      <td>PVR</td>\n",
       "      <td>EQ</td>\n",
       "      <td>1455.70</td>\n",
       "      <td>1457.3</td>\n",
       "      <td>1466.90</td>\n",
       "      <td>1452.35</td>\n",
       "      <td>1460.0</td>\n",
       "      <td>1457.80</td>\n",
       "      <td>1462.45</td>\n",
       "      <td>55880</td>\n",
       "      <td>8.172155e+07</td>\n",
       "      <td>2865</td>\n",
       "      <td>29238</td>\n",
       "      <td>52.32</td>\n",
       "      <td>1481.942857</td>\n",
       "      <td>1544.463966</td>\n",
       "      <td>1419.421749</td>\n",
       "    </tr>\n",
       "    <tr>\n",
       "      <th>05-Jun-2017</th>\n",
       "      <td>PVR</td>\n",
       "      <td>EQ</td>\n",
       "      <td>1457.80</td>\n",
       "      <td>1458.9</td>\n",
       "      <td>1464.65</td>\n",
       "      <td>1440.00</td>\n",
       "      <td>1444.0</td>\n",
       "      <td>1442.25</td>\n",
       "      <td>1452.10</td>\n",
       "      <td>102733</td>\n",
       "      <td>1.491781e+08</td>\n",
       "      <td>4617</td>\n",
       "      <td>51065</td>\n",
       "      <td>49.71</td>\n",
       "      <td>1475.032143</td>\n",
       "      <td>1531.478940</td>\n",
       "      <td>1418.585345</td>\n",
       "    </tr>\n",
       "    <tr>\n",
       "      <th>06-Jun-2017</th>\n",
       "      <td>PVR</td>\n",
       "      <td>EQ</td>\n",
       "      <td>1442.25</td>\n",
       "      <td>1445.0</td>\n",
       "      <td>1447.45</td>\n",
       "      <td>1378.85</td>\n",
       "      <td>1390.0</td>\n",
       "      <td>1392.85</td>\n",
       "      <td>1411.78</td>\n",
       "      <td>210916</td>\n",
       "      <td>2.977667e+08</td>\n",
       "      <td>16465</td>\n",
       "      <td>89785</td>\n",
       "      <td>42.57</td>\n",
       "      <td>1465.214286</td>\n",
       "      <td>1527.738588</td>\n",
       "      <td>1402.689984</td>\n",
       "    </tr>\n",
       "    <tr>\n",
       "      <th>07-Jun-2017</th>\n",
       "      <td>PVR</td>\n",
       "      <td>EQ</td>\n",
       "      <td>1392.85</td>\n",
       "      <td>1391.1</td>\n",
       "      <td>1409.00</td>\n",
       "      <td>1387.00</td>\n",
       "      <td>1400.0</td>\n",
       "      <td>1400.70</td>\n",
       "      <td>1400.17</td>\n",
       "      <td>165824</td>\n",
       "      <td>2.321824e+08</td>\n",
       "      <td>7911</td>\n",
       "      <td>70517</td>\n",
       "      <td>42.53</td>\n",
       "      <td>1457.046429</td>\n",
       "      <td>1521.376556</td>\n",
       "      <td>1392.716301</td>\n",
       "    </tr>\n",
       "  </tbody>\n",
       "</table>\n",
       "</div>"
      ],
      "text/plain": [
       "            Symbol Series  Prev Close  Open Price  High Price  Low Price  \\\n",
       "Date                                                                       \n",
       "01-Jun-2017    PVR     EQ     1454.95      1452.0     1469.70    1452.00   \n",
       "02-Jun-2017    PVR     EQ     1455.70      1457.3     1466.90    1452.35   \n",
       "05-Jun-2017    PVR     EQ     1457.80      1458.9     1464.65    1440.00   \n",
       "06-Jun-2017    PVR     EQ     1442.25      1445.0     1447.45    1378.85   \n",
       "07-Jun-2017    PVR     EQ     1392.85      1391.1     1409.00    1387.00   \n",
       "\n",
       "             Last Price  Close Price  Average Price  Total Traded Quantity  \\\n",
       "Date                                                                         \n",
       "01-Jun-2017      1455.0      1455.70        1459.95                  59522   \n",
       "02-Jun-2017      1460.0      1457.80        1462.45                  55880   \n",
       "05-Jun-2017      1444.0      1442.25        1452.10                 102733   \n",
       "06-Jun-2017      1390.0      1392.85        1411.78                 210916   \n",
       "07-Jun-2017      1400.0      1400.70        1400.17                 165824   \n",
       "\n",
       "                 Turnover  No. of Trades  Deliverable Qty  \\\n",
       "Date                                                        \n",
       "01-Jun-2017  8.689907e+07           3090            23335   \n",
       "02-Jun-2017  8.172155e+07           2865            29238   \n",
       "05-Jun-2017  1.491781e+08           4617            51065   \n",
       "06-Jun-2017  2.977667e+08          16465            89785   \n",
       "07-Jun-2017  2.321824e+08           7911            70517   \n",
       "\n",
       "             % Dly Qt to Traded Qty          avg        upper        lower  \n",
       "Date                                                                        \n",
       "01-Jun-2017                   39.20  1486.739286  1551.543241  1421.935331  \n",
       "02-Jun-2017                   52.32  1481.942857  1544.463966  1419.421749  \n",
       "05-Jun-2017                   49.71  1475.032143  1531.478940  1418.585345  \n",
       "06-Jun-2017                   42.57  1465.214286  1527.738588  1402.689984  \n",
       "07-Jun-2017                   42.53  1457.046429  1521.376556  1392.716301  "
      ]
     },
     "execution_count": 46,
     "metadata": {},
     "output_type": "execute_result"
    }
   ],
   "source": [
    "new_data.head()"
   ]
  },
  {
   "cell_type": "code",
   "execution_count": 47,
   "metadata": {
    "ExecuteTime": {
     "end_time": "2019-07-18T03:58:34.908321Z",
     "start_time": "2019-07-18T03:58:34.735402Z"
    }
   },
   "outputs": [],
   "source": [
    "new_data['Call'] = new_data.apply(lambda row : call(row['Close Price'],row['lower'], row['avg'],row['upper']), axis = 1) "
   ]
  },
  {
   "cell_type": "code",
   "execution_count": 48,
   "metadata": {
    "ExecuteTime": {
     "end_time": "2019-07-18T03:58:35.027458Z",
     "start_time": "2019-07-18T03:58:34.910659Z"
    }
   },
   "outputs": [
    {
     "data": {
      "text/plain": [
       "Hold Short/Liquidate Buy    255\n",
       "Hold Buy/Liquidate Short    173\n",
       "Short                        27\n",
       "Buy                          27\n",
       "Name: Call, dtype: int64"
      ]
     },
     "execution_count": 48,
     "metadata": {},
     "output_type": "execute_result"
    }
   ],
   "source": [
    "new_data['Call'].value_counts()"
   ]
  },
  {
   "cell_type": "markdown",
   "metadata": {},
   "source": [
    "## Predicting Calls"
   ]
  },
  {
   "cell_type": "code",
   "execution_count": 49,
   "metadata": {
    "ExecuteTime": {
     "end_time": "2019-07-18T03:58:35.156947Z",
     "start_time": "2019-07-18T03:58:35.035607Z"
    }
   },
   "outputs": [],
   "source": [
    "from sklearn import preprocessing\n",
    "le = preprocessing.LabelEncoder()\n",
    "transformed_label = le.fit_transform(new_data[['Call']])\n",
    "Y = transformed_label.reshape(-1,1)\n",
    "Y=pd.DataFrame(Y)"
   ]
  },
  {
   "cell_type": "code",
   "execution_count": 50,
   "metadata": {
    "ExecuteTime": {
     "end_time": "2019-07-18T03:58:35.261841Z",
     "start_time": "2019-07-18T03:58:35.162900Z"
    }
   },
   "outputs": [],
   "source": [
    "X=new_data[['lower','avg','upper','Close Price']]"
   ]
  },
  {
   "cell_type": "code",
   "execution_count": 51,
   "metadata": {
    "ExecuteTime": {
     "end_time": "2019-07-18T03:58:35.365007Z",
     "start_time": "2019-07-18T03:58:35.263898Z"
    }
   },
   "outputs": [],
   "source": [
    "y_pred=lr.predict(X)"
   ]
  },
  {
   "cell_type": "markdown",
   "metadata": {},
   "source": [
    "## Accuracy of Predicted Calls"
   ]
  },
  {
   "cell_type": "code",
   "execution_count": 52,
   "metadata": {
    "ExecuteTime": {
     "end_time": "2019-07-18T03:58:35.810980Z",
     "start_time": "2019-07-18T03:58:35.367412Z"
    }
   },
   "outputs": [
    {
     "data": {
      "text/plain": [
       "0.8734439834024896"
      ]
     },
     "execution_count": 52,
     "metadata": {},
     "output_type": "execute_result"
    }
   ],
   "source": [
    "lr.score(X,Y)"
   ]
  },
  {
   "cell_type": "markdown",
   "metadata": {},
   "source": [
    "## Adding Predicted Calls Column to Dataset"
   ]
  },
  {
   "cell_type": "code",
   "execution_count": 53,
   "metadata": {
    "ExecuteTime": {
     "end_time": "2019-07-18T03:58:35.919887Z",
     "start_time": "2019-07-18T03:58:35.817649Z"
    }
   },
   "outputs": [],
   "source": [
    "new_data['Predicted Call']=y_pred"
   ]
  },
  {
   "cell_type": "code",
   "execution_count": 54,
   "metadata": {
    "ExecuteTime": {
     "end_time": "2019-07-18T03:58:36.063722Z",
     "start_time": "2019-07-18T03:58:35.925059Z"
    }
   },
   "outputs": [
    {
     "data": {
      "text/html": [
       "<div>\n",
       "<style scoped>\n",
       "    .dataframe tbody tr th:only-of-type {\n",
       "        vertical-align: middle;\n",
       "    }\n",
       "\n",
       "    .dataframe tbody tr th {\n",
       "        vertical-align: top;\n",
       "    }\n",
       "\n",
       "    .dataframe thead th {\n",
       "        text-align: right;\n",
       "    }\n",
       "</style>\n",
       "<table border=\"1\" class=\"dataframe\">\n",
       "  <thead>\n",
       "    <tr style=\"text-align: right;\">\n",
       "      <th></th>\n",
       "      <th>Symbol</th>\n",
       "      <th>Series</th>\n",
       "      <th>Prev Close</th>\n",
       "      <th>Open Price</th>\n",
       "      <th>High Price</th>\n",
       "      <th>Low Price</th>\n",
       "      <th>Last Price</th>\n",
       "      <th>Close Price</th>\n",
       "      <th>Average Price</th>\n",
       "      <th>Total Traded Quantity</th>\n",
       "      <th>Turnover</th>\n",
       "      <th>No. of Trades</th>\n",
       "      <th>Deliverable Qty</th>\n",
       "      <th>% Dly Qt to Traded Qty</th>\n",
       "      <th>avg</th>\n",
       "      <th>upper</th>\n",
       "      <th>lower</th>\n",
       "      <th>Call</th>\n",
       "      <th>Predicted Call</th>\n",
       "    </tr>\n",
       "    <tr>\n",
       "      <th>Date</th>\n",
       "      <th></th>\n",
       "      <th></th>\n",
       "      <th></th>\n",
       "      <th></th>\n",
       "      <th></th>\n",
       "      <th></th>\n",
       "      <th></th>\n",
       "      <th></th>\n",
       "      <th></th>\n",
       "      <th></th>\n",
       "      <th></th>\n",
       "      <th></th>\n",
       "      <th></th>\n",
       "      <th></th>\n",
       "      <th></th>\n",
       "      <th></th>\n",
       "      <th></th>\n",
       "      <th></th>\n",
       "      <th></th>\n",
       "    </tr>\n",
       "  </thead>\n",
       "  <tbody>\n",
       "    <tr>\n",
       "      <th>01-Jun-2017</th>\n",
       "      <td>PVR</td>\n",
       "      <td>EQ</td>\n",
       "      <td>1454.95</td>\n",
       "      <td>1452.00</td>\n",
       "      <td>1469.70</td>\n",
       "      <td>1452.00</td>\n",
       "      <td>1455.0</td>\n",
       "      <td>1455.70</td>\n",
       "      <td>1459.95</td>\n",
       "      <td>59522</td>\n",
       "      <td>8.689907e+07</td>\n",
       "      <td>3090</td>\n",
       "      <td>23335</td>\n",
       "      <td>39.20</td>\n",
       "      <td>1486.739286</td>\n",
       "      <td>1551.543241</td>\n",
       "      <td>1421.935331</td>\n",
       "      <td>Hold Buy/Liquidate Short</td>\n",
       "      <td>1</td>\n",
       "    </tr>\n",
       "    <tr>\n",
       "      <th>02-Jun-2017</th>\n",
       "      <td>PVR</td>\n",
       "      <td>EQ</td>\n",
       "      <td>1455.70</td>\n",
       "      <td>1457.30</td>\n",
       "      <td>1466.90</td>\n",
       "      <td>1452.35</td>\n",
       "      <td>1460.0</td>\n",
       "      <td>1457.80</td>\n",
       "      <td>1462.45</td>\n",
       "      <td>55880</td>\n",
       "      <td>8.172155e+07</td>\n",
       "      <td>2865</td>\n",
       "      <td>29238</td>\n",
       "      <td>52.32</td>\n",
       "      <td>1481.942857</td>\n",
       "      <td>1544.463966</td>\n",
       "      <td>1419.421749</td>\n",
       "      <td>Hold Buy/Liquidate Short</td>\n",
       "      <td>1</td>\n",
       "    </tr>\n",
       "    <tr>\n",
       "      <th>05-Jun-2017</th>\n",
       "      <td>PVR</td>\n",
       "      <td>EQ</td>\n",
       "      <td>1457.80</td>\n",
       "      <td>1458.90</td>\n",
       "      <td>1464.65</td>\n",
       "      <td>1440.00</td>\n",
       "      <td>1444.0</td>\n",
       "      <td>1442.25</td>\n",
       "      <td>1452.10</td>\n",
       "      <td>102733</td>\n",
       "      <td>1.491781e+08</td>\n",
       "      <td>4617</td>\n",
       "      <td>51065</td>\n",
       "      <td>49.71</td>\n",
       "      <td>1475.032143</td>\n",
       "      <td>1531.478940</td>\n",
       "      <td>1418.585345</td>\n",
       "      <td>Hold Buy/Liquidate Short</td>\n",
       "      <td>1</td>\n",
       "    </tr>\n",
       "    <tr>\n",
       "      <th>06-Jun-2017</th>\n",
       "      <td>PVR</td>\n",
       "      <td>EQ</td>\n",
       "      <td>1442.25</td>\n",
       "      <td>1445.00</td>\n",
       "      <td>1447.45</td>\n",
       "      <td>1378.85</td>\n",
       "      <td>1390.0</td>\n",
       "      <td>1392.85</td>\n",
       "      <td>1411.78</td>\n",
       "      <td>210916</td>\n",
       "      <td>2.977667e+08</td>\n",
       "      <td>16465</td>\n",
       "      <td>89785</td>\n",
       "      <td>42.57</td>\n",
       "      <td>1465.214286</td>\n",
       "      <td>1527.738588</td>\n",
       "      <td>1402.689984</td>\n",
       "      <td>Buy</td>\n",
       "      <td>0</td>\n",
       "    </tr>\n",
       "    <tr>\n",
       "      <th>07-Jun-2017</th>\n",
       "      <td>PVR</td>\n",
       "      <td>EQ</td>\n",
       "      <td>1392.85</td>\n",
       "      <td>1391.10</td>\n",
       "      <td>1409.00</td>\n",
       "      <td>1387.00</td>\n",
       "      <td>1400.0</td>\n",
       "      <td>1400.70</td>\n",
       "      <td>1400.17</td>\n",
       "      <td>165824</td>\n",
       "      <td>2.321824e+08</td>\n",
       "      <td>7911</td>\n",
       "      <td>70517</td>\n",
       "      <td>42.53</td>\n",
       "      <td>1457.046429</td>\n",
       "      <td>1521.376556</td>\n",
       "      <td>1392.716301</td>\n",
       "      <td>Hold Buy/Liquidate Short</td>\n",
       "      <td>1</td>\n",
       "    </tr>\n",
       "    <tr>\n",
       "      <th>08-Jun-2017</th>\n",
       "      <td>PVR</td>\n",
       "      <td>EQ</td>\n",
       "      <td>1400.70</td>\n",
       "      <td>1400.70</td>\n",
       "      <td>1498.50</td>\n",
       "      <td>1382.30</td>\n",
       "      <td>1461.0</td>\n",
       "      <td>1454.00</td>\n",
       "      <td>1465.71</td>\n",
       "      <td>596919</td>\n",
       "      <td>8.749125e+08</td>\n",
       "      <td>21846</td>\n",
       "      <td>142853</td>\n",
       "      <td>23.93</td>\n",
       "      <td>1452.792857</td>\n",
       "      <td>1508.298960</td>\n",
       "      <td>1397.286754</td>\n",
       "      <td>Hold Short/Liquidate Buy</td>\n",
       "      <td>1</td>\n",
       "    </tr>\n",
       "    <tr>\n",
       "      <th>09-Jun-2017</th>\n",
       "      <td>PVR</td>\n",
       "      <td>EQ</td>\n",
       "      <td>1454.00</td>\n",
       "      <td>1465.00</td>\n",
       "      <td>1479.85</td>\n",
       "      <td>1443.00</td>\n",
       "      <td>1470.0</td>\n",
       "      <td>1472.25</td>\n",
       "      <td>1471.65</td>\n",
       "      <td>403598</td>\n",
       "      <td>5.939540e+08</td>\n",
       "      <td>18344</td>\n",
       "      <td>241292</td>\n",
       "      <td>59.79</td>\n",
       "      <td>1452.167857</td>\n",
       "      <td>1506.490209</td>\n",
       "      <td>1397.845506</td>\n",
       "      <td>Hold Short/Liquidate Buy</td>\n",
       "      <td>2</td>\n",
       "    </tr>\n",
       "    <tr>\n",
       "      <th>12-Jun-2017</th>\n",
       "      <td>PVR</td>\n",
       "      <td>EQ</td>\n",
       "      <td>1472.25</td>\n",
       "      <td>1477.00</td>\n",
       "      <td>1507.00</td>\n",
       "      <td>1470.00</td>\n",
       "      <td>1495.0</td>\n",
       "      <td>1488.95</td>\n",
       "      <td>1492.22</td>\n",
       "      <td>306349</td>\n",
       "      <td>4.571401e+08</td>\n",
       "      <td>17326</td>\n",
       "      <td>98821</td>\n",
       "      <td>32.26</td>\n",
       "      <td>1451.632143</td>\n",
       "      <td>1504.192681</td>\n",
       "      <td>1399.071605</td>\n",
       "      <td>Hold Short/Liquidate Buy</td>\n",
       "      <td>2</td>\n",
       "    </tr>\n",
       "    <tr>\n",
       "      <th>13-Jun-2017</th>\n",
       "      <td>PVR</td>\n",
       "      <td>EQ</td>\n",
       "      <td>1488.95</td>\n",
       "      <td>1490.55</td>\n",
       "      <td>1505.00</td>\n",
       "      <td>1474.00</td>\n",
       "      <td>1500.0</td>\n",
       "      <td>1496.30</td>\n",
       "      <td>1489.41</td>\n",
       "      <td>195198</td>\n",
       "      <td>2.907297e+08</td>\n",
       "      <td>8620</td>\n",
       "      <td>101610</td>\n",
       "      <td>52.05</td>\n",
       "      <td>1454.939286</td>\n",
       "      <td>1512.633215</td>\n",
       "      <td>1397.245356</td>\n",
       "      <td>Hold Short/Liquidate Buy</td>\n",
       "      <td>2</td>\n",
       "    </tr>\n",
       "    <tr>\n",
       "      <th>14-Jun-2017</th>\n",
       "      <td>PVR</td>\n",
       "      <td>EQ</td>\n",
       "      <td>1496.30</td>\n",
       "      <td>1505.50</td>\n",
       "      <td>1550.00</td>\n",
       "      <td>1490.60</td>\n",
       "      <td>1522.0</td>\n",
       "      <td>1522.50</td>\n",
       "      <td>1516.74</td>\n",
       "      <td>221887</td>\n",
       "      <td>3.365445e+08</td>\n",
       "      <td>10671</td>\n",
       "      <td>76207</td>\n",
       "      <td>34.34</td>\n",
       "      <td>1459.321429</td>\n",
       "      <td>1527.427564</td>\n",
       "      <td>1391.215293</td>\n",
       "      <td>Hold Short/Liquidate Buy</td>\n",
       "      <td>2</td>\n",
       "    </tr>\n",
       "  </tbody>\n",
       "</table>\n",
       "</div>"
      ],
      "text/plain": [
       "            Symbol Series  Prev Close  Open Price  High Price  Low Price  \\\n",
       "Date                                                                       \n",
       "01-Jun-2017    PVR     EQ     1454.95     1452.00     1469.70    1452.00   \n",
       "02-Jun-2017    PVR     EQ     1455.70     1457.30     1466.90    1452.35   \n",
       "05-Jun-2017    PVR     EQ     1457.80     1458.90     1464.65    1440.00   \n",
       "06-Jun-2017    PVR     EQ     1442.25     1445.00     1447.45    1378.85   \n",
       "07-Jun-2017    PVR     EQ     1392.85     1391.10     1409.00    1387.00   \n",
       "08-Jun-2017    PVR     EQ     1400.70     1400.70     1498.50    1382.30   \n",
       "09-Jun-2017    PVR     EQ     1454.00     1465.00     1479.85    1443.00   \n",
       "12-Jun-2017    PVR     EQ     1472.25     1477.00     1507.00    1470.00   \n",
       "13-Jun-2017    PVR     EQ     1488.95     1490.55     1505.00    1474.00   \n",
       "14-Jun-2017    PVR     EQ     1496.30     1505.50     1550.00    1490.60   \n",
       "\n",
       "             Last Price  Close Price  Average Price  Total Traded Quantity  \\\n",
       "Date                                                                         \n",
       "01-Jun-2017      1455.0      1455.70        1459.95                  59522   \n",
       "02-Jun-2017      1460.0      1457.80        1462.45                  55880   \n",
       "05-Jun-2017      1444.0      1442.25        1452.10                 102733   \n",
       "06-Jun-2017      1390.0      1392.85        1411.78                 210916   \n",
       "07-Jun-2017      1400.0      1400.70        1400.17                 165824   \n",
       "08-Jun-2017      1461.0      1454.00        1465.71                 596919   \n",
       "09-Jun-2017      1470.0      1472.25        1471.65                 403598   \n",
       "12-Jun-2017      1495.0      1488.95        1492.22                 306349   \n",
       "13-Jun-2017      1500.0      1496.30        1489.41                 195198   \n",
       "14-Jun-2017      1522.0      1522.50        1516.74                 221887   \n",
       "\n",
       "                 Turnover  No. of Trades  Deliverable Qty  \\\n",
       "Date                                                        \n",
       "01-Jun-2017  8.689907e+07           3090            23335   \n",
       "02-Jun-2017  8.172155e+07           2865            29238   \n",
       "05-Jun-2017  1.491781e+08           4617            51065   \n",
       "06-Jun-2017  2.977667e+08          16465            89785   \n",
       "07-Jun-2017  2.321824e+08           7911            70517   \n",
       "08-Jun-2017  8.749125e+08          21846           142853   \n",
       "09-Jun-2017  5.939540e+08          18344           241292   \n",
       "12-Jun-2017  4.571401e+08          17326            98821   \n",
       "13-Jun-2017  2.907297e+08           8620           101610   \n",
       "14-Jun-2017  3.365445e+08          10671            76207   \n",
       "\n",
       "             % Dly Qt to Traded Qty          avg        upper        lower  \\\n",
       "Date                                                                         \n",
       "01-Jun-2017                   39.20  1486.739286  1551.543241  1421.935331   \n",
       "02-Jun-2017                   52.32  1481.942857  1544.463966  1419.421749   \n",
       "05-Jun-2017                   49.71  1475.032143  1531.478940  1418.585345   \n",
       "06-Jun-2017                   42.57  1465.214286  1527.738588  1402.689984   \n",
       "07-Jun-2017                   42.53  1457.046429  1521.376556  1392.716301   \n",
       "08-Jun-2017                   23.93  1452.792857  1508.298960  1397.286754   \n",
       "09-Jun-2017                   59.79  1452.167857  1506.490209  1397.845506   \n",
       "12-Jun-2017                   32.26  1451.632143  1504.192681  1399.071605   \n",
       "13-Jun-2017                   52.05  1454.939286  1512.633215  1397.245356   \n",
       "14-Jun-2017                   34.34  1459.321429  1527.427564  1391.215293   \n",
       "\n",
       "                                 Call  Predicted Call  \n",
       "Date                                                   \n",
       "01-Jun-2017  Hold Buy/Liquidate Short               1  \n",
       "02-Jun-2017  Hold Buy/Liquidate Short               1  \n",
       "05-Jun-2017  Hold Buy/Liquidate Short               1  \n",
       "06-Jun-2017                       Buy               0  \n",
       "07-Jun-2017  Hold Buy/Liquidate Short               1  \n",
       "08-Jun-2017  Hold Short/Liquidate Buy               1  \n",
       "09-Jun-2017  Hold Short/Liquidate Buy               2  \n",
       "12-Jun-2017  Hold Short/Liquidate Buy               2  \n",
       "13-Jun-2017  Hold Short/Liquidate Buy               2  \n",
       "14-Jun-2017  Hold Short/Liquidate Buy               2  "
      ]
     },
     "execution_count": 54,
     "metadata": {},
     "output_type": "execute_result"
    }
   ],
   "source": [
    "new_data.head(10)"
   ]
  },
  {
   "cell_type": "markdown",
   "metadata": {},
   "source": [
    "    "
   ]
  },
  {
   "cell_type": "markdown",
   "metadata": {},
   "source": [
    "    "
   ]
  },
  {
   "cell_type": "markdown",
   "metadata": {},
   "source": [
    "    "
   ]
  },
  {
   "cell_type": "markdown",
   "metadata": {},
   "source": [
    "# Predicting Trade Call using RandomForest Classifier"
   ]
  },
  {
   "cell_type": "code",
   "execution_count": 55,
   "metadata": {
    "ExecuteTime": {
     "end_time": "2019-07-18T03:58:36.178010Z",
     "start_time": "2019-07-18T03:58:36.065465Z"
    }
   },
   "outputs": [],
   "source": [
    "data=pd.read_csv('ITC.csv')"
   ]
  },
  {
   "cell_type": "code",
   "execution_count": 56,
   "metadata": {
    "ExecuteTime": {
     "end_time": "2019-07-18T03:58:36.268594Z",
     "start_time": "2019-07-18T03:58:36.180970Z"
    }
   },
   "outputs": [
    {
     "data": {
      "text/plain": [
       "(496, 15)"
      ]
     },
     "execution_count": 56,
     "metadata": {},
     "output_type": "execute_result"
    }
   ],
   "source": [
    "data.shape"
   ]
  },
  {
   "cell_type": "code",
   "execution_count": 57,
   "metadata": {
    "ExecuteTime": {
     "end_time": "2019-07-18T03:58:36.376960Z",
     "start_time": "2019-07-18T03:58:36.273702Z"
    }
   },
   "outputs": [
    {
     "data": {
      "text/html": [
       "<div>\n",
       "<style scoped>\n",
       "    .dataframe tbody tr th:only-of-type {\n",
       "        vertical-align: middle;\n",
       "    }\n",
       "\n",
       "    .dataframe tbody tr th {\n",
       "        vertical-align: top;\n",
       "    }\n",
       "\n",
       "    .dataframe thead th {\n",
       "        text-align: right;\n",
       "    }\n",
       "</style>\n",
       "<table border=\"1\" class=\"dataframe\">\n",
       "  <thead>\n",
       "    <tr style=\"text-align: right;\">\n",
       "      <th></th>\n",
       "      <th>Symbol</th>\n",
       "      <th>Series</th>\n",
       "      <th>Date</th>\n",
       "      <th>Prev Close</th>\n",
       "      <th>Open Price</th>\n",
       "      <th>High Price</th>\n",
       "      <th>Low Price</th>\n",
       "      <th>Last Price</th>\n",
       "      <th>Close Price</th>\n",
       "      <th>Average Price</th>\n",
       "      <th>Total Traded Quantity</th>\n",
       "      <th>Turnover</th>\n",
       "      <th>No. of Trades</th>\n",
       "      <th>Deliverable Qty</th>\n",
       "      <th>% Dly Qt to Traded Qty</th>\n",
       "    </tr>\n",
       "  </thead>\n",
       "  <tbody>\n",
       "    <tr>\n",
       "      <th>0</th>\n",
       "      <td>ITC</td>\n",
       "      <td>EQ</td>\n",
       "      <td>15-May-2017</td>\n",
       "      <td>274.95</td>\n",
       "      <td>275.90</td>\n",
       "      <td>278.90</td>\n",
       "      <td>275.50</td>\n",
       "      <td>278.50</td>\n",
       "      <td>277.95</td>\n",
       "      <td>277.78</td>\n",
       "      <td>5462855</td>\n",
       "      <td>1.517477e+09</td>\n",
       "      <td>52501</td>\n",
       "      <td>4128324</td>\n",
       "      <td>75.57</td>\n",
       "    </tr>\n",
       "    <tr>\n",
       "      <th>1</th>\n",
       "      <td>ITC</td>\n",
       "      <td>EQ</td>\n",
       "      <td>16-May-2017</td>\n",
       "      <td>277.95</td>\n",
       "      <td>278.50</td>\n",
       "      <td>284.30</td>\n",
       "      <td>278.00</td>\n",
       "      <td>283.00</td>\n",
       "      <td>283.45</td>\n",
       "      <td>280.93</td>\n",
       "      <td>11204308</td>\n",
       "      <td>3.147583e+09</td>\n",
       "      <td>98347</td>\n",
       "      <td>8307567</td>\n",
       "      <td>74.15</td>\n",
       "    </tr>\n",
       "    <tr>\n",
       "      <th>2</th>\n",
       "      <td>ITC</td>\n",
       "      <td>EQ</td>\n",
       "      <td>17-May-2017</td>\n",
       "      <td>283.45</td>\n",
       "      <td>284.10</td>\n",
       "      <td>284.40</td>\n",
       "      <td>279.25</td>\n",
       "      <td>281.50</td>\n",
       "      <td>281.65</td>\n",
       "      <td>281.56</td>\n",
       "      <td>8297700</td>\n",
       "      <td>2.336261e+09</td>\n",
       "      <td>99107</td>\n",
       "      <td>5924804</td>\n",
       "      <td>71.40</td>\n",
       "    </tr>\n",
       "    <tr>\n",
       "      <th>3</th>\n",
       "      <td>ITC</td>\n",
       "      <td>EQ</td>\n",
       "      <td>18-May-2017</td>\n",
       "      <td>281.65</td>\n",
       "      <td>278.00</td>\n",
       "      <td>281.05</td>\n",
       "      <td>277.05</td>\n",
       "      <td>277.65</td>\n",
       "      <td>277.90</td>\n",
       "      <td>278.49</td>\n",
       "      <td>7924261</td>\n",
       "      <td>2.206822e+09</td>\n",
       "      <td>47830</td>\n",
       "      <td>5434449</td>\n",
       "      <td>68.58</td>\n",
       "    </tr>\n",
       "    <tr>\n",
       "      <th>4</th>\n",
       "      <td>ITC</td>\n",
       "      <td>EQ</td>\n",
       "      <td>19-May-2017</td>\n",
       "      <td>277.90</td>\n",
       "      <td>282.25</td>\n",
       "      <td>295.65</td>\n",
       "      <td>281.95</td>\n",
       "      <td>286.40</td>\n",
       "      <td>286.20</td>\n",
       "      <td>290.08</td>\n",
       "      <td>35724128</td>\n",
       "      <td>1.036268e+10</td>\n",
       "      <td>248579</td>\n",
       "      <td>19137631</td>\n",
       "      <td>53.57</td>\n",
       "    </tr>\n",
       "  </tbody>\n",
       "</table>\n",
       "</div>"
      ],
      "text/plain": [
       "  Symbol Series         Date  Prev Close  Open Price  High Price  Low Price  \\\n",
       "0    ITC     EQ  15-May-2017      274.95      275.90      278.90     275.50   \n",
       "1    ITC     EQ  16-May-2017      277.95      278.50      284.30     278.00   \n",
       "2    ITC     EQ  17-May-2017      283.45      284.10      284.40     279.25   \n",
       "3    ITC     EQ  18-May-2017      281.65      278.00      281.05     277.05   \n",
       "4    ITC     EQ  19-May-2017      277.90      282.25      295.65     281.95   \n",
       "\n",
       "   Last Price  Close Price  Average Price  Total Traded Quantity  \\\n",
       "0      278.50       277.95         277.78                5462855   \n",
       "1      283.00       283.45         280.93               11204308   \n",
       "2      281.50       281.65         281.56                8297700   \n",
       "3      277.65       277.90         278.49                7924261   \n",
       "4      286.40       286.20         290.08               35724128   \n",
       "\n",
       "       Turnover  No. of Trades  Deliverable Qty  % Dly Qt to Traded Qty  \n",
       "0  1.517477e+09          52501          4128324                   75.57  \n",
       "1  3.147583e+09          98347          8307567                   74.15  \n",
       "2  2.336261e+09          99107          5924804                   71.40  \n",
       "3  2.206822e+09          47830          5434449                   68.58  \n",
       "4  1.036268e+10         248579         19137631                   53.57  "
      ]
     },
     "execution_count": 57,
     "metadata": {},
     "output_type": "execute_result"
    }
   ],
   "source": [
    "data.head()"
   ]
  },
  {
   "cell_type": "code",
   "execution_count": 58,
   "metadata": {
    "ExecuteTime": {
     "end_time": "2019-07-18T03:58:36.500849Z",
     "start_time": "2019-07-18T03:58:36.378881Z"
    }
   },
   "outputs": [
    {
     "data": {
      "text/plain": [
       "Symbol                    False\n",
       "Series                    False\n",
       "Date                      False\n",
       "Prev Close                False\n",
       "Open Price                False\n",
       "High Price                False\n",
       "Low Price                 False\n",
       "Last Price                False\n",
       "Close Price               False\n",
       "Average Price             False\n",
       "Total Traded Quantity     False\n",
       "Turnover                  False\n",
       "No. of Trades             False\n",
       "Deliverable Qty           False\n",
       "% Dly Qt to Traded Qty    False\n",
       "dtype: bool"
      ]
     },
     "execution_count": 58,
     "metadata": {},
     "output_type": "execute_result"
    }
   ],
   "source": [
    "pd.isnull(data).sum() > 0"
   ]
  },
  {
   "cell_type": "markdown",
   "metadata": {},
   "source": [
    "## Creating Column for '% change between Open and Close price for the day'"
   ]
  },
  {
   "cell_type": "code",
   "execution_count": 59,
   "metadata": {
    "ExecuteTime": {
     "end_time": "2019-07-18T03:58:36.616491Z",
     "start_time": "2019-07-18T03:58:36.502984Z"
    }
   },
   "outputs": [],
   "source": [
    "perc_change=(data['Close Price']-data['Open Price'])/data['Close Price']*100.0"
   ]
  },
  {
   "cell_type": "code",
   "execution_count": 60,
   "metadata": {
    "ExecuteTime": {
     "end_time": "2019-07-18T03:58:36.722627Z",
     "start_time": "2019-07-18T03:58:36.618463Z"
    }
   },
   "outputs": [],
   "source": [
    "data['OCchange']=perc_change"
   ]
  },
  {
   "cell_type": "markdown",
   "metadata": {
    "ExecuteTime": {
     "end_time": "2019-07-10T18:08:03.300258Z",
     "start_time": "2019-07-10T18:08:03.296175Z"
    }
   },
   "source": [
    "## Creating Column for '% change between Low and High price for the day'"
   ]
  },
  {
   "cell_type": "code",
   "execution_count": 61,
   "metadata": {
    "ExecuteTime": {
     "end_time": "2019-07-18T03:58:36.866345Z",
     "start_time": "2019-07-18T03:58:36.728379Z"
    }
   },
   "outputs": [],
   "source": [
    "perc_change=(data['High Price']-data['Low Price'])/data['High Price']*100.0"
   ]
  },
  {
   "cell_type": "code",
   "execution_count": 62,
   "metadata": {
    "ExecuteTime": {
     "end_time": "2019-07-18T03:58:36.977301Z",
     "start_time": "2019-07-18T03:58:36.869625Z"
    }
   },
   "outputs": [],
   "source": [
    "data['LHchange']=perc_change"
   ]
  },
  {
   "cell_type": "markdown",
   "metadata": {
    "ExecuteTime": {
     "end_time": "2019-07-10T18:08:33.743592Z",
     "start_time": "2019-07-10T18:08:33.739025Z"
    }
   },
   "source": [
    "## Creating Column for '5 day rolling mean of the day to day % change in Close Price'"
   ]
  },
  {
   "cell_type": "code",
   "execution_count": 63,
   "metadata": {
    "ExecuteTime": {
     "end_time": "2019-07-18T03:58:37.066138Z",
     "start_time": "2019-07-18T03:58:36.982642Z"
    }
   },
   "outputs": [],
   "source": [
    "rolling_mean = data['Close Price'].rolling(window=5).mean()"
   ]
  },
  {
   "cell_type": "code",
   "execution_count": 64,
   "metadata": {
    "ExecuteTime": {
     "end_time": "2019-07-18T03:58:37.217240Z",
     "start_time": "2019-07-18T03:58:37.070346Z"
    }
   },
   "outputs": [],
   "source": [
    "ratio_mean=rolling_mean/data['OCchange']"
   ]
  },
  {
   "cell_type": "code",
   "execution_count": 65,
   "metadata": {
    "ExecuteTime": {
     "end_time": "2019-07-18T03:58:37.331447Z",
     "start_time": "2019-07-18T03:58:37.218718Z"
    }
   },
   "outputs": [],
   "source": [
    "data['RollingMean']=ratio_mean"
   ]
  },
  {
   "cell_type": "markdown",
   "metadata": {},
   "source": [
    "## Creating Column for '5 day rolling std of the day to day % change in Close Price'"
   ]
  },
  {
   "cell_type": "code",
   "execution_count": 66,
   "metadata": {
    "ExecuteTime": {
     "end_time": "2019-07-18T03:58:37.432111Z",
     "start_time": "2019-07-18T03:58:37.338070Z"
    }
   },
   "outputs": [],
   "source": [
    "rolling_std = data['Close Price'].rolling(window=5).std()"
   ]
  },
  {
   "cell_type": "code",
   "execution_count": 67,
   "metadata": {
    "ExecuteTime": {
     "end_time": "2019-07-18T03:58:37.538382Z",
     "start_time": "2019-07-18T03:58:37.438192Z"
    }
   },
   "outputs": [],
   "source": [
    "ratio_std=rolling_std/data['OCchange']"
   ]
  },
  {
   "cell_type": "code",
   "execution_count": 68,
   "metadata": {
    "ExecuteTime": {
     "end_time": "2019-07-18T03:58:37.627853Z",
     "start_time": "2019-07-18T03:58:37.562721Z"
    }
   },
   "outputs": [],
   "source": [
    "data['RollingStd']=ratio_std"
   ]
  },
  {
   "cell_type": "code",
   "execution_count": 69,
   "metadata": {
    "ExecuteTime": {
     "end_time": "2019-07-18T03:58:37.723861Z",
     "start_time": "2019-07-18T03:58:37.636727Z"
    }
   },
   "outputs": [
    {
     "data": {
      "text/plain": [
       "(496, 19)"
      ]
     },
     "execution_count": 69,
     "metadata": {},
     "output_type": "execute_result"
    }
   ],
   "source": [
    "data.shape"
   ]
  },
  {
   "cell_type": "markdown",
   "metadata": {},
   "source": [
    "## Creating 'Action' Column"
   ]
  },
  {
   "cell_type": "code",
   "execution_count": 70,
   "metadata": {
    "ExecuteTime": {
     "end_time": "2019-07-18T03:58:37.816710Z",
     "start_time": "2019-07-18T03:58:37.727777Z"
    }
   },
   "outputs": [],
   "source": [
    "data['Action']=np.nan"
   ]
  },
  {
   "cell_type": "code",
   "execution_count": 71,
   "metadata": {
    "ExecuteTime": {
     "end_time": "2019-07-18T03:58:53.895658Z",
     "start_time": "2019-07-18T03:58:37.819988Z"
    }
   },
   "outputs": [],
   "source": [
    "for i in range(0,data.shape[0]-1):\n",
    "    if data['Close Price'][i]<data['Close Price'][i+1]:\n",
    "        data['Action'][i]=1\n",
    "    else:\n",
    "        data['Action'][i]=-1"
   ]
  },
  {
   "cell_type": "code",
   "execution_count": 72,
   "metadata": {
    "ExecuteTime": {
     "end_time": "2019-07-18T03:58:53.904890Z",
     "start_time": "2019-07-18T03:58:53.897584Z"
    }
   },
   "outputs": [],
   "source": [
    "data=data.replace([np.inf, -np.inf], np.nan)"
   ]
  },
  {
   "cell_type": "code",
   "execution_count": 73,
   "metadata": {
    "ExecuteTime": {
     "end_time": "2019-07-18T03:58:54.115436Z",
     "start_time": "2019-07-18T03:58:53.906753Z"
    }
   },
   "outputs": [],
   "source": [
    "data=data.dropna()"
   ]
  },
  {
   "cell_type": "markdown",
   "metadata": {},
   "source": [
    "## Dataset for Classification"
   ]
  },
  {
   "cell_type": "code",
   "execution_count": 74,
   "metadata": {
    "ExecuteTime": {
     "end_time": "2019-07-18T03:58:54.179791Z",
     "start_time": "2019-07-18T03:58:54.121597Z"
    }
   },
   "outputs": [],
   "source": [
    "X=data[['OCchange','LHchange','RollingMean','RollingStd']]"
   ]
  },
  {
   "cell_type": "markdown",
   "metadata": {},
   "source": [
    "### Data Normalization"
   ]
  },
  {
   "cell_type": "code",
   "execution_count": 75,
   "metadata": {
    "ExecuteTime": {
     "end_time": "2019-07-18T03:58:54.248045Z",
     "start_time": "2019-07-18T03:58:54.185238Z"
    }
   },
   "outputs": [],
   "source": [
    "from sklearn.preprocessing import MinMaxScaler\n",
    "X = MinMaxScaler().fit_transform(X)"
   ]
  },
  {
   "cell_type": "markdown",
   "metadata": {},
   "source": [
    "### Test-Train Split"
   ]
  },
  {
   "cell_type": "code",
   "execution_count": 76,
   "metadata": {
    "ExecuteTime": {
     "end_time": "2019-07-18T03:58:54.314100Z",
     "start_time": "2019-07-18T03:58:54.254193Z"
    }
   },
   "outputs": [],
   "source": [
    "Y=data[[\"Action\"]]"
   ]
  },
  {
   "cell_type": "code",
   "execution_count": 77,
   "metadata": {
    "ExecuteTime": {
     "end_time": "2019-07-18T03:58:54.379718Z",
     "start_time": "2019-07-18T03:58:54.318587Z"
    }
   },
   "outputs": [],
   "source": [
    "X_train=X[:350]"
   ]
  },
  {
   "cell_type": "code",
   "execution_count": 78,
   "metadata": {
    "ExecuteTime": {
     "end_time": "2019-07-18T03:58:54.447391Z",
     "start_time": "2019-07-18T03:58:54.384319Z"
    }
   },
   "outputs": [],
   "source": [
    "X_test=X[350:]"
   ]
  },
  {
   "cell_type": "code",
   "execution_count": 79,
   "metadata": {
    "ExecuteTime": {
     "end_time": "2019-07-18T03:58:54.515280Z",
     "start_time": "2019-07-18T03:58:54.456250Z"
    }
   },
   "outputs": [],
   "source": [
    "y_train=Y[:350].values"
   ]
  },
  {
   "cell_type": "code",
   "execution_count": 80,
   "metadata": {
    "ExecuteTime": {
     "end_time": "2019-07-18T03:58:54.582069Z",
     "start_time": "2019-07-18T03:58:54.519439Z"
    }
   },
   "outputs": [],
   "source": [
    "y_train=y_train.ravel()"
   ]
  },
  {
   "cell_type": "code",
   "execution_count": 81,
   "metadata": {
    "ExecuteTime": {
     "end_time": "2019-07-18T03:58:54.650423Z",
     "start_time": "2019-07-18T03:58:54.586753Z"
    }
   },
   "outputs": [],
   "source": [
    "y_test=Y[350:].values"
   ]
  },
  {
   "cell_type": "code",
   "execution_count": 82,
   "metadata": {
    "ExecuteTime": {
     "end_time": "2019-07-18T03:58:54.717429Z",
     "start_time": "2019-07-18T03:58:54.655160Z"
    }
   },
   "outputs": [],
   "source": [
    "y_test=y_test.ravel()"
   ]
  },
  {
   "cell_type": "markdown",
   "metadata": {},
   "source": [
    "## Random Forest Classifier"
   ]
  },
  {
   "cell_type": "code",
   "execution_count": 83,
   "metadata": {
    "ExecuteTime": {
     "end_time": "2019-07-18T03:58:54.818402Z",
     "start_time": "2019-07-18T03:58:54.722579Z"
    }
   },
   "outputs": [],
   "source": [
    "from sklearn.ensemble import RandomForestClassifier\n",
    "from sklearn.metrics import roc_curve, auc\n",
    "classifier = RandomForestClassifier(max_depth = 10, n_estimators =10,class_weight='balanced')\n",
    "# hyper parameters tuned by hit and trial due to small size of dataset\n",
    "classifier.fit(X_train, y_train)\n",
    "y_train_pred = classifier.predict_proba(X_train)\n",
    "y_test_pred = classifier.predict_proba(X)"
   ]
  },
  {
   "cell_type": "markdown",
   "metadata": {},
   "source": [
    "## Model Performance"
   ]
  },
  {
   "cell_type": "markdown",
   "metadata": {},
   "source": [
    "### AUC Score"
   ]
  },
  {
   "cell_type": "code",
   "execution_count": 84,
   "metadata": {
    "ExecuteTime": {
     "end_time": "2019-07-18T03:58:55.016017Z",
     "start_time": "2019-07-18T03:58:54.820635Z"
    }
   },
   "outputs": [
    {
     "data": {
      "image/png": "[encoded data removed]",
      "text/plain": [
       "<Figure size 432x288 with 1 Axes>"
      ]
     },
     "metadata": {
      "needs_background": "light"
     },
     "output_type": "display_data"
    }
   ],
   "source": [
    "train_fpr, train_tpr, tr_thresholds = roc_curve(y_train, y_train_pred[:,1])\n",
    "test_fpr, test_tpr, te_thresholds = roc_curve(Y, y_test_pred[:,1])\n",
    "plt.plot(train_fpr, train_tpr, label=\"train AUC =\"+str(auc(train_fpr, train_tpr)))\n",
    "plt.plot(test_fpr, test_tpr, label=\"test AUC =\"+str(auc(test_fpr, test_tpr)))\n",
    "plt.legend()\n",
    "plt.xlabel(\"False Positive Rate\")\n",
    "plt.ylabel(\"True Positive Rate\")\n",
    "plt.title(\"ERROR PLOTS\")\n",
    "plt.grid(True)\n",
    "plt.show()"
   ]
  },
  {
   "cell_type": "markdown",
   "metadata": {},
   "source": [
    "### Accuracy"
   ]
  },
  {
   "cell_type": "code",
   "execution_count": 85,
   "metadata": {
    "ExecuteTime": {
     "end_time": "2019-07-18T03:58:55.023790Z",
     "start_time": "2019-07-18T03:58:55.017927Z"
    }
   },
   "outputs": [
    {
     "data": {
      "text/plain": [
       "0.9514285714285714"
      ]
     },
     "execution_count": 85,
     "metadata": {},
     "output_type": "execute_result"
    }
   ],
   "source": [
    "classifier.score(X_train,y_train)"
   ]
  },
  {
   "cell_type": "code",
   "execution_count": 86,
   "metadata": {
    "ExecuteTime": {
     "end_time": "2019-07-18T03:58:55.090867Z",
     "start_time": "2019-07-18T03:58:55.025178Z"
    },
    "scrolled": false
   },
   "outputs": [
    {
     "data": {
      "text/plain": [
       "0.8322981366459627"
      ]
     },
     "execution_count": 86,
     "metadata": {},
     "output_type": "execute_result"
    }
   ],
   "source": [
    "classifier.score(X,Y)"
   ]
  },
  {
   "cell_type": "markdown",
   "metadata": {},
   "source": [
    "##### Random Forest Classifier gives somewhat better results on balancing the class."
   ]
  },
  {
   "cell_type": "markdown",
   "metadata": {},
   "source": [
    "## Net Cumulative Returns (in %)"
   ]
  },
  {
   "cell_type": "code",
   "execution_count": 87,
   "metadata": {
    "ExecuteTime": {
     "end_time": "2019-07-18T03:58:55.410683Z",
     "start_time": "2019-07-18T03:58:55.094007Z"
    }
   },
   "outputs": [
    {
     "data": {
      "text/plain": [
       "[<matplotlib.lines.Line2D at 0x7fdc67cc2550>]"
      ]
     },
     "execution_count": 87,
     "metadata": {},
     "output_type": "execute_result"
    },
    {
     "data": {
      "image/png": "[encoded data removed]",
      "text/plain": [
       "<Figure size 1440x720 with 1 Axes>"
      ]
     },
     "metadata": {
      "needs_background": "light"
     },
     "output_type": "display_data"
    }
   ],
   "source": [
    "data['Net Cummulative Returns'] = (((data['Open Price']-data['Close Price'])/(data['Open Price']))*100).cumsum()\n",
    "plt.figure(figsize=(20,10))\n",
    "plt.plot(data['Net Cummulative Returns'])"
   ]
  }
 ],
 "metadata": {
  "kernelspec": {
   "display_name": "Python 3",
   "language": "python",
   "name": "python3"
  },
  "language_info": {
   "codemirror_mode": {
    "name": "ipython",
    "version": 3
   },
   "file_extension": ".py",
   "mimetype": "text/x-python",
   "name": "python",
   "nbconvert_exporter": "python",
   "pygments_lexer": "ipython3",
   "version": "3.7.3"
  },
  "toc": {
   "base_numbering": 1,
   "nav_menu": {},
   "number_sections": true,
   "sideBar": true,
   "skip_h1_title": false,
   "title_cell": "Table of Contents",
   "title_sidebar": "Contents",
   "toc_cell": false,
   "toc_position": {},
   "toc_section_display": true,
   "toc_window_display": false
  },
  "varInspector": {
   "cols": {
    "lenName": 16,
    "lenType": 16,
    "lenVar": 40
   },
   "kernels_config": {
    "python": {
     "delete_cmd_postfix": "",
     "delete_cmd_prefix": "del ",
     "library": "var_list.py",
     "varRefreshCmd": "print(var_dic_list())"
    },
    "r": {
     "delete_cmd_postfix": ") ",
     "delete_cmd_prefix": "rm(",
     "library": "var_list.r",
     "varRefreshCmd": "cat(var_dic_list()) "
    }
   },
   "types_to_exclude": [
    "module",
    "function",
    "builtin_function_or_method",
    "instance",
    "_Feature"
   ],
   "window_display": false
  }
 },
 "nbformat": 4,
 "nbformat_minor": 2
}
