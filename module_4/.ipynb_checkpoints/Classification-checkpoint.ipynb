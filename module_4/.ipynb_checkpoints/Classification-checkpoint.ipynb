{
 "cells": [
  {
   "cell_type": "markdown",
   "metadata": {},
   "source": [
    "# Classification"
   ]
  },
  {
   "cell_type": "code",
   "execution_count": 1,
   "metadata": {
    "ExecuteTime": {
     "end_time": "2019-07-11T11:03:24.712571Z",
     "start_time": "2019-07-11T11:03:24.070293Z"
    }
   },
   "outputs": [],
   "source": [
    "import warnings\n",
    "warnings.filterwarnings(\"ignore\")\n",
    "import numpy as np\n",
    "import pandas as pd\n",
    "import matplotlib.pyplot as plt\n",
    "import seaborn as sns"
   ]
  },
  {
   "cell_type": "markdown",
   "metadata": {},
   "source": [
    "## Read data from CSV file"
   ]
  },
  {
   "cell_type": "code",
   "execution_count": 2,
   "metadata": {
    "ExecuteTime": {
     "end_time": "2019-07-11T11:03:24.753601Z",
     "start_time": "2019-07-11T11:03:24.714523Z"
    }
   },
   "outputs": [],
   "source": [
    "data=pd.read_csv('week2.csv')"
   ]
  },
  {
   "cell_type": "code",
   "execution_count": 3,
   "metadata": {
    "ExecuteTime": {
     "end_time": "2019-07-11T11:03:24.896609Z",
     "start_time": "2019-07-11T11:03:24.755376Z"
    }
   },
   "outputs": [
    {
     "data": {
      "text/html": [
       "<div>\n",
       "<style scoped>\n",
       "    .dataframe tbody tr th:only-of-type {\n",
       "        vertical-align: middle;\n",
       "    }\n",
       "\n",
       "    .dataframe tbody tr th {\n",
       "        vertical-align: top;\n",
       "    }\n",
       "\n",
       "    .dataframe thead th {\n",
       "        text-align: right;\n",
       "    }\n",
       "</style>\n",
       "<table border=\"1\" class=\"dataframe\">\n",
       "  <thead>\n",
       "    <tr style=\"text-align: right;\">\n",
       "      <th></th>\n",
       "      <th>Unnamed: 0</th>\n",
       "      <th>Symbol</th>\n",
       "      <th>Series</th>\n",
       "      <th>Date</th>\n",
       "      <th>Prev Close</th>\n",
       "      <th>Open Price</th>\n",
       "      <th>High Price</th>\n",
       "      <th>Low Price</th>\n",
       "      <th>Last Price</th>\n",
       "      <th>Close Price</th>\n",
       "      <th>Average Price</th>\n",
       "      <th>Total Traded Quantity</th>\n",
       "      <th>Turnover</th>\n",
       "      <th>No. of Trades</th>\n",
       "      <th>Deliverable Qty</th>\n",
       "      <th>% Dly Qt to Traded Qty</th>\n",
       "      <th>month_year</th>\n",
       "      <th>Day_Perc_Change</th>\n",
       "      <th>Trend</th>\n",
       "    </tr>\n",
       "  </thead>\n",
       "  <tbody>\n",
       "    <tr>\n",
       "      <th>0</th>\n",
       "      <td>0</td>\n",
       "      <td>INFRATEL</td>\n",
       "      <td>EQ</td>\n",
       "      <td>2017-05-15</td>\n",
       "      <td>374.70</td>\n",
       "      <td>375.80</td>\n",
       "      <td>375.80</td>\n",
       "      <td>368.65</td>\n",
       "      <td>372.00</td>\n",
       "      <td>371.05</td>\n",
       "      <td>371.08</td>\n",
       "      <td>761032</td>\n",
       "      <td>2.824044e+08</td>\n",
       "      <td>27740</td>\n",
       "      <td>357531</td>\n",
       "      <td>46.98</td>\n",
       "      <td>2017-05</td>\n",
       "      <td>0.000000</td>\n",
       "      <td>Slight or No change</td>\n",
       "    </tr>\n",
       "    <tr>\n",
       "      <th>1</th>\n",
       "      <td>1</td>\n",
       "      <td>INFRATEL</td>\n",
       "      <td>EQ</td>\n",
       "      <td>2017-05-16</td>\n",
       "      <td>371.05</td>\n",
       "      <td>371.15</td>\n",
       "      <td>380.85</td>\n",
       "      <td>370.05</td>\n",
       "      <td>375.75</td>\n",
       "      <td>376.55</td>\n",
       "      <td>377.05</td>\n",
       "      <td>1346372</td>\n",
       "      <td>5.076459e+08</td>\n",
       "      <td>42924</td>\n",
       "      <td>677288</td>\n",
       "      <td>50.30</td>\n",
       "      <td>2017-05</td>\n",
       "      <td>1.482280</td>\n",
       "      <td>Positive</td>\n",
       "    </tr>\n",
       "    <tr>\n",
       "      <th>2</th>\n",
       "      <td>2</td>\n",
       "      <td>INFRATEL</td>\n",
       "      <td>EQ</td>\n",
       "      <td>2017-05-17</td>\n",
       "      <td>376.55</td>\n",
       "      <td>377.60</td>\n",
       "      <td>396.50</td>\n",
       "      <td>375.10</td>\n",
       "      <td>388.95</td>\n",
       "      <td>389.90</td>\n",
       "      <td>383.22</td>\n",
       "      <td>2268036</td>\n",
       "      <td>8.691629e+08</td>\n",
       "      <td>83975</td>\n",
       "      <td>1371275</td>\n",
       "      <td>60.46</td>\n",
       "      <td>2017-05</td>\n",
       "      <td>3.545346</td>\n",
       "      <td>Among top gainers</td>\n",
       "    </tr>\n",
       "    <tr>\n",
       "      <th>3</th>\n",
       "      <td>3</td>\n",
       "      <td>INFRATEL</td>\n",
       "      <td>EQ</td>\n",
       "      <td>2017-05-18</td>\n",
       "      <td>389.90</td>\n",
       "      <td>388.40</td>\n",
       "      <td>388.85</td>\n",
       "      <td>377.00</td>\n",
       "      <td>378.55</td>\n",
       "      <td>378.90</td>\n",
       "      <td>382.60</td>\n",
       "      <td>2014628</td>\n",
       "      <td>7.707910e+08</td>\n",
       "      <td>50270</td>\n",
       "      <td>1025637</td>\n",
       "      <td>50.91</td>\n",
       "      <td>2017-05</td>\n",
       "      <td>-2.821236</td>\n",
       "      <td>Negative</td>\n",
       "    </tr>\n",
       "    <tr>\n",
       "      <th>4</th>\n",
       "      <td>4</td>\n",
       "      <td>INFRATEL</td>\n",
       "      <td>EQ</td>\n",
       "      <td>2017-05-19</td>\n",
       "      <td>378.90</td>\n",
       "      <td>381.10</td>\n",
       "      <td>387.50</td>\n",
       "      <td>374.85</td>\n",
       "      <td>379.40</td>\n",
       "      <td>378.95</td>\n",
       "      <td>379.43</td>\n",
       "      <td>2031322</td>\n",
       "      <td>7.707525e+08</td>\n",
       "      <td>63099</td>\n",
       "      <td>1020560</td>\n",
       "      <td>50.24</td>\n",
       "      <td>2017-05</td>\n",
       "      <td>0.013196</td>\n",
       "      <td>Slight or No change</td>\n",
       "    </tr>\n",
       "  </tbody>\n",
       "</table>\n",
       "</div>"
      ],
      "text/plain": [
       "   Unnamed: 0    Symbol Series        Date  Prev Close  Open Price  \\\n",
       "0           0  INFRATEL     EQ  2017-05-15      374.70      375.80   \n",
       "1           1  INFRATEL     EQ  2017-05-16      371.05      371.15   \n",
       "2           2  INFRATEL     EQ  2017-05-17      376.55      377.60   \n",
       "3           3  INFRATEL     EQ  2017-05-18      389.90      388.40   \n",
       "4           4  INFRATEL     EQ  2017-05-19      378.90      381.10   \n",
       "\n",
       "   High Price  Low Price  Last Price  Close Price  Average Price  \\\n",
       "0      375.80     368.65      372.00       371.05         371.08   \n",
       "1      380.85     370.05      375.75       376.55         377.05   \n",
       "2      396.50     375.10      388.95       389.90         383.22   \n",
       "3      388.85     377.00      378.55       378.90         382.60   \n",
       "4      387.50     374.85      379.40       378.95         379.43   \n",
       "\n",
       "   Total Traded Quantity      Turnover  No. of Trades  Deliverable Qty  \\\n",
       "0                 761032  2.824044e+08          27740           357531   \n",
       "1                1346372  5.076459e+08          42924           677288   \n",
       "2                2268036  8.691629e+08          83975          1371275   \n",
       "3                2014628  7.707910e+08          50270          1025637   \n",
       "4                2031322  7.707525e+08          63099          1020560   \n",
       "\n",
       "   % Dly Qt to Traded Qty month_year  Day_Perc_Change                Trend  \n",
       "0                   46.98    2017-05         0.000000  Slight or No change  \n",
       "1                   50.30    2017-05         1.482280             Positive  \n",
       "2                   60.46    2017-05         3.545346    Among top gainers  \n",
       "3                   50.91    2017-05        -2.821236             Negative  \n",
       "4                   50.24    2017-05         0.013196  Slight or No change  "
      ]
     },
     "execution_count": 3,
     "metadata": {},
     "output_type": "execute_result"
    }
   ],
   "source": [
    "data.head()"
   ]
  },
  {
   "cell_type": "code",
   "execution_count": 4,
   "metadata": {
    "ExecuteTime": {
     "end_time": "2019-07-11T11:03:24.953783Z",
     "start_time": "2019-07-11T11:03:24.901777Z"
    }
   },
   "outputs": [],
   "source": [
    "data=data.drop('Unnamed: 0',axis=1)"
   ]
  },
  {
   "cell_type": "code",
   "execution_count": 5,
   "metadata": {
    "ExecuteTime": {
     "end_time": "2019-07-11T11:03:25.674789Z",
     "start_time": "2019-07-11T11:03:24.956237Z"
    }
   },
   "outputs": [],
   "source": [
    "data['Date'] =  pd.to_datetime(data['Date'])"
   ]
  },
  {
   "cell_type": "code",
   "execution_count": 6,
   "metadata": {
    "ExecuteTime": {
     "end_time": "2019-07-11T11:03:25.749718Z",
     "start_time": "2019-07-11T11:03:25.680539Z"
    }
   },
   "outputs": [],
   "source": [
    "data.set_index('Date',inplace=True)"
   ]
  },
  {
   "cell_type": "code",
   "execution_count": 7,
   "metadata": {
    "ExecuteTime": {
     "end_time": "2019-07-11T11:03:25.817401Z",
     "start_time": "2019-07-11T11:03:25.753141Z"
    }
   },
   "outputs": [],
   "source": [
    "start_date = data.index[0]\n",
    "end_date = data.index[-1]"
   ]
  },
  {
   "cell_type": "markdown",
   "metadata": {},
   "source": [
    "## Creating Bollinger Bands"
   ]
  },
  {
   "cell_type": "code",
   "execution_count": 8,
   "metadata": {
    "ExecuteTime": {
     "end_time": "2019-07-11T11:03:25.882967Z",
     "start_time": "2019-07-11T11:03:25.825741Z"
    }
   },
   "outputs": [],
   "source": [
    "rolling_mean = data['Close Price'].rolling(window=14).mean()"
   ]
  },
  {
   "cell_type": "code",
   "execution_count": 9,
   "metadata": {
    "ExecuteTime": {
     "end_time": "2019-07-11T11:03:26.004690Z",
     "start_time": "2019-07-11T11:03:25.885766Z"
    }
   },
   "outputs": [],
   "source": [
    "lower=rolling_mean-2*rolling_mean.loc[start_date:end_date].std()\n",
    "upper=rolling_mean+2*rolling_mean.loc[start_date:end_date].std()"
   ]
  },
  {
   "cell_type": "code",
   "execution_count": 10,
   "metadata": {
    "ExecuteTime": {
     "end_time": "2019-07-11T11:03:26.063927Z",
     "start_time": "2019-07-11T11:03:26.010709Z"
    }
   },
   "outputs": [],
   "source": [
    "data['avg']=rolling_mean"
   ]
  },
  {
   "cell_type": "code",
   "execution_count": 11,
   "metadata": {
    "ExecuteTime": {
     "end_time": "2019-07-11T11:03:26.231566Z",
     "start_time": "2019-07-11T11:03:26.066620Z"
    }
   },
   "outputs": [],
   "source": [
    "data['upper']=upper"
   ]
  },
  {
   "cell_type": "code",
   "execution_count": 12,
   "metadata": {
    "ExecuteTime": {
     "end_time": "2019-07-11T11:03:26.355329Z",
     "start_time": "2019-07-11T11:03:26.236942Z"
    }
   },
   "outputs": [],
   "source": [
    "data['lower']=lower"
   ]
  },
  {
   "cell_type": "code",
   "execution_count": 13,
   "metadata": {
    "ExecuteTime": {
     "end_time": "2019-07-11T11:03:26.487633Z",
     "start_time": "2019-07-11T11:03:26.360626Z"
    }
   },
   "outputs": [],
   "source": [
    "data=data.dropna()"
   ]
  },
  {
   "cell_type": "code",
   "execution_count": 14,
   "metadata": {
    "ExecuteTime": {
     "end_time": "2019-07-11T11:03:26.597712Z",
     "start_time": "2019-07-11T11:03:26.492851Z"
    }
   },
   "outputs": [
    {
     "data": {
      "text/html": [
       "<div>\n",
       "<style scoped>\n",
       "    .dataframe tbody tr th:only-of-type {\n",
       "        vertical-align: middle;\n",
       "    }\n",
       "\n",
       "    .dataframe tbody tr th {\n",
       "        vertical-align: top;\n",
       "    }\n",
       "\n",
       "    .dataframe thead th {\n",
       "        text-align: right;\n",
       "    }\n",
       "</style>\n",
       "<table border=\"1\" class=\"dataframe\">\n",
       "  <thead>\n",
       "    <tr style=\"text-align: right;\">\n",
       "      <th></th>\n",
       "      <th>Symbol</th>\n",
       "      <th>Series</th>\n",
       "      <th>Prev Close</th>\n",
       "      <th>Open Price</th>\n",
       "      <th>High Price</th>\n",
       "      <th>Low Price</th>\n",
       "      <th>Last Price</th>\n",
       "      <th>Close Price</th>\n",
       "      <th>Average Price</th>\n",
       "      <th>Total Traded Quantity</th>\n",
       "      <th>Turnover</th>\n",
       "      <th>No. of Trades</th>\n",
       "      <th>Deliverable Qty</th>\n",
       "      <th>% Dly Qt to Traded Qty</th>\n",
       "      <th>month_year</th>\n",
       "      <th>Day_Perc_Change</th>\n",
       "      <th>Trend</th>\n",
       "      <th>avg</th>\n",
       "      <th>upper</th>\n",
       "      <th>lower</th>\n",
       "    </tr>\n",
       "    <tr>\n",
       "      <th>Date</th>\n",
       "      <th></th>\n",
       "      <th></th>\n",
       "      <th></th>\n",
       "      <th></th>\n",
       "      <th></th>\n",
       "      <th></th>\n",
       "      <th></th>\n",
       "      <th></th>\n",
       "      <th></th>\n",
       "      <th></th>\n",
       "      <th></th>\n",
       "      <th></th>\n",
       "      <th></th>\n",
       "      <th></th>\n",
       "      <th></th>\n",
       "      <th></th>\n",
       "      <th></th>\n",
       "      <th></th>\n",
       "      <th></th>\n",
       "      <th></th>\n",
       "    </tr>\n",
       "  </thead>\n",
       "  <tbody>\n",
       "    <tr>\n",
       "      <th>2017-06-01</th>\n",
       "      <td>INFRATEL</td>\n",
       "      <td>EQ</td>\n",
       "      <td>366.60</td>\n",
       "      <td>370.10</td>\n",
       "      <td>379.45</td>\n",
       "      <td>369.8</td>\n",
       "      <td>377.00</td>\n",
       "      <td>376.25</td>\n",
       "      <td>375.07</td>\n",
       "      <td>2505966</td>\n",
       "      <td>9.399122e+08</td>\n",
       "      <td>50681</td>\n",
       "      <td>1369539</td>\n",
       "      <td>54.65</td>\n",
       "      <td>2017-06</td>\n",
       "      <td>2.632297</td>\n",
       "      <td>Positive</td>\n",
       "      <td>376.432143</td>\n",
       "      <td>478.483536</td>\n",
       "      <td>274.380750</td>\n",
       "    </tr>\n",
       "    <tr>\n",
       "      <th>2017-06-02</th>\n",
       "      <td>INFRATEL</td>\n",
       "      <td>EQ</td>\n",
       "      <td>376.25</td>\n",
       "      <td>376.45</td>\n",
       "      <td>382.90</td>\n",
       "      <td>371.0</td>\n",
       "      <td>373.30</td>\n",
       "      <td>374.65</td>\n",
       "      <td>376.87</td>\n",
       "      <td>1334349</td>\n",
       "      <td>5.028735e+08</td>\n",
       "      <td>37710</td>\n",
       "      <td>496717</td>\n",
       "      <td>37.23</td>\n",
       "      <td>2017-06</td>\n",
       "      <td>-0.425249</td>\n",
       "      <td>Slight or No change</td>\n",
       "      <td>376.689286</td>\n",
       "      <td>478.740678</td>\n",
       "      <td>274.637893</td>\n",
       "    </tr>\n",
       "    <tr>\n",
       "      <th>2017-06-05</th>\n",
       "      <td>INFRATEL</td>\n",
       "      <td>EQ</td>\n",
       "      <td>374.65</td>\n",
       "      <td>381.30</td>\n",
       "      <td>384.90</td>\n",
       "      <td>375.6</td>\n",
       "      <td>380.55</td>\n",
       "      <td>382.45</td>\n",
       "      <td>381.61</td>\n",
       "      <td>3563721</td>\n",
       "      <td>1.359942e+09</td>\n",
       "      <td>74109</td>\n",
       "      <td>1871029</td>\n",
       "      <td>52.50</td>\n",
       "      <td>2017-06</td>\n",
       "      <td>2.081943</td>\n",
       "      <td>Positive</td>\n",
       "      <td>377.110714</td>\n",
       "      <td>479.162107</td>\n",
       "      <td>275.059322</td>\n",
       "    </tr>\n",
       "    <tr>\n",
       "      <th>2017-06-06</th>\n",
       "      <td>INFRATEL</td>\n",
       "      <td>EQ</td>\n",
       "      <td>382.45</td>\n",
       "      <td>383.00</td>\n",
       "      <td>388.90</td>\n",
       "      <td>379.8</td>\n",
       "      <td>384.70</td>\n",
       "      <td>383.15</td>\n",
       "      <td>384.02</td>\n",
       "      <td>2537956</td>\n",
       "      <td>9.746330e+08</td>\n",
       "      <td>53194</td>\n",
       "      <td>1811141</td>\n",
       "      <td>71.36</td>\n",
       "      <td>2017-06</td>\n",
       "      <td>0.183030</td>\n",
       "      <td>Slight or No change</td>\n",
       "      <td>376.628571</td>\n",
       "      <td>478.679964</td>\n",
       "      <td>274.577179</td>\n",
       "    </tr>\n",
       "    <tr>\n",
       "      <th>2017-06-07</th>\n",
       "      <td>INFRATEL</td>\n",
       "      <td>EQ</td>\n",
       "      <td>383.15</td>\n",
       "      <td>385.75</td>\n",
       "      <td>388.60</td>\n",
       "      <td>379.7</td>\n",
       "      <td>380.40</td>\n",
       "      <td>383.20</td>\n",
       "      <td>383.79</td>\n",
       "      <td>1610112</td>\n",
       "      <td>6.179385e+08</td>\n",
       "      <td>45025</td>\n",
       "      <td>812548</td>\n",
       "      <td>50.47</td>\n",
       "      <td>2017-06</td>\n",
       "      <td>0.013050</td>\n",
       "      <td>Slight or No change</td>\n",
       "      <td>376.935714</td>\n",
       "      <td>478.987107</td>\n",
       "      <td>274.884322</td>\n",
       "    </tr>\n",
       "  </tbody>\n",
       "</table>\n",
       "</div>"
      ],
      "text/plain": [
       "              Symbol Series  Prev Close  Open Price  High Price  Low Price  \\\n",
       "Date                                                                         \n",
       "2017-06-01  INFRATEL     EQ      366.60      370.10      379.45      369.8   \n",
       "2017-06-02  INFRATEL     EQ      376.25      376.45      382.90      371.0   \n",
       "2017-06-05  INFRATEL     EQ      374.65      381.30      384.90      375.6   \n",
       "2017-06-06  INFRATEL     EQ      382.45      383.00      388.90      379.8   \n",
       "2017-06-07  INFRATEL     EQ      383.15      385.75      388.60      379.7   \n",
       "\n",
       "            Last Price  Close Price  Average Price  Total Traded Quantity  \\\n",
       "Date                                                                        \n",
       "2017-06-01      377.00       376.25         375.07                2505966   \n",
       "2017-06-02      373.30       374.65         376.87                1334349   \n",
       "2017-06-05      380.55       382.45         381.61                3563721   \n",
       "2017-06-06      384.70       383.15         384.02                2537956   \n",
       "2017-06-07      380.40       383.20         383.79                1610112   \n",
       "\n",
       "                Turnover  No. of Trades  Deliverable Qty  \\\n",
       "Date                                                       \n",
       "2017-06-01  9.399122e+08          50681          1369539   \n",
       "2017-06-02  5.028735e+08          37710           496717   \n",
       "2017-06-05  1.359942e+09          74109          1871029   \n",
       "2017-06-06  9.746330e+08          53194          1811141   \n",
       "2017-06-07  6.179385e+08          45025           812548   \n",
       "\n",
       "            % Dly Qt to Traded Qty month_year  Day_Perc_Change  \\\n",
       "Date                                                             \n",
       "2017-06-01                   54.65    2017-06         2.632297   \n",
       "2017-06-02                   37.23    2017-06        -0.425249   \n",
       "2017-06-05                   52.50    2017-06         2.081943   \n",
       "2017-06-06                   71.36    2017-06         0.183030   \n",
       "2017-06-07                   50.47    2017-06         0.013050   \n",
       "\n",
       "                          Trend         avg       upper       lower  \n",
       "Date                                                                 \n",
       "2017-06-01             Positive  376.432143  478.483536  274.380750  \n",
       "2017-06-02  Slight or No change  376.689286  478.740678  274.637893  \n",
       "2017-06-05             Positive  377.110714  479.162107  275.059322  \n",
       "2017-06-06  Slight or No change  376.628571  478.679964  274.577179  \n",
       "2017-06-07  Slight or No change  376.935714  478.987107  274.884322  "
      ]
     },
     "execution_count": 14,
     "metadata": {},
     "output_type": "execute_result"
    }
   ],
   "source": [
    "data.head()"
   ]
  },
  {
   "cell_type": "markdown",
   "metadata": {},
   "source": [
    "## Making Calls from the Bollinger Bands"
   ]
  },
  {
   "cell_type": "code",
   "execution_count": 15,
   "metadata": {
    "ExecuteTime": {
     "end_time": "2019-07-11T11:03:26.706034Z",
     "start_time": "2019-07-11T11:03:26.599922Z"
    }
   },
   "outputs": [],
   "source": [
    "def call(close,lower,avg,upper):\n",
    "    if close<=lower:\n",
    "        return 'Buy'\n",
    "    if close>lower and close<=avg:\n",
    "        return 'Hold Buy/Liquidate Short'\n",
    "    elif close>avg and close<=upper:\n",
    "        return 'Hold Short/Liquidate Buy'\n",
    "    elif close>upper:\n",
    "        return 'Short'"
   ]
  },
  {
   "cell_type": "code",
   "execution_count": 16,
   "metadata": {
    "ExecuteTime": {
     "end_time": "2019-07-11T11:03:26.855868Z",
     "start_time": "2019-07-11T11:03:26.712199Z"
    }
   },
   "outputs": [],
   "source": [
    "data['Call'] = data.apply(lambda row : call(row['Close Price'],row['lower'], row['avg'],row['upper']), axis = 1) "
   ]
  },
  {
   "cell_type": "code",
   "execution_count": 17,
   "metadata": {
    "ExecuteTime": {
     "end_time": "2019-07-11T11:03:26.864567Z",
     "start_time": "2019-07-11T11:03:26.857269Z"
    }
   },
   "outputs": [
    {
     "data": {
      "text/plain": [
       "Hold Buy/Liquidate Short    294\n",
       "Hold Short/Liquidate Buy    187\n",
       "Name: Call, dtype: int64"
      ]
     },
     "execution_count": 17,
     "metadata": {},
     "output_type": "execute_result"
    }
   ],
   "source": [
    "data['Call'].value_counts()"
   ]
  },
  {
   "cell_type": "markdown",
   "metadata": {},
   "source": [
    "##### So this dataset contains only two classes 'Hold Buy/Liquidate Short' and 'Hold Short/Liquidate Buy'. The other two classes are not found as they are extremums and rarely found in common stocks' datasets. If they are found in any of the future datsets, we will train the model according to that dataset."
   ]
  },
  {
   "cell_type": "markdown",
   "metadata": {
    "ExecuteTime": {
     "end_time": "2019-07-10T17:34:33.253473Z",
     "start_time": "2019-07-10T17:34:33.249109Z"
    }
   },
   "source": [
    "## Train-Test Split "
   ]
  },
  {
   "cell_type": "code",
   "execution_count": 18,
   "metadata": {
    "ExecuteTime": {
     "end_time": "2019-07-11T11:03:26.947427Z",
     "start_time": "2019-07-11T11:03:26.865813Z"
    }
   },
   "outputs": [],
   "source": [
    "X=data[['lower','avg','upper','Close Price']]"
   ]
  },
  {
   "cell_type": "code",
   "execution_count": 19,
   "metadata": {
    "ExecuteTime": {
     "end_time": "2019-07-11T11:03:27.155487Z",
     "start_time": "2019-07-11T11:03:26.951993Z"
    }
   },
   "outputs": [
    {
     "data": {
      "text/html": [
       "<div>\n",
       "<style scoped>\n",
       "    .dataframe tbody tr th:only-of-type {\n",
       "        vertical-align: middle;\n",
       "    }\n",
       "\n",
       "    .dataframe tbody tr th {\n",
       "        vertical-align: top;\n",
       "    }\n",
       "\n",
       "    .dataframe thead th {\n",
       "        text-align: right;\n",
       "    }\n",
       "</style>\n",
       "<table border=\"1\" class=\"dataframe\">\n",
       "  <thead>\n",
       "    <tr style=\"text-align: right;\">\n",
       "      <th></th>\n",
       "      <th>lower</th>\n",
       "      <th>avg</th>\n",
       "      <th>upper</th>\n",
       "      <th>Close Price</th>\n",
       "    </tr>\n",
       "    <tr>\n",
       "      <th>Date</th>\n",
       "      <th></th>\n",
       "      <th></th>\n",
       "      <th></th>\n",
       "      <th></th>\n",
       "    </tr>\n",
       "  </thead>\n",
       "  <tbody>\n",
       "    <tr>\n",
       "      <th>2017-06-01</th>\n",
       "      <td>274.380750</td>\n",
       "      <td>376.432143</td>\n",
       "      <td>478.483536</td>\n",
       "      <td>376.25</td>\n",
       "    </tr>\n",
       "    <tr>\n",
       "      <th>2017-06-02</th>\n",
       "      <td>274.637893</td>\n",
       "      <td>376.689286</td>\n",
       "      <td>478.740678</td>\n",
       "      <td>374.65</td>\n",
       "    </tr>\n",
       "    <tr>\n",
       "      <th>2017-06-05</th>\n",
       "      <td>275.059322</td>\n",
       "      <td>377.110714</td>\n",
       "      <td>479.162107</td>\n",
       "      <td>382.45</td>\n",
       "    </tr>\n",
       "    <tr>\n",
       "      <th>2017-06-06</th>\n",
       "      <td>274.577179</td>\n",
       "      <td>376.628571</td>\n",
       "      <td>478.679964</td>\n",
       "      <td>383.15</td>\n",
       "    </tr>\n",
       "    <tr>\n",
       "      <th>2017-06-07</th>\n",
       "      <td>274.884322</td>\n",
       "      <td>376.935714</td>\n",
       "      <td>478.987107</td>\n",
       "      <td>383.20</td>\n",
       "    </tr>\n",
       "  </tbody>\n",
       "</table>\n",
       "</div>"
      ],
      "text/plain": [
       "                 lower         avg       upper  Close Price\n",
       "Date                                                       \n",
       "2017-06-01  274.380750  376.432143  478.483536       376.25\n",
       "2017-06-02  274.637893  376.689286  478.740678       374.65\n",
       "2017-06-05  275.059322  377.110714  479.162107       382.45\n",
       "2017-06-06  274.577179  376.628571  478.679964       383.15\n",
       "2017-06-07  274.884322  376.935714  478.987107       383.20"
      ]
     },
     "execution_count": 19,
     "metadata": {},
     "output_type": "execute_result"
    }
   ],
   "source": [
    "X.head()"
   ]
  },
  {
   "cell_type": "code",
   "execution_count": 20,
   "metadata": {
    "ExecuteTime": {
     "end_time": "2019-07-11T11:03:27.310820Z",
     "start_time": "2019-07-11T11:03:27.159093Z"
    }
   },
   "outputs": [],
   "source": [
    "data.loc[data['Call'] =='Hold Buy/Liquidate Short', 'Call'] = 0\n",
    "data.loc[data['Call'] =='Hold Short/Liquidate Buy', 'Call'] = 1"
   ]
  },
  {
   "cell_type": "code",
   "execution_count": 21,
   "metadata": {
    "ExecuteTime": {
     "end_time": "2019-07-11T11:03:27.441630Z",
     "start_time": "2019-07-11T11:03:27.314393Z"
    }
   },
   "outputs": [],
   "source": [
    "Y=data[['Call']]"
   ]
  },
  {
   "cell_type": "code",
   "execution_count": 22,
   "metadata": {
    "ExecuteTime": {
     "end_time": "2019-07-11T11:03:27.904443Z",
     "start_time": "2019-07-11T11:03:27.446535Z"
    }
   },
   "outputs": [
    {
     "data": {
      "text/html": [
       "<div>\n",
       "<style scoped>\n",
       "    .dataframe tbody tr th:only-of-type {\n",
       "        vertical-align: middle;\n",
       "    }\n",
       "\n",
       "    .dataframe tbody tr th {\n",
       "        vertical-align: top;\n",
       "    }\n",
       "\n",
       "    .dataframe thead th {\n",
       "        text-align: right;\n",
       "    }\n",
       "</style>\n",
       "<table border=\"1\" class=\"dataframe\">\n",
       "  <thead>\n",
       "    <tr style=\"text-align: right;\">\n",
       "      <th></th>\n",
       "      <th>Call</th>\n",
       "    </tr>\n",
       "    <tr>\n",
       "      <th>Date</th>\n",
       "      <th></th>\n",
       "    </tr>\n",
       "  </thead>\n",
       "  <tbody>\n",
       "    <tr>\n",
       "      <th>2017-06-01</th>\n",
       "      <td>0</td>\n",
       "    </tr>\n",
       "    <tr>\n",
       "      <th>2017-06-02</th>\n",
       "      <td>0</td>\n",
       "    </tr>\n",
       "    <tr>\n",
       "      <th>2017-06-05</th>\n",
       "      <td>1</td>\n",
       "    </tr>\n",
       "    <tr>\n",
       "      <th>2017-06-06</th>\n",
       "      <td>1</td>\n",
       "    </tr>\n",
       "    <tr>\n",
       "      <th>2017-06-07</th>\n",
       "      <td>1</td>\n",
       "    </tr>\n",
       "  </tbody>\n",
       "</table>\n",
       "</div>"
      ],
      "text/plain": [
       "            Call\n",
       "Date            \n",
       "2017-06-01     0\n",
       "2017-06-02     0\n",
       "2017-06-05     1\n",
       "2017-06-06     1\n",
       "2017-06-07     1"
      ]
     },
     "execution_count": 22,
     "metadata": {},
     "output_type": "execute_result"
    }
   ],
   "source": [
    "Y.head()"
   ]
  },
  {
   "cell_type": "code",
   "execution_count": 23,
   "metadata": {
    "ExecuteTime": {
     "end_time": "2019-07-11T11:03:27.978368Z",
     "start_time": "2019-07-11T11:03:27.916660Z"
    }
   },
   "outputs": [],
   "source": [
    "X_train=X[:400]"
   ]
  },
  {
   "cell_type": "code",
   "execution_count": 24,
   "metadata": {
    "ExecuteTime": {
     "end_time": "2019-07-11T11:03:28.113561Z",
     "start_time": "2019-07-11T11:03:27.980957Z"
    }
   },
   "outputs": [],
   "source": [
    "X_test=X[400:]"
   ]
  },
  {
   "cell_type": "code",
   "execution_count": 25,
   "metadata": {
    "ExecuteTime": {
     "end_time": "2019-07-11T11:03:28.326884Z",
     "start_time": "2019-07-11T11:03:28.118831Z"
    }
   },
   "outputs": [],
   "source": [
    "y_train=Y[:400].values"
   ]
  },
  {
   "cell_type": "code",
   "execution_count": 26,
   "metadata": {
    "ExecuteTime": {
     "end_time": "2019-07-11T11:03:28.484548Z",
     "start_time": "2019-07-11T11:03:28.332342Z"
    }
   },
   "outputs": [],
   "source": [
    "y_train=y_train.ravel()"
   ]
  },
  {
   "cell_type": "code",
   "execution_count": 27,
   "metadata": {
    "ExecuteTime": {
     "end_time": "2019-07-11T11:03:28.634788Z",
     "start_time": "2019-07-11T11:03:28.489712Z"
    }
   },
   "outputs": [],
   "source": [
    "y_test=Y[400:].values"
   ]
  },
  {
   "cell_type": "code",
   "execution_count": 28,
   "metadata": {
    "ExecuteTime": {
     "end_time": "2019-07-11T11:03:28.792434Z",
     "start_time": "2019-07-11T11:03:28.640715Z"
    }
   },
   "outputs": [],
   "source": [
    "y_test=y_test.ravel()"
   ]
  },
  {
   "cell_type": "markdown",
   "metadata": {},
   "source": [
    "## Classification using various models"
   ]
  },
  {
   "cell_type": "markdown",
   "metadata": {},
   "source": [
    "### KNN"
   ]
  },
  {
   "cell_type": "code",
   "execution_count": 29,
   "metadata": {
    "ExecuteTime": {
     "end_time": "2019-07-11T11:03:29.180808Z",
     "start_time": "2019-07-11T11:03:28.798732Z"
    }
   },
   "outputs": [],
   "source": [
    "from sklearn.neighbors import KNeighborsClassifier"
   ]
  },
  {
   "cell_type": "code",
   "execution_count": 30,
   "metadata": {
    "ExecuteTime": {
     "end_time": "2019-07-11T11:03:29.384271Z",
     "start_time": "2019-07-11T11:03:29.183290Z"
    }
   },
   "outputs": [
    {
     "name": "stderr",
     "output_type": "stream",
     "text": [
      "/home/samthekiller/anaconda3/lib/python3.7/site-packages/sklearn/model_selection/_search.py:841: DeprecationWarning: The default of the `iid` parameter will change from True to False in version 0.22 and will be removed in 0.24. This will change numeric results when test-set sizes are unequal.\n",
      "  DeprecationWarning)\n"
     ]
    }
   ],
   "source": [
    "from sklearn.model_selection import GridSearchCV\n",
    "tree = KNeighborsClassifier()\n",
    "parameters = {'n_neighbors': [1,3,5,7,9,11,13,15,17,19,21]}\n",
    "classifier = GridSearchCV(tree, parameters, cv=3, scoring='roc_auc')\n",
    "select = classifier.fit(X_train, y_train)"
   ]
  },
  {
   "cell_type": "code",
   "execution_count": 31,
   "metadata": {
    "ExecuteTime": {
     "end_time": "2019-07-11T11:03:29.602723Z",
     "start_time": "2019-07-11T11:03:29.385943Z"
    }
   },
   "outputs": [
    {
     "data": {
      "image/png": "[encoded data removed]",
      "text/plain": [
       "<Figure size 432x288 with 1 Axes>"
      ]
     },
     "metadata": {},
     "output_type": "display_data"
    }
   ],
   "source": [
    "import seaborn as sns; sns.set()\n",
    "max_scores1 = pd.DataFrame(classifier.cv_results_).groupby(['param_n_neighbors']).max().unstack()[['mean_test_score', 'mean_train_score']]\n",
    "plt.plot(max_scores1.mean_train_score,label='Train AUC')\n",
    "plt.plot(max_scores1.mean_test_score,label='CV AUC')\n",
    "plt.legend()\n",
    "plt.xlabel(\"K: hyperparameter\")\n",
    "plt.ylabel(\"AUC\")\n",
    "plt.title(\"ERROR PLOTS\")\n",
    "plt.grid()\n",
    "plt.show()"
   ]
  },
  {
   "cell_type": "markdown",
   "metadata": {},
   "source": [
    "###### best k is 11 because till k=11, the auc score of cv increases rapidly and after that slowly while auc score of train decreases slowly till 15 and then decreases rapidly. So best k=11."
   ]
  },
  {
   "cell_type": "code",
   "execution_count": 32,
   "metadata": {
    "ExecuteTime": {
     "end_time": "2019-07-11T11:03:29.611359Z",
     "start_time": "2019-07-11T11:03:29.604509Z"
    }
   },
   "outputs": [],
   "source": [
    "best_k=11"
   ]
  },
  {
   "cell_type": "code",
   "execution_count": 33,
   "metadata": {
    "ExecuteTime": {
     "end_time": "2019-07-11T11:03:29.782470Z",
     "start_time": "2019-07-11T11:03:29.612664Z"
    }
   },
   "outputs": [
    {
     "data": {
      "text/plain": [
       "KNeighborsClassifier(algorithm='auto', leaf_size=30, metric='minkowski',\n",
       "           metric_params=None, n_jobs=None, n_neighbors=11, p=2,\n",
       "           weights='uniform')"
      ]
     },
     "execution_count": 33,
     "metadata": {},
     "output_type": "execute_result"
    }
   ],
   "source": [
    "neigh = KNeighborsClassifier(n_neighbors=best_k)\n",
    "neigh.fit(X_train, y_train) "
   ]
  },
  {
   "cell_type": "code",
   "execution_count": 34,
   "metadata": {
    "ExecuteTime": {
     "end_time": "2019-07-11T11:03:29.940159Z",
     "start_time": "2019-07-11T11:03:29.788903Z"
    }
   },
   "outputs": [],
   "source": [
    "y_train_pred=neigh.predict_proba(X_train)"
   ]
  },
  {
   "cell_type": "code",
   "execution_count": 35,
   "metadata": {
    "ExecuteTime": {
     "end_time": "2019-07-11T11:03:30.029698Z",
     "start_time": "2019-07-11T11:03:29.945033Z"
    }
   },
   "outputs": [],
   "source": [
    "y_test_pred=neigh.predict_proba(X_test)"
   ]
  },
  {
   "cell_type": "code",
   "execution_count": 36,
   "metadata": {
    "ExecuteTime": {
     "end_time": "2019-07-11T11:03:30.341801Z",
     "start_time": "2019-07-11T11:03:30.034192Z"
    },
    "scrolled": true
   },
   "outputs": [
    {
     "data": {
      "image/png": "[encoded data removed]",
      "text/plain": [
       "<Figure size 432x288 with 1 Axes>"
      ]
     },
     "metadata": {},
     "output_type": "display_data"
    }
   ],
   "source": [
    "from sklearn.metrics import roc_curve, auc\n",
    "train_fpr, train_tpr, tr_thresholds = roc_curve(y_train, y_train_pred[:,1])\n",
    "test_fpr, test_tpr, te_thresholds = roc_curve(y_test, y_test_pred[:,1])\n",
    "plt.plot(train_fpr, train_tpr, label=\"train AUC =\"+str(auc(train_fpr, train_tpr)))\n",
    "plt.plot(test_fpr, test_tpr, label=\"test AUC =\"+str(auc(test_fpr, test_tpr)))\n",
    "plt.legend()\n",
    "plt.xlabel(\"False Positive Rate\")\n",
    "plt.ylabel(\"True Positive Rate\")\n",
    "plt.title(\"ERROR PLOTS\")\n",
    "plt.grid(True)\n",
    "plt.show()"
   ]
  },
  {
   "cell_type": "markdown",
   "metadata": {},
   "source": [
    "### Logistic Regression"
   ]
  },
  {
   "cell_type": "code",
   "execution_count": 37,
   "metadata": {
    "ExecuteTime": {
     "end_time": "2019-07-11T11:03:30.361100Z",
     "start_time": "2019-07-11T11:03:30.343902Z"
    }
   },
   "outputs": [],
   "source": [
    "from sklearn.linear_model import LogisticRegression"
   ]
  },
  {
   "cell_type": "code",
   "execution_count": 38,
   "metadata": {
    "ExecuteTime": {
     "end_time": "2019-07-11T11:03:32.197529Z",
     "start_time": "2019-07-11T11:03:30.362633Z"
    }
   },
   "outputs": [
    {
     "data": {
      "text/plain": [
       "LogisticRegression(C=1, class_weight=None, dual=False, fit_intercept=True,\n",
       "          intercept_scaling=1, max_iter=10000, multi_class='warn',\n",
       "          n_jobs=None, penalty='l1', random_state=None, solver='warn',\n",
       "          tol=0.0001, verbose=0, warm_start=False)"
      ]
     },
     "execution_count": 38,
     "metadata": {},
     "output_type": "execute_result"
    }
   ],
   "source": [
    "lr = LogisticRegression(penalty='l1',C=1,max_iter=10000)\n",
    "lr.fit(X_train, y_train) "
   ]
  },
  {
   "cell_type": "code",
   "execution_count": 39,
   "metadata": {
    "ExecuteTime": {
     "end_time": "2019-07-11T11:03:32.204331Z",
     "start_time": "2019-07-11T11:03:32.199826Z"
    }
   },
   "outputs": [],
   "source": [
    "y_train_pred=lr.predict_proba(X_train)"
   ]
  },
  {
   "cell_type": "code",
   "execution_count": 40,
   "metadata": {
    "ExecuteTime": {
     "end_time": "2019-07-11T11:03:32.317659Z",
     "start_time": "2019-07-11T11:03:32.206030Z"
    }
   },
   "outputs": [],
   "source": [
    "y_test_pred=lr.predict_proba(X_test)"
   ]
  },
  {
   "cell_type": "code",
   "execution_count": 41,
   "metadata": {
    "ExecuteTime": {
     "end_time": "2019-07-11T11:03:32.527354Z",
     "start_time": "2019-07-11T11:03:32.323771Z"
    },
    "scrolled": true
   },
   "outputs": [
    {
     "data": {
      "image/png": "[encoded data removed]",
      "text/plain": [
       "<Figure size 432x288 with 1 Axes>"
      ]
     },
     "metadata": {},
     "output_type": "display_data"
    }
   ],
   "source": [
    "from sklearn.metrics import roc_curve, auc\n",
    "train_fpr, train_tpr, tr_thresholds = roc_curve(y_train, y_train_pred[:,1])\n",
    "test_fpr, test_tpr, te_thresholds = roc_curve(y_test, y_test_pred[:,1])\n",
    "plt.plot(train_fpr, train_tpr, label=\"train AUC =\"+str(auc(train_fpr, train_tpr)))\n",
    "plt.plot(test_fpr, test_tpr, label=\"test AUC =\"+str(auc(test_fpr, test_tpr)))\n",
    "plt.legend()\n",
    "plt.xlabel(\"False Positive Rate\")\n",
    "plt.ylabel(\"True Positive Rate\")\n",
    "plt.title(\"ERROR PLOTS\")\n",
    "plt.grid(True)\n",
    "plt.show()"
   ]
  },
  {
   "cell_type": "markdown",
   "metadata": {},
   "source": [
    "### SVM(RBF Kernel)"
   ]
  },
  {
   "cell_type": "code",
   "execution_count": 42,
   "metadata": {
    "ExecuteTime": {
     "end_time": "2019-07-11T11:03:33.552222Z",
     "start_time": "2019-07-11T11:03:32.529438Z"
    }
   },
   "outputs": [
    {
     "data": {
      "text/plain": [
       "SVC(C=1.0, cache_size=200, class_weight=None, coef0=0.0,\n",
       "  decision_function_shape='ovr', degree=3, gamma='auto_deprecated',\n",
       "  kernel='rbf', max_iter=-1, probability=False, random_state=None,\n",
       "  shrinking=True, tol=0.001, verbose=False)"
      ]
     },
     "execution_count": 42,
     "metadata": {},
     "output_type": "execute_result"
    }
   ],
   "source": [
    "from sklearn.svm import SVC\n",
    "from sklearn.model_selection import GridSearchCV\n",
    "classif = SVC()\n",
    "classif.fit(X_train, y_train)"
   ]
  },
  {
   "cell_type": "code",
   "execution_count": 43,
   "metadata": {
    "ExecuteTime": {
     "end_time": "2019-07-11T11:03:33.592549Z",
     "start_time": "2019-07-11T11:03:33.556607Z"
    }
   },
   "outputs": [],
   "source": [
    "y_train_pred=neigh.predict_proba(X_train)"
   ]
  },
  {
   "cell_type": "code",
   "execution_count": 44,
   "metadata": {
    "ExecuteTime": {
     "end_time": "2019-07-11T11:03:33.663589Z",
     "start_time": "2019-07-11T11:03:33.595021Z"
    }
   },
   "outputs": [],
   "source": [
    "y_test_pred=neigh.predict_proba(X_test)"
   ]
  },
  {
   "cell_type": "code",
   "execution_count": 45,
   "metadata": {
    "ExecuteTime": {
     "end_time": "2019-07-11T11:03:33.911098Z",
     "start_time": "2019-07-11T11:03:33.669913Z"
    },
    "scrolled": true
   },
   "outputs": [
    {
     "data": {
      "image/png": "[encoded data removed]",
      "text/plain": [
       "<Figure size 432x288 with 1 Axes>"
      ]
     },
     "metadata": {},
     "output_type": "display_data"
    }
   ],
   "source": [
    "from sklearn.metrics import roc_curve, auc\n",
    "train_fpr, train_tpr, tr_thresholds = roc_curve(y_train, y_train_pred[:,1])\n",
    "test_fpr, test_tpr, te_thresholds = roc_curve(y_test, y_test_pred[:,1])\n",
    "plt.plot(train_fpr, train_tpr, label=\"train AUC =\"+str(auc(train_fpr, train_tpr)))\n",
    "plt.plot(test_fpr, test_tpr, label=\"test AUC =\"+str(auc(test_fpr, test_tpr)))\n",
    "plt.legend()\n",
    "plt.xlabel(\"False Positive Rate\")\n",
    "plt.ylabel(\"True Positive Rate\")\n",
    "plt.title(\"ERROR PLOTS\")\n",
    "plt.grid(True)\n",
    "plt.show()"
   ]
  },
  {
   "cell_type": "markdown",
   "metadata": {},
   "source": [
    "### Random Forest Classifier"
   ]
  },
  {
   "cell_type": "code",
   "execution_count": 46,
   "metadata": {
    "ExecuteTime": {
     "end_time": "2019-07-11T11:03:33.955941Z",
     "start_time": "2019-07-11T11:03:33.912979Z"
    }
   },
   "outputs": [],
   "source": [
    "from sklearn.ensemble import RandomForestClassifier\n",
    "from sklearn.metrics import roc_curve, auc\n",
    "classifier = RandomForestClassifier(max_depth = 10, n_estimators = 30)\n",
    "classifier.fit(X_train, y_train)\n",
    "#clfV1.fit(X_tr, y_train)\n",
    "# roc_auc_score(y_true, y_score) the 2nd parameter should be probability estimates of the positive\n",
    "# not the predicted outputs\n",
    "y_train_pred = classifier.predict_proba(X_train)\n",
    "y_test_pred = classifier.predict_proba(X_test)"
   ]
  },
  {
   "cell_type": "code",
   "execution_count": 47,
   "metadata": {
    "ExecuteTime": {
     "end_time": "2019-07-11T11:03:34.182264Z",
     "start_time": "2019-07-11T11:03:33.957617Z"
    }
   },
   "outputs": [
    {
     "data": {
      "image/png": "[encoded data removed]",
      "text/plain": [
       "<Figure size 432x288 with 1 Axes>"
      ]
     },
     "metadata": {},
     "output_type": "display_data"
    }
   ],
   "source": [
    "train_fpr, train_tpr, tr_thresholds = roc_curve(y_train, y_train_pred[:,1])\n",
    "test_fpr, test_tpr, te_thresholds = roc_curve(y_test, y_test_pred[:,1])\n",
    "x=[0.0,0.1,0.2,0.3,0.4,0.5,0.6,0.7,0.8,0.9,1.0]\n",
    "plt.plot(train_fpr, train_tpr, label=\"train AUC =\"+str(auc(train_fpr, train_tpr)))\n",
    "plt.plot(test_fpr, test_tpr, label=\"test AUC =\"+str(auc(test_fpr, test_tpr)))\n",
    "plt.plot(x,x)\n",
    "plt.legend()\n",
    "plt.xlabel(\"False Positive Rate\")\n",
    "plt.ylabel(\"True Positive Rate\")\n",
    "plt.title(\"ERROR PLOTS\")\n",
    "plt.grid(True)\n",
    "plt.show()"
   ]
  },
  {
   "cell_type": "code",
   "execution_count": 104,
   "metadata": {
    "ExecuteTime": {
     "end_time": "2019-07-11T11:04:52.819425Z",
     "start_time": "2019-07-11T11:04:52.807780Z"
    }
   },
   "outputs": [
    {
     "name": "stdout",
     "output_type": "stream",
     "text": [
      "+---------------------------+----------+-----------+\n",
      "|         Classifier        | Test AUC | Train AUC |\n",
      "+---------------------------+----------+-----------+\n",
      "|            KNN            |  0.968   |   0.985   |\n",
      "|    Logistic Regression    |   1.0    |    1.0    |\n",
      "| Support Vector Classifier |  0.968   |   0.985   |\n",
      "|       Random Forest       |   0.9    |     1     |\n",
      "+---------------------------+----------+-----------+\n"
     ]
    }
   ],
   "source": [
    "from prettytable import PrettyTable\n",
    "x=PrettyTable()\n",
    "x.field_names=[\"Classifier\",\"Test AUC\",\"Train AUC\"]\n",
    "x.add_row([\"KNN\",0.968,0.985])\n",
    "x.add_row([\"Logistic Regression\",1.00,1.00])\n",
    "x.add_row([\"Support Vector Classifier\",0.968,0.985])\n",
    "x.add_row([\"Random Forest\",0.90,1])\n",
    "print(x)"
   ]
  },
  {
   "cell_type": "markdown",
   "metadata": {},
   "source": [
    "##### KNN and SVM(with rbf kernel) give similar performances.  Logistic Regression gives the best performance among all three models.\n",
    "##### Random Forest Classifier gives worst performance."
   ]
  },
  {
   "cell_type": "markdown",
   "metadata": {},
   "source": [
    "## Another Dataset to predict its Calls and thus Checking Accuracy(Using Best Classifier"
   ]
  },
  {
   "cell_type": "code",
   "execution_count": 49,
   "metadata": {
    "ExecuteTime": {
     "end_time": "2019-07-11T11:03:34.293929Z",
     "start_time": "2019-07-11T11:03:34.239721Z"
    }
   },
   "outputs": [],
   "source": [
    "new_data=pd.read_csv('PVR.csv')"
   ]
  },
  {
   "cell_type": "code",
   "execution_count": 50,
   "metadata": {
    "ExecuteTime": {
     "end_time": "2019-07-11T11:03:34.398185Z",
     "start_time": "2019-07-11T11:03:34.295185Z"
    }
   },
   "outputs": [
    {
     "data": {
      "text/html": [
       "<div>\n",
       "<style scoped>\n",
       "    .dataframe tbody tr th:only-of-type {\n",
       "        vertical-align: middle;\n",
       "    }\n",
       "\n",
       "    .dataframe tbody tr th {\n",
       "        vertical-align: top;\n",
       "    }\n",
       "\n",
       "    .dataframe thead th {\n",
       "        text-align: right;\n",
       "    }\n",
       "</style>\n",
       "<table border=\"1\" class=\"dataframe\">\n",
       "  <thead>\n",
       "    <tr style=\"text-align: right;\">\n",
       "      <th></th>\n",
       "      <th>Symbol</th>\n",
       "      <th>Series</th>\n",
       "      <th>Date</th>\n",
       "      <th>Prev Close</th>\n",
       "      <th>Open Price</th>\n",
       "      <th>High Price</th>\n",
       "      <th>Low Price</th>\n",
       "      <th>Last Price</th>\n",
       "      <th>Close Price</th>\n",
       "      <th>Average Price</th>\n",
       "      <th>Total Traded Quantity</th>\n",
       "      <th>Turnover</th>\n",
       "      <th>No. of Trades</th>\n",
       "      <th>Deliverable Qty</th>\n",
       "      <th>% Dly Qt to Traded Qty</th>\n",
       "    </tr>\n",
       "  </thead>\n",
       "  <tbody>\n",
       "    <tr>\n",
       "      <th>0</th>\n",
       "      <td>PVR</td>\n",
       "      <td>EQ</td>\n",
       "      <td>15-May-2017</td>\n",
       "      <td>1526.20</td>\n",
       "      <td>1532.35</td>\n",
       "      <td>1538.15</td>\n",
       "      <td>1515.45</td>\n",
       "      <td>1520.00</td>\n",
       "      <td>1524.95</td>\n",
       "      <td>1526.51</td>\n",
       "      <td>103693</td>\n",
       "      <td>1.582883e+08</td>\n",
       "      <td>7359</td>\n",
       "      <td>54518</td>\n",
       "      <td>52.58</td>\n",
       "    </tr>\n",
       "    <tr>\n",
       "      <th>1</th>\n",
       "      <td>PVR</td>\n",
       "      <td>EQ</td>\n",
       "      <td>16-May-2017</td>\n",
       "      <td>1524.95</td>\n",
       "      <td>1526.70</td>\n",
       "      <td>1545.00</td>\n",
       "      <td>1526.65</td>\n",
       "      <td>1533.25</td>\n",
       "      <td>1539.00</td>\n",
       "      <td>1538.04</td>\n",
       "      <td>86547</td>\n",
       "      <td>1.331129e+08</td>\n",
       "      <td>6332</td>\n",
       "      <td>39020</td>\n",
       "      <td>45.09</td>\n",
       "    </tr>\n",
       "    <tr>\n",
       "      <th>2</th>\n",
       "      <td>PVR</td>\n",
       "      <td>EQ</td>\n",
       "      <td>17-May-2017</td>\n",
       "      <td>1539.00</td>\n",
       "      <td>1539.70</td>\n",
       "      <td>1552.85</td>\n",
       "      <td>1526.05</td>\n",
       "      <td>1527.00</td>\n",
       "      <td>1530.30</td>\n",
       "      <td>1538.01</td>\n",
       "      <td>73902</td>\n",
       "      <td>1.136622e+08</td>\n",
       "      <td>4665</td>\n",
       "      <td>21303</td>\n",
       "      <td>28.83</td>\n",
       "    </tr>\n",
       "    <tr>\n",
       "      <th>3</th>\n",
       "      <td>PVR</td>\n",
       "      <td>EQ</td>\n",
       "      <td>18-May-2017</td>\n",
       "      <td>1530.30</td>\n",
       "      <td>1525.00</td>\n",
       "      <td>1539.35</td>\n",
       "      <td>1502.20</td>\n",
       "      <td>1514.90</td>\n",
       "      <td>1515.05</td>\n",
       "      <td>1519.68</td>\n",
       "      <td>82125</td>\n",
       "      <td>1.248035e+08</td>\n",
       "      <td>2903</td>\n",
       "      <td>38796</td>\n",
       "      <td>47.24</td>\n",
       "    </tr>\n",
       "    <tr>\n",
       "      <th>4</th>\n",
       "      <td>PVR</td>\n",
       "      <td>EQ</td>\n",
       "      <td>19-May-2017</td>\n",
       "      <td>1515.05</td>\n",
       "      <td>1515.00</td>\n",
       "      <td>1534.50</td>\n",
       "      <td>1502.20</td>\n",
       "      <td>1517.65</td>\n",
       "      <td>1513.55</td>\n",
       "      <td>1513.25</td>\n",
       "      <td>114890</td>\n",
       "      <td>1.738567e+08</td>\n",
       "      <td>9495</td>\n",
       "      <td>54764</td>\n",
       "      <td>47.67</td>\n",
       "    </tr>\n",
       "  </tbody>\n",
       "</table>\n",
       "</div>"
      ],
      "text/plain": [
       "  Symbol Series         Date  Prev Close  Open Price  High Price  Low Price  \\\n",
       "0    PVR     EQ  15-May-2017     1526.20     1532.35     1538.15    1515.45   \n",
       "1    PVR     EQ  16-May-2017     1524.95     1526.70     1545.00    1526.65   \n",
       "2    PVR     EQ  17-May-2017     1539.00     1539.70     1552.85    1526.05   \n",
       "3    PVR     EQ  18-May-2017     1530.30     1525.00     1539.35    1502.20   \n",
       "4    PVR     EQ  19-May-2017     1515.05     1515.00     1534.50    1502.20   \n",
       "\n",
       "   Last Price  Close Price  Average Price  Total Traded Quantity  \\\n",
       "0     1520.00      1524.95        1526.51                 103693   \n",
       "1     1533.25      1539.00        1538.04                  86547   \n",
       "2     1527.00      1530.30        1538.01                  73902   \n",
       "3     1514.90      1515.05        1519.68                  82125   \n",
       "4     1517.65      1513.55        1513.25                 114890   \n",
       "\n",
       "       Turnover  No. of Trades  Deliverable Qty  % Dly Qt to Traded Qty  \n",
       "0  1.582883e+08           7359            54518                   52.58  \n",
       "1  1.331129e+08           6332            39020                   45.09  \n",
       "2  1.136622e+08           4665            21303                   28.83  \n",
       "3  1.248035e+08           2903            38796                   47.24  \n",
       "4  1.738567e+08           9495            54764                   47.67  "
      ]
     },
     "execution_count": 50,
     "metadata": {},
     "output_type": "execute_result"
    }
   ],
   "source": [
    "new_data.head()"
   ]
  },
  {
   "cell_type": "code",
   "execution_count": 51,
   "metadata": {
    "ExecuteTime": {
     "end_time": "2019-07-11T11:03:34.471083Z",
     "start_time": "2019-07-11T11:03:34.400927Z"
    }
   },
   "outputs": [],
   "source": [
    "new_data.set_index('Date',inplace=True)"
   ]
  },
  {
   "cell_type": "code",
   "execution_count": 52,
   "metadata": {
    "ExecuteTime": {
     "end_time": "2019-07-11T11:03:34.538314Z",
     "start_time": "2019-07-11T11:03:34.474376Z"
    }
   },
   "outputs": [],
   "source": [
    "start_date = new_data.index[0]\n",
    "end_date = new_data.index[-1]"
   ]
  },
  {
   "cell_type": "markdown",
   "metadata": {},
   "source": [
    "## Creating Bollinger Bands"
   ]
  },
  {
   "cell_type": "code",
   "execution_count": 53,
   "metadata": {
    "ExecuteTime": {
     "end_time": "2019-07-11T11:03:34.608325Z",
     "start_time": "2019-07-11T11:03:34.542921Z"
    }
   },
   "outputs": [],
   "source": [
    "rolling_mean = new_data['Close Price'].rolling(window=14).mean()"
   ]
  },
  {
   "cell_type": "code",
   "execution_count": 54,
   "metadata": {
    "ExecuteTime": {
     "end_time": "2019-07-11T11:03:34.707965Z",
     "start_time": "2019-07-11T11:03:34.613455Z"
    }
   },
   "outputs": [],
   "source": [
    "lower=rolling_mean-2*rolling_mean.loc[start_date:end_date].std()\n",
    "upper=rolling_mean+2*rolling_mean.loc[start_date:end_date].std()"
   ]
  },
  {
   "cell_type": "code",
   "execution_count": 55,
   "metadata": {
    "ExecuteTime": {
     "end_time": "2019-07-11T11:03:34.781902Z",
     "start_time": "2019-07-11T11:03:34.710892Z"
    }
   },
   "outputs": [],
   "source": [
    "new_data['avg']=rolling_mean"
   ]
  },
  {
   "cell_type": "code",
   "execution_count": 56,
   "metadata": {
    "ExecuteTime": {
     "end_time": "2019-07-11T11:03:34.889483Z",
     "start_time": "2019-07-11T11:03:34.787906Z"
    }
   },
   "outputs": [],
   "source": [
    "new_data['upper']=upper"
   ]
  },
  {
   "cell_type": "code",
   "execution_count": 57,
   "metadata": {
    "ExecuteTime": {
     "end_time": "2019-07-11T11:03:34.997285Z",
     "start_time": "2019-07-11T11:03:34.895140Z"
    }
   },
   "outputs": [],
   "source": [
    "new_data['lower']=lower"
   ]
  },
  {
   "cell_type": "code",
   "execution_count": 58,
   "metadata": {
    "ExecuteTime": {
     "end_time": "2019-07-11T11:03:35.081954Z",
     "start_time": "2019-07-11T11:03:35.002313Z"
    }
   },
   "outputs": [],
   "source": [
    "new_data=new_data.dropna()"
   ]
  },
  {
   "cell_type": "code",
   "execution_count": 59,
   "metadata": {
    "ExecuteTime": {
     "end_time": "2019-07-11T11:03:35.182125Z",
     "start_time": "2019-07-11T11:03:35.086713Z"
    }
   },
   "outputs": [
    {
     "data": {
      "text/html": [
       "<div>\n",
       "<style scoped>\n",
       "    .dataframe tbody tr th:only-of-type {\n",
       "        vertical-align: middle;\n",
       "    }\n",
       "\n",
       "    .dataframe tbody tr th {\n",
       "        vertical-align: top;\n",
       "    }\n",
       "\n",
       "    .dataframe thead th {\n",
       "        text-align: right;\n",
       "    }\n",
       "</style>\n",
       "<table border=\"1\" class=\"dataframe\">\n",
       "  <thead>\n",
       "    <tr style=\"text-align: right;\">\n",
       "      <th></th>\n",
       "      <th>Symbol</th>\n",
       "      <th>Series</th>\n",
       "      <th>Prev Close</th>\n",
       "      <th>Open Price</th>\n",
       "      <th>High Price</th>\n",
       "      <th>Low Price</th>\n",
       "      <th>Last Price</th>\n",
       "      <th>Close Price</th>\n",
       "      <th>Average Price</th>\n",
       "      <th>Total Traded Quantity</th>\n",
       "      <th>Turnover</th>\n",
       "      <th>No. of Trades</th>\n",
       "      <th>Deliverable Qty</th>\n",
       "      <th>% Dly Qt to Traded Qty</th>\n",
       "      <th>avg</th>\n",
       "      <th>upper</th>\n",
       "      <th>lower</th>\n",
       "    </tr>\n",
       "    <tr>\n",
       "      <th>Date</th>\n",
       "      <th></th>\n",
       "      <th></th>\n",
       "      <th></th>\n",
       "      <th></th>\n",
       "      <th></th>\n",
       "      <th></th>\n",
       "      <th></th>\n",
       "      <th></th>\n",
       "      <th></th>\n",
       "      <th></th>\n",
       "      <th></th>\n",
       "      <th></th>\n",
       "      <th></th>\n",
       "      <th></th>\n",
       "      <th></th>\n",
       "      <th></th>\n",
       "      <th></th>\n",
       "    </tr>\n",
       "  </thead>\n",
       "  <tbody>\n",
       "    <tr>\n",
       "      <th>01-Jun-2017</th>\n",
       "      <td>PVR</td>\n",
       "      <td>EQ</td>\n",
       "      <td>1454.95</td>\n",
       "      <td>1452.0</td>\n",
       "      <td>1469.70</td>\n",
       "      <td>1452.00</td>\n",
       "      <td>1455.0</td>\n",
       "      <td>1455.70</td>\n",
       "      <td>1459.95</td>\n",
       "      <td>59522</td>\n",
       "      <td>8.689907e+07</td>\n",
       "      <td>3090</td>\n",
       "      <td>23335</td>\n",
       "      <td>39.20</td>\n",
       "      <td>1486.739286</td>\n",
       "      <td>1730.963129</td>\n",
       "      <td>1242.515442</td>\n",
       "    </tr>\n",
       "    <tr>\n",
       "      <th>02-Jun-2017</th>\n",
       "      <td>PVR</td>\n",
       "      <td>EQ</td>\n",
       "      <td>1455.70</td>\n",
       "      <td>1457.3</td>\n",
       "      <td>1466.90</td>\n",
       "      <td>1452.35</td>\n",
       "      <td>1460.0</td>\n",
       "      <td>1457.80</td>\n",
       "      <td>1462.45</td>\n",
       "      <td>55880</td>\n",
       "      <td>8.172155e+07</td>\n",
       "      <td>2865</td>\n",
       "      <td>29238</td>\n",
       "      <td>52.32</td>\n",
       "      <td>1481.942857</td>\n",
       "      <td>1726.166700</td>\n",
       "      <td>1237.719014</td>\n",
       "    </tr>\n",
       "    <tr>\n",
       "      <th>05-Jun-2017</th>\n",
       "      <td>PVR</td>\n",
       "      <td>EQ</td>\n",
       "      <td>1457.80</td>\n",
       "      <td>1458.9</td>\n",
       "      <td>1464.65</td>\n",
       "      <td>1440.00</td>\n",
       "      <td>1444.0</td>\n",
       "      <td>1442.25</td>\n",
       "      <td>1452.10</td>\n",
       "      <td>102733</td>\n",
       "      <td>1.491781e+08</td>\n",
       "      <td>4617</td>\n",
       "      <td>51065</td>\n",
       "      <td>49.71</td>\n",
       "      <td>1475.032143</td>\n",
       "      <td>1719.255986</td>\n",
       "      <td>1230.808300</td>\n",
       "    </tr>\n",
       "    <tr>\n",
       "      <th>06-Jun-2017</th>\n",
       "      <td>PVR</td>\n",
       "      <td>EQ</td>\n",
       "      <td>1442.25</td>\n",
       "      <td>1445.0</td>\n",
       "      <td>1447.45</td>\n",
       "      <td>1378.85</td>\n",
       "      <td>1390.0</td>\n",
       "      <td>1392.85</td>\n",
       "      <td>1411.78</td>\n",
       "      <td>210916</td>\n",
       "      <td>2.977667e+08</td>\n",
       "      <td>16465</td>\n",
       "      <td>89785</td>\n",
       "      <td>42.57</td>\n",
       "      <td>1465.214286</td>\n",
       "      <td>1709.438129</td>\n",
       "      <td>1220.990442</td>\n",
       "    </tr>\n",
       "    <tr>\n",
       "      <th>07-Jun-2017</th>\n",
       "      <td>PVR</td>\n",
       "      <td>EQ</td>\n",
       "      <td>1392.85</td>\n",
       "      <td>1391.1</td>\n",
       "      <td>1409.00</td>\n",
       "      <td>1387.00</td>\n",
       "      <td>1400.0</td>\n",
       "      <td>1400.70</td>\n",
       "      <td>1400.17</td>\n",
       "      <td>165824</td>\n",
       "      <td>2.321824e+08</td>\n",
       "      <td>7911</td>\n",
       "      <td>70517</td>\n",
       "      <td>42.53</td>\n",
       "      <td>1457.046429</td>\n",
       "      <td>1701.270272</td>\n",
       "      <td>1212.822585</td>\n",
       "    </tr>\n",
       "  </tbody>\n",
       "</table>\n",
       "</div>"
      ],
      "text/plain": [
       "            Symbol Series  Prev Close  Open Price  High Price  Low Price  \\\n",
       "Date                                                                       \n",
       "01-Jun-2017    PVR     EQ     1454.95      1452.0     1469.70    1452.00   \n",
       "02-Jun-2017    PVR     EQ     1455.70      1457.3     1466.90    1452.35   \n",
       "05-Jun-2017    PVR     EQ     1457.80      1458.9     1464.65    1440.00   \n",
       "06-Jun-2017    PVR     EQ     1442.25      1445.0     1447.45    1378.85   \n",
       "07-Jun-2017    PVR     EQ     1392.85      1391.1     1409.00    1387.00   \n",
       "\n",
       "             Last Price  Close Price  Average Price  Total Traded Quantity  \\\n",
       "Date                                                                         \n",
       "01-Jun-2017      1455.0      1455.70        1459.95                  59522   \n",
       "02-Jun-2017      1460.0      1457.80        1462.45                  55880   \n",
       "05-Jun-2017      1444.0      1442.25        1452.10                 102733   \n",
       "06-Jun-2017      1390.0      1392.85        1411.78                 210916   \n",
       "07-Jun-2017      1400.0      1400.70        1400.17                 165824   \n",
       "\n",
       "                 Turnover  No. of Trades  Deliverable Qty  \\\n",
       "Date                                                        \n",
       "01-Jun-2017  8.689907e+07           3090            23335   \n",
       "02-Jun-2017  8.172155e+07           2865            29238   \n",
       "05-Jun-2017  1.491781e+08           4617            51065   \n",
       "06-Jun-2017  2.977667e+08          16465            89785   \n",
       "07-Jun-2017  2.321824e+08           7911            70517   \n",
       "\n",
       "             % Dly Qt to Traded Qty          avg        upper        lower  \n",
       "Date                                                                        \n",
       "01-Jun-2017                   39.20  1486.739286  1730.963129  1242.515442  \n",
       "02-Jun-2017                   52.32  1481.942857  1726.166700  1237.719014  \n",
       "05-Jun-2017                   49.71  1475.032143  1719.255986  1230.808300  \n",
       "06-Jun-2017                   42.57  1465.214286  1709.438129  1220.990442  \n",
       "07-Jun-2017                   42.53  1457.046429  1701.270272  1212.822585  "
      ]
     },
     "execution_count": 59,
     "metadata": {},
     "output_type": "execute_result"
    }
   ],
   "source": [
    "new_data.head()"
   ]
  },
  {
   "cell_type": "markdown",
   "metadata": {},
   "source": [
    "## Making Call from Bollinger Bands to check the accuracy of the Predicted Calls from the best model(Logistic Regression)"
   ]
  },
  {
   "cell_type": "code",
   "execution_count": 60,
   "metadata": {
    "ExecuteTime": {
     "end_time": "2019-07-11T11:03:35.386654Z",
     "start_time": "2019-07-11T11:03:35.186415Z"
    }
   },
   "outputs": [],
   "source": [
    "new_data['Call'] = new_data.apply(lambda row : call(row['Close Price'],row['lower'], row['avg'],row['upper']), axis = 1) "
   ]
  },
  {
   "cell_type": "code",
   "execution_count": 61,
   "metadata": {
    "ExecuteTime": {
     "end_time": "2019-07-11T11:03:35.477193Z",
     "start_time": "2019-07-11T11:03:35.388403Z"
    }
   },
   "outputs": [],
   "source": [
    "new_data.loc[new_data['Call'] =='Hold Buy/Liquidate Short', 'Call'] = 0\n",
    "new_data.loc[new_data['Call'] =='Hold Short/Liquidate Buy', 'Call'] = 1"
   ]
  },
  {
   "cell_type": "markdown",
   "metadata": {},
   "source": [
    "## Predicting Calls"
   ]
  },
  {
   "cell_type": "code",
   "execution_count": 62,
   "metadata": {
    "ExecuteTime": {
     "end_time": "2019-07-11T11:03:35.605269Z",
     "start_time": "2019-07-11T11:03:35.481907Z"
    }
   },
   "outputs": [],
   "source": [
    "X=new_data[['lower','avg','upper','Close Price']]\n",
    "Y=new_data[['Call']]"
   ]
  },
  {
   "cell_type": "code",
   "execution_count": 63,
   "metadata": {
    "ExecuteTime": {
     "end_time": "2019-07-11T11:03:35.688807Z",
     "start_time": "2019-07-11T11:03:35.607435Z"
    }
   },
   "outputs": [],
   "source": [
    "y_pred=lr.predict(X)"
   ]
  },
  {
   "cell_type": "markdown",
   "metadata": {},
   "source": [
    "## Accuracy of Predicted Calls"
   ]
  },
  {
   "cell_type": "code",
   "execution_count": 64,
   "metadata": {
    "ExecuteTime": {
     "end_time": "2019-07-11T11:03:35.781520Z",
     "start_time": "2019-07-11T11:03:35.695468Z"
    }
   },
   "outputs": [
    {
     "data": {
      "text/plain": [
       "0.9979253112033195"
      ]
     },
     "execution_count": 64,
     "metadata": {},
     "output_type": "execute_result"
    }
   ],
   "source": [
    "lr.score(X,Y)"
   ]
  },
  {
   "cell_type": "markdown",
   "metadata": {},
   "source": [
    "## Adding Predicted Calls Column to Dataset"
   ]
  },
  {
   "cell_type": "code",
   "execution_count": 65,
   "metadata": {
    "ExecuteTime": {
     "end_time": "2019-07-11T11:03:35.855299Z",
     "start_time": "2019-07-11T11:03:35.786634Z"
    }
   },
   "outputs": [],
   "source": [
    "new_data['Predicted Call']=y_pred"
   ]
  },
  {
   "cell_type": "code",
   "execution_count": 66,
   "metadata": {
    "ExecuteTime": {
     "end_time": "2019-07-11T11:03:35.963570Z",
     "start_time": "2019-07-11T11:03:35.860341Z"
    }
   },
   "outputs": [],
   "source": [
    "new_data.loc[new_data['Call'] ==0, 'Call'] = 'Hold Buy/Liquidate Short'\n",
    "new_data.loc[new_data['Call'] ==1, 'Call'] = 'Hold Short/Liquidate Buy'"
   ]
  },
  {
   "cell_type": "code",
   "execution_count": 67,
   "metadata": {
    "ExecuteTime": {
     "end_time": "2019-07-11T11:03:36.030832Z",
     "start_time": "2019-07-11T11:03:35.966831Z"
    }
   },
   "outputs": [],
   "source": [
    "new_data.loc[new_data['Predicted Call'] ==0, 'Predicted Call'] = 'Hold Buy/Liquidate Short'\n",
    "new_data.loc[new_data['Predicted Call'] ==1, 'Predicted Call'] = 'Hold Short/Liquidate Buy'"
   ]
  },
  {
   "cell_type": "code",
   "execution_count": 68,
   "metadata": {
    "ExecuteTime": {
     "end_time": "2019-07-11T11:03:36.556044Z",
     "start_time": "2019-07-11T11:03:36.047778Z"
    }
   },
   "outputs": [
    {
     "data": {
      "text/html": [
       "<div>\n",
       "<style scoped>\n",
       "    .dataframe tbody tr th:only-of-type {\n",
       "        vertical-align: middle;\n",
       "    }\n",
       "\n",
       "    .dataframe tbody tr th {\n",
       "        vertical-align: top;\n",
       "    }\n",
       "\n",
       "    .dataframe thead th {\n",
       "        text-align: right;\n",
       "    }\n",
       "</style>\n",
       "<table border=\"1\" class=\"dataframe\">\n",
       "  <thead>\n",
       "    <tr style=\"text-align: right;\">\n",
       "      <th></th>\n",
       "      <th>Symbol</th>\n",
       "      <th>Series</th>\n",
       "      <th>Prev Close</th>\n",
       "      <th>Open Price</th>\n",
       "      <th>High Price</th>\n",
       "      <th>Low Price</th>\n",
       "      <th>Last Price</th>\n",
       "      <th>Close Price</th>\n",
       "      <th>Average Price</th>\n",
       "      <th>Total Traded Quantity</th>\n",
       "      <th>Turnover</th>\n",
       "      <th>No. of Trades</th>\n",
       "      <th>Deliverable Qty</th>\n",
       "      <th>% Dly Qt to Traded Qty</th>\n",
       "      <th>avg</th>\n",
       "      <th>upper</th>\n",
       "      <th>lower</th>\n",
       "      <th>Call</th>\n",
       "      <th>Predicted Call</th>\n",
       "    </tr>\n",
       "    <tr>\n",
       "      <th>Date</th>\n",
       "      <th></th>\n",
       "      <th></th>\n",
       "      <th></th>\n",
       "      <th></th>\n",
       "      <th></th>\n",
       "      <th></th>\n",
       "      <th></th>\n",
       "      <th></th>\n",
       "      <th></th>\n",
       "      <th></th>\n",
       "      <th></th>\n",
       "      <th></th>\n",
       "      <th></th>\n",
       "      <th></th>\n",
       "      <th></th>\n",
       "      <th></th>\n",
       "      <th></th>\n",
       "      <th></th>\n",
       "      <th></th>\n",
       "    </tr>\n",
       "  </thead>\n",
       "  <tbody>\n",
       "    <tr>\n",
       "      <th>01-Jun-2017</th>\n",
       "      <td>PVR</td>\n",
       "      <td>EQ</td>\n",
       "      <td>1454.95</td>\n",
       "      <td>1452.00</td>\n",
       "      <td>1469.70</td>\n",
       "      <td>1452.00</td>\n",
       "      <td>1455.0</td>\n",
       "      <td>1455.70</td>\n",
       "      <td>1459.95</td>\n",
       "      <td>59522</td>\n",
       "      <td>8.689907e+07</td>\n",
       "      <td>3090</td>\n",
       "      <td>23335</td>\n",
       "      <td>39.20</td>\n",
       "      <td>1486.739286</td>\n",
       "      <td>1730.963129</td>\n",
       "      <td>1242.515442</td>\n",
       "      <td>Hold Buy/Liquidate Short</td>\n",
       "      <td>Hold Buy/Liquidate Short</td>\n",
       "    </tr>\n",
       "    <tr>\n",
       "      <th>02-Jun-2017</th>\n",
       "      <td>PVR</td>\n",
       "      <td>EQ</td>\n",
       "      <td>1455.70</td>\n",
       "      <td>1457.30</td>\n",
       "      <td>1466.90</td>\n",
       "      <td>1452.35</td>\n",
       "      <td>1460.0</td>\n",
       "      <td>1457.80</td>\n",
       "      <td>1462.45</td>\n",
       "      <td>55880</td>\n",
       "      <td>8.172155e+07</td>\n",
       "      <td>2865</td>\n",
       "      <td>29238</td>\n",
       "      <td>52.32</td>\n",
       "      <td>1481.942857</td>\n",
       "      <td>1726.166700</td>\n",
       "      <td>1237.719014</td>\n",
       "      <td>Hold Buy/Liquidate Short</td>\n",
       "      <td>Hold Buy/Liquidate Short</td>\n",
       "    </tr>\n",
       "    <tr>\n",
       "      <th>05-Jun-2017</th>\n",
       "      <td>PVR</td>\n",
       "      <td>EQ</td>\n",
       "      <td>1457.80</td>\n",
       "      <td>1458.90</td>\n",
       "      <td>1464.65</td>\n",
       "      <td>1440.00</td>\n",
       "      <td>1444.0</td>\n",
       "      <td>1442.25</td>\n",
       "      <td>1452.10</td>\n",
       "      <td>102733</td>\n",
       "      <td>1.491781e+08</td>\n",
       "      <td>4617</td>\n",
       "      <td>51065</td>\n",
       "      <td>49.71</td>\n",
       "      <td>1475.032143</td>\n",
       "      <td>1719.255986</td>\n",
       "      <td>1230.808300</td>\n",
       "      <td>Hold Buy/Liquidate Short</td>\n",
       "      <td>Hold Buy/Liquidate Short</td>\n",
       "    </tr>\n",
       "    <tr>\n",
       "      <th>06-Jun-2017</th>\n",
       "      <td>PVR</td>\n",
       "      <td>EQ</td>\n",
       "      <td>1442.25</td>\n",
       "      <td>1445.00</td>\n",
       "      <td>1447.45</td>\n",
       "      <td>1378.85</td>\n",
       "      <td>1390.0</td>\n",
       "      <td>1392.85</td>\n",
       "      <td>1411.78</td>\n",
       "      <td>210916</td>\n",
       "      <td>2.977667e+08</td>\n",
       "      <td>16465</td>\n",
       "      <td>89785</td>\n",
       "      <td>42.57</td>\n",
       "      <td>1465.214286</td>\n",
       "      <td>1709.438129</td>\n",
       "      <td>1220.990442</td>\n",
       "      <td>Hold Buy/Liquidate Short</td>\n",
       "      <td>Hold Buy/Liquidate Short</td>\n",
       "    </tr>\n",
       "    <tr>\n",
       "      <th>07-Jun-2017</th>\n",
       "      <td>PVR</td>\n",
       "      <td>EQ</td>\n",
       "      <td>1392.85</td>\n",
       "      <td>1391.10</td>\n",
       "      <td>1409.00</td>\n",
       "      <td>1387.00</td>\n",
       "      <td>1400.0</td>\n",
       "      <td>1400.70</td>\n",
       "      <td>1400.17</td>\n",
       "      <td>165824</td>\n",
       "      <td>2.321824e+08</td>\n",
       "      <td>7911</td>\n",
       "      <td>70517</td>\n",
       "      <td>42.53</td>\n",
       "      <td>1457.046429</td>\n",
       "      <td>1701.270272</td>\n",
       "      <td>1212.822585</td>\n",
       "      <td>Hold Buy/Liquidate Short</td>\n",
       "      <td>Hold Buy/Liquidate Short</td>\n",
       "    </tr>\n",
       "    <tr>\n",
       "      <th>08-Jun-2017</th>\n",
       "      <td>PVR</td>\n",
       "      <td>EQ</td>\n",
       "      <td>1400.70</td>\n",
       "      <td>1400.70</td>\n",
       "      <td>1498.50</td>\n",
       "      <td>1382.30</td>\n",
       "      <td>1461.0</td>\n",
       "      <td>1454.00</td>\n",
       "      <td>1465.71</td>\n",
       "      <td>596919</td>\n",
       "      <td>8.749125e+08</td>\n",
       "      <td>21846</td>\n",
       "      <td>142853</td>\n",
       "      <td>23.93</td>\n",
       "      <td>1452.792857</td>\n",
       "      <td>1697.016700</td>\n",
       "      <td>1208.569014</td>\n",
       "      <td>Hold Short/Liquidate Buy</td>\n",
       "      <td>Hold Short/Liquidate Buy</td>\n",
       "    </tr>\n",
       "    <tr>\n",
       "      <th>09-Jun-2017</th>\n",
       "      <td>PVR</td>\n",
       "      <td>EQ</td>\n",
       "      <td>1454.00</td>\n",
       "      <td>1465.00</td>\n",
       "      <td>1479.85</td>\n",
       "      <td>1443.00</td>\n",
       "      <td>1470.0</td>\n",
       "      <td>1472.25</td>\n",
       "      <td>1471.65</td>\n",
       "      <td>403598</td>\n",
       "      <td>5.939540e+08</td>\n",
       "      <td>18344</td>\n",
       "      <td>241292</td>\n",
       "      <td>59.79</td>\n",
       "      <td>1452.167857</td>\n",
       "      <td>1696.391700</td>\n",
       "      <td>1207.944014</td>\n",
       "      <td>Hold Short/Liquidate Buy</td>\n",
       "      <td>Hold Short/Liquidate Buy</td>\n",
       "    </tr>\n",
       "    <tr>\n",
       "      <th>12-Jun-2017</th>\n",
       "      <td>PVR</td>\n",
       "      <td>EQ</td>\n",
       "      <td>1472.25</td>\n",
       "      <td>1477.00</td>\n",
       "      <td>1507.00</td>\n",
       "      <td>1470.00</td>\n",
       "      <td>1495.0</td>\n",
       "      <td>1488.95</td>\n",
       "      <td>1492.22</td>\n",
       "      <td>306349</td>\n",
       "      <td>4.571401e+08</td>\n",
       "      <td>17326</td>\n",
       "      <td>98821</td>\n",
       "      <td>32.26</td>\n",
       "      <td>1451.632143</td>\n",
       "      <td>1695.855986</td>\n",
       "      <td>1207.408300</td>\n",
       "      <td>Hold Short/Liquidate Buy</td>\n",
       "      <td>Hold Short/Liquidate Buy</td>\n",
       "    </tr>\n",
       "    <tr>\n",
       "      <th>13-Jun-2017</th>\n",
       "      <td>PVR</td>\n",
       "      <td>EQ</td>\n",
       "      <td>1488.95</td>\n",
       "      <td>1490.55</td>\n",
       "      <td>1505.00</td>\n",
       "      <td>1474.00</td>\n",
       "      <td>1500.0</td>\n",
       "      <td>1496.30</td>\n",
       "      <td>1489.41</td>\n",
       "      <td>195198</td>\n",
       "      <td>2.907297e+08</td>\n",
       "      <td>8620</td>\n",
       "      <td>101610</td>\n",
       "      <td>52.05</td>\n",
       "      <td>1454.939286</td>\n",
       "      <td>1699.163129</td>\n",
       "      <td>1210.715442</td>\n",
       "      <td>Hold Short/Liquidate Buy</td>\n",
       "      <td>Hold Short/Liquidate Buy</td>\n",
       "    </tr>\n",
       "    <tr>\n",
       "      <th>14-Jun-2017</th>\n",
       "      <td>PVR</td>\n",
       "      <td>EQ</td>\n",
       "      <td>1496.30</td>\n",
       "      <td>1505.50</td>\n",
       "      <td>1550.00</td>\n",
       "      <td>1490.60</td>\n",
       "      <td>1522.0</td>\n",
       "      <td>1522.50</td>\n",
       "      <td>1516.74</td>\n",
       "      <td>221887</td>\n",
       "      <td>3.365445e+08</td>\n",
       "      <td>10671</td>\n",
       "      <td>76207</td>\n",
       "      <td>34.34</td>\n",
       "      <td>1459.321429</td>\n",
       "      <td>1703.545272</td>\n",
       "      <td>1215.097585</td>\n",
       "      <td>Hold Short/Liquidate Buy</td>\n",
       "      <td>Hold Short/Liquidate Buy</td>\n",
       "    </tr>\n",
       "  </tbody>\n",
       "</table>\n",
       "</div>"
      ],
      "text/plain": [
       "            Symbol Series  Prev Close  Open Price  High Price  Low Price  \\\n",
       "Date                                                                       \n",
       "01-Jun-2017    PVR     EQ     1454.95     1452.00     1469.70    1452.00   \n",
       "02-Jun-2017    PVR     EQ     1455.70     1457.30     1466.90    1452.35   \n",
       "05-Jun-2017    PVR     EQ     1457.80     1458.90     1464.65    1440.00   \n",
       "06-Jun-2017    PVR     EQ     1442.25     1445.00     1447.45    1378.85   \n",
       "07-Jun-2017    PVR     EQ     1392.85     1391.10     1409.00    1387.00   \n",
       "08-Jun-2017    PVR     EQ     1400.70     1400.70     1498.50    1382.30   \n",
       "09-Jun-2017    PVR     EQ     1454.00     1465.00     1479.85    1443.00   \n",
       "12-Jun-2017    PVR     EQ     1472.25     1477.00     1507.00    1470.00   \n",
       "13-Jun-2017    PVR     EQ     1488.95     1490.55     1505.00    1474.00   \n",
       "14-Jun-2017    PVR     EQ     1496.30     1505.50     1550.00    1490.60   \n",
       "\n",
       "             Last Price  Close Price  Average Price  Total Traded Quantity  \\\n",
       "Date                                                                         \n",
       "01-Jun-2017      1455.0      1455.70        1459.95                  59522   \n",
       "02-Jun-2017      1460.0      1457.80        1462.45                  55880   \n",
       "05-Jun-2017      1444.0      1442.25        1452.10                 102733   \n",
       "06-Jun-2017      1390.0      1392.85        1411.78                 210916   \n",
       "07-Jun-2017      1400.0      1400.70        1400.17                 165824   \n",
       "08-Jun-2017      1461.0      1454.00        1465.71                 596919   \n",
       "09-Jun-2017      1470.0      1472.25        1471.65                 403598   \n",
       "12-Jun-2017      1495.0      1488.95        1492.22                 306349   \n",
       "13-Jun-2017      1500.0      1496.30        1489.41                 195198   \n",
       "14-Jun-2017      1522.0      1522.50        1516.74                 221887   \n",
       "\n",
       "                 Turnover  No. of Trades  Deliverable Qty  \\\n",
       "Date                                                        \n",
       "01-Jun-2017  8.689907e+07           3090            23335   \n",
       "02-Jun-2017  8.172155e+07           2865            29238   \n",
       "05-Jun-2017  1.491781e+08           4617            51065   \n",
       "06-Jun-2017  2.977667e+08          16465            89785   \n",
       "07-Jun-2017  2.321824e+08           7911            70517   \n",
       "08-Jun-2017  8.749125e+08          21846           142853   \n",
       "09-Jun-2017  5.939540e+08          18344           241292   \n",
       "12-Jun-2017  4.571401e+08          17326            98821   \n",
       "13-Jun-2017  2.907297e+08           8620           101610   \n",
       "14-Jun-2017  3.365445e+08          10671            76207   \n",
       "\n",
       "             % Dly Qt to Traded Qty          avg        upper        lower  \\\n",
       "Date                                                                         \n",
       "01-Jun-2017                   39.20  1486.739286  1730.963129  1242.515442   \n",
       "02-Jun-2017                   52.32  1481.942857  1726.166700  1237.719014   \n",
       "05-Jun-2017                   49.71  1475.032143  1719.255986  1230.808300   \n",
       "06-Jun-2017                   42.57  1465.214286  1709.438129  1220.990442   \n",
       "07-Jun-2017                   42.53  1457.046429  1701.270272  1212.822585   \n",
       "08-Jun-2017                   23.93  1452.792857  1697.016700  1208.569014   \n",
       "09-Jun-2017                   59.79  1452.167857  1696.391700  1207.944014   \n",
       "12-Jun-2017                   32.26  1451.632143  1695.855986  1207.408300   \n",
       "13-Jun-2017                   52.05  1454.939286  1699.163129  1210.715442   \n",
       "14-Jun-2017                   34.34  1459.321429  1703.545272  1215.097585   \n",
       "\n",
       "                                 Call            Predicted Call  \n",
       "Date                                                             \n",
       "01-Jun-2017  Hold Buy/Liquidate Short  Hold Buy/Liquidate Short  \n",
       "02-Jun-2017  Hold Buy/Liquidate Short  Hold Buy/Liquidate Short  \n",
       "05-Jun-2017  Hold Buy/Liquidate Short  Hold Buy/Liquidate Short  \n",
       "06-Jun-2017  Hold Buy/Liquidate Short  Hold Buy/Liquidate Short  \n",
       "07-Jun-2017  Hold Buy/Liquidate Short  Hold Buy/Liquidate Short  \n",
       "08-Jun-2017  Hold Short/Liquidate Buy  Hold Short/Liquidate Buy  \n",
       "09-Jun-2017  Hold Short/Liquidate Buy  Hold Short/Liquidate Buy  \n",
       "12-Jun-2017  Hold Short/Liquidate Buy  Hold Short/Liquidate Buy  \n",
       "13-Jun-2017  Hold Short/Liquidate Buy  Hold Short/Liquidate Buy  \n",
       "14-Jun-2017  Hold Short/Liquidate Buy  Hold Short/Liquidate Buy  "
      ]
     },
     "execution_count": 68,
     "metadata": {},
     "output_type": "execute_result"
    }
   ],
   "source": [
    "new_data.head(10)"
   ]
  },
  {
   "cell_type": "markdown",
   "metadata": {},
   "source": [
    "    "
   ]
  },
  {
   "cell_type": "markdown",
   "metadata": {},
   "source": [
    "    "
   ]
  },
  {
   "cell_type": "markdown",
   "metadata": {},
   "source": [
    "    "
   ]
  },
  {
   "cell_type": "markdown",
   "metadata": {},
   "source": [
    "# Predicting Trade Call using RandomForest Classifier"
   ]
  },
  {
   "cell_type": "code",
   "execution_count": 69,
   "metadata": {
    "ExecuteTime": {
     "end_time": "2019-07-11T11:03:36.634448Z",
     "start_time": "2019-07-11T11:03:36.563977Z"
    }
   },
   "outputs": [],
   "source": [
    "data=pd.read_csv('ITC.csv')"
   ]
  },
  {
   "cell_type": "code",
   "execution_count": 70,
   "metadata": {
    "ExecuteTime": {
     "end_time": "2019-07-11T11:03:36.715972Z",
     "start_time": "2019-07-11T11:03:36.637123Z"
    }
   },
   "outputs": [
    {
     "data": {
      "text/plain": [
       "(496, 15)"
      ]
     },
     "execution_count": 70,
     "metadata": {},
     "output_type": "execute_result"
    }
   ],
   "source": [
    "data.shape"
   ]
  },
  {
   "cell_type": "code",
   "execution_count": 71,
   "metadata": {
    "ExecuteTime": {
     "end_time": "2019-07-11T11:03:36.817251Z",
     "start_time": "2019-07-11T11:03:36.718204Z"
    }
   },
   "outputs": [
    {
     "data": {
      "text/html": [
       "<div>\n",
       "<style scoped>\n",
       "    .dataframe tbody tr th:only-of-type {\n",
       "        vertical-align: middle;\n",
       "    }\n",
       "\n",
       "    .dataframe tbody tr th {\n",
       "        vertical-align: top;\n",
       "    }\n",
       "\n",
       "    .dataframe thead th {\n",
       "        text-align: right;\n",
       "    }\n",
       "</style>\n",
       "<table border=\"1\" class=\"dataframe\">\n",
       "  <thead>\n",
       "    <tr style=\"text-align: right;\">\n",
       "      <th></th>\n",
       "      <th>Symbol</th>\n",
       "      <th>Series</th>\n",
       "      <th>Date</th>\n",
       "      <th>Prev Close</th>\n",
       "      <th>Open Price</th>\n",
       "      <th>High Price</th>\n",
       "      <th>Low Price</th>\n",
       "      <th>Last Price</th>\n",
       "      <th>Close Price</th>\n",
       "      <th>Average Price</th>\n",
       "      <th>Total Traded Quantity</th>\n",
       "      <th>Turnover</th>\n",
       "      <th>No. of Trades</th>\n",
       "      <th>Deliverable Qty</th>\n",
       "      <th>% Dly Qt to Traded Qty</th>\n",
       "    </tr>\n",
       "  </thead>\n",
       "  <tbody>\n",
       "    <tr>\n",
       "      <th>0</th>\n",
       "      <td>ITC</td>\n",
       "      <td>EQ</td>\n",
       "      <td>15-May-2017</td>\n",
       "      <td>274.95</td>\n",
       "      <td>275.90</td>\n",
       "      <td>278.90</td>\n",
       "      <td>275.50</td>\n",
       "      <td>278.50</td>\n",
       "      <td>277.95</td>\n",
       "      <td>277.78</td>\n",
       "      <td>5462855</td>\n",
       "      <td>1.517477e+09</td>\n",
       "      <td>52501</td>\n",
       "      <td>4128324</td>\n",
       "      <td>75.57</td>\n",
       "    </tr>\n",
       "    <tr>\n",
       "      <th>1</th>\n",
       "      <td>ITC</td>\n",
       "      <td>EQ</td>\n",
       "      <td>16-May-2017</td>\n",
       "      <td>277.95</td>\n",
       "      <td>278.50</td>\n",
       "      <td>284.30</td>\n",
       "      <td>278.00</td>\n",
       "      <td>283.00</td>\n",
       "      <td>283.45</td>\n",
       "      <td>280.93</td>\n",
       "      <td>11204308</td>\n",
       "      <td>3.147583e+09</td>\n",
       "      <td>98347</td>\n",
       "      <td>8307567</td>\n",
       "      <td>74.15</td>\n",
       "    </tr>\n",
       "    <tr>\n",
       "      <th>2</th>\n",
       "      <td>ITC</td>\n",
       "      <td>EQ</td>\n",
       "      <td>17-May-2017</td>\n",
       "      <td>283.45</td>\n",
       "      <td>284.10</td>\n",
       "      <td>284.40</td>\n",
       "      <td>279.25</td>\n",
       "      <td>281.50</td>\n",
       "      <td>281.65</td>\n",
       "      <td>281.56</td>\n",
       "      <td>8297700</td>\n",
       "      <td>2.336261e+09</td>\n",
       "      <td>99107</td>\n",
       "      <td>5924804</td>\n",
       "      <td>71.40</td>\n",
       "    </tr>\n",
       "    <tr>\n",
       "      <th>3</th>\n",
       "      <td>ITC</td>\n",
       "      <td>EQ</td>\n",
       "      <td>18-May-2017</td>\n",
       "      <td>281.65</td>\n",
       "      <td>278.00</td>\n",
       "      <td>281.05</td>\n",
       "      <td>277.05</td>\n",
       "      <td>277.65</td>\n",
       "      <td>277.90</td>\n",
       "      <td>278.49</td>\n",
       "      <td>7924261</td>\n",
       "      <td>2.206822e+09</td>\n",
       "      <td>47830</td>\n",
       "      <td>5434449</td>\n",
       "      <td>68.58</td>\n",
       "    </tr>\n",
       "    <tr>\n",
       "      <th>4</th>\n",
       "      <td>ITC</td>\n",
       "      <td>EQ</td>\n",
       "      <td>19-May-2017</td>\n",
       "      <td>277.90</td>\n",
       "      <td>282.25</td>\n",
       "      <td>295.65</td>\n",
       "      <td>281.95</td>\n",
       "      <td>286.40</td>\n",
       "      <td>286.20</td>\n",
       "      <td>290.08</td>\n",
       "      <td>35724128</td>\n",
       "      <td>1.036268e+10</td>\n",
       "      <td>248579</td>\n",
       "      <td>19137631</td>\n",
       "      <td>53.57</td>\n",
       "    </tr>\n",
       "  </tbody>\n",
       "</table>\n",
       "</div>"
      ],
      "text/plain": [
       "  Symbol Series         Date  Prev Close  Open Price  High Price  Low Price  \\\n",
       "0    ITC     EQ  15-May-2017      274.95      275.90      278.90     275.50   \n",
       "1    ITC     EQ  16-May-2017      277.95      278.50      284.30     278.00   \n",
       "2    ITC     EQ  17-May-2017      283.45      284.10      284.40     279.25   \n",
       "3    ITC     EQ  18-May-2017      281.65      278.00      281.05     277.05   \n",
       "4    ITC     EQ  19-May-2017      277.90      282.25      295.65     281.95   \n",
       "\n",
       "   Last Price  Close Price  Average Price  Total Traded Quantity  \\\n",
       "0      278.50       277.95         277.78                5462855   \n",
       "1      283.00       283.45         280.93               11204308   \n",
       "2      281.50       281.65         281.56                8297700   \n",
       "3      277.65       277.90         278.49                7924261   \n",
       "4      286.40       286.20         290.08               35724128   \n",
       "\n",
       "       Turnover  No. of Trades  Deliverable Qty  % Dly Qt to Traded Qty  \n",
       "0  1.517477e+09          52501          4128324                   75.57  \n",
       "1  3.147583e+09          98347          8307567                   74.15  \n",
       "2  2.336261e+09          99107          5924804                   71.40  \n",
       "3  2.206822e+09          47830          5434449                   68.58  \n",
       "4  1.036268e+10         248579         19137631                   53.57  "
      ]
     },
     "execution_count": 71,
     "metadata": {},
     "output_type": "execute_result"
    }
   ],
   "source": [
    "data.head()"
   ]
  },
  {
   "cell_type": "code",
   "execution_count": 72,
   "metadata": {
    "ExecuteTime": {
     "end_time": "2019-07-11T11:03:36.919686Z",
     "start_time": "2019-07-11T11:03:36.823073Z"
    }
   },
   "outputs": [
    {
     "data": {
      "text/plain": [
       "Symbol                    False\n",
       "Series                    False\n",
       "Date                      False\n",
       "Prev Close                False\n",
       "Open Price                False\n",
       "High Price                False\n",
       "Low Price                 False\n",
       "Last Price                False\n",
       "Close Price               False\n",
       "Average Price             False\n",
       "Total Traded Quantity     False\n",
       "Turnover                  False\n",
       "No. of Trades             False\n",
       "Deliverable Qty           False\n",
       "% Dly Qt to Traded Qty    False\n",
       "dtype: bool"
      ]
     },
     "execution_count": 72,
     "metadata": {},
     "output_type": "execute_result"
    }
   ],
   "source": [
    "pd.isnull(data).sum() > 0"
   ]
  },
  {
   "cell_type": "markdown",
   "metadata": {},
   "source": [
    "## Creating Column for '% change between Open and Close price for the day'"
   ]
  },
  {
   "cell_type": "code",
   "execution_count": 73,
   "metadata": {
    "ExecuteTime": {
     "end_time": "2019-07-11T11:03:37.041896Z",
     "start_time": "2019-07-11T11:03:36.932221Z"
    }
   },
   "outputs": [],
   "source": [
    "perc_change=(data['Close Price']-data['Open Price'])/data['Close Price']*100.0"
   ]
  },
  {
   "cell_type": "code",
   "execution_count": 74,
   "metadata": {
    "ExecuteTime": {
     "end_time": "2019-07-11T11:03:37.200762Z",
     "start_time": "2019-07-11T11:03:37.048673Z"
    }
   },
   "outputs": [],
   "source": [
    "data['OCchange']=perc_change"
   ]
  },
  {
   "cell_type": "markdown",
   "metadata": {
    "ExecuteTime": {
     "end_time": "2019-07-10T18:08:03.300258Z",
     "start_time": "2019-07-10T18:08:03.296175Z"
    }
   },
   "source": [
    "## Creating Column for '% change between Low and High price for the day'"
   ]
  },
  {
   "cell_type": "code",
   "execution_count": 75,
   "metadata": {
    "ExecuteTime": {
     "end_time": "2019-07-11T11:03:37.347995Z",
     "start_time": "2019-07-11T11:03:37.207823Z"
    }
   },
   "outputs": [],
   "source": [
    "perc_change=(data['High Price']-data['Low Price'])/data['Close Price']*100.0"
   ]
  },
  {
   "cell_type": "code",
   "execution_count": 76,
   "metadata": {
    "ExecuteTime": {
     "end_time": "2019-07-11T11:03:37.497055Z",
     "start_time": "2019-07-11T11:03:37.352871Z"
    }
   },
   "outputs": [],
   "source": [
    "data['LHchange']=perc_change"
   ]
  },
  {
   "cell_type": "markdown",
   "metadata": {
    "ExecuteTime": {
     "end_time": "2019-07-10T18:08:33.743592Z",
     "start_time": "2019-07-10T18:08:33.739025Z"
    }
   },
   "source": [
    "## Creating Column for '5 day rolling mean of the day to day % change in Close Price'"
   ]
  },
  {
   "cell_type": "code",
   "execution_count": 77,
   "metadata": {
    "ExecuteTime": {
     "end_time": "2019-07-11T11:03:37.590025Z",
     "start_time": "2019-07-11T11:03:37.504836Z"
    }
   },
   "outputs": [],
   "source": [
    "rolling_mean = data['Close Price'].rolling(window=5).mean()"
   ]
  },
  {
   "cell_type": "code",
   "execution_count": 78,
   "metadata": {
    "ExecuteTime": {
     "end_time": "2019-07-11T11:03:37.762354Z",
     "start_time": "2019-07-11T11:03:37.595620Z"
    }
   },
   "outputs": [],
   "source": [
    "ratio_mean=rolling_mean/data['OCchange']"
   ]
  },
  {
   "cell_type": "code",
   "execution_count": 79,
   "metadata": {
    "ExecuteTime": {
     "end_time": "2019-07-11T11:03:37.910936Z",
     "start_time": "2019-07-11T11:03:37.771146Z"
    }
   },
   "outputs": [],
   "source": [
    "data['RollingMean']=ratio_mean"
   ]
  },
  {
   "cell_type": "markdown",
   "metadata": {},
   "source": [
    "## Creating Column for '5 day rolling std of the day to day % change in Close Price'"
   ]
  },
  {
   "cell_type": "code",
   "execution_count": 80,
   "metadata": {
    "ExecuteTime": {
     "end_time": "2019-07-11T11:03:38.003868Z",
     "start_time": "2019-07-11T11:03:37.917117Z"
    }
   },
   "outputs": [],
   "source": [
    "rolling_std = data['Close Price'].rolling(window=5).std()"
   ]
  },
  {
   "cell_type": "code",
   "execution_count": 81,
   "metadata": {
    "ExecuteTime": {
     "end_time": "2019-07-11T11:03:38.151225Z",
     "start_time": "2019-07-11T11:03:38.014203Z"
    }
   },
   "outputs": [],
   "source": [
    "ratio_std=rolling_std/data['OCchange']"
   ]
  },
  {
   "cell_type": "code",
   "execution_count": 82,
   "metadata": {
    "ExecuteTime": {
     "end_time": "2019-07-11T11:03:38.242007Z",
     "start_time": "2019-07-11T11:03:38.157166Z"
    }
   },
   "outputs": [],
   "source": [
    "data['RollingStd']=ratio_std"
   ]
  },
  {
   "cell_type": "code",
   "execution_count": 83,
   "metadata": {
    "ExecuteTime": {
     "end_time": "2019-07-11T11:03:38.392657Z",
     "start_time": "2019-07-11T11:03:38.248835Z"
    }
   },
   "outputs": [
    {
     "data": {
      "text/plain": [
       "(496, 19)"
      ]
     },
     "execution_count": 83,
     "metadata": {},
     "output_type": "execute_result"
    }
   ],
   "source": [
    "data.shape"
   ]
  },
  {
   "cell_type": "markdown",
   "metadata": {},
   "source": [
    "## Creating 'Action' Column"
   ]
  },
  {
   "cell_type": "code",
   "execution_count": 84,
   "metadata": {
    "ExecuteTime": {
     "end_time": "2019-07-11T11:03:38.487984Z",
     "start_time": "2019-07-11T11:03:38.398665Z"
    }
   },
   "outputs": [],
   "source": [
    "data['Action']=np.nan"
   ]
  },
  {
   "cell_type": "code",
   "execution_count": 85,
   "metadata": {
    "ExecuteTime": {
     "end_time": "2019-07-11T11:03:56.065548Z",
     "start_time": "2019-07-11T11:03:38.492971Z"
    }
   },
   "outputs": [],
   "source": [
    "for i in range(0,data.shape[0]-1):\n",
    "    if data['Close Price'][i]<data['Close Price'][i+1]:\n",
    "        data['Action'][i]=1\n",
    "    else:\n",
    "        data['Action'][i]=-1"
   ]
  },
  {
   "cell_type": "code",
   "execution_count": 86,
   "metadata": {
    "ExecuteTime": {
     "end_time": "2019-07-11T11:03:56.076310Z",
     "start_time": "2019-07-11T11:03:56.067190Z"
    }
   },
   "outputs": [],
   "source": [
    "data=data.replace([np.inf, -np.inf], np.nan)"
   ]
  },
  {
   "cell_type": "code",
   "execution_count": 87,
   "metadata": {
    "ExecuteTime": {
     "end_time": "2019-07-11T11:03:56.966172Z",
     "start_time": "2019-07-11T11:03:56.078322Z"
    }
   },
   "outputs": [],
   "source": [
    "data=data.dropna()"
   ]
  },
  {
   "cell_type": "markdown",
   "metadata": {},
   "source": [
    "## Dataset for Classification"
   ]
  },
  {
   "cell_type": "code",
   "execution_count": 88,
   "metadata": {
    "ExecuteTime": {
     "end_time": "2019-07-11T11:03:57.030236Z",
     "start_time": "2019-07-11T11:03:56.970683Z"
    }
   },
   "outputs": [],
   "source": [
    "X=data[['OCchange','LHchange','RollingMean','RollingStd']]"
   ]
  },
  {
   "cell_type": "markdown",
   "metadata": {},
   "source": [
    "### Data Normalization"
   ]
  },
  {
   "cell_type": "code",
   "execution_count": 89,
   "metadata": {
    "ExecuteTime": {
     "end_time": "2019-07-11T11:03:57.111198Z",
     "start_time": "2019-07-11T11:03:57.034669Z"
    }
   },
   "outputs": [],
   "source": [
    "from sklearn.preprocessing import MinMaxScaler\n",
    "X = MinMaxScaler().fit_transform(X)"
   ]
  },
  {
   "cell_type": "markdown",
   "metadata": {},
   "source": [
    "### Test-Train Split"
   ]
  },
  {
   "cell_type": "code",
   "execution_count": 90,
   "metadata": {
    "ExecuteTime": {
     "end_time": "2019-07-11T11:03:57.221940Z",
     "start_time": "2019-07-11T11:03:57.117511Z"
    }
   },
   "outputs": [],
   "source": [
    "Y=data[[\"Action\"]]"
   ]
  },
  {
   "cell_type": "code",
   "execution_count": 91,
   "metadata": {
    "ExecuteTime": {
     "end_time": "2019-07-11T11:03:57.286524Z",
     "start_time": "2019-07-11T11:03:57.227809Z"
    }
   },
   "outputs": [],
   "source": [
    "X_train=X[:350]"
   ]
  },
  {
   "cell_type": "code",
   "execution_count": 92,
   "metadata": {
    "ExecuteTime": {
     "end_time": "2019-07-11T11:03:57.354073Z",
     "start_time": "2019-07-11T11:03:57.291098Z"
    }
   },
   "outputs": [],
   "source": [
    "X_test=X[350:]"
   ]
  },
  {
   "cell_type": "code",
   "execution_count": 93,
   "metadata": {
    "ExecuteTime": {
     "end_time": "2019-07-11T11:03:57.456818Z",
     "start_time": "2019-07-11T11:03:57.359194Z"
    }
   },
   "outputs": [],
   "source": [
    "y_train=Y[:350].values"
   ]
  },
  {
   "cell_type": "code",
   "execution_count": 94,
   "metadata": {
    "ExecuteTime": {
     "end_time": "2019-07-11T11:03:57.534396Z",
     "start_time": "2019-07-11T11:03:57.461875Z"
    }
   },
   "outputs": [],
   "source": [
    "y_train=y_train.ravel()"
   ]
  },
  {
   "cell_type": "code",
   "execution_count": 95,
   "metadata": {
    "ExecuteTime": {
     "end_time": "2019-07-11T11:03:57.622566Z",
     "start_time": "2019-07-11T11:03:57.539514Z"
    }
   },
   "outputs": [],
   "source": [
    "y_test=Y[350:].values"
   ]
  },
  {
   "cell_type": "code",
   "execution_count": 96,
   "metadata": {
    "ExecuteTime": {
     "end_time": "2019-07-11T11:03:57.704926Z",
     "start_time": "2019-07-11T11:03:57.623944Z"
    }
   },
   "outputs": [],
   "source": [
    "y_test=y_test.ravel()"
   ]
  },
  {
   "cell_type": "markdown",
   "metadata": {},
   "source": [
    "## Random Forest Classifier"
   ]
  },
  {
   "cell_type": "code",
   "execution_count": 97,
   "metadata": {
    "ExecuteTime": {
     "end_time": "2019-07-11T11:03:57.833493Z",
     "start_time": "2019-07-11T11:03:57.712002Z"
    }
   },
   "outputs": [],
   "source": [
    "from sklearn.ensemble import RandomForestClassifier\n",
    "from sklearn.metrics import roc_curve, auc\n",
    "classifier = RandomForestClassifier(max_depth = 15, n_estimators =20)\n",
    "# hyper parameters tuned by hit and trial due to small size of dataset\n",
    "classifier.fit(X_train, y_train)\n",
    "y_train_pred = classifier.predict_proba(X_train)\n",
    "y_test_pred = classifier.predict_proba(X)"
   ]
  },
  {
   "cell_type": "markdown",
   "metadata": {},
   "source": [
    "## Model Performance"
   ]
  },
  {
   "cell_type": "markdown",
   "metadata": {},
   "source": [
    "### AUC Score"
   ]
  },
  {
   "cell_type": "code",
   "execution_count": 98,
   "metadata": {
    "ExecuteTime": {
     "end_time": "2019-07-11T11:03:58.077520Z",
     "start_time": "2019-07-11T11:03:57.835636Z"
    }
   },
   "outputs": [
    {
     "data": {
      "image/png": "[encoded data removed]",
      "text/plain": [
       "<Figure size 432x288 with 1 Axes>"
      ]
     },
     "metadata": {},
     "output_type": "display_data"
    }
   ],
   "source": [
    "train_fpr, train_tpr, tr_thresholds = roc_curve(y_train, y_train_pred[:,1])\n",
    "test_fpr, test_tpr, te_thresholds = roc_curve(Y, y_test_pred[:,1])\n",
    "plt.plot(train_fpr, train_tpr, label=\"train AUC =\"+str(auc(train_fpr, train_tpr)))\n",
    "plt.plot(test_fpr, test_tpr, label=\"test AUC =\"+str(auc(test_fpr, test_tpr)))\n",
    "plt.legend()\n",
    "plt.xlabel(\"False Positive Rate\")\n",
    "plt.ylabel(\"True Positive Rate\")\n",
    "plt.title(\"ERROR PLOTS\")\n",
    "plt.grid(True)\n",
    "plt.show()"
   ]
  },
  {
   "cell_type": "markdown",
   "metadata": {},
   "source": [
    "### Accuracy"
   ]
  },
  {
   "cell_type": "code",
   "execution_count": 99,
   "metadata": {
    "ExecuteTime": {
     "end_time": "2019-07-11T11:03:58.085755Z",
     "start_time": "2019-07-11T11:03:58.079109Z"
    }
   },
   "outputs": [
    {
     "data": {
      "text/plain": [
       "0.9885714285714285"
      ]
     },
     "execution_count": 99,
     "metadata": {},
     "output_type": "execute_result"
    }
   ],
   "source": [
    "classifier.score(X_train,y_train)"
   ]
  },
  {
   "cell_type": "code",
   "execution_count": 100,
   "metadata": {
    "ExecuteTime": {
     "end_time": "2019-07-11T11:03:58.172653Z",
     "start_time": "2019-07-11T11:03:58.087454Z"
    },
    "scrolled": false
   },
   "outputs": [
    {
     "data": {
      "text/plain": [
       "0.8737060041407867"
      ]
     },
     "execution_count": 100,
     "metadata": {},
     "output_type": "execute_result"
    }
   ],
   "source": [
    "classifier.score(X,Y)"
   ]
  },
  {
   "cell_type": "markdown",
   "metadata": {},
   "source": [
    "##### Random Forest Classifier does not give better results. This may be due to the fact that target variable i.e. Action which was defined using closed price is not highly correlated to the 4 features created by us or due to the fact that as Random Forest Classifer did not perform better in previous case, in this case also it is not performing here also."
   ]
  },
  {
   "cell_type": "markdown",
   "metadata": {},
   "source": [
    "## Net Cumulative Returns (in %)"
   ]
  },
  {
   "cell_type": "code",
   "execution_count": 101,
   "metadata": {
    "ExecuteTime": {
     "end_time": "2019-07-11T11:03:58.286246Z",
     "start_time": "2019-07-11T11:03:58.175969Z"
    }
   },
   "outputs": [],
   "source": [
    "data['Day_Perc_Change']=data['Close Price'].pct_change(fill_method='ffill')*100.0"
   ]
  },
  {
   "cell_type": "code",
   "execution_count": 102,
   "metadata": {
    "ExecuteTime": {
     "end_time": "2019-07-11T11:03:58.363090Z",
     "start_time": "2019-07-11T11:03:58.288136Z"
    }
   },
   "outputs": [],
   "source": [
    "daily_perc=(1+data['Day_Perc_Change']).cumsum()"
   ]
  },
  {
   "cell_type": "code",
   "execution_count": 103,
   "metadata": {
    "ExecuteTime": {
     "end_time": "2019-07-11T11:03:58.625721Z",
     "start_time": "2019-07-11T11:03:58.366547Z"
    },
    "scrolled": false
   },
   "outputs": [
    {
     "data": {
      "text/plain": [
       "[]"
      ]
     },
     "execution_count": 103,
     "metadata": {},
     "output_type": "execute_result"
    },
    {
     "data": {
      "image/png": "[encoded data removed]",
      "text/plain": [
       "<Figure size 1080x720 with 1 Axes>"
      ]
     },
     "metadata": {},
     "output_type": "display_data"
    }
   ],
   "source": [
    "plt.figure(figsize=(15,10))\n",
    "plt.plot(daily_perc)\n",
    "plt.grid(True)\n",
    "plt.title(\"Net Cumulative Change\")\n",
    "plt.xlabel(\"Days\")\n",
    "plt.plot()"
   ]
  },
  {
   "cell_type": "markdown",
   "metadata": {},
   "source": [
    "##### This returns plot shows that the stocks give steady net cumulative returns wihout any significantly large change except on few days."
   ]
  },
  {
   "cell_type": "code",
   "execution_count": null,
   "metadata": {},
   "outputs": [],
   "source": []
  }
 ],
 "metadata": {
  "kernelspec": {
   "display_name": "Python 3",
   "language": "python",
   "name": "python3"
  },
  "language_info": {
   "codemirror_mode": {
    "name": "ipython",
    "version": 3
   },
   "file_extension": ".py",
   "mimetype": "text/x-python",
   "name": "python",
   "nbconvert_exporter": "python",
   "pygments_lexer": "ipython3",
   "version": "3.7.3"
  },
  "toc": {
   "base_numbering": 1,
   "nav_menu": {},
   "number_sections": true,
   "sideBar": true,
   "skip_h1_title": false,
   "title_cell": "Table of Contents",
   "title_sidebar": "Contents",
   "toc_cell": false,
   "toc_position": {},
   "toc_section_display": true,
   "toc_window_display": false
  },
  "varInspector": {
   "cols": {
    "lenName": 16,
    "lenType": 16,
    "lenVar": 40
   },
   "kernels_config": {
    "python": {
     "delete_cmd_postfix": "",
     "delete_cmd_prefix": "del ",
     "library": "var_list.py",
     "varRefreshCmd": "print(var_dic_list())"
    },
    "r": {
     "delete_cmd_postfix": ") ",
     "delete_cmd_prefix": "rm(",
     "library": "var_list.r",
     "varRefreshCmd": "cat(var_dic_list()) "
    }
   },
   "types_to_exclude": [
    "module",
    "function",
    "builtin_function_or_method",
    "instance",
    "_Feature"
   ],
   "window_display": false
  }
 },
 "nbformat": 4,
 "nbformat_minor": 2
}
