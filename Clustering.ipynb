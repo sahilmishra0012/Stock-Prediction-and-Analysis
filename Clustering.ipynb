{
 "cells": [
  {
   "cell_type": "markdown",
   "metadata": {},
   "source": [
    "# Clustering"
   ]
  },
  {
   "cell_type": "code",
   "execution_count": 1,
   "metadata": {
    "ExecuteTime": {
     "end_time": "2019-07-15T13:38:31.350845Z",
     "start_time": "2019-07-15T13:38:25.686279Z"
    }
   },
   "outputs": [],
   "source": [
    "import numpy as np\n",
    "import pandas as pd\n",
    "import matplotlib.pyplot as plt\n",
    "import seaborn as sns"
   ]
  },
  {
   "cell_type": "markdown",
   "metadata": {},
   "source": [
    "## 6.1 DataFrame with the Closing Prices of 30 Different Stocks, 10 from each Caps "
   ]
  },
  {
   "cell_type": "code",
   "execution_count": 48,
   "metadata": {
    "ExecuteTime": {
     "end_time": "2019-07-15T14:22:18.613586Z",
     "start_time": "2019-07-15T14:22:18.599979Z"
    }
   },
   "outputs": [],
   "source": [
    "import glob\n",
    "\n",
    "path = r'/home/samthekiller/Downloads/intenship/work/module_6' # use your path\n",
    "all_files = glob.glob(path + \"/*.csv\")"
   ]
  },
  {
   "cell_type": "code",
   "execution_count": 49,
   "metadata": {
    "ExecuteTime": {
     "end_time": "2019-07-15T14:22:19.369820Z",
     "start_time": "2019-07-15T14:22:19.355464Z"
    }
   },
   "outputs": [
    {
     "data": {
      "text/plain": [
       "30"
      ]
     },
     "execution_count": 49,
     "metadata": {},
     "output_type": "execute_result"
    }
   ],
   "source": [
    "len(all_files)"
   ]
  },
  {
   "cell_type": "code",
   "execution_count": 50,
   "metadata": {
    "ExecuteTime": {
     "end_time": "2019-07-15T14:22:21.788885Z",
     "start_time": "2019-07-15T14:22:21.636611Z"
    }
   },
   "outputs": [],
   "source": [
    "li = []\n",
    "\n",
    "for filename in all_files:\n",
    "    df = pd.read_csv(filename, index_col=None, header=0)\n",
    "    li.append(df['Close Price'])"
   ]
  },
  {
   "cell_type": "code",
   "execution_count": 51,
   "metadata": {
    "ExecuteTime": {
     "end_time": "2019-07-15T14:22:22.435043Z",
     "start_time": "2019-07-15T14:22:22.396141Z"
    }
   },
   "outputs": [
    {
     "ename": "NameError",
     "evalue": "name 'list_data' is not defined",
     "output_type": "error",
     "traceback": [
      "\u001b[0;31m---------------------------------------------------------------------------\u001b[0m",
      "\u001b[0;31mNameError\u001b[0m                                 Traceback (most recent call last)",
      "\u001b[0;32m<ipython-input-51-03c464a50aad>\u001b[0m in \u001b[0;36m<module>\u001b[0;34m\u001b[0m\n\u001b[0;32m----> 1\u001b[0;31m \u001b[0mx\u001b[0m \u001b[0;34m=\u001b[0m \u001b[0mnp\u001b[0m\u001b[0;34m.\u001b[0m\u001b[0mreshape\u001b[0m\u001b[0;34m(\u001b[0m\u001b[0mlist_data\u001b[0m\u001b[0;34m,\u001b[0m \u001b[0;34m(\u001b[0m\u001b[0;36m100\u001b[0m\u001b[0;34m,\u001b[0m \u001b[0;36m28\u001b[0m\u001b[0;34m)\u001b[0m\u001b[0;34m)\u001b[0m\u001b[0;34m.\u001b[0m\u001b[0mT\u001b[0m\u001b[0;34m\u001b[0m\u001b[0;34m\u001b[0m\u001b[0m\n\u001b[0m",
      "\u001b[0;31mNameError\u001b[0m: name 'list_data' is not defined"
     ]
    }
   ],
   "source": [
    "x = np.reshape(list, (100, 28)).T"
   ]
  },
  {
   "cell_type": "code",
   "execution_count": 54,
   "metadata": {
    "ExecuteTime": {
     "end_time": "2019-07-15T14:23:18.862252Z",
     "start_time": "2019-07-15T14:23:18.667553Z"
    }
   },
   "outputs": [],
   "source": [
    "df=pd.DataFrame(li)"
   ]
  },
  {
   "cell_type": "code",
   "execution_count": 56,
   "metadata": {
    "ExecuteTime": {
     "end_time": "2019-07-15T14:23:35.953330Z",
     "start_time": "2019-07-15T14:23:35.944273Z"
    }
   },
   "outputs": [],
   "source": [
    "df=df.transpose()"
   ]
  },
  {
   "cell_type": "code",
   "execution_count": 60,
   "metadata": {
    "ExecuteTime": {
     "end_time": "2019-07-15T14:24:05.747512Z",
     "start_time": "2019-07-15T14:24:05.734965Z"
    }
   },
   "outputs": [],
   "source": [
    "df=df.dropna()"
   ]
  },
  {
   "cell_type": "code",
   "execution_count": 61,
   "metadata": {
    "ExecuteTime": {
     "end_time": "2019-07-15T14:26:09.428202Z",
     "start_time": "2019-07-15T14:26:09.413738Z"
    }
   },
   "outputs": [
    {
     "data": {
      "text/plain": [
       "(494, 30)"
      ]
     },
     "execution_count": 61,
     "metadata": {},
     "output_type": "execute_result"
    }
   ],
   "source": [
    "df.shape"
   ]
  },
  {
   "cell_type": "markdown",
   "metadata": {},
   "source": [
    "## 6.2 Average Annual Percentage Return and Volatility of all 30 stocks over a theoretical one year period "
   ]
  },
  {
   "cell_type": "code",
   "execution_count": 126,
   "metadata": {
    "ExecuteTime": {
     "end_time": "2019-07-15T15:29:59.752331Z",
     "start_time": "2019-07-15T15:29:59.743577Z"
    }
   },
   "outputs": [],
   "source": [
    "import math"
   ]
  },
  {
   "cell_type": "code",
   "execution_count": 104,
   "metadata": {
    "ExecuteTime": {
     "end_time": "2019-07-15T15:27:20.165293Z",
     "start_time": "2019-07-15T15:27:20.131442Z"
    }
   },
   "outputs": [],
   "source": [
    "daily_returns=df.pct_change(fill_method='ffill')"
   ]
  },
  {
   "cell_type": "code",
   "execution_count": 105,
   "metadata": {
    "ExecuteTime": {
     "end_time": "2019-07-15T15:27:20.834665Z",
     "start_time": "2019-07-15T15:27:20.816517Z"
    }
   },
   "outputs": [],
   "source": [
    "daily_returns=daily_returns.dropna()"
   ]
  },
  {
   "cell_type": "code",
   "execution_count": 127,
   "metadata": {
    "ExecuteTime": {
     "end_time": "2019-07-15T15:30:01.530133Z",
     "start_time": "2019-07-15T15:30:01.502673Z"
    }
   },
   "outputs": [
    {
     "ename": "TypeError",
     "evalue": "cannot convert the series to <class 'float'>",
     "output_type": "error",
     "traceback": [
      "\u001b[0;31m---------------------------------------------------------------------------\u001b[0m",
      "\u001b[0;31mTypeError\u001b[0m                                 Traceback (most recent call last)",
      "\u001b[0;32m<ipython-input-127-295efd935a1d>\u001b[0m in \u001b[0;36m<module>\u001b[0;34m\u001b[0m\n\u001b[0;32m----> 1\u001b[0;31m \u001b[0mmean_daily_returns\u001b[0m \u001b[0;34m=\u001b[0m \u001b[0mmath\u001b[0m\u001b[0;34m.\u001b[0m\u001b[0mlog\u001b[0m\u001b[0;34m(\u001b[0m\u001b[0mdaily_returns\u001b[0m\u001b[0;34m.\u001b[0m\u001b[0mmean\u001b[0m\u001b[0;34m(\u001b[0m\u001b[0;34m)\u001b[0m\u001b[0;34m*\u001b[0m\u001b[0;36m100\u001b[0m\u001b[0;34m)\u001b[0m\u001b[0;34m\u001b[0m\u001b[0;34m\u001b[0m\u001b[0m\n\u001b[0m",
      "\u001b[0;32m~/anaconda3/lib/python3.7/site-packages/pandas/core/series.py\u001b[0m in \u001b[0;36mwrapper\u001b[0;34m(self)\u001b[0m\n\u001b[1;32m     91\u001b[0m             \u001b[0;32mreturn\u001b[0m \u001b[0mconverter\u001b[0m\u001b[0;34m(\u001b[0m\u001b[0mself\u001b[0m\u001b[0;34m.\u001b[0m\u001b[0miloc\u001b[0m\u001b[0;34m[\u001b[0m\u001b[0;36m0\u001b[0m\u001b[0;34m]\u001b[0m\u001b[0;34m)\u001b[0m\u001b[0;34m\u001b[0m\u001b[0;34m\u001b[0m\u001b[0m\n\u001b[1;32m     92\u001b[0m         raise TypeError(\"cannot convert the series to \"\n\u001b[0;32m---> 93\u001b[0;31m                         \"{0}\".format(str(converter)))\n\u001b[0m\u001b[1;32m     94\u001b[0m \u001b[0;34m\u001b[0m\u001b[0m\n\u001b[1;32m     95\u001b[0m     \u001b[0mwrapper\u001b[0m\u001b[0;34m.\u001b[0m\u001b[0m__name__\u001b[0m \u001b[0;34m=\u001b[0m \u001b[0;34m\"__{name}__\"\u001b[0m\u001b[0;34m.\u001b[0m\u001b[0mformat\u001b[0m\u001b[0;34m(\u001b[0m\u001b[0mname\u001b[0m\u001b[0;34m=\u001b[0m\u001b[0mconverter\u001b[0m\u001b[0;34m.\u001b[0m\u001b[0m__name__\u001b[0m\u001b[0;34m)\u001b[0m\u001b[0;34m\u001b[0m\u001b[0;34m\u001b[0m\u001b[0m\n",
      "\u001b[0;31mTypeError\u001b[0m: cannot convert the series to <class 'float'>"
     ]
    }
   ],
   "source": [
    "mean_daily_returns = math.log(daily_returns.mean()*100)"
   ]
  },
  {
   "cell_type": "code",
   "execution_count": 118,
   "metadata": {
    "ExecuteTime": {
     "end_time": "2019-07-15T15:29:21.463743Z",
     "start_time": "2019-07-15T15:29:21.454022Z"
    }
   },
   "outputs": [],
   "source": [
    "std_daily_returns = math.log(daily_returns.std()*100)"
   ]
  },
  {
   "cell_type": "code",
   "execution_count": 119,
   "metadata": {
    "ExecuteTime": {
     "end_time": "2019-07-15T15:29:22.021624Z",
     "start_time": "2019-07-15T15:29:22.013691Z"
    }
   },
   "outputs": [],
   "source": [
    "mean_daily_returns=mean_daily_returns.values.reshape(-1,1)"
   ]
  },
  {
   "cell_type": "code",
   "execution_count": 120,
   "metadata": {
    "ExecuteTime": {
     "end_time": "2019-07-15T15:29:22.545331Z",
     "start_time": "2019-07-15T15:29:22.534135Z"
    }
   },
   "outputs": [],
   "source": [
    "std_daily_returns=std_daily_returns.values.reshape(-1,1)"
   ]
  },
  {
   "cell_type": "code",
   "execution_count": 121,
   "metadata": {
    "ExecuteTime": {
     "end_time": "2019-07-15T15:29:22.983964Z",
     "start_time": "2019-07-15T15:29:22.968815Z"
    }
   },
   "outputs": [],
   "source": [
    "X_tr=pd.DataFrame(mean_daily_returns,std_daily_returns)"
   ]
  },
  {
   "cell_type": "code",
   "execution_count": 122,
   "metadata": {
    "ExecuteTime": {
     "end_time": "2019-07-15T15:29:23.413888Z",
     "start_time": "2019-07-15T15:29:23.406320Z"
    }
   },
   "outputs": [],
   "source": [
    "from sklearn.cluster import KMeans"
   ]
  },
  {
   "cell_type": "code",
   "execution_count": 124,
   "metadata": {
    "ExecuteTime": {
     "end_time": "2019-07-15T15:29:29.002318Z",
     "start_time": "2019-07-15T15:29:28.417628Z"
    }
   },
   "outputs": [
    {
     "data": {
      "image/png": "[encoded data removed]",
      "text/plain": [
       "<Figure size 432x288 with 1 Axes>"
      ]
     },
     "metadata": {
      "needs_background": "light"
     },
     "output_type": "display_data"
    }
   ],
   "source": [
    "loss = []\n",
    "for k in range(1,20):\n",
    "    kmeans = KMeans(n_clusters=k)\n",
    "    kmeans.fit(X_tr)\n",
    "    loss.append(kmeans.inertia_)\n",
    "plt.figure()\n",
    "plt.plot(range(1,20),loss)\n",
    "plt.xlabel(\"Number of clusters\")\n",
    "plt.ylabel(\"loss\")\n",
    "plt.show()"
   ]
  },
  {
   "cell_type": "code",
   "execution_count": 111,
   "metadata": {
    "ExecuteTime": {
     "end_time": "2019-07-15T15:28:03.542021Z",
     "start_time": "2019-07-15T15:28:03.534827Z"
    }
   },
   "outputs": [],
   "source": [
    "best_k=5"
   ]
  },
  {
   "cell_type": "code",
   "execution_count": 112,
   "metadata": {
    "ExecuteTime": {
     "end_time": "2019-07-15T15:28:04.082461Z",
     "start_time": "2019-07-15T15:28:04.018554Z"
    }
   },
   "outputs": [
    {
     "data": {
      "text/plain": [
       "KMeans(algorithm='auto', copy_x=True, init='k-means++', max_iter=300,\n",
       "       n_clusters=5, n_init=10, n_jobs=None, precompute_distances='auto',\n",
       "       random_state=None, tol=0.0001, verbose=0)"
      ]
     },
     "execution_count": 112,
     "metadata": {},
     "output_type": "execute_result"
    }
   ],
   "source": [
    "kmeans = KMeans(n_clusters=best_k)\n",
    "kmeans.fit(X_tr)"
   ]
  },
  {
   "cell_type": "code",
   "execution_count": 113,
   "metadata": {
    "ExecuteTime": {
     "end_time": "2019-07-15T15:28:04.766420Z",
     "start_time": "2019-07-15T15:28:04.753379Z"
    }
   },
   "outputs": [
    {
     "data": {
      "text/plain": [
       "array([3, 3, 3, 0, 0, 4, 3, 0, 3, 0, 0, 3, 4, 0, 0, 0, 1, 3, 0, 4, 3, 3,\n",
       "       4, 2, 0, 3, 3, 0, 3, 4], dtype=int32)"
      ]
     },
     "execution_count": 113,
     "metadata": {},
     "output_type": "execute_result"
    }
   ],
   "source": [
    "kmeans.labels_"
   ]
  },
  {
   "cell_type": "code",
   "execution_count": 110,
   "metadata": {
    "ExecuteTime": {
     "end_time": "2019-07-15T15:27:49.298081Z",
     "start_time": "2019-07-15T15:27:49.280239Z"
    }
   },
   "outputs": [
    {
     "data": {
      "text/plain": [
       "Close Price      1.857913\n",
       "Close Price      2.790477\n",
       "Close Price      2.747646\n",
       "Close Price      1.686149\n",
       "Close Price      1.601201\n",
       "Close Price      3.797721\n",
       "Close Price      2.092483\n",
       "Close Price      1.875195\n",
       "Close Price      2.655094\n",
       "Close Price      1.656651\n",
       "Close Price      1.955617\n",
       "Close Price      3.936208\n",
       "Close Price      2.534967\n",
       "Close Price      2.131875\n",
       "Close Price      1.319133\n",
       "Close Price      1.948904\n",
       "Close Price    271.634091\n",
       "Close Price      1.684622\n",
       "Close Price      2.428373\n",
       "Close Price      2.022486\n",
       "Close Price      2.229924\n",
       "Close Price      2.812470\n",
       "Close Price      1.750578\n",
       "Close Price     53.067450\n",
       "Close Price      3.830012\n",
       "Close Price      2.363971\n",
       "Close Price      3.324579\n",
       "Close Price      3.018480\n",
       "Close Price      1.868053\n",
       "Close Price      3.845991\n",
       "dtype: float64"
      ]
     },
     "execution_count": 110,
     "metadata": {},
     "output_type": "execute_result"
    }
   ],
   "source": [
    "std_daily_returns*100"
   ]
  },
  {
   "cell_type": "code",
   "execution_count": null,
   "metadata": {},
   "outputs": [],
   "source": []
  },
  {
   "cell_type": "code",
   "execution_count": null,
   "metadata": {},
   "outputs": [],
   "source": []
  },
  {
   "cell_type": "code",
   "execution_count": null,
   "metadata": {},
   "outputs": [],
   "source": []
  }
 ],
 "metadata": {
  "kernelspec": {
   "display_name": "Python 3",
   "language": "python",
   "name": "python3"
  },
  "language_info": {
   "codemirror_mode": {
    "name": "ipython",
    "version": 3
   },
   "file_extension": ".py",
   "mimetype": "text/x-python",
   "name": "python",
   "nbconvert_exporter": "python",
   "pygments_lexer": "ipython3",
   "version": "3.7.3"
  },
  "toc": {
   "base_numbering": 1,
   "nav_menu": {},
   "number_sections": true,
   "sideBar": true,
   "skip_h1_title": false,
   "title_cell": "Table of Contents",
   "title_sidebar": "Contents",
   "toc_cell": false,
   "toc_position": {},
   "toc_section_display": true,
   "toc_window_display": false
  },
  "varInspector": {
   "cols": {
    "lenName": 16,
    "lenType": 16,
    "lenVar": 40
   },
   "kernels_config": {
    "python": {
     "delete_cmd_postfix": "",
     "delete_cmd_prefix": "del ",
     "library": "var_list.py",
     "varRefreshCmd": "print(var_dic_list())"
    },
    "r": {
     "delete_cmd_postfix": ") ",
     "delete_cmd_prefix": "rm(",
     "library": "var_list.r",
     "varRefreshCmd": "cat(var_dic_list()) "
    }
   },
   "types_to_exclude": [
    "module",
    "function",
    "builtin_function_or_method",
    "instance",
    "_Feature"
   ],
   "window_display": false
  }
 },
 "nbformat": 4,
 "nbformat_minor": 2
}
