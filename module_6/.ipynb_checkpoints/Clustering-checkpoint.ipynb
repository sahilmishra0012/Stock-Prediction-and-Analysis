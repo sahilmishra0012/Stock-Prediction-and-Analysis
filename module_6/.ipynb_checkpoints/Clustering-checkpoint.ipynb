{
 "cells": [
  {
   "cell_type": "markdown",
   "metadata": {},
   "source": [
    "# Clustering"
   ]
  },
  {
   "cell_type": "code",
   "execution_count": 1,
   "metadata": {
    "ExecuteTime": {
     "end_time": "2019-07-15T18:01:49.606781Z",
     "start_time": "2019-07-15T18:01:48.859404Z"
    }
   },
   "outputs": [],
   "source": [
    "import warnings\n",
    "warnings.filterwarnings(\"ignore\")\n",
    "import numpy as np\n",
    "import pandas as pd\n",
    "import matplotlib.pyplot as plt\n",
    "import seaborn as sns\n",
    "import glob\n",
    "from scipy.spatial.distance import cdist\n",
    "import re"
   ]
  },
  {
   "cell_type": "markdown",
   "metadata": {},
   "source": [
    "## 6.1 DataFrame with the Closing Prices of 30 Different Stocks, 10 from each Caps "
   ]
  },
  {
   "cell_type": "markdown",
   "metadata": {},
   "source": [
    "### Read Path Where Files are Stored"
   ]
  },
  {
   "cell_type": "code",
   "execution_count": 2,
   "metadata": {
    "ExecuteTime": {
     "end_time": "2019-07-15T18:01:49.921986Z",
     "start_time": "2019-07-15T18:01:49.608548Z"
    }
   },
   "outputs": [],
   "source": [
    "path = r'/home/samthekiller/Downloads/intenship/work/module_6' # use your path\n",
    "all_files = glob.glob(path + \"/*.csv\")"
   ]
  },
  {
   "cell_type": "markdown",
   "metadata": {},
   "source": [
    "### Read 'Close Price' column from each dataset and Append it to a List"
   ]
  },
  {
   "cell_type": "code",
   "execution_count": 3,
   "metadata": {
    "ExecuteTime": {
     "end_time": "2019-07-15T18:01:50.124440Z",
     "start_time": "2019-07-15T18:01:49.929042Z"
    }
   },
   "outputs": [],
   "source": [
    "li = []\n",
    "\n",
    "for filename in all_files:\n",
    "    df = pd.read_csv(filename, index_col=None, header=0)\n",
    "    li.append(df['Close Price'])"
   ]
  },
  {
   "cell_type": "markdown",
   "metadata": {},
   "source": [
    "### Reading File Names to get Stock Names to plot Text in the Cluster Plots "
   ]
  },
  {
   "cell_type": "code",
   "execution_count": 4,
   "metadata": {
    "ExecuteTime": {
     "end_time": "2019-07-15T18:01:50.135168Z",
     "start_time": "2019-07-15T18:01:50.129655Z"
    }
   },
   "outputs": [],
   "source": [
    "filess=[]\n",
    "for i in range(30):\n",
    "    filess.append(all_files[i][-15::])"
   ]
  },
  {
   "cell_type": "code",
   "execution_count": 5,
   "metadata": {
    "ExecuteTime": {
     "end_time": "2019-07-15T18:01:50.211110Z",
     "start_time": "2019-07-15T18:01:50.138063Z"
    }
   },
   "outputs": [],
   "source": [
    "stock_names=[]\n",
    "for i in filess:\n",
    "    m = re.search('/(.+?).csv', i)\n",
    "    if m:\n",
    "        found = m.group(1)\n",
    "        stock_names.append(found)"
   ]
  },
  {
   "cell_type": "markdown",
   "metadata": {},
   "source": [
    "### Make DataFrame from all 'Close Price' Columns"
   ]
  },
  {
   "cell_type": "code",
   "execution_count": 6,
   "metadata": {
    "ExecuteTime": {
     "end_time": "2019-07-15T18:01:50.301360Z",
     "start_time": "2019-07-15T18:01:50.217643Z"
    }
   },
   "outputs": [],
   "source": [
    "df=pd.DataFrame(li)"
   ]
  },
  {
   "cell_type": "code",
   "execution_count": 7,
   "metadata": {
    "ExecuteTime": {
     "end_time": "2019-07-15T18:01:50.343352Z",
     "start_time": "2019-07-15T18:01:50.302989Z"
    }
   },
   "outputs": [],
   "source": [
    "df=df.transpose()"
   ]
  },
  {
   "cell_type": "code",
   "execution_count": 8,
   "metadata": {
    "ExecuteTime": {
     "end_time": "2019-07-15T18:01:50.416644Z",
     "start_time": "2019-07-15T18:01:50.347067Z"
    }
   },
   "outputs": [],
   "source": [
    "df=df.dropna()"
   ]
  },
  {
   "cell_type": "markdown",
   "metadata": {},
   "source": [
    "### Take a Year's data into consideration"
   ]
  },
  {
   "cell_type": "code",
   "execution_count": 9,
   "metadata": {
    "ExecuteTime": {
     "end_time": "2019-07-15T18:01:50.483284Z",
     "start_time": "2019-07-15T18:01:50.420957Z"
    }
   },
   "outputs": [],
   "source": [
    "df=df[:252]"
   ]
  },
  {
   "cell_type": "markdown",
   "metadata": {},
   "source": [
    "### Replace all 'Close Price' Column names with Stock Names"
   ]
  },
  {
   "cell_type": "code",
   "execution_count": 10,
   "metadata": {
    "ExecuteTime": {
     "end_time": "2019-07-15T18:01:50.547021Z",
     "start_time": "2019-07-15T18:01:50.490987Z"
    }
   },
   "outputs": [],
   "source": [
    "df.columns = stock_names"
   ]
  },
  {
   "cell_type": "markdown",
   "metadata": {},
   "source": [
    "## 6.2 Average Annual Percentage Return and Volatility of all 30 stocks over a theoretical one year period "
   ]
  },
  {
   "cell_type": "code",
   "execution_count": 11,
   "metadata": {
    "ExecuteTime": {
     "end_time": "2019-07-15T18:01:50.615744Z",
     "start_time": "2019-07-15T18:01:50.550569Z"
    }
   },
   "outputs": [],
   "source": [
    "import math"
   ]
  },
  {
   "cell_type": "markdown",
   "metadata": {},
   "source": [
    "### Daily Percentage Change"
   ]
  },
  {
   "cell_type": "code",
   "execution_count": 12,
   "metadata": {
    "ExecuteTime": {
     "end_time": "2019-07-15T18:01:50.739939Z",
     "start_time": "2019-07-15T18:01:50.621169Z"
    }
   },
   "outputs": [],
   "source": [
    "daily_returns=df.pct_change(fill_method='ffill')*100"
   ]
  },
  {
   "cell_type": "code",
   "execution_count": 13,
   "metadata": {
    "ExecuteTime": {
     "end_time": "2019-07-15T18:01:50.783656Z",
     "start_time": "2019-07-15T18:01:50.745622Z"
    }
   },
   "outputs": [],
   "source": [
    "daily_returns=daily_returns.dropna()"
   ]
  },
  {
   "cell_type": "markdown",
   "metadata": {},
   "source": [
    "### Mean Annual Percentage Return"
   ]
  },
  {
   "cell_type": "code",
   "execution_count": 14,
   "metadata": {
    "ExecuteTime": {
     "end_time": "2019-07-15T18:01:50.847193Z",
     "start_time": "2019-07-15T18:01:50.788179Z"
    }
   },
   "outputs": [],
   "source": [
    "mean_daily_returns = daily_returns.mean()"
   ]
  },
  {
   "cell_type": "markdown",
   "metadata": {
    "ExecuteTime": {
     "end_time": "2019-07-15T17:39:02.166753Z",
     "start_time": "2019-07-15T17:39:02.158701Z"
    }
   },
   "source": [
    "### Annual Percentage Volatility"
   ]
  },
  {
   "cell_type": "code",
   "execution_count": 15,
   "metadata": {
    "ExecuteTime": {
     "end_time": "2019-07-15T18:01:50.917547Z",
     "start_time": "2019-07-15T18:01:50.854317Z"
    }
   },
   "outputs": [],
   "source": [
    "std_daily_returns = daily_returns.std()"
   ]
  },
  {
   "cell_type": "markdown",
   "metadata": {},
   "source": [
    "### Create DataFrame of Returns and Volatility"
   ]
  },
  {
   "cell_type": "code",
   "execution_count": 16,
   "metadata": {
    "ExecuteTime": {
     "end_time": "2019-07-15T18:01:51.020670Z",
     "start_time": "2019-07-15T18:01:50.919267Z"
    }
   },
   "outputs": [],
   "source": [
    "X_tr=pd.DataFrame([mean_daily_returns,std_daily_returns])\n",
    "X_tr=X_tr.transpose()"
   ]
  },
  {
   "cell_type": "markdown",
   "metadata": {},
   "source": [
    "## 6.3 KMeans on the Returns and Volatility of 30 Stocks"
   ]
  },
  {
   "cell_type": "code",
   "execution_count": 17,
   "metadata": {
    "ExecuteTime": {
     "end_time": "2019-07-15T18:01:51.370832Z",
     "start_time": "2019-07-15T18:01:51.024563Z"
    }
   },
   "outputs": [],
   "source": [
    "from sklearn.cluster import KMeans"
   ]
  },
  {
   "cell_type": "markdown",
   "metadata": {},
   "source": [
    "### Elbow Method"
   ]
  },
  {
   "cell_type": "code",
   "execution_count": 18,
   "metadata": {
    "ExecuteTime": {
     "end_time": "2019-07-15T18:01:51.776810Z",
     "start_time": "2019-07-15T18:01:51.372395Z"
    }
   },
   "outputs": [
    {
     "data": {
      "image/png": "[encoded data removed]",
      "text/plain": [
       "<Figure size 432x288 with 1 Axes>"
      ]
     },
     "metadata": {
      "needs_background": "light"
     },
     "output_type": "display_data"
    }
   ],
   "source": [
    "loss = []\n",
    "for k in range(1,8):\n",
    "    kmeans = KMeans(n_clusters=k)\n",
    "    kmeans.fit(X_tr)\n",
    "    loss.append(sum(np.min(cdist(X_tr, kmeans.cluster_centers_, 'euclidean'), axis=1)) / X_tr.shape[0])\n",
    "plt.figure()\n",
    "plt.plot(range(1,8),loss)\n",
    "plt.xlabel(\"Number of clusters\")\n",
    "plt.ylabel(\"loss\")\n",
    "plt.show()"
   ]
  },
  {
   "cell_type": "code",
   "execution_count": 19,
   "metadata": {
    "ExecuteTime": {
     "end_time": "2019-07-15T18:01:51.782338Z",
     "start_time": "2019-07-15T18:01:51.778935Z"
    }
   },
   "outputs": [],
   "source": [
    "best_k=4"
   ]
  },
  {
   "cell_type": "markdown",
   "metadata": {},
   "source": [
    "### Train the Model"
   ]
  },
  {
   "cell_type": "code",
   "execution_count": 20,
   "metadata": {
    "ExecuteTime": {
     "end_time": "2019-07-15T18:01:51.887782Z",
     "start_time": "2019-07-15T18:01:51.785124Z"
    }
   },
   "outputs": [
    {
     "name": "stdout",
     "output_type": "stream",
     "text": [
      "[0 1 3 3 3 0 1 0 2 3 3 0 1 0 1 0 0 0 0 1 3 0 3 3 0 0 0 0 1 0]\n"
     ]
    }
   ],
   "source": [
    "kmeans = KMeans(n_clusters=best_k)\n",
    "kmeans.fit(X_tr)\n",
    "print(kmeans.labels_)"
   ]
  },
  {
   "cell_type": "markdown",
   "metadata": {},
   "source": [
    "## 6.4 Scatter Plot of Clusters and DataFrame to Store the Clusters"
   ]
  },
  {
   "cell_type": "markdown",
   "metadata": {},
   "source": [
    "### Scatter Plot"
   ]
  },
  {
   "cell_type": "code",
   "execution_count": 21,
   "metadata": {
    "ExecuteTime": {
     "end_time": "2019-07-15T18:01:52.259874Z",
     "start_time": "2019-07-15T18:01:51.890260Z"
    }
   },
   "outputs": [
    {
     "data": {
      "image/png": "[encoded data removed]",
      "text/plain": [
       "<Figure size 1296x720 with 1 Axes>"
      ]
     },
     "metadata": {
      "needs_background": "light"
     },
     "output_type": "display_data"
    }
   ],
   "source": [
    "plt.figure(figsize=(18,10))\n",
    "unique = list(set(kmeans.labels_))\n",
    "colors = [plt.cm.jet(float(i)/max(unique)) for i in unique]\n",
    "for i, u in enumerate(unique):\n",
    "    xi = [mean_daily_returns[j] for j  in range(len(mean_daily_returns)) if kmeans.labels_[j] == u]\n",
    "    yi = [std_daily_returns[j] for j  in range(len(std_daily_returns)) if kmeans.labels_[j] == u]\n",
    "    plt.scatter(xi, yi, c=[colors[i]], label=\"Cluster \"+str(u))\n",
    "for i,type in enumerate(stock_names):\n",
    "    plt.text(mean_daily_returns[i]+0.008,std_daily_returns[i]+0.008,type,fontsize=12)\n",
    "plt.legend()\n",
    "\n",
    "plt.show()"
   ]
  },
  {
   "cell_type": "markdown",
   "metadata": {},
   "source": [
    "### Cluster Stats to Store Clusters"
   ]
  },
  {
   "cell_type": "code",
   "execution_count": 22,
   "metadata": {
    "ExecuteTime": {
     "end_time": "2019-07-15T18:01:52.264879Z",
     "start_time": "2019-07-15T18:01:52.261769Z"
    }
   },
   "outputs": [],
   "source": [
    "cluster_0=[]\n",
    "cluster_1=[]\n",
    "cluster_2=[]\n",
    "cluster_3=[]"
   ]
  },
  {
   "cell_type": "code",
   "execution_count": 23,
   "metadata": {
    "ExecuteTime": {
     "end_time": "2019-07-15T18:01:52.364098Z",
     "start_time": "2019-07-15T18:01:52.269953Z"
    }
   },
   "outputs": [],
   "source": [
    "\n",
    "for j in range(30):\n",
    "    if kmeans.labels_[j]==0:\n",
    "        cluster_0.append(mean_daily_returns.index[j])\n",
    "    elif kmeans.labels_[j]==1:\n",
    "        cluster_1.append(mean_daily_returns.index[j])\n",
    "    elif kmeans.labels_[j]==2:\n",
    "        cluster_2.append(mean_daily_returns.index[j])\n",
    "    elif kmeans.labels_[j]==3:\n",
    "        cluster_3.append(mean_daily_returns.index[j])"
   ]
  },
  {
   "cell_type": "code",
   "execution_count": 24,
   "metadata": {
    "ExecuteTime": {
     "end_time": "2019-07-15T18:01:52.442437Z",
     "start_time": "2019-07-15T18:01:52.376422Z"
    }
   },
   "outputs": [
    {
     "name": "stdout",
     "output_type": "stream",
     "text": [
      "Number of Stocks in Cluster 0:  15\n",
      "Number of Stocks in Cluster 1:  6\n",
      "Number of Stocks in Cluster 2:  1\n",
      "Number of Stocks in Cluster 3:  8\n"
     ]
    }
   ],
   "source": [
    "print('Number of Stocks in Cluster 0: ',len(cluster_0))\n",
    "print('Number of Stocks in Cluster 1: ',len(cluster_1))\n",
    "print('Number of Stocks in Cluster 2: ',len(cluster_2))\n",
    "print('Number of Stocks in Cluster 3: ',len(cluster_3))"
   ]
  },
  {
   "cell_type": "code",
   "execution_count": 25,
   "metadata": {
    "ExecuteTime": {
     "end_time": "2019-07-15T18:01:52.525452Z",
     "start_time": "2019-07-15T18:01:52.445635Z"
    }
   },
   "outputs": [
    {
     "name": "stdout",
     "output_type": "stream",
     "text": [
      "Stocks in Cluster 0:  ['ADANIPOWER', 'SUNPHARMA', 'TITAN', 'LT', 'SUNTV', 'SONATSOFTW', 'VOLTAS', 'VIPIND', 'WELSPUNIND', 'RELINFRA', 'SUZLON', 'RAYMOND', 'MRPL', 'MINDAIND', 'NCC']\n",
      "Stocks in Cluster 1:  ['NBCC', 'RELIANCE', 'IOC', 'PNB', 'VENKEYS', 'M&M']\n",
      "Stocks in Cluster 2:  ['RCOM']\n",
      "Stocks in Cluster 3:  ['TATACHEM', 'TATAPOWER', 'ITC', 'TCS', 'INFY', 'RBLBANK', 'MARUTI', 'PVR']\n"
     ]
    }
   ],
   "source": [
    "print('Stocks in Cluster 0: ',cluster_0)\n",
    "print('Stocks in Cluster 1: ',cluster_1)\n",
    "print('Stocks in Cluster 2: ',cluster_2)\n",
    "print('Stocks in Cluster 3: ',cluster_3)"
   ]
  }
 ],
 "metadata": {
  "kernelspec": {
   "display_name": "Python 3",
   "language": "python",
   "name": "python3"
  },
  "language_info": {
   "codemirror_mode": {
    "name": "ipython",
    "version": 3
   },
   "file_extension": ".py",
   "mimetype": "text/x-python",
   "name": "python",
   "nbconvert_exporter": "python",
   "pygments_lexer": "ipython3",
   "version": "3.7.3"
  },
  "toc": {
   "base_numbering": 1,
   "nav_menu": {},
   "number_sections": true,
   "sideBar": true,
   "skip_h1_title": false,
   "title_cell": "Table of Contents",
   "title_sidebar": "Contents",
   "toc_cell": false,
   "toc_position": {},
   "toc_section_display": true,
   "toc_window_display": false
  },
  "varInspector": {
   "cols": {
    "lenName": 16,
    "lenType": 16,
    "lenVar": 40
   },
   "kernels_config": {
    "python": {
     "delete_cmd_postfix": "",
     "delete_cmd_prefix": "del ",
     "library": "var_list.py",
     "varRefreshCmd": "print(var_dic_list())"
    },
    "r": {
     "delete_cmd_postfix": ") ",
     "delete_cmd_prefix": "rm(",
     "library": "var_list.r",
     "varRefreshCmd": "cat(var_dic_list()) "
    }
   },
   "types_to_exclude": [
    "module",
    "function",
    "builtin_function_or_method",
    "instance",
    "_Feature"
   ],
   "window_display": false
  }
 },
 "nbformat": 4,
 "nbformat_minor": 2
}
