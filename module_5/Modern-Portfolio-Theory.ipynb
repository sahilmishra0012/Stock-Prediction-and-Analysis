{
 "cells": [
  {
   "cell_type": "markdown",
   "metadata": {},
   "source": [
    "# Modern Portfolio Theory"
   ]
  },
  {
   "cell_type": "code",
   "execution_count": 1,
   "metadata": {
    "ExecuteTime": {
     "end_time": "2019-07-14T09:02:18.730205Z",
     "start_time": "2019-07-14T09:02:17.972486Z"
    }
   },
   "outputs": [],
   "source": [
    "import numpy as np\n",
    "import pandas as pd\n",
    "import matplotlib.pyplot as plt\n",
    "import seaborn as sns"
   ]
  },
  {
   "cell_type": "markdown",
   "metadata": {},
   "source": [
    "## 5.1 Annual Mean(Return) and Annual STD(Volatility)"
   ]
  },
  {
   "cell_type": "code",
   "execution_count": 2,
   "metadata": {
    "ExecuteTime": {
     "end_time": "2019-07-14T09:02:18.868021Z",
     "start_time": "2019-07-14T09:02:18.732306Z"
    }
   },
   "outputs": [],
   "source": [
    "data=pd.read_csv('INFRATEL.csv')"
   ]
  },
  {
   "cell_type": "markdown",
   "metadata": {},
   "source": [
    "### Daily Return"
   ]
  },
  {
   "cell_type": "code",
   "execution_count": 3,
   "metadata": {
    "ExecuteTime": {
     "end_time": "2019-07-14T09:02:19.478871Z",
     "start_time": "2019-07-14T09:02:18.872531Z"
    }
   },
   "outputs": [],
   "source": [
    "data['Day_Perc_Change']=data['Close Price'].pct_change(fill_method='ffill')"
   ]
  },
  {
   "cell_type": "code",
   "execution_count": 4,
   "metadata": {
    "ExecuteTime": {
     "end_time": "2019-07-14T09:02:20.020295Z",
     "start_time": "2019-07-14T09:02:19.485453Z"
    }
   },
   "outputs": [],
   "source": [
    "data[\"Day_Perc_Change\"]=data[\"Day_Perc_Change\"].fillna(0)"
   ]
  },
  {
   "cell_type": "markdown",
   "metadata": {},
   "source": [
    "### Mean Daily Return"
   ]
  },
  {
   "cell_type": "code",
   "execution_count": 5,
   "metadata": {
    "ExecuteTime": {
     "end_time": "2019-07-14T09:02:20.094628Z",
     "start_time": "2019-07-14T09:02:20.027000Z"
    }
   },
   "outputs": [],
   "source": [
    "daily_mean=data['Day_Perc_Change'].mean()"
   ]
  },
  {
   "cell_type": "markdown",
   "metadata": {},
   "source": [
    "### Daily Standard Deviation"
   ]
  },
  {
   "cell_type": "code",
   "execution_count": 6,
   "metadata": {
    "ExecuteTime": {
     "end_time": "2019-07-14T09:02:20.516618Z",
     "start_time": "2019-07-14T09:02:20.097950Z"
    }
   },
   "outputs": [],
   "source": [
    "daily_std=data['Day_Perc_Change'].std()"
   ]
  },
  {
   "cell_type": "markdown",
   "metadata": {},
   "source": [
    "### Annual Mean(Return)"
   ]
  },
  {
   "cell_type": "code",
   "execution_count": 7,
   "metadata": {
    "ExecuteTime": {
     "end_time": "2019-07-14T09:02:20.631034Z",
     "start_time": "2019-07-14T09:02:20.521496Z"
    }
   },
   "outputs": [
    {
     "data": {
      "text/plain": [
       "-0.1239"
      ]
     },
     "execution_count": 7,
     "metadata": {},
     "output_type": "execute_result"
    }
   ],
   "source": [
    "annual_mean=round(daily_mean*252,4)\n",
    "annual_mean"
   ]
  },
  {
   "cell_type": "markdown",
   "metadata": {},
   "source": [
    "### Annual Standard Deviation(Volatility)"
   ]
  },
  {
   "cell_type": "code",
   "execution_count": 8,
   "metadata": {
    "ExecuteTime": {
     "end_time": "2019-07-14T09:02:20.713526Z",
     "start_time": "2019-07-14T09:02:20.646327Z"
    }
   },
   "outputs": [
    {
     "data": {
      "text/plain": [
       "0.3057"
      ]
     },
     "execution_count": 8,
     "metadata": {},
     "output_type": "execute_result"
    }
   ],
   "source": [
    "annual_std=round(daily_std*np.sqrt(252),4)\n",
    "annual_std"
   ]
  },
  {
   "cell_type": "markdown",
   "metadata": {},
   "source": [
    "## 5.2 Portfolio Diversification(5 Different Stocks)"
   ]
  },
  {
   "cell_type": "code",
   "execution_count": 9,
   "metadata": {
    "ExecuteTime": {
     "end_time": "2019-07-14T09:02:21.313634Z",
     "start_time": "2019-07-14T09:02:20.718494Z"
    }
   },
   "outputs": [],
   "source": [
    "data1=pd.read_csv('IDFC.csv')"
   ]
  },
  {
   "cell_type": "code",
   "execution_count": 10,
   "metadata": {
    "ExecuteTime": {
     "end_time": "2019-07-14T09:02:21.382158Z",
     "start_time": "2019-07-14T09:02:21.319322Z"
    }
   },
   "outputs": [],
   "source": [
    "data2=pd.read_csv('AXISBANK.csv')"
   ]
  },
  {
   "cell_type": "code",
   "execution_count": 11,
   "metadata": {
    "ExecuteTime": {
     "end_time": "2019-07-14T09:02:21.476950Z",
     "start_time": "2019-07-14T09:02:21.385166Z"
    },
    "scrolled": true
   },
   "outputs": [],
   "source": [
    "data3=pd.read_csv('CASTROLIND.csv')"
   ]
  },
  {
   "cell_type": "code",
   "execution_count": 12,
   "metadata": {
    "ExecuteTime": {
     "end_time": "2019-07-14T09:02:21.541198Z",
     "start_time": "2019-07-14T09:02:21.486267Z"
    }
   },
   "outputs": [],
   "source": [
    "data4=pd.read_csv('RAYMOND.csv')"
   ]
  },
  {
   "cell_type": "markdown",
   "metadata": {},
   "source": [
    "### Merge Close Prices of all Stocks into a DataFrame"
   ]
  },
  {
   "cell_type": "code",
   "execution_count": 13,
   "metadata": {
    "ExecuteTime": {
     "end_time": "2019-07-14T09:02:21.610496Z",
     "start_time": "2019-07-14T09:02:21.543391Z"
    }
   },
   "outputs": [],
   "source": [
    "data_new=pd.DataFrame()"
   ]
  },
  {
   "cell_type": "code",
   "execution_count": 14,
   "metadata": {
    "ExecuteTime": {
     "end_time": "2019-07-14T09:02:21.696425Z",
     "start_time": "2019-07-14T09:02:21.611944Z"
    }
   },
   "outputs": [],
   "source": [
    "data_new['Close Price1']=data['Close Price']"
   ]
  },
  {
   "cell_type": "code",
   "execution_count": 15,
   "metadata": {
    "ExecuteTime": {
     "end_time": "2019-07-14T09:02:21.780869Z",
     "start_time": "2019-07-14T09:02:21.700571Z"
    }
   },
   "outputs": [],
   "source": [
    "data_new['Close Price2']=data1['Close Price']"
   ]
  },
  {
   "cell_type": "code",
   "execution_count": 16,
   "metadata": {
    "ExecuteTime": {
     "end_time": "2019-07-14T09:02:21.867463Z",
     "start_time": "2019-07-14T09:02:21.782563Z"
    }
   },
   "outputs": [],
   "source": [
    "data_new['Close Price3']=data2['Close Price']"
   ]
  },
  {
   "cell_type": "code",
   "execution_count": 17,
   "metadata": {
    "ExecuteTime": {
     "end_time": "2019-07-14T09:02:22.007138Z",
     "start_time": "2019-07-14T09:02:21.882669Z"
    }
   },
   "outputs": [],
   "source": [
    "data_new['Close Price4']=data3['Close Price']"
   ]
  },
  {
   "cell_type": "code",
   "execution_count": 18,
   "metadata": {
    "ExecuteTime": {
     "end_time": "2019-07-14T09:02:22.475284Z",
     "start_time": "2019-07-14T09:02:22.014318Z"
    }
   },
   "outputs": [],
   "source": [
    "data_new['Close Price5']=data4['Close Price']"
   ]
  },
  {
   "cell_type": "code",
   "execution_count": 19,
   "metadata": {
    "ExecuteTime": {
     "end_time": "2019-07-14T09:02:22.650343Z",
     "start_time": "2019-07-14T09:02:22.483181Z"
    }
   },
   "outputs": [],
   "source": [
    "data_new=data_new.fillna(data_new.mean())"
   ]
  },
  {
   "cell_type": "markdown",
   "metadata": {},
   "source": [
    "### Daily Return"
   ]
  },
  {
   "cell_type": "code",
   "execution_count": 20,
   "metadata": {
    "ExecuteTime": {
     "end_time": "2019-07-14T09:02:22.747973Z",
     "start_time": "2019-07-14T09:02:22.657049Z"
    }
   },
   "outputs": [],
   "source": [
    "daily_returns=data_new.pct_change(fill_method='ffill')"
   ]
  },
  {
   "cell_type": "code",
   "execution_count": 21,
   "metadata": {
    "ExecuteTime": {
     "end_time": "2019-07-14T09:02:22.852402Z",
     "start_time": "2019-07-14T09:02:22.751699Z"
    }
   },
   "outputs": [],
   "source": [
    "daily_returns=daily_returns.fillna(daily_returns.mean())"
   ]
  },
  {
   "cell_type": "markdown",
   "metadata": {},
   "source": [
    "### Mean Daily Return"
   ]
  },
  {
   "cell_type": "code",
   "execution_count": 22,
   "metadata": {
    "ExecuteTime": {
     "end_time": "2019-07-14T09:02:22.948821Z",
     "start_time": "2019-07-14T09:02:22.859389Z"
    }
   },
   "outputs": [],
   "source": [
    "mean_daily_returns = daily_returns.mean()"
   ]
  },
  {
   "cell_type": "markdown",
   "metadata": {},
   "source": [
    "### Covariance Matrix"
   ]
  },
  {
   "cell_type": "code",
   "execution_count": 23,
   "metadata": {
    "ExecuteTime": {
     "end_time": "2019-07-14T09:02:23.037684Z",
     "start_time": "2019-07-14T09:02:22.972511Z"
    }
   },
   "outputs": [],
   "source": [
    "cov_matrix = daily_returns.cov()"
   ]
  },
  {
   "cell_type": "code",
   "execution_count": 24,
   "metadata": {
    "ExecuteTime": {
     "end_time": "2019-07-14T09:02:23.140445Z",
     "start_time": "2019-07-14T09:02:23.041349Z"
    }
   },
   "outputs": [
    {
     "data": {
      "text/html": [
       "<div>\n",
       "<style scoped>\n",
       "    .dataframe tbody tr th:only-of-type {\n",
       "        vertical-align: middle;\n",
       "    }\n",
       "\n",
       "    .dataframe tbody tr th {\n",
       "        vertical-align: top;\n",
       "    }\n",
       "\n",
       "    .dataframe thead th {\n",
       "        text-align: right;\n",
       "    }\n",
       "</style>\n",
       "<table border=\"1\" class=\"dataframe\">\n",
       "  <thead>\n",
       "    <tr style=\"text-align: right;\">\n",
       "      <th></th>\n",
       "      <th>Close Price1</th>\n",
       "      <th>Close Price2</th>\n",
       "      <th>Close Price3</th>\n",
       "      <th>Close Price4</th>\n",
       "      <th>Close Price5</th>\n",
       "    </tr>\n",
       "  </thead>\n",
       "  <tbody>\n",
       "    <tr>\n",
       "      <th>Close Price1</th>\n",
       "      <td>0.000371</td>\n",
       "      <td>0.000021</td>\n",
       "      <td>0.000030</td>\n",
       "      <td>-0.000032</td>\n",
       "      <td>0.000014</td>\n",
       "    </tr>\n",
       "    <tr>\n",
       "      <th>Close Price2</th>\n",
       "      <td>0.000021</td>\n",
       "      <td>0.000496</td>\n",
       "      <td>0.000049</td>\n",
       "      <td>0.000063</td>\n",
       "      <td>0.000066</td>\n",
       "    </tr>\n",
       "    <tr>\n",
       "      <th>Close Price3</th>\n",
       "      <td>0.000030</td>\n",
       "      <td>0.000049</td>\n",
       "      <td>0.000306</td>\n",
       "      <td>-0.000006</td>\n",
       "      <td>0.000077</td>\n",
       "    </tr>\n",
       "    <tr>\n",
       "      <th>Close Price4</th>\n",
       "      <td>-0.000032</td>\n",
       "      <td>0.000063</td>\n",
       "      <td>-0.000006</td>\n",
       "      <td>0.000789</td>\n",
       "      <td>0.000042</td>\n",
       "    </tr>\n",
       "    <tr>\n",
       "      <th>Close Price5</th>\n",
       "      <td>0.000014</td>\n",
       "      <td>0.000066</td>\n",
       "      <td>0.000077</td>\n",
       "      <td>0.000042</td>\n",
       "      <td>0.000524</td>\n",
       "    </tr>\n",
       "  </tbody>\n",
       "</table>\n",
       "</div>"
      ],
      "text/plain": [
       "              Close Price1  Close Price2  Close Price3  Close Price4  \\\n",
       "Close Price1      0.000371      0.000021      0.000030     -0.000032   \n",
       "Close Price2      0.000021      0.000496      0.000049      0.000063   \n",
       "Close Price3      0.000030      0.000049      0.000306     -0.000006   \n",
       "Close Price4     -0.000032      0.000063     -0.000006      0.000789   \n",
       "Close Price5      0.000014      0.000066      0.000077      0.000042   \n",
       "\n",
       "              Close Price5  \n",
       "Close Price1      0.000014  \n",
       "Close Price2      0.000066  \n",
       "Close Price3      0.000077  \n",
       "Close Price4      0.000042  \n",
       "Close Price5      0.000524  "
      ]
     },
     "execution_count": 24,
     "metadata": {},
     "output_type": "execute_result"
    }
   ],
   "source": [
    "cov_matrix"
   ]
  },
  {
   "cell_type": "markdown",
   "metadata": {},
   "source": [
    "### Initializing Weights(20% Each)"
   ]
  },
  {
   "cell_type": "code",
   "execution_count": 25,
   "metadata": {
    "ExecuteTime": {
     "end_time": "2019-07-14T09:02:23.219765Z",
     "start_time": "2019-07-14T09:02:23.142946Z"
    }
   },
   "outputs": [],
   "source": [
    "weights = np.asarray([0.2,0.2,0.2,0.2,0.2])"
   ]
  },
  {
   "cell_type": "markdown",
   "metadata": {},
   "source": [
    "### Annual Mean(Return)"
   ]
  },
  {
   "cell_type": "code",
   "execution_count": 26,
   "metadata": {
    "ExecuteTime": {
     "end_time": "2019-07-14T09:02:23.316446Z",
     "start_time": "2019-07-14T09:02:23.224456Z"
    }
   },
   "outputs": [],
   "source": [
    "annual_return = round(np.sum(mean_daily_returns * weights) * 252,4)"
   ]
  },
  {
   "cell_type": "code",
   "execution_count": 27,
   "metadata": {
    "ExecuteTime": {
     "end_time": "2019-07-14T09:02:23.408959Z",
     "start_time": "2019-07-14T09:02:23.323902Z"
    }
   },
   "outputs": [
    {
     "data": {
      "text/plain": [
       "-0.0908"
      ]
     },
     "execution_count": 27,
     "metadata": {},
     "output_type": "execute_result"
    }
   ],
   "source": [
    "annual_return"
   ]
  },
  {
   "cell_type": "markdown",
   "metadata": {},
   "source": [
    "### Annual Standard Deviation(Volatility)"
   ]
  },
  {
   "cell_type": "code",
   "execution_count": 28,
   "metadata": {
    "ExecuteTime": {
     "end_time": "2019-07-14T09:02:23.495768Z",
     "start_time": "2019-07-14T09:02:23.417135Z"
    }
   },
   "outputs": [],
   "source": [
    "annual_std = round(np.sqrt(np.dot(weights.T,np.dot(cov_matrix, weights))) * np.sqrt(252),4)"
   ]
  },
  {
   "cell_type": "code",
   "execution_count": 29,
   "metadata": {
    "ExecuteTime": {
     "end_time": "2019-07-14T09:02:23.584353Z",
     "start_time": "2019-07-14T09:02:23.500274Z"
    }
   },
   "outputs": [
    {
     "data": {
      "text/plain": [
       "0.1777"
      ]
     },
     "execution_count": 29,
     "metadata": {},
     "output_type": "execute_result"
    }
   ],
   "source": [
    "annual_std"
   ]
  },
  {
   "cell_type": "markdown",
   "metadata": {},
   "source": [
    "## 5.3 Scatter Plots for Different Weights"
   ]
  },
  {
   "cell_type": "code",
   "execution_count": 30,
   "metadata": {
    "ExecuteTime": {
     "end_time": "2019-07-14T09:02:23.679048Z",
     "start_time": "2019-07-14T09:02:23.586475Z"
    }
   },
   "outputs": [],
   "source": [
    "total_points = 100000"
   ]
  },
  {
   "cell_type": "markdown",
   "metadata": {},
   "source": [
    "### Results Matrix"
   ]
  },
  {
   "cell_type": "code",
   "execution_count": 31,
   "metadata": {
    "ExecuteTime": {
     "end_time": "2019-07-14T09:02:23.764288Z",
     "start_time": "2019-07-14T09:02:23.688520Z"
    }
   },
   "outputs": [],
   "source": [
    "#set up array to hold results\n",
    "results = np.zeros((3,total_points))"
   ]
  },
  {
   "cell_type": "markdown",
   "metadata": {},
   "source": [
    "### Return, Volatility and Sharpe Calculation"
   ]
  },
  {
   "cell_type": "code",
   "execution_count": 32,
   "metadata": {
    "ExecuteTime": {
     "end_time": "2019-07-14T09:02:56.035158Z",
     "start_time": "2019-07-14T09:02:23.766200Z"
    }
   },
   "outputs": [],
   "source": [
    "for i in range(total_points):\n",
    "    #random weights\n",
    "    weight = np.random.random(5)\n",
    "    #rebalance weights to sum to 1\n",
    "    weight /= np.sum(weight)\n",
    "    \n",
    "    #calculate portfolio return and volatility\n",
    "    portfolio_return = round(np.sum(mean_daily_returns * weight) * 252,4)\n",
    "    portfolio_std_dev = round(np.sqrt(np.dot(weight.T,np.dot(cov_matrix, weight))) * np.sqrt(252),4)\n",
    "    results[0,i] = portfolio_return\n",
    "    results[1,i] = portfolio_std_dev\n",
    "    # Sharpe Ratio\n",
    "    results[2,i] = results[0,i] / results[1,i]"
   ]
  },
  {
   "cell_type": "markdown",
   "metadata": {},
   "source": [
    "### Scatter Plot"
   ]
  },
  {
   "cell_type": "code",
   "execution_count": 33,
   "metadata": {
    "ExecuteTime": {
     "end_time": "2019-07-14T09:02:59.675228Z",
     "start_time": "2019-07-14T09:02:56.036883Z"
    }
   },
   "outputs": [
    {
     "data": {
      "image/png": "[encoded data removed]",
      "text/plain": [
       "<Figure size 432x288 with 2 Axes>"
      ]
     },
     "metadata": {
      "needs_background": "light"
     },
     "output_type": "display_data"
    }
   ],
   "source": [
    "#convert results array to Pandas DataFrame\n",
    "results_df = pd.DataFrame(results.T,columns=['Return','STD','Sharpe'])\n",
    "\n",
    "#create scatter plot coloured by Sharpe Ratio\n",
    "plt.scatter(results_df.STD,results_df.Return,c=results_df.Sharpe,cmap='RdYlBu')\n",
    "plt.xlabel('Volatility')\n",
    "plt.ylabel('Returns')\n",
    "plt.colorbar()\n",
    "plt.show()"
   ]
  },
  {
   "cell_type": "markdown",
   "metadata": {},
   "source": [
    "## 5.4 Portfolio Marking"
   ]
  },
  {
   "cell_type": "markdown",
   "metadata": {},
   "source": [
    "### Max Sharpe and Min Volatility Calculation"
   ]
  },
  {
   "cell_type": "code",
   "execution_count": 34,
   "metadata": {
    "ExecuteTime": {
     "end_time": "2019-07-14T09:02:59.683736Z",
     "start_time": "2019-07-14T09:02:59.677430Z"
    }
   },
   "outputs": [],
   "source": [
    "max_sharpe = results_df.iloc[results_df['Sharpe'].idxmax()]\n",
    "min_vol = results_df.iloc[results_df['STD'].idxmin()]"
   ]
  },
  {
   "cell_type": "markdown",
   "metadata": {},
   "source": [
    "### Scatter Plot with Portfolio Marking"
   ]
  },
  {
   "cell_type": "code",
   "execution_count": 35,
   "metadata": {
    "ExecuteTime": {
     "end_time": "2019-07-14T09:03:04.915927Z",
     "start_time": "2019-07-14T09:02:59.686981Z"
    }
   },
   "outputs": [
    {
     "data": {
      "text/plain": [
       "[]"
      ]
     },
     "execution_count": 35,
     "metadata": {},
     "output_type": "execute_result"
    },
    {
     "data": {
      "image/png": "[encoded data removed]",
      "text/plain": [
       "<Figure size 432x288 with 2 Axes>"
      ]
     },
     "metadata": {
      "needs_background": "light"
     },
     "output_type": "display_data"
    }
   ],
   "source": [
    "plt.scatter(results_df.STD,results_df.Return,c=results_df.Sharpe,cmap='RdYlBu')\n",
    "plt.scatter(max_sharpe[1],max_sharpe[0],marker=(5,1,0),color='r',s=50)\n",
    "plt.scatter(min_vol[1],min_vol[0],marker=(5,1,0),color='g',s=50)\n",
    "plt.xlabel('Volatility')\n",
    "plt.ylabel('Returns')\n",
    "plt.colorbar()\n",
    "plt.plot()"
   ]
  }
 ],
 "metadata": {
  "kernelspec": {
   "display_name": "Python 3",
   "language": "python",
   "name": "python3"
  },
  "language_info": {
   "codemirror_mode": {
    "name": "ipython",
    "version": 3
   },
   "file_extension": ".py",
   "mimetype": "text/x-python",
   "name": "python",
   "nbconvert_exporter": "python",
   "pygments_lexer": "ipython3",
   "version": "3.7.3"
  },
  "toc": {
   "base_numbering": 1,
   "nav_menu": {},
   "number_sections": true,
   "sideBar": true,
   "skip_h1_title": false,
   "title_cell": "Table of Contents",
   "title_sidebar": "Contents",
   "toc_cell": false,
   "toc_position": {},
   "toc_section_display": true,
   "toc_window_display": false
  },
  "varInspector": {
   "cols": {
    "lenName": 16,
    "lenType": 16,
    "lenVar": 40
   },
   "kernels_config": {
    "python": {
     "delete_cmd_postfix": "",
     "delete_cmd_prefix": "del ",
     "library": "var_list.py",
     "varRefreshCmd": "print(var_dic_list())"
    },
    "r": {
     "delete_cmd_postfix": ") ",
     "delete_cmd_prefix": "rm(",
     "library": "var_list.r",
     "varRefreshCmd": "cat(var_dic_list()) "
    }
   },
   "types_to_exclude": [
    "module",
    "function",
    "builtin_function_or_method",
    "instance",
    "_Feature"
   ],
   "window_display": false
  }
 },
 "nbformat": 4,
 "nbformat_minor": 2
}
