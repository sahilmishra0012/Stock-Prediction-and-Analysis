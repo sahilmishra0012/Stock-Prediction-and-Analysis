{
 "cells": [
  {
   "cell_type": "code",
   "execution_count": 25,
   "metadata": {
    "ExecuteTime": {
     "end_time": "2019-07-14T05:13:34.017211Z",
     "start_time": "2019-07-14T05:13:33.999747Z"
    }
   },
   "outputs": [],
   "source": [
    "import numpy as np\n",
    "import pandas as pd\n",
    "import matplotlib.pyplot as plt\n",
    "import seaborn as sns\n",
    "import math "
   ]
  },
  {
   "cell_type": "code",
   "execution_count": 2,
   "metadata": {
    "ExecuteTime": {
     "end_time": "2019-07-14T05:08:25.290491Z",
     "start_time": "2019-07-14T05:08:23.689347Z"
    }
   },
   "outputs": [],
   "source": [
    "data=pd.read_csv('INFRATEL.csv')"
   ]
  },
  {
   "cell_type": "code",
   "execution_count": 8,
   "metadata": {
    "ExecuteTime": {
     "end_time": "2019-07-14T05:08:57.260560Z",
     "start_time": "2019-07-14T05:08:56.443401Z"
    }
   },
   "outputs": [
    {
     "data": {
      "text/html": [
       "<div>\n",
       "<style scoped>\n",
       "    .dataframe tbody tr th:only-of-type {\n",
       "        vertical-align: middle;\n",
       "    }\n",
       "\n",
       "    .dataframe tbody tr th {\n",
       "        vertical-align: top;\n",
       "    }\n",
       "\n",
       "    .dataframe thead th {\n",
       "        text-align: right;\n",
       "    }\n",
       "</style>\n",
       "<table border=\"1\" class=\"dataframe\">\n",
       "  <thead>\n",
       "    <tr style=\"text-align: right;\">\n",
       "      <th></th>\n",
       "      <th>Prev Close</th>\n",
       "      <th>Open Price</th>\n",
       "      <th>High Price</th>\n",
       "      <th>Low Price</th>\n",
       "      <th>Last Price</th>\n",
       "      <th>Close Price</th>\n",
       "      <th>Average Price</th>\n",
       "      <th>Total Traded Quantity</th>\n",
       "      <th>Turnover</th>\n",
       "      <th>No. of Trades</th>\n",
       "      <th>Deliverable Qty</th>\n",
       "      <th>% Dly Qt to Traded Qty</th>\n",
       "    </tr>\n",
       "  </thead>\n",
       "  <tbody>\n",
       "    <tr>\n",
       "      <th>count</th>\n",
       "      <td>494.000000</td>\n",
       "      <td>494.000000</td>\n",
       "      <td>494.000000</td>\n",
       "      <td>494.000000</td>\n",
       "      <td>494.000000</td>\n",
       "      <td>494.000000</td>\n",
       "      <td>494.000000</td>\n",
       "      <td>4.940000e+02</td>\n",
       "      <td>4.940000e+02</td>\n",
       "      <td>494.000000</td>\n",
       "      <td>4.940000e+02</td>\n",
       "      <td>494.000000</td>\n",
       "    </tr>\n",
       "    <tr>\n",
       "      <th>mean</th>\n",
       "      <td>330.520749</td>\n",
       "      <td>330.719737</td>\n",
       "      <td>335.645850</td>\n",
       "      <td>325.393623</td>\n",
       "      <td>330.235931</td>\n",
       "      <td>330.299595</td>\n",
       "      <td>330.468158</td>\n",
       "      <td>3.482303e+06</td>\n",
       "      <td>1.177754e+09</td>\n",
       "      <td>57056.591093</td>\n",
       "      <td>2.008089e+06</td>\n",
       "      <td>54.615445</td>\n",
       "    </tr>\n",
       "    <tr>\n",
       "      <th>std</th>\n",
       "      <td>51.927489</td>\n",
       "      <td>52.211922</td>\n",
       "      <td>52.848153</td>\n",
       "      <td>51.302441</td>\n",
       "      <td>51.875968</td>\n",
       "      <td>51.971576</td>\n",
       "      <td>52.016754</td>\n",
       "      <td>6.468444e+06</td>\n",
       "      <td>2.533240e+09</td>\n",
       "      <td>31831.065955</td>\n",
       "      <td>4.331648e+06</td>\n",
       "      <td>16.299577</td>\n",
       "    </tr>\n",
       "    <tr>\n",
       "      <th>min</th>\n",
       "      <td>249.200000</td>\n",
       "      <td>242.650000</td>\n",
       "      <td>251.700000</td>\n",
       "      <td>242.250000</td>\n",
       "      <td>249.500000</td>\n",
       "      <td>249.200000</td>\n",
       "      <td>249.480000</td>\n",
       "      <td>9.425700e+04</td>\n",
       "      <td>2.497926e+07</td>\n",
       "      <td>1001.000000</td>\n",
       "      <td>3.785800e+04</td>\n",
       "      <td>7.730000</td>\n",
       "    </tr>\n",
       "    <tr>\n",
       "      <th>25%</th>\n",
       "      <td>286.862500</td>\n",
       "      <td>287.000000</td>\n",
       "      <td>291.487500</td>\n",
       "      <td>283.450000</td>\n",
       "      <td>286.087500</td>\n",
       "      <td>286.737500</td>\n",
       "      <td>286.465000</td>\n",
       "      <td>1.662104e+06</td>\n",
       "      <td>5.491422e+08</td>\n",
       "      <td>34297.000000</td>\n",
       "      <td>8.341755e+05</td>\n",
       "      <td>43.787500</td>\n",
       "    </tr>\n",
       "    <tr>\n",
       "      <th>50%</th>\n",
       "      <td>321.350000</td>\n",
       "      <td>320.900000</td>\n",
       "      <td>324.925000</td>\n",
       "      <td>315.050000</td>\n",
       "      <td>320.500000</td>\n",
       "      <td>320.850000</td>\n",
       "      <td>320.855000</td>\n",
       "      <td>2.481613e+06</td>\n",
       "      <td>8.109989e+08</td>\n",
       "      <td>51504.000000</td>\n",
       "      <td>1.330784e+06</td>\n",
       "      <td>55.235000</td>\n",
       "    </tr>\n",
       "    <tr>\n",
       "      <th>75%</th>\n",
       "      <td>375.075000</td>\n",
       "      <td>376.250000</td>\n",
       "      <td>381.262500</td>\n",
       "      <td>371.000000</td>\n",
       "      <td>375.437500</td>\n",
       "      <td>375.075000</td>\n",
       "      <td>376.262500</td>\n",
       "      <td>3.800934e+06</td>\n",
       "      <td>1.276214e+09</td>\n",
       "      <td>70515.750000</td>\n",
       "      <td>2.124545e+06</td>\n",
       "      <td>65.532500</td>\n",
       "    </tr>\n",
       "    <tr>\n",
       "      <th>max</th>\n",
       "      <td>479.200000</td>\n",
       "      <td>476.700000</td>\n",
       "      <td>482.800000</td>\n",
       "      <td>467.000000</td>\n",
       "      <td>479.450000</td>\n",
       "      <td>479.200000</td>\n",
       "      <td>476.000000</td>\n",
       "      <td>1.313354e+08</td>\n",
       "      <td>5.259161e+10</td>\n",
       "      <td>197541.000000</td>\n",
       "      <td>8.788042e+07</td>\n",
       "      <td>94.720000</td>\n",
       "    </tr>\n",
       "  </tbody>\n",
       "</table>\n",
       "</div>"
      ],
      "text/plain": [
       "       Prev Close  Open Price  High Price   Low Price  Last Price  \\\n",
       "count  494.000000  494.000000  494.000000  494.000000  494.000000   \n",
       "mean   330.520749  330.719737  335.645850  325.393623  330.235931   \n",
       "std     51.927489   52.211922   52.848153   51.302441   51.875968   \n",
       "min    249.200000  242.650000  251.700000  242.250000  249.500000   \n",
       "25%    286.862500  287.000000  291.487500  283.450000  286.087500   \n",
       "50%    321.350000  320.900000  324.925000  315.050000  320.500000   \n",
       "75%    375.075000  376.250000  381.262500  371.000000  375.437500   \n",
       "max    479.200000  476.700000  482.800000  467.000000  479.450000   \n",
       "\n",
       "       Close Price  Average Price  Total Traded Quantity      Turnover  \\\n",
       "count   494.000000     494.000000           4.940000e+02  4.940000e+02   \n",
       "mean    330.299595     330.468158           3.482303e+06  1.177754e+09   \n",
       "std      51.971576      52.016754           6.468444e+06  2.533240e+09   \n",
       "min     249.200000     249.480000           9.425700e+04  2.497926e+07   \n",
       "25%     286.737500     286.465000           1.662104e+06  5.491422e+08   \n",
       "50%     320.850000     320.855000           2.481613e+06  8.109989e+08   \n",
       "75%     375.075000     376.262500           3.800934e+06  1.276214e+09   \n",
       "max     479.200000     476.000000           1.313354e+08  5.259161e+10   \n",
       "\n",
       "       No. of Trades  Deliverable Qty  % Dly Qt to Traded Qty  \n",
       "count     494.000000     4.940000e+02              494.000000  \n",
       "mean    57056.591093     2.008089e+06               54.615445  \n",
       "std     31831.065955     4.331648e+06               16.299577  \n",
       "min      1001.000000     3.785800e+04                7.730000  \n",
       "25%     34297.000000     8.341755e+05               43.787500  \n",
       "50%     51504.000000     1.330784e+06               55.235000  \n",
       "75%     70515.750000     2.124545e+06               65.532500  \n",
       "max    197541.000000     8.788042e+07               94.720000  "
      ]
     },
     "execution_count": 8,
     "metadata": {},
     "output_type": "execute_result"
    }
   ],
   "source": [
    "data.describe()"
   ]
  },
  {
   "cell_type": "code",
   "execution_count": 11,
   "metadata": {
    "ExecuteTime": {
     "end_time": "2019-07-14T05:09:48.036667Z",
     "start_time": "2019-07-14T05:09:48.027834Z"
    }
   },
   "outputs": [],
   "source": [
    "data=data[data['Series']=='EQ']"
   ]
  },
  {
   "cell_type": "code",
   "execution_count": 12,
   "metadata": {
    "ExecuteTime": {
     "end_time": "2019-07-14T05:10:21.473212Z",
     "start_time": "2019-07-14T05:10:21.336363Z"
    }
   },
   "outputs": [],
   "source": [
    "data['Day_Perc_Change']=data['Close Price'].pct_change(fill_method='ffill')*100.0"
   ]
  },
  {
   "cell_type": "code",
   "execution_count": 15,
   "metadata": {
    "ExecuteTime": {
     "end_time": "2019-07-14T05:11:05.544840Z",
     "start_time": "2019-07-14T05:11:05.536786Z"
    }
   },
   "outputs": [],
   "source": [
    "data[\"Day_Perc_Change\"]=data[\"Day_Perc_Change\"].fillna(0)"
   ]
  },
  {
   "cell_type": "code",
   "execution_count": 20,
   "metadata": {
    "ExecuteTime": {
     "end_time": "2019-07-14T05:12:10.790475Z",
     "start_time": "2019-07-14T05:12:10.776200Z"
    }
   },
   "outputs": [],
   "source": [
    "daily_mean=data['Day_Perc_Change'].mean()"
   ]
  },
  {
   "cell_type": "code",
   "execution_count": 21,
   "metadata": {
    "ExecuteTime": {
     "end_time": "2019-07-14T05:12:18.694402Z",
     "start_time": "2019-07-14T05:12:18.683681Z"
    }
   },
   "outputs": [],
   "source": [
    "daily_std=data['Day_Perc_Change'].std()"
   ]
  },
  {
   "cell_type": "code",
   "execution_count": 23,
   "metadata": {
    "ExecuteTime": {
     "end_time": "2019-07-14T05:13:06.212929Z",
     "start_time": "2019-07-14T05:13:06.198477Z"
    }
   },
   "outputs": [],
   "source": [
    "annual_mean=daily_mean*252"
   ]
  },
  {
   "cell_type": "code",
   "execution_count": 26,
   "metadata": {
    "ExecuteTime": {
     "end_time": "2019-07-14T05:13:47.271649Z",
     "start_time": "2019-07-14T05:13:47.252816Z"
    }
   },
   "outputs": [],
   "source": [
    "annual_std=daily_std*math.sqrt(252)"
   ]
  },
  {
   "cell_type": "code",
   "execution_count": null,
   "metadata": {},
   "outputs": [],
   "source": []
  },
  {
   "cell_type": "code",
   "execution_count": null,
   "metadata": {},
   "outputs": [],
   "source": []
  },
  {
   "cell_type": "code",
   "execution_count": null,
   "metadata": {},
   "outputs": [],
   "source": []
  },
  {
   "cell_type": "code",
   "execution_count": null,
   "metadata": {},
   "outputs": [],
   "source": []
  }
 ],
 "metadata": {
  "kernelspec": {
   "display_name": "Python 3",
   "language": "python",
   "name": "python3"
  },
  "language_info": {
   "codemirror_mode": {
    "name": "ipython",
    "version": 3
   },
   "file_extension": ".py",
   "mimetype": "text/x-python",
   "name": "python",
   "nbconvert_exporter": "python",
   "pygments_lexer": "ipython3",
   "version": "3.7.3"
  },
  "toc": {
   "base_numbering": 1,
   "nav_menu": {},
   "number_sections": true,
   "sideBar": true,
   "skip_h1_title": false,
   "title_cell": "Table of Contents",
   "title_sidebar": "Contents",
   "toc_cell": false,
   "toc_position": {},
   "toc_section_display": true,
   "toc_window_display": false
  },
  "varInspector": {
   "cols": {
    "lenName": 16,
    "lenType": 16,
    "lenVar": 40
   },
   "kernels_config": {
    "python": {
     "delete_cmd_postfix": "",
     "delete_cmd_prefix": "del ",
     "library": "var_list.py",
     "varRefreshCmd": "print(var_dic_list())"
    },
    "r": {
     "delete_cmd_postfix": ") ",
     "delete_cmd_prefix": "rm(",
     "library": "var_list.r",
     "varRefreshCmd": "cat(var_dic_list()) "
    }
   },
   "types_to_exclude": [
    "module",
    "function",
    "builtin_function_or_method",
    "instance",
    "_Feature"
   ],
   "window_display": false
  }
 },
 "nbformat": 4,
 "nbformat_minor": 2
}
