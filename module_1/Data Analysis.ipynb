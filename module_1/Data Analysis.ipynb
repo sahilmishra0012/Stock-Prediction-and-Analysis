{
 "cells": [
  {
   "cell_type": "code",
   "execution_count": 1,
   "metadata": {
    "ExecuteTime": {
     "end_time": "2019-06-25T15:16:35.407070Z",
     "start_time": "2019-06-25T15:16:32.475704Z"
    }
   },
   "outputs": [],
   "source": [
    "import numpy as np\n",
    "import pandas as pd"
   ]
  },
  {
   "cell_type": "code",
   "execution_count": 2,
   "metadata": {
    "ExecuteTime": {
     "end_time": "2019-06-25T15:17:20.369866Z",
     "start_time": "2019-06-25T15:17:19.081932Z"
    }
   },
   "outputs": [],
   "source": [
    "data=pd.read_csv(\"INFRATEL.csv\")"
   ]
  },
  {
   "cell_type": "code",
   "execution_count": 4,
   "metadata": {
    "ExecuteTime": {
     "end_time": "2019-06-25T15:17:32.586634Z",
     "start_time": "2019-06-25T15:17:32.564252Z"
    }
   },
   "outputs": [
    {
     "data": {
      "text/plain": [
       "(494, 15)"
      ]
     },
     "execution_count": 4,
     "metadata": {},
     "output_type": "execute_result"
    }
   ],
   "source": [
    "data.shape"
   ]
  },
  {
   "cell_type": "code",
   "execution_count": 5,
   "metadata": {
    "ExecuteTime": {
     "end_time": "2019-06-25T15:17:41.653844Z",
     "start_time": "2019-06-25T15:17:41.648509Z"
    }
   },
   "outputs": [
    {
     "data": {
      "text/plain": [
       "Index(['Symbol', 'Series', 'Date', 'Prev Close', 'Open Price', 'High Price',\n",
       "       'Low Price', 'Last Price', 'Close Price', 'Average Price',\n",
       "       'Total Traded Quantity', 'Turnover', 'No. of Trades', 'Deliverable Qty',\n",
       "       '% Dly Qt to Traded Qty'],\n",
       "      dtype='object')"
      ]
     },
     "execution_count": 5,
     "metadata": {},
     "output_type": "execute_result"
    }
   ],
   "source": [
    "data.columns"
   ]
  },
  {
   "cell_type": "code",
   "execution_count": 6,
   "metadata": {
    "ExecuteTime": {
     "end_time": "2019-06-25T15:17:57.354686Z",
     "start_time": "2019-06-25T15:17:56.875633Z"
    }
   },
   "outputs": [
    {
     "data": {
      "text/html": [
       "<div>\n",
       "<style scoped>\n",
       "    .dataframe tbody tr th:only-of-type {\n",
       "        vertical-align: middle;\n",
       "    }\n",
       "\n",
       "    .dataframe tbody tr th {\n",
       "        vertical-align: top;\n",
       "    }\n",
       "\n",
       "    .dataframe thead th {\n",
       "        text-align: right;\n",
       "    }\n",
       "</style>\n",
       "<table border=\"1\" class=\"dataframe\">\n",
       "  <thead>\n",
       "    <tr style=\"text-align: right;\">\n",
       "      <th></th>\n",
       "      <th>Symbol</th>\n",
       "      <th>Series</th>\n",
       "      <th>Date</th>\n",
       "      <th>Prev Close</th>\n",
       "      <th>Open Price</th>\n",
       "      <th>High Price</th>\n",
       "      <th>Low Price</th>\n",
       "      <th>Last Price</th>\n",
       "      <th>Close Price</th>\n",
       "      <th>Average Price</th>\n",
       "      <th>Total Traded Quantity</th>\n",
       "      <th>Turnover</th>\n",
       "      <th>No. of Trades</th>\n",
       "      <th>Deliverable Qty</th>\n",
       "      <th>% Dly Qt to Traded Qty</th>\n",
       "    </tr>\n",
       "  </thead>\n",
       "  <tbody>\n",
       "    <tr>\n",
       "      <th>0</th>\n",
       "      <td>INFRATEL</td>\n",
       "      <td>EQ</td>\n",
       "      <td>15-May-2017</td>\n",
       "      <td>374.70</td>\n",
       "      <td>375.80</td>\n",
       "      <td>375.80</td>\n",
       "      <td>368.65</td>\n",
       "      <td>372.00</td>\n",
       "      <td>371.05</td>\n",
       "      <td>371.08</td>\n",
       "      <td>761032</td>\n",
       "      <td>2.824044e+08</td>\n",
       "      <td>27740</td>\n",
       "      <td>357531</td>\n",
       "      <td>46.98</td>\n",
       "    </tr>\n",
       "    <tr>\n",
       "      <th>1</th>\n",
       "      <td>INFRATEL</td>\n",
       "      <td>EQ</td>\n",
       "      <td>16-May-2017</td>\n",
       "      <td>371.05</td>\n",
       "      <td>371.15</td>\n",
       "      <td>380.85</td>\n",
       "      <td>370.05</td>\n",
       "      <td>375.75</td>\n",
       "      <td>376.55</td>\n",
       "      <td>377.05</td>\n",
       "      <td>1346372</td>\n",
       "      <td>5.076459e+08</td>\n",
       "      <td>42924</td>\n",
       "      <td>677288</td>\n",
       "      <td>50.30</td>\n",
       "    </tr>\n",
       "    <tr>\n",
       "      <th>2</th>\n",
       "      <td>INFRATEL</td>\n",
       "      <td>EQ</td>\n",
       "      <td>17-May-2017</td>\n",
       "      <td>376.55</td>\n",
       "      <td>377.60</td>\n",
       "      <td>396.50</td>\n",
       "      <td>375.10</td>\n",
       "      <td>388.95</td>\n",
       "      <td>389.90</td>\n",
       "      <td>383.22</td>\n",
       "      <td>2268036</td>\n",
       "      <td>8.691629e+08</td>\n",
       "      <td>83975</td>\n",
       "      <td>1371275</td>\n",
       "      <td>60.46</td>\n",
       "    </tr>\n",
       "    <tr>\n",
       "      <th>3</th>\n",
       "      <td>INFRATEL</td>\n",
       "      <td>EQ</td>\n",
       "      <td>18-May-2017</td>\n",
       "      <td>389.90</td>\n",
       "      <td>388.40</td>\n",
       "      <td>388.85</td>\n",
       "      <td>377.00</td>\n",
       "      <td>378.55</td>\n",
       "      <td>378.90</td>\n",
       "      <td>382.60</td>\n",
       "      <td>2014628</td>\n",
       "      <td>7.707910e+08</td>\n",
       "      <td>50270</td>\n",
       "      <td>1025637</td>\n",
       "      <td>50.91</td>\n",
       "    </tr>\n",
       "    <tr>\n",
       "      <th>4</th>\n",
       "      <td>INFRATEL</td>\n",
       "      <td>EQ</td>\n",
       "      <td>19-May-2017</td>\n",
       "      <td>378.90</td>\n",
       "      <td>381.10</td>\n",
       "      <td>387.50</td>\n",
       "      <td>374.85</td>\n",
       "      <td>379.40</td>\n",
       "      <td>378.95</td>\n",
       "      <td>379.43</td>\n",
       "      <td>2031322</td>\n",
       "      <td>7.707525e+08</td>\n",
       "      <td>63099</td>\n",
       "      <td>1020560</td>\n",
       "      <td>50.24</td>\n",
       "    </tr>\n",
       "    <tr>\n",
       "      <th>5</th>\n",
       "      <td>INFRATEL</td>\n",
       "      <td>EQ</td>\n",
       "      <td>22-May-2017</td>\n",
       "      <td>378.95</td>\n",
       "      <td>383.70</td>\n",
       "      <td>389.30</td>\n",
       "      <td>376.15</td>\n",
       "      <td>388.20</td>\n",
       "      <td>387.95</td>\n",
       "      <td>385.56</td>\n",
       "      <td>2772691</td>\n",
       "      <td>1.069052e+09</td>\n",
       "      <td>73071</td>\n",
       "      <td>1228540</td>\n",
       "      <td>44.31</td>\n",
       "    </tr>\n",
       "    <tr>\n",
       "      <th>6</th>\n",
       "      <td>INFRATEL</td>\n",
       "      <td>EQ</td>\n",
       "      <td>23-May-2017</td>\n",
       "      <td>387.95</td>\n",
       "      <td>385.00</td>\n",
       "      <td>390.00</td>\n",
       "      <td>378.40</td>\n",
       "      <td>379.90</td>\n",
       "      <td>379.85</td>\n",
       "      <td>382.84</td>\n",
       "      <td>3811223</td>\n",
       "      <td>1.459071e+09</td>\n",
       "      <td>60957</td>\n",
       "      <td>2039492</td>\n",
       "      <td>53.51</td>\n",
       "    </tr>\n",
       "    <tr>\n",
       "      <th>7</th>\n",
       "      <td>INFRATEL</td>\n",
       "      <td>EQ</td>\n",
       "      <td>24-May-2017</td>\n",
       "      <td>379.85</td>\n",
       "      <td>379.85</td>\n",
       "      <td>382.00</td>\n",
       "      <td>367.20</td>\n",
       "      <td>368.45</td>\n",
       "      <td>369.00</td>\n",
       "      <td>372.49</td>\n",
       "      <td>3134390</td>\n",
       "      <td>1.167521e+09</td>\n",
       "      <td>83856</td>\n",
       "      <td>1860115</td>\n",
       "      <td>59.35</td>\n",
       "    </tr>\n",
       "    <tr>\n",
       "      <th>8</th>\n",
       "      <td>INFRATEL</td>\n",
       "      <td>EQ</td>\n",
       "      <td>25-May-2017</td>\n",
       "      <td>369.00</td>\n",
       "      <td>369.10</td>\n",
       "      <td>376.35</td>\n",
       "      <td>365.85</td>\n",
       "      <td>368.70</td>\n",
       "      <td>373.50</td>\n",
       "      <td>371.80</td>\n",
       "      <td>7287977</td>\n",
       "      <td>2.709680e+09</td>\n",
       "      <td>89929</td>\n",
       "      <td>6053646</td>\n",
       "      <td>83.06</td>\n",
       "    </tr>\n",
       "    <tr>\n",
       "      <th>9</th>\n",
       "      <td>INFRATEL</td>\n",
       "      <td>EQ</td>\n",
       "      <td>26-May-2017</td>\n",
       "      <td>373.50</td>\n",
       "      <td>370.00</td>\n",
       "      <td>377.20</td>\n",
       "      <td>366.30</td>\n",
       "      <td>369.50</td>\n",
       "      <td>369.95</td>\n",
       "      <td>371.45</td>\n",
       "      <td>1918463</td>\n",
       "      <td>7.126107e+08</td>\n",
       "      <td>43541</td>\n",
       "      <td>788763</td>\n",
       "      <td>41.11</td>\n",
       "    </tr>\n",
       "  </tbody>\n",
       "</table>\n",
       "</div>"
      ],
      "text/plain": [
       "     Symbol Series         Date  Prev Close  Open Price  High Price  \\\n",
       "0  INFRATEL     EQ  15-May-2017      374.70      375.80      375.80   \n",
       "1  INFRATEL     EQ  16-May-2017      371.05      371.15      380.85   \n",
       "2  INFRATEL     EQ  17-May-2017      376.55      377.60      396.50   \n",
       "3  INFRATEL     EQ  18-May-2017      389.90      388.40      388.85   \n",
       "4  INFRATEL     EQ  19-May-2017      378.90      381.10      387.50   \n",
       "5  INFRATEL     EQ  22-May-2017      378.95      383.70      389.30   \n",
       "6  INFRATEL     EQ  23-May-2017      387.95      385.00      390.00   \n",
       "7  INFRATEL     EQ  24-May-2017      379.85      379.85      382.00   \n",
       "8  INFRATEL     EQ  25-May-2017      369.00      369.10      376.35   \n",
       "9  INFRATEL     EQ  26-May-2017      373.50      370.00      377.20   \n",
       "\n",
       "   Low Price  Last Price  Close Price  Average Price  Total Traded Quantity  \\\n",
       "0     368.65      372.00       371.05         371.08                 761032   \n",
       "1     370.05      375.75       376.55         377.05                1346372   \n",
       "2     375.10      388.95       389.90         383.22                2268036   \n",
       "3     377.00      378.55       378.90         382.60                2014628   \n",
       "4     374.85      379.40       378.95         379.43                2031322   \n",
       "5     376.15      388.20       387.95         385.56                2772691   \n",
       "6     378.40      379.90       379.85         382.84                3811223   \n",
       "7     367.20      368.45       369.00         372.49                3134390   \n",
       "8     365.85      368.70       373.50         371.80                7287977   \n",
       "9     366.30      369.50       369.95         371.45                1918463   \n",
       "\n",
       "       Turnover  No. of Trades  Deliverable Qty  % Dly Qt to Traded Qty  \n",
       "0  2.824044e+08          27740           357531                   46.98  \n",
       "1  5.076459e+08          42924           677288                   50.30  \n",
       "2  8.691629e+08          83975          1371275                   60.46  \n",
       "3  7.707910e+08          50270          1025637                   50.91  \n",
       "4  7.707525e+08          63099          1020560                   50.24  \n",
       "5  1.069052e+09          73071          1228540                   44.31  \n",
       "6  1.459071e+09          60957          2039492                   53.51  \n",
       "7  1.167521e+09          83856          1860115                   59.35  \n",
       "8  2.709680e+09          89929          6053646                   83.06  \n",
       "9  7.126107e+08          43541           788763                   41.11  "
      ]
     },
     "execution_count": 6,
     "metadata": {},
     "output_type": "execute_result"
    }
   ],
   "source": [
    "data.head(10)"
   ]
  },
  {
   "cell_type": "code",
   "execution_count": null,
   "metadata": {},
   "outputs": [],
   "source": []
  }
 ],
 "metadata": {
  "kernelspec": {
   "display_name": "Python 3",
   "language": "python",
   "name": "python3"
  },
  "language_info": {
   "codemirror_mode": {
    "name": "ipython",
    "version": 3
   },
   "file_extension": ".py",
   "mimetype": "text/x-python",
   "name": "python",
   "nbconvert_exporter": "python",
   "pygments_lexer": "ipython3",
   "version": "3.7.3"
  },
  "toc": {
   "base_numbering": 1,
   "nav_menu": {},
   "number_sections": true,
   "sideBar": true,
   "skip_h1_title": false,
   "title_cell": "Table of Contents",
   "title_sidebar": "Contents",
   "toc_cell": false,
   "toc_position": {},
   "toc_section_display": true,
   "toc_window_display": false
  },
  "varInspector": {
   "cols": {
    "lenName": 16,
    "lenType": 16,
    "lenVar": 40
   },
   "kernels_config": {
    "python": {
     "delete_cmd_postfix": "",
     "delete_cmd_prefix": "del ",
     "library": "var_list.py",
     "varRefreshCmd": "print(var_dic_list())"
    },
    "r": {
     "delete_cmd_postfix": ") ",
     "delete_cmd_prefix": "rm(",
     "library": "var_list.r",
     "varRefreshCmd": "cat(var_dic_list()) "
    }
   },
   "types_to_exclude": [
    "module",
    "function",
    "builtin_function_or_method",
    "instance",
    "_Feature"
   ],
   "window_display": false
  }
 },
 "nbformat": 4,
 "nbformat_minor": 2
}
