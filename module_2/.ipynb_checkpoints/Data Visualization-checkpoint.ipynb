{
 "cells": [
  {
   "cell_type": "code",
   "execution_count": 1,
   "metadata": {
    "ExecuteTime": {
     "end_time": "2019-06-29T09:09:40.656128Z",
     "start_time": "2019-06-29T09:09:40.128761Z"
    }
   },
   "outputs": [],
   "source": [
    "import numpy as np\n",
    "import pandas as pd\n",
    "import matplotlib.pyplot as plt\n",
    "import seaborn as sns"
   ]
  },
  {
   "cell_type": "code",
   "execution_count": 2,
   "metadata": {
    "ExecuteTime": {
     "end_time": "2019-06-29T09:09:40.698151Z",
     "start_time": "2019-06-29T09:09:40.658529Z"
    }
   },
   "outputs": [],
   "source": [
    "data=pd.read_csv('week2.csv')"
   ]
  },
  {
   "cell_type": "code",
   "execution_count": 3,
   "metadata": {
    "ExecuteTime": {
     "end_time": "2019-06-29T09:09:40.750742Z",
     "start_time": "2019-06-29T09:09:40.700297Z"
    }
   },
   "outputs": [
    {
     "data": {
      "text/html": [
       "<div>\n",
       "<style scoped>\n",
       "    .dataframe tbody tr th:only-of-type {\n",
       "        vertical-align: middle;\n",
       "    }\n",
       "\n",
       "    .dataframe tbody tr th {\n",
       "        vertical-align: top;\n",
       "    }\n",
       "\n",
       "    .dataframe thead th {\n",
       "        text-align: right;\n",
       "    }\n",
       "</style>\n",
       "<table border=\"1\" class=\"dataframe\">\n",
       "  <thead>\n",
       "    <tr style=\"text-align: right;\">\n",
       "      <th></th>\n",
       "      <th>Unnamed: 0</th>\n",
       "      <th>Symbol</th>\n",
       "      <th>Series</th>\n",
       "      <th>Date</th>\n",
       "      <th>Prev Close</th>\n",
       "      <th>Open Price</th>\n",
       "      <th>High Price</th>\n",
       "      <th>Low Price</th>\n",
       "      <th>Last Price</th>\n",
       "      <th>Close Price</th>\n",
       "      <th>Average Price</th>\n",
       "      <th>Total Traded Quantity</th>\n",
       "      <th>Turnover</th>\n",
       "      <th>No. of Trades</th>\n",
       "      <th>Deliverable Qty</th>\n",
       "      <th>% Dly Qt to Traded Qty</th>\n",
       "      <th>month_year</th>\n",
       "      <th>Day_Perc_Change</th>\n",
       "      <th>Trend</th>\n",
       "    </tr>\n",
       "  </thead>\n",
       "  <tbody>\n",
       "    <tr>\n",
       "      <th>0</th>\n",
       "      <td>0</td>\n",
       "      <td>INFRATEL</td>\n",
       "      <td>EQ</td>\n",
       "      <td>2017-05-15</td>\n",
       "      <td>374.70</td>\n",
       "      <td>375.80</td>\n",
       "      <td>375.80</td>\n",
       "      <td>368.65</td>\n",
       "      <td>372.00</td>\n",
       "      <td>371.05</td>\n",
       "      <td>371.08</td>\n",
       "      <td>761032</td>\n",
       "      <td>2.824044e+08</td>\n",
       "      <td>27740</td>\n",
       "      <td>357531</td>\n",
       "      <td>46.98</td>\n",
       "      <td>2017-05</td>\n",
       "      <td>0.000000</td>\n",
       "      <td>Slight or No change</td>\n",
       "    </tr>\n",
       "    <tr>\n",
       "      <th>1</th>\n",
       "      <td>1</td>\n",
       "      <td>INFRATEL</td>\n",
       "      <td>EQ</td>\n",
       "      <td>2017-05-16</td>\n",
       "      <td>371.05</td>\n",
       "      <td>371.15</td>\n",
       "      <td>380.85</td>\n",
       "      <td>370.05</td>\n",
       "      <td>375.75</td>\n",
       "      <td>376.55</td>\n",
       "      <td>377.05</td>\n",
       "      <td>1346372</td>\n",
       "      <td>5.076459e+08</td>\n",
       "      <td>42924</td>\n",
       "      <td>677288</td>\n",
       "      <td>50.30</td>\n",
       "      <td>2017-05</td>\n",
       "      <td>1.482280</td>\n",
       "      <td>Positive</td>\n",
       "    </tr>\n",
       "    <tr>\n",
       "      <th>2</th>\n",
       "      <td>2</td>\n",
       "      <td>INFRATEL</td>\n",
       "      <td>EQ</td>\n",
       "      <td>2017-05-17</td>\n",
       "      <td>376.55</td>\n",
       "      <td>377.60</td>\n",
       "      <td>396.50</td>\n",
       "      <td>375.10</td>\n",
       "      <td>388.95</td>\n",
       "      <td>389.90</td>\n",
       "      <td>383.22</td>\n",
       "      <td>2268036</td>\n",
       "      <td>8.691629e+08</td>\n",
       "      <td>83975</td>\n",
       "      <td>1371275</td>\n",
       "      <td>60.46</td>\n",
       "      <td>2017-05</td>\n",
       "      <td>3.545346</td>\n",
       "      <td>Among top gainers</td>\n",
       "    </tr>\n",
       "    <tr>\n",
       "      <th>3</th>\n",
       "      <td>3</td>\n",
       "      <td>INFRATEL</td>\n",
       "      <td>EQ</td>\n",
       "      <td>2017-05-18</td>\n",
       "      <td>389.90</td>\n",
       "      <td>388.40</td>\n",
       "      <td>388.85</td>\n",
       "      <td>377.00</td>\n",
       "      <td>378.55</td>\n",
       "      <td>378.90</td>\n",
       "      <td>382.60</td>\n",
       "      <td>2014628</td>\n",
       "      <td>7.707910e+08</td>\n",
       "      <td>50270</td>\n",
       "      <td>1025637</td>\n",
       "      <td>50.91</td>\n",
       "      <td>2017-05</td>\n",
       "      <td>-2.821236</td>\n",
       "      <td>Negative</td>\n",
       "    </tr>\n",
       "    <tr>\n",
       "      <th>4</th>\n",
       "      <td>4</td>\n",
       "      <td>INFRATEL</td>\n",
       "      <td>EQ</td>\n",
       "      <td>2017-05-19</td>\n",
       "      <td>378.90</td>\n",
       "      <td>381.10</td>\n",
       "      <td>387.50</td>\n",
       "      <td>374.85</td>\n",
       "      <td>379.40</td>\n",
       "      <td>378.95</td>\n",
       "      <td>379.43</td>\n",
       "      <td>2031322</td>\n",
       "      <td>7.707525e+08</td>\n",
       "      <td>63099</td>\n",
       "      <td>1020560</td>\n",
       "      <td>50.24</td>\n",
       "      <td>2017-05</td>\n",
       "      <td>0.013196</td>\n",
       "      <td>Slight or No change</td>\n",
       "    </tr>\n",
       "  </tbody>\n",
       "</table>\n",
       "</div>"
      ],
      "text/plain": [
       "   Unnamed: 0    Symbol Series        Date  Prev Close  Open Price  \\\n",
       "0           0  INFRATEL     EQ  2017-05-15      374.70      375.80   \n",
       "1           1  INFRATEL     EQ  2017-05-16      371.05      371.15   \n",
       "2           2  INFRATEL     EQ  2017-05-17      376.55      377.60   \n",
       "3           3  INFRATEL     EQ  2017-05-18      389.90      388.40   \n",
       "4           4  INFRATEL     EQ  2017-05-19      378.90      381.10   \n",
       "\n",
       "   High Price  Low Price  Last Price  Close Price  Average Price  \\\n",
       "0      375.80     368.65      372.00       371.05         371.08   \n",
       "1      380.85     370.05      375.75       376.55         377.05   \n",
       "2      396.50     375.10      388.95       389.90         383.22   \n",
       "3      388.85     377.00      378.55       378.90         382.60   \n",
       "4      387.50     374.85      379.40       378.95         379.43   \n",
       "\n",
       "   Total Traded Quantity      Turnover  No. of Trades  Deliverable Qty  \\\n",
       "0                 761032  2.824044e+08          27740           357531   \n",
       "1                1346372  5.076459e+08          42924           677288   \n",
       "2                2268036  8.691629e+08          83975          1371275   \n",
       "3                2014628  7.707910e+08          50270          1025637   \n",
       "4                2031322  7.707525e+08          63099          1020560   \n",
       "\n",
       "   % Dly Qt to Traded Qty month_year  Day_Perc_Change                Trend  \n",
       "0                   46.98    2017-05         0.000000  Slight or No change  \n",
       "1                   50.30    2017-05         1.482280             Positive  \n",
       "2                   60.46    2017-05         3.545346    Among top gainers  \n",
       "3                   50.91    2017-05        -2.821236             Negative  \n",
       "4                   50.24    2017-05         0.013196  Slight or No change  "
      ]
     },
     "execution_count": 3,
     "metadata": {},
     "output_type": "execute_result"
    }
   ],
   "source": [
    "data.head()"
   ]
  },
  {
   "cell_type": "code",
   "execution_count": 4,
   "metadata": {
    "ExecuteTime": {
     "end_time": "2019-06-29T09:09:40.812424Z",
     "start_time": "2019-06-29T09:09:40.752653Z"
    }
   },
   "outputs": [
    {
     "data": {
      "text/plain": [
       "(494, 19)"
      ]
     },
     "execution_count": 4,
     "metadata": {},
     "output_type": "execute_result"
    }
   ],
   "source": [
    "data.shape"
   ]
  },
  {
   "cell_type": "code",
   "execution_count": 5,
   "metadata": {
    "ExecuteTime": {
     "end_time": "2019-06-29T09:09:40.883014Z",
     "start_time": "2019-06-29T09:09:40.814522Z"
    }
   },
   "outputs": [
    {
     "data": {
      "text/plain": [
       "Index(['Unnamed: 0', 'Symbol', 'Series', 'Date', 'Prev Close', 'Open Price',\n",
       "       'High Price', 'Low Price', 'Last Price', 'Close Price', 'Average Price',\n",
       "       'Total Traded Quantity', 'Turnover', 'No. of Trades', 'Deliverable Qty',\n",
       "       '% Dly Qt to Traded Qty', 'month_year', 'Day_Perc_Change', 'Trend'],\n",
       "      dtype='object')"
      ]
     },
     "execution_count": 5,
     "metadata": {},
     "output_type": "execute_result"
    }
   ],
   "source": [
    "data.columns"
   ]
  },
  {
   "cell_type": "code",
   "execution_count": 6,
   "metadata": {
    "ExecuteTime": {
     "end_time": "2019-06-29T09:09:40.951730Z",
     "start_time": "2019-06-29T09:09:40.887473Z"
    }
   },
   "outputs": [],
   "source": [
    "data=data.drop('Unnamed: 0',axis=1)"
   ]
  },
  {
   "cell_type": "code",
   "execution_count": 7,
   "metadata": {
    "ExecuteTime": {
     "end_time": "2019-06-29T09:09:41.060684Z",
     "start_time": "2019-06-29T09:09:40.958627Z"
    }
   },
   "outputs": [
    {
     "data": {
      "text/html": [
       "<div>\n",
       "<style scoped>\n",
       "    .dataframe tbody tr th:only-of-type {\n",
       "        vertical-align: middle;\n",
       "    }\n",
       "\n",
       "    .dataframe tbody tr th {\n",
       "        vertical-align: top;\n",
       "    }\n",
       "\n",
       "    .dataframe thead th {\n",
       "        text-align: right;\n",
       "    }\n",
       "</style>\n",
       "<table border=\"1\" class=\"dataframe\">\n",
       "  <thead>\n",
       "    <tr style=\"text-align: right;\">\n",
       "      <th></th>\n",
       "      <th>Symbol</th>\n",
       "      <th>Series</th>\n",
       "      <th>Date</th>\n",
       "      <th>Prev Close</th>\n",
       "      <th>Open Price</th>\n",
       "      <th>High Price</th>\n",
       "      <th>Low Price</th>\n",
       "      <th>Last Price</th>\n",
       "      <th>Close Price</th>\n",
       "      <th>Average Price</th>\n",
       "      <th>Total Traded Quantity</th>\n",
       "      <th>Turnover</th>\n",
       "      <th>No. of Trades</th>\n",
       "      <th>Deliverable Qty</th>\n",
       "      <th>% Dly Qt to Traded Qty</th>\n",
       "      <th>month_year</th>\n",
       "      <th>Day_Perc_Change</th>\n",
       "      <th>Trend</th>\n",
       "    </tr>\n",
       "  </thead>\n",
       "  <tbody>\n",
       "    <tr>\n",
       "      <th>0</th>\n",
       "      <td>INFRATEL</td>\n",
       "      <td>EQ</td>\n",
       "      <td>2017-05-15</td>\n",
       "      <td>374.70</td>\n",
       "      <td>375.80</td>\n",
       "      <td>375.80</td>\n",
       "      <td>368.65</td>\n",
       "      <td>372.00</td>\n",
       "      <td>371.05</td>\n",
       "      <td>371.08</td>\n",
       "      <td>761032</td>\n",
       "      <td>2.824044e+08</td>\n",
       "      <td>27740</td>\n",
       "      <td>357531</td>\n",
       "      <td>46.98</td>\n",
       "      <td>2017-05</td>\n",
       "      <td>0.000000</td>\n",
       "      <td>Slight or No change</td>\n",
       "    </tr>\n",
       "    <tr>\n",
       "      <th>1</th>\n",
       "      <td>INFRATEL</td>\n",
       "      <td>EQ</td>\n",
       "      <td>2017-05-16</td>\n",
       "      <td>371.05</td>\n",
       "      <td>371.15</td>\n",
       "      <td>380.85</td>\n",
       "      <td>370.05</td>\n",
       "      <td>375.75</td>\n",
       "      <td>376.55</td>\n",
       "      <td>377.05</td>\n",
       "      <td>1346372</td>\n",
       "      <td>5.076459e+08</td>\n",
       "      <td>42924</td>\n",
       "      <td>677288</td>\n",
       "      <td>50.30</td>\n",
       "      <td>2017-05</td>\n",
       "      <td>1.482280</td>\n",
       "      <td>Positive</td>\n",
       "    </tr>\n",
       "    <tr>\n",
       "      <th>2</th>\n",
       "      <td>INFRATEL</td>\n",
       "      <td>EQ</td>\n",
       "      <td>2017-05-17</td>\n",
       "      <td>376.55</td>\n",
       "      <td>377.60</td>\n",
       "      <td>396.50</td>\n",
       "      <td>375.10</td>\n",
       "      <td>388.95</td>\n",
       "      <td>389.90</td>\n",
       "      <td>383.22</td>\n",
       "      <td>2268036</td>\n",
       "      <td>8.691629e+08</td>\n",
       "      <td>83975</td>\n",
       "      <td>1371275</td>\n",
       "      <td>60.46</td>\n",
       "      <td>2017-05</td>\n",
       "      <td>3.545346</td>\n",
       "      <td>Among top gainers</td>\n",
       "    </tr>\n",
       "    <tr>\n",
       "      <th>3</th>\n",
       "      <td>INFRATEL</td>\n",
       "      <td>EQ</td>\n",
       "      <td>2017-05-18</td>\n",
       "      <td>389.90</td>\n",
       "      <td>388.40</td>\n",
       "      <td>388.85</td>\n",
       "      <td>377.00</td>\n",
       "      <td>378.55</td>\n",
       "      <td>378.90</td>\n",
       "      <td>382.60</td>\n",
       "      <td>2014628</td>\n",
       "      <td>7.707910e+08</td>\n",
       "      <td>50270</td>\n",
       "      <td>1025637</td>\n",
       "      <td>50.91</td>\n",
       "      <td>2017-05</td>\n",
       "      <td>-2.821236</td>\n",
       "      <td>Negative</td>\n",
       "    </tr>\n",
       "    <tr>\n",
       "      <th>4</th>\n",
       "      <td>INFRATEL</td>\n",
       "      <td>EQ</td>\n",
       "      <td>2017-05-19</td>\n",
       "      <td>378.90</td>\n",
       "      <td>381.10</td>\n",
       "      <td>387.50</td>\n",
       "      <td>374.85</td>\n",
       "      <td>379.40</td>\n",
       "      <td>378.95</td>\n",
       "      <td>379.43</td>\n",
       "      <td>2031322</td>\n",
       "      <td>7.707525e+08</td>\n",
       "      <td>63099</td>\n",
       "      <td>1020560</td>\n",
       "      <td>50.24</td>\n",
       "      <td>2017-05</td>\n",
       "      <td>0.013196</td>\n",
       "      <td>Slight or No change</td>\n",
       "    </tr>\n",
       "  </tbody>\n",
       "</table>\n",
       "</div>"
      ],
      "text/plain": [
       "     Symbol Series        Date  Prev Close  Open Price  High Price  Low Price  \\\n",
       "0  INFRATEL     EQ  2017-05-15      374.70      375.80      375.80     368.65   \n",
       "1  INFRATEL     EQ  2017-05-16      371.05      371.15      380.85     370.05   \n",
       "2  INFRATEL     EQ  2017-05-17      376.55      377.60      396.50     375.10   \n",
       "3  INFRATEL     EQ  2017-05-18      389.90      388.40      388.85     377.00   \n",
       "4  INFRATEL     EQ  2017-05-19      378.90      381.10      387.50     374.85   \n",
       "\n",
       "   Last Price  Close Price  Average Price  Total Traded Quantity  \\\n",
       "0      372.00       371.05         371.08                 761032   \n",
       "1      375.75       376.55         377.05                1346372   \n",
       "2      388.95       389.90         383.22                2268036   \n",
       "3      378.55       378.90         382.60                2014628   \n",
       "4      379.40       378.95         379.43                2031322   \n",
       "\n",
       "       Turnover  No. of Trades  Deliverable Qty  % Dly Qt to Traded Qty  \\\n",
       "0  2.824044e+08          27740           357531                   46.98   \n",
       "1  5.076459e+08          42924           677288                   50.30   \n",
       "2  8.691629e+08          83975          1371275                   60.46   \n",
       "3  7.707910e+08          50270          1025637                   50.91   \n",
       "4  7.707525e+08          63099          1020560                   50.24   \n",
       "\n",
       "  month_year  Day_Perc_Change                Trend  \n",
       "0    2017-05         0.000000  Slight or No change  \n",
       "1    2017-05         1.482280             Positive  \n",
       "2    2017-05         3.545346    Among top gainers  \n",
       "3    2017-05        -2.821236             Negative  \n",
       "4    2017-05         0.013196  Slight or No change  "
      ]
     },
     "execution_count": 7,
     "metadata": {},
     "output_type": "execute_result"
    }
   ],
   "source": [
    "data.head()"
   ]
  },
  {
   "cell_type": "code",
   "execution_count": 8,
   "metadata": {
    "ExecuteTime": {
     "end_time": "2019-06-29T09:09:41.132266Z",
     "start_time": "2019-06-29T09:09:41.063960Z"
    }
   },
   "outputs": [],
   "source": [
    "data['price_volume']=pd.DataFrame(data['Close Price']*data['Total Traded Quantity'])*1.5/(10**10)"
   ]
  },
  {
   "cell_type": "code",
   "execution_count": 9,
   "metadata": {
    "ExecuteTime": {
     "end_time": "2019-06-29T09:09:41.182952Z",
     "start_time": "2019-06-29T09:09:41.135873Z"
    }
   },
   "outputs": [
    {
     "data": {
      "text/plain": [
       "(494, 19)"
      ]
     },
     "execution_count": 9,
     "metadata": {},
     "output_type": "execute_result"
    }
   ],
   "source": [
    "data.shape"
   ]
  },
  {
   "cell_type": "code",
   "execution_count": 10,
   "metadata": {
    "ExecuteTime": {
     "end_time": "2019-06-29T09:09:41.250361Z",
     "start_time": "2019-06-29T09:09:41.184407Z"
    }
   },
   "outputs": [
    {
     "data": {
      "text/plain": [
       "Index(['Symbol', 'Series', 'Date', 'Prev Close', 'Open Price', 'High Price',\n",
       "       'Low Price', 'Last Price', 'Close Price', 'Average Price',\n",
       "       'Total Traded Quantity', 'Turnover', 'No. of Trades', 'Deliverable Qty',\n",
       "       '% Dly Qt to Traded Qty', 'month_year', 'Day_Perc_Change', 'Trend',\n",
       "       'price_volume'],\n",
       "      dtype='object')"
      ]
     },
     "execution_count": 10,
     "metadata": {},
     "output_type": "execute_result"
    }
   ],
   "source": [
    "data.columns"
   ]
  },
  {
   "cell_type": "code",
   "execution_count": 11,
   "metadata": {
    "ExecuteTime": {
     "end_time": "2019-06-29T09:09:41.321233Z",
     "start_time": "2019-06-29T09:09:41.251691Z"
    }
   },
   "outputs": [
    {
     "data": {
      "text/plain": [
       "Symbol                     object\n",
       "Series                     object\n",
       "Date                       object\n",
       "Prev Close                float64\n",
       "Open Price                float64\n",
       "High Price                float64\n",
       "Low Price                 float64\n",
       "Last Price                float64\n",
       "Close Price               float64\n",
       "Average Price             float64\n",
       "Total Traded Quantity       int64\n",
       "Turnover                  float64\n",
       "No. of Trades               int64\n",
       "Deliverable Qty             int64\n",
       "% Dly Qt to Traded Qty    float64\n",
       "month_year                 object\n",
       "Day_Perc_Change           float64\n",
       "Trend                      object\n",
       "price_volume              float64\n",
       "dtype: object"
      ]
     },
     "execution_count": 11,
     "metadata": {},
     "output_type": "execute_result"
    }
   ],
   "source": [
    "data.dtypes"
   ]
  },
  {
   "cell_type": "code",
   "execution_count": 12,
   "metadata": {
    "ExecuteTime": {
     "end_time": "2019-06-29T09:09:41.386533Z",
     "start_time": "2019-06-29T09:09:41.323083Z"
    }
   },
   "outputs": [],
   "source": [
    "data['Date'] =  pd.to_datetime(data['Date'])"
   ]
  },
  {
   "cell_type": "code",
   "execution_count": 13,
   "metadata": {
    "ExecuteTime": {
     "end_time": "2019-06-29T09:09:41.459553Z",
     "start_time": "2019-06-29T09:09:41.388623Z"
    }
   },
   "outputs": [
    {
     "data": {
      "text/plain": [
       "Symbol                            object\n",
       "Series                            object\n",
       "Date                      datetime64[ns]\n",
       "Prev Close                       float64\n",
       "Open Price                       float64\n",
       "High Price                       float64\n",
       "Low Price                        float64\n",
       "Last Price                       float64\n",
       "Close Price                      float64\n",
       "Average Price                    float64\n",
       "Total Traded Quantity              int64\n",
       "Turnover                         float64\n",
       "No. of Trades                      int64\n",
       "Deliverable Qty                    int64\n",
       "% Dly Qt to Traded Qty           float64\n",
       "month_year                        object\n",
       "Day_Perc_Change                  float64\n",
       "Trend                             object\n",
       "price_volume                     float64\n",
       "dtype: object"
      ]
     },
     "execution_count": 13,
     "metadata": {},
     "output_type": "execute_result"
    }
   ],
   "source": [
    "data.dtypes"
   ]
  },
  {
   "cell_type": "code",
   "execution_count": 14,
   "metadata": {
    "ExecuteTime": {
     "end_time": "2019-06-29T09:09:41.744321Z",
     "start_time": "2019-06-29T09:09:41.464610Z"
    }
   },
   "outputs": [],
   "source": [
    "data.set_index('Date',inplace=True)"
   ]
  },
  {
   "cell_type": "code",
   "execution_count": 15,
   "metadata": {
    "ExecuteTime": {
     "end_time": "2019-06-29T09:09:42.116134Z",
     "start_time": "2019-06-29T09:09:41.750268Z"
    }
   },
   "outputs": [
    {
     "name": "stderr",
     "output_type": "stream",
     "text": [
      "/home/samthekiller/anaconda3/lib/python3.7/site-packages/pandas/plotting/_converter.py:129: FutureWarning: Using an implicitly registered datetime converter for a matplotlib plotting method. The converter was registered by pandas on import. Future versions of pandas will require you to explicitly register matplotlib converters.\n",
      "\n",
      "To register the converters:\n",
      "\t>>> from pandas.plotting import register_matplotlib_converters\n",
      "\t>>> register_matplotlib_converters()\n",
      "  warnings.warn(msg, FutureWarning)\n"
     ]
    },
    {
     "data": {
      "text/plain": [
       "[<matplotlib.lines.Line2D at 0x7f2a56eccbe0>]"
      ]
     },
     "execution_count": 15,
     "metadata": {},
     "output_type": "execute_result"
    },
    {
     "data": {
      "image/png": "[encoded data removed]",
      "text/plain": [
       "<Figure size 432x288 with 1 Axes>"
      ]
     },
     "metadata": {
      "needs_background": "light"
     },
     "output_type": "display_data"
    }
   ],
   "source": [
    "plt.plot(data['Close Price'])"
   ]
  },
  {
   "cell_type": "code",
   "execution_count": 16,
   "metadata": {
    "ExecuteTime": {
     "end_time": "2019-06-29T09:09:42.123948Z",
     "start_time": "2019-06-29T09:09:42.118083Z"
    }
   },
   "outputs": [
    {
     "data": {
      "text/plain": [
       "DatetimeIndex(['2017-05-15', '2017-05-16', '2017-05-17', '2017-05-18',\n",
       "               '2017-05-19', '2017-05-22', '2017-05-23', '2017-05-24',\n",
       "               '2017-05-25', '2017-05-26',\n",
       "               ...\n",
       "               '2019-04-26', '2019-04-30', '2019-05-02', '2019-05-03',\n",
       "               '2019-05-06', '2019-05-07', '2019-05-08', '2019-05-09',\n",
       "               '2019-05-10', '2019-05-13'],\n",
       "              dtype='datetime64[ns]', name='Date', length=494, freq=None)"
      ]
     },
     "execution_count": 16,
     "metadata": {},
     "output_type": "execute_result"
    }
   ],
   "source": [
    "data.index"
   ]
  },
  {
   "cell_type": "code",
   "execution_count": 17,
   "metadata": {
    "ExecuteTime": {
     "end_time": "2019-06-29T09:09:43.478733Z",
     "start_time": "2019-06-29T09:09:42.125950Z"
    },
    "scrolled": true
   },
   "outputs": [
    {
     "data": {
      "image/png": "[encoded data removed]",
      "text/plain": [
       "<Figure size 1152x360 with 1 Axes>"
      ]
     },
     "metadata": {
      "needs_background": "light"
     },
     "output_type": "display_data"
    }
   ],
   "source": [
    "plt.figure(figsize=(16,5))\n",
    "plt.stem(data.index,data['Day_Perc_Change'])\n",
    "plt.show()"
   ]
  },
  {
   "cell_type": "code",
   "execution_count": 18,
   "metadata": {
    "ExecuteTime": {
     "end_time": "2019-06-29T09:09:44.809710Z",
     "start_time": "2019-06-29T09:09:43.480757Z"
    }
   },
   "outputs": [
    {
     "data": {
      "image/png": "[encoded data removed]",
      "text/plain": [
       "<Figure size 1152x720 with 1 Axes>"
      ]
     },
     "metadata": {
      "needs_background": "light"
     },
     "output_type": "display_data"
    }
   ],
   "source": [
    "plt.figure(figsize=(16,10))\n",
    "plt.plot(data['price_volume'],'red',linewidth=3.0)\n",
    "plt.stem(data.index,data['Day_Perc_Change'],'green')\n",
    "plt.show()"
   ]
  },
  {
   "cell_type": "code",
   "execution_count": 19,
   "metadata": {
    "ExecuteTime": {
     "end_time": "2019-06-29T09:09:44.815826Z",
     "start_time": "2019-06-29T09:09:44.811545Z"
    }
   },
   "outputs": [],
   "source": [
    "trend_group=data['Trend'].value_counts()"
   ]
  },
  {
   "cell_type": "code",
   "execution_count": 20,
   "metadata": {
    "ExecuteTime": {
     "end_time": "2019-06-29T09:09:45.269475Z",
     "start_time": "2019-06-29T09:09:44.817928Z"
    }
   },
   "outputs": [
    {
     "data": {
      "text/plain": [
       "Slight or No change    122\n",
       "Negative               114\n",
       "Positive               102\n",
       "Slight Negative         54\n",
       "Slight positive         54\n",
       "Among top gainers       24\n",
       "Among top losers        22\n",
       "Bear drop                2\n",
       "Name: Trend, dtype: int64"
      ]
     },
     "execution_count": 20,
     "metadata": {},
     "output_type": "execute_result"
    }
   ],
   "source": [
    "trend_group.head(15)"
   ]
  },
  {
   "cell_type": "code",
   "execution_count": 21,
   "metadata": {
    "ExecuteTime": {
     "end_time": "2019-06-29T09:09:45.352475Z",
     "start_time": "2019-06-29T09:09:45.272054Z"
    }
   },
   "outputs": [],
   "source": [
    "trend_group=pd.DataFrame(trend_group)"
   ]
  },
  {
   "cell_type": "code",
   "execution_count": 22,
   "metadata": {
    "ExecuteTime": {
     "end_time": "2019-06-29T09:09:45.657337Z",
     "start_time": "2019-06-29T09:09:45.359161Z"
    }
   },
   "outputs": [
    {
     "data": {
      "text/plain": [
       "<matplotlib.axes._subplots.AxesSubplot at 0x7f2a5472eeb8>"
      ]
     },
     "execution_count": 22,
     "metadata": {},
     "output_type": "execute_result"
    },
    {
     "data": {
      "image/png": "[encoded data removed]",
      "text/plain": [
       "<Figure size 1440x1152 with 1 Axes>"
      ]
     },
     "metadata": {},
     "output_type": "display_data"
    }
   ],
   "source": [
    "\n",
    "trend_group.plot(kind='pie', y = 'Trend', autopct='%1.1f%%', startangle=90, shadow=False, legend = False, fontsize=10,figsize=(20, 16))"
   ]
  },
  {
   "cell_type": "code",
   "execution_count": 23,
   "metadata": {
    "ExecuteTime": {
     "end_time": "2019-06-29T09:09:51.819175Z",
     "start_time": "2019-06-29T09:09:51.799688Z"
    }
   },
   "outputs": [],
   "source": [
    "median_grouping=data.groupby(['Trend']).median()"
   ]
  },
  {
   "cell_type": "code",
   "execution_count": 24,
   "metadata": {
    "ExecuteTime": {
     "end_time": "2019-06-29T09:09:52.425512Z",
     "start_time": "2019-06-29T09:09:52.406745Z"
    }
   },
   "outputs": [],
   "source": [
    "mean_grouping=data.groupby(['Trend']).mean()"
   ]
  },
  {
   "cell_type": "code",
   "execution_count": 27,
   "metadata": {
    "ExecuteTime": {
     "end_time": "2019-06-29T09:10:36.938813Z",
     "start_time": "2019-06-29T09:10:36.924045Z"
    }
   },
   "outputs": [],
   "source": [
    "mn=mean_grouping['Total Traded Quantity'].head(10)"
   ]
  },
  {
   "cell_type": "code",
   "execution_count": 30,
   "metadata": {
    "ExecuteTime": {
     "end_time": "2019-06-29T09:11:54.881433Z",
     "start_time": "2019-06-29T09:11:54.865841Z"
    }
   },
   "outputs": [],
   "source": [
    "index=np.arange(len(mn))"
   ]
  },
  {
   "cell_type": "code",
   "execution_count": 41,
   "metadata": {
    "ExecuteTime": {
     "end_time": "2019-06-29T09:14:43.054041Z",
     "start_time": "2019-06-29T09:14:43.041295Z"
    }
   },
   "outputs": [],
   "source": [
    "arr=mn.values"
   ]
  },
  {
   "cell_type": "code",
   "execution_count": 43,
   "metadata": {
    "ExecuteTime": {
     "end_time": "2019-06-29T09:15:02.452883Z",
     "start_time": "2019-06-29T09:15:02.282899Z"
    }
   },
   "outputs": [
    {
     "data": {
      "text/plain": [
       "<BarContainer object of 8 artists>"
      ]
     },
     "execution_count": 43,
     "metadata": {},
     "output_type": "execute_result"
    },
    {
     "data": {
      "image/png": "[encoded data removed]",
      "text/plain": [
       "<Figure size 432x288 with 1 Axes>"
      ]
     },
     "metadata": {
      "needs_background": "light"
     },
     "output_type": "display_data"
    }
   ],
   "source": [
    "plt.bar(index, arr)"
   ]
  },
  {
   "cell_type": "code",
   "execution_count": 44,
   "metadata": {
    "ExecuteTime": {
     "end_time": "2019-06-29T09:20:08.498180Z",
     "start_time": "2019-06-29T09:20:08.486638Z"
    }
   },
   "outputs": [],
   "source": [
    "md=median_grouping['Total Traded Quantity'].head(10)"
   ]
  },
  {
   "cell_type": "code",
   "execution_count": 45,
   "metadata": {
    "ExecuteTime": {
     "end_time": "2019-06-29T09:20:10.018559Z",
     "start_time": "2019-06-29T09:20:09.496445Z"
    }
   },
   "outputs": [],
   "source": [
    "arr=md.values"
   ]
  },
  {
   "cell_type": "code",
   "execution_count": 50,
   "metadata": {
    "ExecuteTime": {
     "end_time": "2019-06-29T09:21:07.797958Z",
     "start_time": "2019-06-29T09:21:07.778367Z"
    }
   },
   "outputs": [
    {
     "name": "stdout",
     "output_type": "stream",
     "text": [
      "[ 470.97125  343.50925 1429.4085   228.60665  280.2185   231.7378\n",
      "  219.34715  228.74915]\n"
     ]
    }
   ],
   "source": [
    "print(arr/10**4)"
   ]
  },
  {
   "cell_type": "code",
   "execution_count": 51,
   "metadata": {
    "ExecuteTime": {
     "end_time": "2019-06-29T09:21:23.388957Z",
     "start_time": "2019-06-29T09:21:23.210883Z"
    }
   },
   "outputs": [
    {
     "data": {
      "text/plain": [
       "<BarContainer object of 8 artists>"
      ]
     },
     "execution_count": 51,
     "metadata": {},
     "output_type": "execute_result"
    },
    {
     "data": {
      "image/png": "[encoded data removed]",
      "text/plain": [
       "<Figure size 432x288 with 1 Axes>"
      ]
     },
     "metadata": {
      "needs_background": "light"
     },
     "output_type": "display_data"
    }
   ],
   "source": [
    "plt.bar(index, arr/10**4)"
   ]
  },
  {
   "cell_type": "code",
   "execution_count": null,
   "metadata": {
    "ExecuteTime": {
     "end_time": "2019-06-29T08:42:08.793815Z",
     "start_time": "2019-06-29T08:42:08.788927Z"
    }
   },
   "outputs": [],
   "source": [
    "median_grouping=median_grouping['Total Traded Quantity']\n",
    "mean_grouping=mean_grouping['Total Traded Quantity']"
   ]
  }
 ],
 "metadata": {
  "kernelspec": {
   "display_name": "Python 3",
   "language": "python",
   "name": "python3"
  },
  "language_info": {
   "codemirror_mode": {
    "name": "ipython",
    "version": 3
   },
   "file_extension": ".py",
   "mimetype": "text/x-python",
   "name": "python",
   "nbconvert_exporter": "python",
   "pygments_lexer": "ipython3",
   "version": "3.7.3"
  },
  "toc": {
   "base_numbering": 1,
   "nav_menu": {},
   "number_sections": true,
   "sideBar": true,
   "skip_h1_title": false,
   "title_cell": "Table of Contents",
   "title_sidebar": "Contents",
   "toc_cell": false,
   "toc_position": {},
   "toc_section_display": true,
   "toc_window_display": false
  },
  "varInspector": {
   "cols": {
    "lenName": 16,
    "lenType": 16,
    "lenVar": 40
   },
   "kernels_config": {
    "python": {
     "delete_cmd_postfix": "",
     "delete_cmd_prefix": "del ",
     "library": "var_list.py",
     "varRefreshCmd": "print(var_dic_list())"
    },
    "r": {
     "delete_cmd_postfix": ") ",
     "delete_cmd_prefix": "rm(",
     "library": "var_list.r",
     "varRefreshCmd": "cat(var_dic_list()) "
    }
   },
   "types_to_exclude": [
    "module",
    "function",
    "builtin_function_or_method",
    "instance",
    "_Feature"
   ],
   "window_display": false
  }
 },
 "nbformat": 4,
 "nbformat_minor": 2
}
